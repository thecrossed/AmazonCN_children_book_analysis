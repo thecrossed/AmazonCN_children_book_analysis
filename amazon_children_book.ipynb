{
 "cells": [
  {
   "cell_type": "code",
   "execution_count": 1,
   "metadata": {},
   "outputs": [],
   "source": [
    "\n",
    "\n",
    "# 亚马逊中国“少儿销售排行榜”，前100位图书\n",
    "# 书名，图片，价格，评论数，评分，页数，读者对象，开本，商品尺寸，商品重量，图书销量排名\n",
    "\n",
    "#Step 1: 整理所有书籍的url\n",
    "#Step 2：逐个访问，抓取目标数据，存储数据\n",
    "#Step 3：生成csv文件"
   ]
  },
  {
   "cell_type": "code",
   "execution_count": 3,
   "metadata": {},
   "outputs": [
    {
     "name": "stdout",
     "output_type": "stream",
     "text": [
      "Processing: https://www.amazon.cn/dp/B075KZKKTC/ref=zg_bs_658739051_1/457-0188065-3712778?_encoding=UTF8&psc=1&refRID=AY57NHQXZQX1T8ZS6V4N\n"
     ]
    },
    {
     "name": "stderr",
     "output_type": "stream",
     "text": [
      "/anaconda3/lib/python3.6/site-packages/urllib3/connectionpool.py:858: InsecureRequestWarning: Unverified HTTPS request is being made. Adding certificate verification is strongly advised. See: https://urllib3.readthedocs.io/en/latest/advanced-usage.html#ssl-warnings\n",
      "  InsecureRequestWarning)\n"
     ]
    },
    {
     "name": "stdout",
     "output_type": "stream",
     "text": [
      "{'NAME': '超好玩的立体翻翻书:车辆动起来+船舶动起来(套装共2册)', 'SALE_PRICE': '￥300.00', 'CATEGORY': '智力游戏', 'COMMENT_NUMBER': '24 条商品评论', 'PAGES': '50页', 'READERS': '3-6岁', 'FORMAT': '8', 'SALES_RANK': '亚马逊热销商品排名:图书商品里排第386名', 'SIZE': '34 x 26.9 x 6.9 cm', 'WEIGHT': '3.4 Kg', 'URL': 'https://www.amazon.cn/dp/B075KZKKTC/ref=zg_bs_658739051_1/457-0188065-3712778?_encoding=UTF8&psc=1&refRID=AY57NHQXZQX1T8ZS6V4N'}\n",
      "Processing: https://www.amazon.cn/dp/B079ZSFHD6/ref=zg_bs_658739051_2/457-0188065-3712778?_encoding=UTF8&psc=1&refRID=AY57NHQXZQX1T8ZS6V4N\n"
     ]
    },
    {
     "name": "stderr",
     "output_type": "stream",
     "text": [
      "/anaconda3/lib/python3.6/site-packages/urllib3/connectionpool.py:858: InsecureRequestWarning: Unverified HTTPS request is being made. Adding certificate verification is strongly advised. See: https://urllib3.readthedocs.io/en/latest/advanced-usage.html#ssl-warnings\n",
      "  InsecureRequestWarning)\n"
     ]
    },
    {
     "name": "stdout",
     "output_type": "stream",
     "text": [
      "{'NAME': '0-3岁触摸立体翻翻书:和小鸡球球一起玩(套装共6册)', 'SALE_PRICE': '￥116.00', 'CATEGORY': '少儿绘本与漫画', 'COMMENT_NUMBER': '5 条商品评论', 'PAGES': '144页', 'READERS': '0-2岁', 'FORMAT': '48', 'SALES_RANK': '亚马逊热销商品排名:图书商品里排第585名', 'SIZE': '14.4 x 14.4 x 7.8 cm', 'WEIGHT': '780 g', 'URL': 'https://www.amazon.cn/dp/B079ZSFHD6/ref=zg_bs_658739051_2/457-0188065-3712778?_encoding=UTF8&psc=1&refRID=AY57NHQXZQX1T8ZS6V4N'}\n",
      "Processing: https://www.amazon.cn/dp/B00OLCRNHG/ref=zg_bs_658739051_3/457-0188065-3712778?_encoding=UTF8&psc=1&refRID=AY57NHQXZQX1T8ZS6V4N\n"
     ]
    },
    {
     "name": "stderr",
     "output_type": "stream",
     "text": [
      "/anaconda3/lib/python3.6/site-packages/urllib3/connectionpool.py:858: InsecureRequestWarning: Unverified HTTPS request is being made. Adding certificate verification is strongly advised. See: https://urllib3.readthedocs.io/en/latest/advanced-usage.html#ssl-warnings\n",
      "  InsecureRequestWarning)\n"
     ]
    },
    {
     "name": "stdout",
     "output_type": "stream",
     "text": [
      "{'NAME': '儿童创意小手工3D益智纸立方(套装共3册)(附45个3D立体手工模型)', 'SALE_PRICE': '￥35.70', 'CATEGORY': '智力游戏', 'COMMENT_NUMBER': '197 条商品评论', 'PAGES': '54页', 'READERS': '7-10岁', 'FORMAT': '12', 'SALES_RANK': '亚马逊热销商品排名:图书商品里排第761名', 'SIZE': '28.2 x 27.4 x 2.4 cm', 'WEIGHT': '1.26 Kg', 'URL': 'https://www.amazon.cn/dp/B00OLCRNHG/ref=zg_bs_658739051_3/457-0188065-3712778?_encoding=UTF8&psc=1&refRID=AY57NHQXZQX1T8ZS6V4N'}\n",
      "Processing: https://www.amazon.cn/dp/B01CXUSAFG/ref=zg_bs_658739051_4/457-0188065-3712778?_encoding=UTF8&psc=1&refRID=AY57NHQXZQX1T8ZS6V4N\n"
     ]
    },
    {
     "name": "stderr",
     "output_type": "stream",
     "text": [
      "/anaconda3/lib/python3.6/site-packages/urllib3/connectionpool.py:858: InsecureRequestWarning: Unverified HTTPS request is being made. Adding certificate verification is strongly advised. See: https://urllib3.readthedocs.io/en/latest/advanced-usage.html#ssl-warnings\n",
      "  InsecureRequestWarning)\n"
     ]
    },
    {
     "name": "stdout",
     "output_type": "stream",
     "text": [
      "{'NAME': '趣味科普立体书系列:恐龙', 'SALE_PRICE': '￥49.90', 'CATEGORY': '科普百科', 'COMMENT_NUMBER': '10 条商品评论', 'PAGES': '14页', 'READERS': '7-10岁', 'FORMAT': '12', 'SALES_RANK': '亚马逊热销商品排名:图书商品里排第1,409名', 'SIZE': '28.4 x 27.2 x 2.4 cm', 'WEIGHT': '721 g', 'URL': 'https://www.amazon.cn/dp/B01CXUSAFG/ref=zg_bs_658739051_4/457-0188065-3712778?_encoding=UTF8&psc=1&refRID=AY57NHQXZQX1T8ZS6V4N'}\n",
      "Processing: https://www.amazon.cn/dp/B013FOXIWO/ref=zg_bs_658739051_5/457-0188065-3712778?_encoding=UTF8&psc=1&refRID=AY57NHQXZQX1T8ZS6V4N\n"
     ]
    },
    {
     "name": "stderr",
     "output_type": "stream",
     "text": [
      "/anaconda3/lib/python3.6/site-packages/urllib3/connectionpool.py:858: InsecureRequestWarning: Unverified HTTPS request is being made. Adding certificate verification is strongly advised. See: https://urllib3.readthedocs.io/en/latest/advanced-usage.html#ssl-warnings\n",
      "  InsecureRequestWarning)\n"
     ]
    },
    {
     "name": "stdout",
     "output_type": "stream",
     "text": [
      "{'NAME': '乐乐趣科普立体书:奇趣大数学', 'SALE_PRICE': '￥44.90', 'CATEGORY': '幼儿启蒙', 'COMMENT_NUMBER': '3 条商品评论', 'PAGES': '16页', 'READERS': '3-6岁', 'FORMAT': '8', 'SALES_RANK': '亚马逊热销商品排名:图书商品里排第2,417名', 'SIZE': '27.6 x 25.4 x 2 cm', 'WEIGHT': '499 g', 'URL': 'https://www.amazon.cn/dp/B013FOXIWO/ref=zg_bs_658739051_5/457-0188065-3712778?_encoding=UTF8&psc=1&refRID=AY57NHQXZQX1T8ZS6V4N'}\n",
      "Processing: https://www.amazon.cn/dp/B01J0OVBQI/ref=zg_bs_658739051_6/457-0188065-3712778?_encoding=UTF8&psc=1&refRID=AY57NHQXZQX1T8ZS6V4N\n"
     ]
    },
    {
     "name": "stderr",
     "output_type": "stream",
     "text": [
      "/anaconda3/lib/python3.6/site-packages/urllib3/connectionpool.py:858: InsecureRequestWarning: Unverified HTTPS request is being made. Adding certificate verification is strongly advised. See: https://urllib3.readthedocs.io/en/latest/advanced-usage.html#ssl-warnings\n",
      "  InsecureRequestWarning)\n"
     ]
    },
    {
     "name": "stdout",
     "output_type": "stream",
     "text": [
      "{'NAME': '工程车总动员(拼装练手脑,父与子亲子时光)', 'SALE_PRICE': '￥91.08', 'CATEGORY': '智力游戏', 'COMMENT_NUMBER': '69 条商品评论', 'PAGES': '24页', 'READERS': '3-8岁', 'FORMAT': '12', 'SALES_RANK': '亚马逊热销商品排名:图书商品里排第3,020名', 'SIZE': '26.9 x 23.6 x 3.3 cm', 'WEIGHT': '1.12 Kg', 'URL': 'https://www.amazon.cn/dp/B01J0OVBQI/ref=zg_bs_658739051_6/457-0188065-3712778?_encoding=UTF8&psc=1&refRID=AY57NHQXZQX1T8ZS6V4N'}\n",
      "Processing: https://www.amazon.cn/dp/B01DXT2IXQ/ref=zg_bs_658739051_7/457-0188065-3712778?_encoding=UTF8&psc=1&refRID=AY57NHQXZQX1T8ZS6V4N\n"
     ]
    },
    {
     "name": "stderr",
     "output_type": "stream",
     "text": [
      "/anaconda3/lib/python3.6/site-packages/urllib3/connectionpool.py:858: InsecureRequestWarning: Unverified HTTPS request is being made. Adding certificate verification is strongly advised. See: https://urllib3.readthedocs.io/en/latest/advanced-usage.html#ssl-warnings\n",
      "  InsecureRequestWarning)\n"
     ]
    },
    {
     "name": "stdout",
     "output_type": "stream",
     "text": [
      "{'NAME': 'DK趣味立体百科:太空', 'SALE_PRICE': '￥84.90', 'CATEGORY': '科普百科', 'COMMENT_NUMBER': '6 条商品评论', 'PAGES': '31页', 'READERS': '7-10岁', 'FORMAT': '16', 'SALES_RANK': '亚马逊热销商品排名:图书商品里排第3,802名', 'SIZE': '28 x 26.4 x 2.4 cm', 'WEIGHT': '1.16 Kg', 'URL': 'https://www.amazon.cn/dp/B01DXT2IXQ/ref=zg_bs_658739051_7/457-0188065-3712778?_encoding=UTF8&psc=1&refRID=AY57NHQXZQX1T8ZS6V4N'}\n",
      "Processing: https://www.amazon.cn/dp/B014ZZ6V44/ref=zg_bs_658739051_8/457-0188065-3712778?_encoding=UTF8&psc=1&refRID=AY57NHQXZQX1T8ZS6V4N\n"
     ]
    },
    {
     "name": "stderr",
     "output_type": "stream",
     "text": [
      "/anaconda3/lib/python3.6/site-packages/urllib3/connectionpool.py:858: InsecureRequestWarning: Unverified HTTPS request is being made. Adding certificate verification is strongly advised. See: https://urllib3.readthedocs.io/en/latest/advanced-usage.html#ssl-warnings\n",
      "  InsecureRequestWarning)\n"
     ]
    },
    {
     "name": "stdout",
     "output_type": "stream",
     "text": [
      "{'NAME': '小王子(立体珍藏版)', 'SALE_PRICE': '￥144.00', 'CATEGORY': '儿童文学', 'COMMENT_NUMBER': '29 条商品评论', 'PAGES': '60页', 'READERS': '11-14岁', 'FORMAT': '16', 'SALES_RANK': '亚马逊热销商品排名:图书商品里排第3,847名', 'SIZE': '27 x 19 x 5 cm', 'WEIGHT': '921 g', 'URL': 'https://www.amazon.cn/dp/B014ZZ6V44/ref=zg_bs_658739051_8/457-0188065-3712778?_encoding=UTF8&psc=1&refRID=AY57NHQXZQX1T8ZS6V4N'}\n",
      "Processing: https://www.amazon.cn/dp/B06Y6531DF/ref=zg_bs_658739051_9/457-0188065-3712778?_encoding=UTF8&psc=1&refRID=AY57NHQXZQX1T8ZS6V4N\n"
     ]
    },
    {
     "name": "stderr",
     "output_type": "stream",
     "text": [
      "/anaconda3/lib/python3.6/site-packages/urllib3/connectionpool.py:858: InsecureRequestWarning: Unverified HTTPS request is being made. Adding certificate verification is strongly advised. See: https://urllib3.readthedocs.io/en/latest/advanced-usage.html#ssl-warnings\n",
      "  InsecureRequestWarning)\n"
     ]
    },
    {
     "name": "stdout",
     "output_type": "stream",
     "text": [
      "local variable 'PAGES' referenced before assignment\n",
      "Processing: https://www.amazon.cn/dp/B075QDTY6C/ref=zg_bs_658739051_10/457-0188065-3712778?_encoding=UTF8&psc=1&refRID=AY57NHQXZQX1T8ZS6V4N\n"
     ]
    },
    {
     "name": "stderr",
     "output_type": "stream",
     "text": [
      "/anaconda3/lib/python3.6/site-packages/urllib3/connectionpool.py:858: InsecureRequestWarning: Unverified HTTPS request is being made. Adding certificate verification is strongly advised. See: https://urllib3.readthedocs.io/en/latest/advanced-usage.html#ssl-warnings\n",
      "  InsecureRequestWarning)\n"
     ]
    },
    {
     "name": "stdout",
     "output_type": "stream",
     "text": [
      "local variable 'PAGES' referenced before assignment\n",
      "Processing: https://www.amazon.cn/dp/B01N9HR8X7/ref=zg_bs_658739051_11/457-0188065-3712778?_encoding=UTF8&psc=1&refRID=AY57NHQXZQX1T8ZS6V4N\n"
     ]
    },
    {
     "name": "stderr",
     "output_type": "stream",
     "text": [
      "/anaconda3/lib/python3.6/site-packages/urllib3/connectionpool.py:858: InsecureRequestWarning: Unverified HTTPS request is being made. Adding certificate verification is strongly advised. See: https://urllib3.readthedocs.io/en/latest/advanced-usage.html#ssl-warnings\n",
      "  InsecureRequestWarning)\n"
     ]
    },
    {
     "name": "stdout",
     "output_type": "stream",
     "text": [
      "{'NAME': '我的美丽四季立体书', 'SALE_PRICE': None, 'CATEGORY': '少儿绘本与漫画', 'COMMENT_NUMBER': None, 'PAGES': '24页', 'READERS': '3-6岁', 'FORMAT': '16', 'SALES_RANK': None, 'SIZE': '25.2 x 18.8 x 2.8 cm', 'WEIGHT': '699 g', 'URL': 'https://www.amazon.cn/dp/B01N9HR8X7/ref=zg_bs_658739051_11/457-0188065-3712778?_encoding=UTF8&psc=1&refRID=AY57NHQXZQX1T8ZS6V4N'}\n",
      "Processing: https://www.amazon.cn/dp/B0195V8WN6/ref=zg_bs_658739051_12/457-0188065-3712778?_encoding=UTF8&psc=1&refRID=AY57NHQXZQX1T8ZS6V4N\n"
     ]
    },
    {
     "name": "stderr",
     "output_type": "stream",
     "text": [
      "/anaconda3/lib/python3.6/site-packages/urllib3/connectionpool.py:858: InsecureRequestWarning: Unverified HTTPS request is being made. Adding certificate verification is strongly advised. See: https://urllib3.readthedocs.io/en/latest/advanced-usage.html#ssl-warnings\n",
      "  InsecureRequestWarning)\n"
     ]
    },
    {
     "name": "stdout",
     "output_type": "stream",
     "text": [
      "{'NAME': '最美地球绘本立体书:海洋上下', 'SALE_PRICE': '￥56.00', 'CATEGORY': '科普百科', 'COMMENT_NUMBER': '1 条商品评论', 'PAGES': '10页', 'READERS': '3-6岁', 'FORMAT': '16', 'SALES_RANK': '亚马逊热销商品排名:图书商品里排第5,515名', 'SIZE': '29.6 x 15.8 x 1.6 cm', 'WEIGHT': '422 g', 'URL': 'https://www.amazon.cn/dp/B0195V8WN6/ref=zg_bs_658739051_12/457-0188065-3712778?_encoding=UTF8&psc=1&refRID=AY57NHQXZQX1T8ZS6V4N'}\n",
      "Processing: https://www.amazon.cn/dp/B06XYJCYCF/ref=zg_bs_658739051_13/457-0188065-3712778?_encoding=UTF8&psc=1&refRID=AY57NHQXZQX1T8ZS6V4N\n"
     ]
    },
    {
     "name": "stderr",
     "output_type": "stream",
     "text": [
      "/anaconda3/lib/python3.6/site-packages/urllib3/connectionpool.py:858: InsecureRequestWarning: Unverified HTTPS request is being made. Adding certificate verification is strongly advised. See: https://urllib3.readthedocs.io/en/latest/advanced-usage.html#ssl-warnings\n",
      "  InsecureRequestWarning)\n"
     ]
    },
    {
     "name": "stdout",
     "output_type": "stream",
     "text": [
      "{'NAME': '看里面立体书(套装共2册)', 'SALE_PRICE': '￥68.00', 'CATEGORY': '幼儿启蒙', 'COMMENT_NUMBER': '2 条商品评论', 'PAGES': '20页', 'READERS': '0-2岁', 'FORMAT': '24', 'SALES_RANK': '亚马逊热销商品排名:图书商品里排第8,082名', 'SIZE': '19.2 x 18.6 x 3.4 cm', 'WEIGHT': '581 g', 'URL': 'https://www.amazon.cn/dp/B06XYJCYCF/ref=zg_bs_658739051_13/457-0188065-3712778?_encoding=UTF8&psc=1&refRID=AY57NHQXZQX1T8ZS6V4N'}\n",
      "Processing: https://www.amazon.cn/dp/B01ANMKYBO/ref=zg_bs_658739051_14/457-0188065-3712778?_encoding=UTF8&psc=1&refRID=AY57NHQXZQX1T8ZS6V4N\n"
     ]
    },
    {
     "name": "stderr",
     "output_type": "stream",
     "text": [
      "/anaconda3/lib/python3.6/site-packages/urllib3/connectionpool.py:858: InsecureRequestWarning: Unverified HTTPS request is being made. Adding certificate verification is strongly advised. See: https://urllib3.readthedocs.io/en/latest/advanced-usage.html#ssl-warnings\n",
      "  InsecureRequestWarning)\n"
     ]
    },
    {
     "name": "stdout",
     "output_type": "stream",
     "text": [
      "{'NAME': '拉鲁斯儿童立体百科全书系列:人体奥秘', 'SALE_PRICE': '￥57.30', 'CATEGORY': '科普百科', 'COMMENT_NUMBER': '3 条商品评论', 'PAGES': '36页', 'READERS': '7-10岁', 'FORMAT': '16', 'SALES_RANK': '亚马逊热销商品排名:图书商品里排第8,398名', 'SIZE': '27.8 x 24.4 x 2.4 cm', 'WEIGHT': '862 g', 'URL': 'https://www.amazon.cn/dp/B01ANMKYBO/ref=zg_bs_658739051_14/457-0188065-3712778?_encoding=UTF8&psc=1&refRID=AY57NHQXZQX1T8ZS6V4N'}\n",
      "Processing: https://www.amazon.cn/dp/B06XXJSVXJ/ref=zg_bs_658739051_15/457-0188065-3712778?_encoding=UTF8&psc=1&refRID=AY57NHQXZQX1T8ZS6V4N\n"
     ]
    },
    {
     "name": "stderr",
     "output_type": "stream",
     "text": [
      "/anaconda3/lib/python3.6/site-packages/urllib3/connectionpool.py:858: InsecureRequestWarning: Unverified HTTPS request is being made. Adding certificate verification is strongly advised. See: https://urllib3.readthedocs.io/en/latest/advanced-usage.html#ssl-warnings\n",
      "  InsecureRequestWarning)\n"
     ]
    },
    {
     "name": "stdout",
     "output_type": "stream",
     "text": [
      "{'NAME': '看里面立体书:丛林动物', 'SALE_PRICE': '￥34.00', 'CATEGORY': '幼儿启蒙', 'COMMENT_NUMBER': '1 条商品评论', 'PAGES': '10页', 'READERS': '0-2岁', 'FORMAT': '24', 'SALES_RANK': '亚马逊热销商品排名:图书商品里排第8,672名', 'SIZE': '18.6 x 18.4 x 1.4 cm', 'WEIGHT': '299 g', 'URL': 'https://www.amazon.cn/dp/B06XXJSVXJ/ref=zg_bs_658739051_15/457-0188065-3712778?_encoding=UTF8&psc=1&refRID=AY57NHQXZQX1T8ZS6V4N'}\n",
      "Processing: https://www.amazon.cn/dp/B01N2RJ3Z5/ref=zg_bs_658739051_16/457-0188065-3712778?_encoding=UTF8&psc=1&refRID=AY57NHQXZQX1T8ZS6V4N\n"
     ]
    },
    {
     "name": "stderr",
     "output_type": "stream",
     "text": [
      "/anaconda3/lib/python3.6/site-packages/urllib3/connectionpool.py:858: InsecureRequestWarning: Unverified HTTPS request is being made. Adding certificate verification is strongly advised. See: https://urllib3.readthedocs.io/en/latest/advanced-usage.html#ssl-warnings\n",
      "  InsecureRequestWarning)\n"
     ]
    },
    {
     "name": "stdout",
     "output_type": "stream",
     "text": [
      "{'NAME': '胡桃夹子(乐乐趣绘本立体书)', 'SALE_PRICE': '￥64.00', 'CATEGORY': '少儿绘本与漫画', 'COMMENT_NUMBER': None, 'PAGES': '18页', 'READERS': '3-6岁', 'FORMAT': '12', 'SALES_RANK': '亚马逊热销商品排名:图书商品里排第9,531名', 'SIZE': '27.4 x 23.6 x 1.6 cm', 'WEIGHT': '540 g', 'URL': 'https://www.amazon.cn/dp/B01N2RJ3Z5/ref=zg_bs_658739051_16/457-0188065-3712778?_encoding=UTF8&psc=1&refRID=AY57NHQXZQX1T8ZS6V4N'}\n",
      "Processing: https://www.amazon.cn/dp/B00GHAST7I/ref=zg_bs_658739051_17/457-0188065-3712778?_encoding=UTF8&psc=1&refRID=AY57NHQXZQX1T8ZS6V4N\n"
     ]
    },
    {
     "name": "stderr",
     "output_type": "stream",
     "text": [
      "/anaconda3/lib/python3.6/site-packages/urllib3/connectionpool.py:858: InsecureRequestWarning: Unverified HTTPS request is being made. Adding certificate verification is strongly advised. See: https://urllib3.readthedocs.io/en/latest/advanced-usage.html#ssl-warnings\n",
      "  InsecureRequestWarning)\n"
     ]
    },
    {
     "name": "stdout",
     "output_type": "stream",
     "text": [
      "local variable 'PAGES' referenced before assignment\n",
      "Processing: https://www.amazon.cn/dp/B017U0LE1Q/ref=zg_bs_658739051_18/457-0188065-3712778?_encoding=UTF8&psc=1&refRID=AY57NHQXZQX1T8ZS6V4N\n"
     ]
    },
    {
     "name": "stderr",
     "output_type": "stream",
     "text": [
      "/anaconda3/lib/python3.6/site-packages/urllib3/connectionpool.py:858: InsecureRequestWarning: Unverified HTTPS request is being made. Adding certificate verification is strongly advised. See: https://urllib3.readthedocs.io/en/latest/advanced-usage.html#ssl-warnings\n",
      "  InsecureRequestWarning)\n"
     ]
    },
    {
     "name": "stdout",
     "output_type": "stream",
     "text": [
      "{'NAME': '鳄鱼先生立体游戏屋(中英双语)', 'SALE_PRICE': '￥69.00', 'CATEGORY': '智力游戏', 'COMMENT_NUMBER': '16 条商品评论', 'PAGES': '8页', 'READERS': '0-2岁', 'FORMAT': '16', 'SALES_RANK': '亚马逊热销商品排名:图书商品里排第10,001名', 'SIZE': '26.6 x 19.4 x 8.3 cm', 'WEIGHT': '581 g', 'URL': 'https://www.amazon.cn/dp/B017U0LE1Q/ref=zg_bs_658739051_18/457-0188065-3712778?_encoding=UTF8&psc=1&refRID=AY57NHQXZQX1T8ZS6V4N'}\n",
      "Processing: https://www.amazon.cn/dp/B012VC7GS8/ref=zg_bs_658739051_19/457-0188065-3712778?_encoding=UTF8&psc=1&refRID=AY57NHQXZQX1T8ZS6V4N\n"
     ]
    },
    {
     "name": "stderr",
     "output_type": "stream",
     "text": [
      "/anaconda3/lib/python3.6/site-packages/urllib3/connectionpool.py:858: InsecureRequestWarning: Unverified HTTPS request is being made. Adding certificate verification is strongly advised. See: https://urllib3.readthedocs.io/en/latest/advanced-usage.html#ssl-warnings\n",
      "  InsecureRequestWarning)\n"
     ]
    },
    {
     "name": "stdout",
     "output_type": "stream",
     "text": [
      "{'NAME': '爱丽丝漫游奇境(立体珍藏版)', 'SALE_PRICE': '￥148.00', 'CATEGORY': '儿童文学', 'COMMENT_NUMBER': '27 条商品评论', 'PAGES': '12页', 'READERS': '3-6岁', 'FORMAT': '16', 'SALES_RANK': '亚马逊热销商品排名:图书商品里排第11,663名', 'SIZE': '27.2 x 21.4 x 5.6 cm', 'WEIGHT': '898 g', 'URL': 'https://www.amazon.cn/dp/B012VC7GS8/ref=zg_bs_658739051_19/457-0188065-3712778?_encoding=UTF8&psc=1&refRID=AY57NHQXZQX1T8ZS6V4N'}\n",
      "Processing: https://www.amazon.cn/dp/B01F6V0P6G/ref=zg_bs_658739051_20/457-0188065-3712778?_encoding=UTF8&psc=1&refRID=AY57NHQXZQX1T8ZS6V4N\n"
     ]
    },
    {
     "name": "stderr",
     "output_type": "stream",
     "text": [
      "/anaconda3/lib/python3.6/site-packages/urllib3/connectionpool.py:858: InsecureRequestWarning: Unverified HTTPS request is being made. Adding certificate verification is strongly advised. See: https://urllib3.readthedocs.io/en/latest/advanced-usage.html#ssl-warnings\n",
      "  InsecureRequestWarning)\n"
     ]
    },
    {
     "name": "stdout",
     "output_type": "stream",
     "text": [
      "{'NAME': 'DK宝宝捉迷藏认知立体书:热闹的农场', 'SALE_PRICE': '￥34.90', 'CATEGORY': '幼儿启蒙', 'COMMENT_NUMBER': '2 条商品评论', 'PAGES': '10页', 'READERS': '0-2岁', 'FORMAT': '20', 'SALES_RANK': '亚马逊热销商品排名:图书商品里排第12,292名', 'SIZE': '21.6 x 21.3 x 2.5 cm', 'WEIGHT': '608 g', 'URL': 'https://www.amazon.cn/dp/B01F6V0P6G/ref=zg_bs_658739051_20/457-0188065-3712778?_encoding=UTF8&psc=1&refRID=AY57NHQXZQX1T8ZS6V4N'}\n",
      "Processing: https://www.amazon.cn/dp/B079ZSFHD6/ref=zg_bs_tab_pd_bsnr_1/457-0188065-3712778?_encoding=UTF8&psc=1&refRID=AY57NHQXZQX1T8ZS6V4N\n"
     ]
    },
    {
     "name": "stderr",
     "output_type": "stream",
     "text": [
      "/anaconda3/lib/python3.6/site-packages/urllib3/connectionpool.py:858: InsecureRequestWarning: Unverified HTTPS request is being made. Adding certificate verification is strongly advised. See: https://urllib3.readthedocs.io/en/latest/advanced-usage.html#ssl-warnings\n",
      "  InsecureRequestWarning)\n"
     ]
    },
    {
     "name": "stdout",
     "output_type": "stream",
     "text": [
      "{'NAME': '0-3岁触摸立体翻翻书:和小鸡球球一起玩(套装共6册)', 'SALE_PRICE': '￥116.00', 'CATEGORY': '少儿绘本与漫画', 'COMMENT_NUMBER': '5 条商品评论', 'PAGES': '144页', 'READERS': '0-2岁', 'FORMAT': '48', 'SALES_RANK': '亚马逊热销商品排名:图书商品里排第585名', 'SIZE': '14.4 x 14.4 x 7.8 cm', 'WEIGHT': '780 g', 'URL': 'https://www.amazon.cn/dp/B079ZSFHD6/ref=zg_bs_tab_pd_bsnr_1/457-0188065-3712778?_encoding=UTF8&psc=1&refRID=AY57NHQXZQX1T8ZS6V4N'}\n",
      "Processing: https://www.amazon.cn/dp/B078F9KHSQ/ref=zg_bs_tab_pd_bsnr_2/457-0188065-3712778?_encoding=UTF8&psc=1&refRID=AY57NHQXZQX1T8ZS6V4N\n"
     ]
    },
    {
     "name": "stderr",
     "output_type": "stream",
     "text": [
      "/anaconda3/lib/python3.6/site-packages/urllib3/connectionpool.py:858: InsecureRequestWarning: Unverified HTTPS request is being made. Adding certificate verification is strongly advised. See: https://urllib3.readthedocs.io/en/latest/advanced-usage.html#ssl-warnings\n",
      "  InsecureRequestWarning)\n"
     ]
    },
    {
     "name": "stdout",
     "output_type": "stream",
     "text": [
      "{'NAME': '乐易学·超级炫酷3D立体大百科:肉食动物大探秘(新版)', 'SALE_PRICE': '￥99.36', 'CATEGORY': '科普百科', 'COMMENT_NUMBER': '5 条商品评论', 'PAGES': '32页', 'READERS': '3-6岁', 'FORMAT': '16', 'SALES_RANK': '亚马逊热销商品排名:图书商品里排第28,580名', 'SIZE': '30.4 x 21.2 x 2.4 cm', 'WEIGHT': '980 g', 'URL': 'https://www.amazon.cn/dp/B078F9KHSQ/ref=zg_bs_tab_pd_bsnr_2/457-0188065-3712778?_encoding=UTF8&psc=1&refRID=AY57NHQXZQX1T8ZS6V4N'}\n",
      "Processing: https://www.amazon.cn/dp/B078851G31/ref=zg_bs_tab_pd_bsnr_3/457-0188065-3712778?_encoding=UTF8&psc=1&refRID=AY57NHQXZQX1T8ZS6V4N\n"
     ]
    },
    {
     "name": "stderr",
     "output_type": "stream",
     "text": [
      "/anaconda3/lib/python3.6/site-packages/urllib3/connectionpool.py:858: InsecureRequestWarning: Unverified HTTPS request is being made. Adding certificate verification is strongly advised. See: https://urllib3.readthedocs.io/en/latest/advanced-usage.html#ssl-warnings\n",
      "  InsecureRequestWarning)\n"
     ]
    },
    {
     "name": "stdout",
     "output_type": "stream",
     "text": [
      "{'NAME': '乐易学·超级炫酷3D立体大百科:野生动物大探秘(新版)', 'SALE_PRICE': '￥99.36', 'CATEGORY': '科普百科', 'COMMENT_NUMBER': '3 条商品评论', 'PAGES': '32页', 'READERS': '3-6岁', 'FORMAT': '16', 'SALES_RANK': '亚马逊热销商品排名:图书商品里排第226,965名', 'SIZE': '30.4 x 21.6 x 3 cm', 'WEIGHT': '880 g', 'URL': 'https://www.amazon.cn/dp/B078851G31/ref=zg_bs_tab_pd_bsnr_3/457-0188065-3712778?_encoding=UTF8&psc=1&refRID=AY57NHQXZQX1T8ZS6V4N'}\n",
      "Processing: https://www.amazon.cn/dp/B003MNI4EQ/ref=zg_bs_660550051_1/461-9588389-6100036?_encoding=UTF8&psc=1&refRID=E3PGEHAQY8N6MFQG07HZ\n"
     ]
    },
    {
     "name": "stderr",
     "output_type": "stream",
     "text": [
      "/anaconda3/lib/python3.6/site-packages/urllib3/connectionpool.py:858: InsecureRequestWarning: Unverified HTTPS request is being made. Adding certificate verification is strongly advised. See: https://urllib3.readthedocs.io/en/latest/advanced-usage.html#ssl-warnings\n",
      "  InsecureRequestWarning)\n"
     ]
    },
    {
     "name": "stdout",
     "output_type": "stream",
     "text": [
      "{'NAME': '儿童情绪与人格培养绘本:我要更勇敢(中英对照)', 'SALE_PRICE': '￥9.20', 'CATEGORY': '少儿绘本与漫画', 'COMMENT_NUMBER': '223 条商品评论', 'PAGES': '25页', 'READERS': '3-6岁', 'FORMAT': '20', 'SALES_RANK': '亚马逊热销商品排名:图书商品里排第448名', 'SIZE': '22 x 20 x 0.4 cm', 'WEIGHT': '181 g', 'URL': 'https://www.amazon.cn/dp/B003MNI4EQ/ref=zg_bs_660550051_1/461-9588389-6100036?_encoding=UTF8&psc=1&refRID=E3PGEHAQY8N6MFQG07HZ'}\n",
      "Processing: https://www.amazon.cn/dp/B07B14J2KK/ref=zg_bs_660550051_2/461-9588389-6100036?_encoding=UTF8&psc=1&refRID=E3PGEHAQY8N6MFQG07HZ\n"
     ]
    },
    {
     "name": "stderr",
     "output_type": "stream",
     "text": [
      "/anaconda3/lib/python3.6/site-packages/urllib3/connectionpool.py:858: InsecureRequestWarning: Unverified HTTPS request is being made. Adding certificate verification is strongly advised. See: https://urllib3.readthedocs.io/en/latest/advanced-usage.html#ssl-warnings\n",
      "  InsecureRequestWarning)\n"
     ]
    },
    {
     "name": "stdout",
     "output_type": "stream",
     "text": [
      "local variable 'READERS' referenced before assignment\n",
      "Processing: https://www.amazon.cn/dp/B076VY8Z1H/ref=zg_bs_660550051_3/461-9588389-6100036?_encoding=UTF8&psc=1&refRID=E3PGEHAQY8N6MFQG07HZ\n"
     ]
    },
    {
     "name": "stderr",
     "output_type": "stream",
     "text": [
      "/anaconda3/lib/python3.6/site-packages/urllib3/connectionpool.py:858: InsecureRequestWarning: Unverified HTTPS request is being made. Adding certificate verification is strongly advised. See: https://urllib3.readthedocs.io/en/latest/advanced-usage.html#ssl-warnings\n",
      "  InsecureRequestWarning)\n"
     ]
    },
    {
     "name": "stdout",
     "output_type": "stream",
     "text": [
      "{'NAME': '101个神奇的实验(第3版):101个水的实验', 'SALE_PRICE': '￥27.50', 'CATEGORY': '科普百科', 'COMMENT_NUMBER': '3 条商品评论', 'PAGES': '136页', 'READERS': '7-10岁', 'FORMAT': '16', 'SALES_RANK': '亚马逊热销商品排名:图书商品里排第885名', 'SIZE': '22.6 x 18.4 x 1 cm', 'WEIGHT': '322 g', 'URL': 'https://www.amazon.cn/dp/B076VY8Z1H/ref=zg_bs_660550051_3/461-9588389-6100036?_encoding=UTF8&psc=1&refRID=E3PGEHAQY8N6MFQG07HZ'}\n",
      "Processing: https://www.amazon.cn/dp/B01MPXYVEJ/ref=zg_bs_660550051_4/461-9588389-6100036?_encoding=UTF8&psc=1&refRID=E3PGEHAQY8N6MFQG07HZ\n"
     ]
    },
    {
     "name": "stderr",
     "output_type": "stream",
     "text": [
      "/anaconda3/lib/python3.6/site-packages/urllib3/connectionpool.py:858: InsecureRequestWarning: Unverified HTTPS request is being made. Adding certificate verification is strongly advised. See: https://urllib3.readthedocs.io/en/latest/advanced-usage.html#ssl-warnings\n",
      "  InsecureRequestWarning)\n"
     ]
    },
    {
     "name": "stdout",
     "output_type": "stream",
     "text": [
      "{'NAME': '自我保护意识培养(1-4辑)(套装共8册)', 'SALE_PRICE': '￥165.00', 'CATEGORY': '少儿绘本与漫画', 'COMMENT_NUMBER': '41 条商品评论', 'PAGES': '229页', 'READERS': '3-6岁', 'FORMAT': '16', 'SALES_RANK': '亚马逊热销商品排名:图书商品里排第1,165名', 'SIZE': '32.2 x 22.4 x 6.6 cm', 'WEIGHT': '2.74 Kg', 'URL': 'https://www.amazon.cn/dp/B01MPXYVEJ/ref=zg_bs_660550051_4/461-9588389-6100036?_encoding=UTF8&psc=1&refRID=E3PGEHAQY8N6MFQG07HZ'}\n",
      "Processing: https://www.amazon.cn/dp/B004PLMLZW/ref=zg_bs_660550051_5/461-9588389-6100036?_encoding=UTF8&psc=1&refRID=E3PGEHAQY8N6MFQG07HZ\n"
     ]
    },
    {
     "name": "stderr",
     "output_type": "stream",
     "text": [
      "/anaconda3/lib/python3.6/site-packages/urllib3/connectionpool.py:858: InsecureRequestWarning: Unverified HTTPS request is being made. Adding certificate verification is strongly advised. See: https://urllib3.readthedocs.io/en/latest/advanced-usage.html#ssl-warnings\n",
      "  InsecureRequestWarning)\n"
     ]
    },
    {
     "name": "stdout",
     "output_type": "stream",
     "text": [
      "local variable 'PAGES' referenced before assignment\n",
      "Processing: https://www.amazon.cn/dp/B072RBZ6QV/ref=zg_bs_660550051_6/461-9588389-6100036?_encoding=UTF8&psc=1&refRID=E3PGEHAQY8N6MFQG07HZ\n"
     ]
    },
    {
     "name": "stderr",
     "output_type": "stream",
     "text": [
      "/anaconda3/lib/python3.6/site-packages/urllib3/connectionpool.py:858: InsecureRequestWarning: Unverified HTTPS request is being made. Adding certificate verification is strongly advised. See: https://urllib3.readthedocs.io/en/latest/advanced-usage.html#ssl-warnings\n",
      "  InsecureRequestWarning)\n"
     ]
    },
    {
     "name": "stdout",
     "output_type": "stream",
     "text": [
      "{'NAME': '自我保护意识培养(1-2辑)(2016版)(套装共4册)(附《12个安全拓展游戏》)', 'SALE_PRICE': '￥82.50', 'CATEGORY': '智力游戏', 'COMMENT_NUMBER': '30 条商品评论', 'PAGES': '65页', 'READERS': '3-6岁', 'FORMAT': '16', 'SALES_RANK': '亚马逊热销商品排名:图书商品里排第1,303名', 'SIZE': '30 x 23 x 3.8 cm', 'WEIGHT': '1.52 Kg', 'URL': 'https://www.amazon.cn/dp/B072RBZ6QV/ref=zg_bs_660550051_6/461-9588389-6100036?_encoding=UTF8&psc=1&refRID=E3PGEHAQY8N6MFQG07HZ'}\n",
      "Processing: https://www.amazon.cn/dp/B0089790OI/ref=zg_bs_660550051_7/461-9588389-6100036?_encoding=UTF8&psc=1&refRID=E3PGEHAQY8N6MFQG07HZ\n"
     ]
    },
    {
     "name": "stderr",
     "output_type": "stream",
     "text": [
      "/anaconda3/lib/python3.6/site-packages/urllib3/connectionpool.py:858: InsecureRequestWarning: Unverified HTTPS request is being made. Adding certificate verification is strongly advised. See: https://urllib3.readthedocs.io/en/latest/advanced-usage.html#ssl-warnings\n",
      "  InsecureRequestWarning)\n"
     ]
    },
    {
     "name": "stdout",
     "output_type": "stream",
     "text": [
      "{'NAME': '儿童情绪管理与性格培养绘本(第4辑):成长进行时(套装全3册)', 'SALE_PRICE': '￥27.70', 'CATEGORY': '少儿绘本与漫画', 'COMMENT_NUMBER': '346 条商品评论', 'PAGES': '78页', 'READERS': '3-6岁', 'FORMAT': '20', 'SALES_RANK': '亚马逊热销商品排名:图书商品里排第1,332名', 'SIZE': '22.6 x 20.8 x 1.2 cm', 'WEIGHT': '540 g', 'URL': 'https://www.amazon.cn/dp/B0089790OI/ref=zg_bs_660550051_7/461-9588389-6100036?_encoding=UTF8&psc=1&refRID=E3PGEHAQY8N6MFQG07HZ'}\n",
      "Processing: https://www.amazon.cn/dp/B003MNI4E6/ref=zg_bs_660550051_8/461-9588389-6100036?_encoding=UTF8&psc=1&refRID=E3PGEHAQY8N6MFQG07HZ\n"
     ]
    },
    {
     "name": "stderr",
     "output_type": "stream",
     "text": [
      "/anaconda3/lib/python3.6/site-packages/urllib3/connectionpool.py:858: InsecureRequestWarning: Unverified HTTPS request is being made. Adding certificate verification is strongly advised. See: https://urllib3.readthedocs.io/en/latest/advanced-usage.html#ssl-warnings\n",
      "  InsecureRequestWarning)\n"
     ]
    },
    {
     "name": "stdout",
     "output_type": "stream",
     "text": [
      "{'NAME': '儿童情绪与人格培养绘本:我要更专心', 'SALE_PRICE': '￥18.30', 'CATEGORY': '少儿绘本与漫画', 'COMMENT_NUMBER': '131 条商品评论', 'PAGES': '79页', 'READERS': '7-10岁', 'FORMAT': '20', 'SALES_RANK': '亚马逊热销商品排名:图书商品里排第1,486名', 'SIZE': '22.2 x 20.6 x 0.8 cm', 'WEIGHT': '299 g', 'URL': 'https://www.amazon.cn/dp/B003MNI4E6/ref=zg_bs_660550051_8/461-9588389-6100036?_encoding=UTF8&psc=1&refRID=E3PGEHAQY8N6MFQG07HZ'}\n",
      "Processing: https://www.amazon.cn/dp/B0089AGI0O/ref=zg_bs_660550051_9/461-9588389-6100036?_encoding=UTF8&psc=1&refRID=E3PGEHAQY8N6MFQG07HZ\n"
     ]
    },
    {
     "name": "stderr",
     "output_type": "stream",
     "text": [
      "/anaconda3/lib/python3.6/site-packages/urllib3/connectionpool.py:858: InsecureRequestWarning: Unverified HTTPS request is being made. Adding certificate verification is strongly advised. See: https://urllib3.readthedocs.io/en/latest/advanced-usage.html#ssl-warnings\n",
      "  InsecureRequestWarning)\n"
     ]
    },
    {
     "name": "stdout",
     "output_type": "stream",
     "text": [
      "{'NAME': '儿童情绪管理与性格培养绘本(第1辑):关怀成长中的心灵(套装共3册)(封面随机)', 'SALE_PRICE': '￥27.70', 'CATEGORY': '幼儿启蒙', 'COMMENT_NUMBER': '97 条商品评论', 'PAGES': '120页', 'READERS': '3-6岁', 'FORMAT': '20', 'SALES_RANK': '亚马逊热销商品排名:图书商品里排第2,029名', 'SIZE': '22.2 x 21 x 1.2 cm', 'WEIGHT': '581 g', 'URL': 'https://www.amazon.cn/dp/B0089AGI0O/ref=zg_bs_660550051_9/461-9588389-6100036?_encoding=UTF8&psc=1&refRID=E3PGEHAQY8N6MFQG07HZ'}\n",
      "Processing: https://www.amazon.cn/dp/B06XW4FN18/ref=zg_bs_660550051_10/461-9588389-6100036?_encoding=UTF8&psc=1&refRID=E3PGEHAQY8N6MFQG07HZ\n"
     ]
    },
    {
     "name": "stderr",
     "output_type": "stream",
     "text": [
      "/anaconda3/lib/python3.6/site-packages/urllib3/connectionpool.py:858: InsecureRequestWarning: Unverified HTTPS request is being made. Adding certificate verification is strongly advised. See: https://urllib3.readthedocs.io/en/latest/advanced-usage.html#ssl-warnings\n",
      "  InsecureRequestWarning)\n"
     ]
    },
    {
     "name": "stdout",
     "output_type": "stream",
     "text": [
      "{'NAME': '汪汪队立大功儿童安全救援故事书(套装共10册)', 'SALE_PRICE': '￥81.18', 'CATEGORY': '少儿绘本与漫画', 'COMMENT_NUMBER': '23 条商品评论', 'PAGES': '320页', 'READERS': '3-6岁', 'FORMAT': '20', 'SALES_RANK': '亚马逊热销商品排名:图书商品里排第2,142名', 'SIZE': '22 x 21.4 x 2.6 cm', 'WEIGHT': '1.4 Kg', 'URL': 'https://www.amazon.cn/dp/B06XW4FN18/ref=zg_bs_660550051_10/461-9588389-6100036?_encoding=UTF8&psc=1&refRID=E3PGEHAQY8N6MFQG07HZ'}\n",
      "Processing: https://www.amazon.cn/dp/B00CXKGMA2/ref=zg_bs_660550051_11/461-9588389-6100036?_encoding=UTF8&psc=1&refRID=E3PGEHAQY8N6MFQG07HZ\n"
     ]
    },
    {
     "name": "stderr",
     "output_type": "stream",
     "text": [
      "/anaconda3/lib/python3.6/site-packages/urllib3/connectionpool.py:858: InsecureRequestWarning: Unverified HTTPS request is being made. Adding certificate verification is strongly advised. See: https://urllib3.readthedocs.io/en/latest/advanced-usage.html#ssl-warnings\n",
      "  InsecureRequestWarning)\n"
     ]
    },
    {
     "name": "stdout",
     "output_type": "stream",
     "text": [
      "{'NAME': '我的第一本科学漫画书•寻宝记系列6:日本寻宝记', 'SALE_PRICE': '￥21.50', 'CATEGORY': '科普百科', 'COMMENT_NUMBER': '18 条商品评论', 'PAGES': '189页', 'READERS': '7-10岁', 'FORMAT': '16', 'SALES_RANK': '亚马逊热销商品排名:图书商品里排第2,294名', 'SIZE': '24.8 x 18.6 x 1.2 cm', 'WEIGHT': '381 g', 'URL': 'https://www.amazon.cn/dp/B00CXKGMA2/ref=zg_bs_660550051_11/461-9588389-6100036?_encoding=UTF8&psc=1&refRID=E3PGEHAQY8N6MFQG07HZ'}\n",
      "Processing: https://www.amazon.cn/dp/B072BWBVYD/ref=zg_bs_660550051_12/461-9588389-6100036?_encoding=UTF8&psc=1&refRID=E3PGEHAQY8N6MFQG07HZ\n"
     ]
    },
    {
     "name": "stderr",
     "output_type": "stream",
     "text": [
      "/anaconda3/lib/python3.6/site-packages/urllib3/connectionpool.py:858: InsecureRequestWarning: Unverified HTTPS request is being made. Adding certificate verification is strongly advised. See: https://urllib3.readthedocs.io/en/latest/advanced-usage.html#ssl-warnings\n",
      "  InsecureRequestWarning)\n"
     ]
    },
    {
     "name": "stdout",
     "output_type": "stream",
     "text": [
      "{'NAME': '珍爱生命:小学生性健康教育读本(一到六年级)(套装共12册)', 'SALE_PRICE': '￥79.80', 'CATEGORY': '中小学课外读物', 'COMMENT_NUMBER': None, 'PAGES': '608页', 'READERS': '7-10岁', 'FORMAT': '16', 'SALES_RANK': '亚马逊热销商品排名:图书商品里排第2,473名', 'SIZE': '25.8 x 18.4 x 4 cm', 'WEIGHT': '1.46 Kg', 'URL': 'https://www.amazon.cn/dp/B072BWBVYD/ref=zg_bs_660550051_12/461-9588389-6100036?_encoding=UTF8&psc=1&refRID=E3PGEHAQY8N6MFQG07HZ'}\n",
      "Processing: https://www.amazon.cn/dp/B01AUED0DE/ref=zg_bs_660550051_13/461-9588389-6100036?_encoding=UTF8&psc=1&refRID=E3PGEHAQY8N6MFQG07HZ\n"
     ]
    },
    {
     "name": "stderr",
     "output_type": "stream",
     "text": [
      "/anaconda3/lib/python3.6/site-packages/urllib3/connectionpool.py:858: InsecureRequestWarning: Unverified HTTPS request is being made. Adding certificate verification is strongly advised. See: https://urllib3.readthedocs.io/en/latest/advanced-usage.html#ssl-warnings\n",
      "  InsecureRequestWarning)\n"
     ]
    },
    {
     "name": "stdout",
     "output_type": "stream",
     "text": [
      "{'NAME': '儿童情绪管理与性格培养绘本系列(3-6岁必读精华版)(套装共27册)', 'SALE_PRICE': '￥256.60', 'CATEGORY': '少儿绘本与漫画', 'COMMENT_NUMBER': '101 条商品评论', 'PAGES': '1104页', 'READERS': '3-6岁', 'FORMAT': '20', 'SALES_RANK': '亚马逊热销商品排名:图书商品里排第2,901名', 'SIZE': '23.6 x 22.6 x 10.7 cm', 'WEIGHT': '4.82 Kg', 'URL': 'https://www.amazon.cn/dp/B01AUED0DE/ref=zg_bs_660550051_13/461-9588389-6100036?_encoding=UTF8&psc=1&refRID=E3PGEHAQY8N6MFQG07HZ'}\n",
      "Processing: https://www.amazon.cn/dp/B0076JD6UE/ref=zg_bs_660550051_14/461-9588389-6100036?_encoding=UTF8&psc=1&refRID=E3PGEHAQY8N6MFQG07HZ\n"
     ]
    },
    {
     "name": "stderr",
     "output_type": "stream",
     "text": [
      "/anaconda3/lib/python3.6/site-packages/urllib3/connectionpool.py:858: InsecureRequestWarning: Unverified HTTPS request is being made. Adding certificate verification is strongly advised. See: https://urllib3.readthedocs.io/en/latest/advanced-usage.html#ssl-warnings\n",
      "  InsecureRequestWarning)\n"
     ]
    },
    {
     "name": "stdout",
     "output_type": "stream",
     "text": [
      "{'NAME': '儿童情绪管理与性格培养绘本(第1辑):让孩子学会说', 'SALE_PRICE': '￥12.80', 'CATEGORY': '少儿绘本与漫画', 'COMMENT_NUMBER': '35 条商品评论', 'PAGES': '33页', 'READERS': '7-10岁', 'FORMAT': '20', 'SALES_RANK': '亚马逊热销商品排名:图书商品里排第2,960名', 'SIZE': '22.2 x 20.6 x 0.4 cm', 'WEIGHT': '181 g', 'URL': 'https://www.amazon.cn/dp/B0076JD6UE/ref=zg_bs_660550051_14/461-9588389-6100036?_encoding=UTF8&psc=1&refRID=E3PGEHAQY8N6MFQG07HZ'}\n",
      "Processing: https://www.amazon.cn/dp/B01J0OVBQI/ref=zg_bs_660550051_15/461-9588389-6100036?_encoding=UTF8&psc=1&refRID=E3PGEHAQY8N6MFQG07HZ\n"
     ]
    },
    {
     "name": "stderr",
     "output_type": "stream",
     "text": [
      "/anaconda3/lib/python3.6/site-packages/urllib3/connectionpool.py:858: InsecureRequestWarning: Unverified HTTPS request is being made. Adding certificate verification is strongly advised. See: https://urllib3.readthedocs.io/en/latest/advanced-usage.html#ssl-warnings\n",
      "  InsecureRequestWarning)\n"
     ]
    },
    {
     "name": "stdout",
     "output_type": "stream",
     "text": [
      "{'NAME': '工程车总动员(拼装练手脑,父与子亲子时光)', 'SALE_PRICE': '￥91.08', 'CATEGORY': '智力游戏', 'COMMENT_NUMBER': '69 条商品评论', 'PAGES': '24页', 'READERS': '3-8岁', 'FORMAT': '12', 'SALES_RANK': '亚马逊热销商品排名:图书商品里排第3,020名', 'SIZE': '26.9 x 23.6 x 3.3 cm', 'WEIGHT': '1.12 Kg', 'URL': 'https://www.amazon.cn/dp/B01J0OVBQI/ref=zg_bs_660550051_15/461-9588389-6100036?_encoding=UTF8&psc=1&refRID=E3PGEHAQY8N6MFQG07HZ'}\n",
      "Processing: https://www.amazon.cn/dp/B00SMA88JK/ref=zg_bs_660550051_16/461-9588389-6100036?_encoding=UTF8&psc=1&refRID=E3PGEHAQY8N6MFQG07HZ\n"
     ]
    },
    {
     "name": "stderr",
     "output_type": "stream",
     "text": [
      "/anaconda3/lib/python3.6/site-packages/urllib3/connectionpool.py:858: InsecureRequestWarning: Unverified HTTPS request is being made. Adding certificate verification is strongly advised. See: https://urllib3.readthedocs.io/en/latest/advanced-usage.html#ssl-warnings\n",
      "  InsecureRequestWarning)\n"
     ]
    },
    {
     "name": "stdout",
     "output_type": "stream",
     "text": [
      "local variable 'READERS' referenced before assignment\n",
      "Processing: https://www.amazon.cn/dp/B00EI4IFHY/ref=zg_bs_660550051_17/461-9588389-6100036?_encoding=UTF8&psc=1&refRID=E3PGEHAQY8N6MFQG07HZ\n"
     ]
    },
    {
     "name": "stderr",
     "output_type": "stream",
     "text": [
      "/anaconda3/lib/python3.6/site-packages/urllib3/connectionpool.py:858: InsecureRequestWarning: Unverified HTTPS request is being made. Adding certificate verification is strongly advised. See: https://urllib3.readthedocs.io/en/latest/advanced-usage.html#ssl-warnings\n",
      "  InsecureRequestWarning)\n"
     ]
    },
    {
     "name": "stdout",
     "output_type": "stream",
     "text": [
      "{'NAME': '小熊维尼儿童安全第一宝典(安全意识养成书', 'SALE_PRICE': '￥36.50', 'CATEGORY': '少儿绘本与漫画', 'COMMENT_NUMBER': '773 条商品评论', 'PAGES': '157页', 'READERS': '3-6岁', 'FORMAT': '16', 'SALES_RANK': '亚马逊热销商品排名:图书商品里排第3,145名', 'SIZE': '25.6 x 20.8 x 1.4 cm', 'WEIGHT': '399 g', 'URL': 'https://www.amazon.cn/dp/B00EI4IFHY/ref=zg_bs_660550051_17/461-9588389-6100036?_encoding=UTF8&psc=1&refRID=E3PGEHAQY8N6MFQG07HZ'}\n",
      "Processing: https://www.amazon.cn/dp/B0087NSVN0/ref=zg_bs_660550051_18/461-9588389-6100036?_encoding=UTF8&psc=1&refRID=E3PGEHAQY8N6MFQG07HZ\n"
     ]
    },
    {
     "name": "stderr",
     "output_type": "stream",
     "text": [
      "/anaconda3/lib/python3.6/site-packages/urllib3/connectionpool.py:858: InsecureRequestWarning: Unverified HTTPS request is being made. Adding certificate verification is strongly advised. See: https://urllib3.readthedocs.io/en/latest/advanced-usage.html#ssl-warnings\n",
      "  InsecureRequestWarning)\n"
     ]
    },
    {
     "name": "stdout",
     "output_type": "stream",
     "text": [
      "{'NAME': '最适合中国孩子看的性启蒙绘本:爸妈怎么有了我', 'SALE_PRICE': '￥18.00', 'CATEGORY': '少儿绘本与漫画', 'COMMENT_NUMBER': '48 条商品评论', 'PAGES': '31页', 'READERS': '7-10岁', 'FORMAT': '12', 'SALES_RANK': '亚马逊热销商品排名:图书商品里排第3,153名', 'SIZE': '24.6 x 24.4 x 0.8 cm', 'WEIGHT': '222 g', 'URL': 'https://www.amazon.cn/dp/B0087NSVN0/ref=zg_bs_660550051_18/461-9588389-6100036?_encoding=UTF8&psc=1&refRID=E3PGEHAQY8N6MFQG07HZ'}\n",
      "Processing: https://www.amazon.cn/dp/B0749KSDQ9/ref=zg_bs_660550051_19/461-9588389-6100036?_encoding=UTF8&psc=1&refRID=E3PGEHAQY8N6MFQG07HZ\n"
     ]
    },
    {
     "name": "stderr",
     "output_type": "stream",
     "text": [
      "/anaconda3/lib/python3.6/site-packages/urllib3/connectionpool.py:858: InsecureRequestWarning: Unverified HTTPS request is being made. Adding certificate verification is strongly advised. See: https://urllib3.readthedocs.io/en/latest/advanced-usage.html#ssl-warnings\n",
      "  InsecureRequestWarning)\n"
     ]
    },
    {
     "name": "stdout",
     "output_type": "stream",
     "text": [
      "local variable 'PAGES' referenced before assignment\n",
      "Processing: https://www.amazon.cn/dp/B018HVXQEU/ref=zg_bs_660550051_20/461-9588389-6100036?_encoding=UTF8&psc=1&refRID=E3PGEHAQY8N6MFQG07HZ\n"
     ]
    },
    {
     "name": "stderr",
     "output_type": "stream",
     "text": [
      "/anaconda3/lib/python3.6/site-packages/urllib3/connectionpool.py:858: InsecureRequestWarning: Unverified HTTPS request is being made. Adding certificate verification is strongly advised. See: https://urllib3.readthedocs.io/en/latest/advanced-usage.html#ssl-warnings\n",
      "  InsecureRequestWarning)\n"
     ]
    },
    {
     "name": "stdout",
     "output_type": "stream",
     "text": [
      "{'NAME': '儿童健康讲记:一个中医眼中的儿童健康、心理与教育', 'SALE_PRICE': '￥31.70', 'CATEGORY': '生活知识', 'COMMENT_NUMBER': '33 条商品评论', 'PAGES': '300页', 'READERS': '7-10岁', 'FORMAT': '16', 'SALES_RANK': '亚马逊热销商品排名:图书商品里排第3,648名', 'SIZE': '23 x 16.8 x 1.8 cm', 'WEIGHT': '422 g', 'URL': 'https://www.amazon.cn/dp/B018HVXQEU/ref=zg_bs_660550051_20/461-9588389-6100036?_encoding=UTF8&psc=1&refRID=E3PGEHAQY8N6MFQG07HZ'}\n",
      "Processing: https://www.amazon.cn/dp/B07B5Y8RW2/ref=zg_bs_tab_pd_bsnr_1/461-9588389-6100036?_encoding=UTF8&psc=1&refRID=E3PGEHAQY8N6MFQG07HZ\n"
     ]
    },
    {
     "name": "stderr",
     "output_type": "stream",
     "text": [
      "/anaconda3/lib/python3.6/site-packages/urllib3/connectionpool.py:858: InsecureRequestWarning: Unverified HTTPS request is being made. Adding certificate verification is strongly advised. See: https://urllib3.readthedocs.io/en/latest/advanced-usage.html#ssl-warnings\n",
      "  InsecureRequestWarning)\n"
     ]
    },
    {
     "name": "stdout",
     "output_type": "stream",
     "text": [
      "local variable 'READERS' referenced before assignment\n",
      "Processing: https://www.amazon.cn/dp/B07CF6WGK1/ref=zg_bs_tab_pd_bsnr_2/461-9588389-6100036?_encoding=UTF8&psc=1&refRID=E3PGEHAQY8N6MFQG07HZ\n"
     ]
    },
    {
     "name": "stderr",
     "output_type": "stream",
     "text": [
      "/anaconda3/lib/python3.6/site-packages/urllib3/connectionpool.py:858: InsecureRequestWarning: Unverified HTTPS request is being made. Adding certificate verification is strongly advised. See: https://urllib3.readthedocs.io/en/latest/advanced-usage.html#ssl-warnings\n",
      "  InsecureRequestWarning)\n"
     ]
    },
    {
     "name": "stdout",
     "output_type": "stream",
     "text": [
      "local variable 'READERS' referenced before assignment\n",
      "Processing: https://www.amazon.cn/dp/B07BF854RS/ref=zg_bs_tab_pd_bsnr_3/461-9588389-6100036?_encoding=UTF8&psc=1&refRID=E3PGEHAQY8N6MFQG07HZ\n"
     ]
    },
    {
     "name": "stderr",
     "output_type": "stream",
     "text": [
      "/anaconda3/lib/python3.6/site-packages/urllib3/connectionpool.py:858: InsecureRequestWarning: Unverified HTTPS request is being made. Adding certificate verification is strongly advised. See: https://urllib3.readthedocs.io/en/latest/advanced-usage.html#ssl-warnings\n",
      "  InsecureRequestWarning)\n"
     ]
    },
    {
     "name": "stdout",
     "output_type": "stream",
     "text": [
      "local variable 'READERS' referenced before assignment\n",
      "Processing: https://www.amazon.cn/dp/B01E1G75BK/ref=zg_bs_660552051_1/457-8110344-6386461?_encoding=UTF8&psc=1&refRID=FVXPZ376G1DK17R7RX65\n"
     ]
    },
    {
     "name": "stderr",
     "output_type": "stream",
     "text": [
      "/anaconda3/lib/python3.6/site-packages/urllib3/connectionpool.py:858: InsecureRequestWarning: Unverified HTTPS request is being made. Adding certificate verification is strongly advised. See: https://urllib3.readthedocs.io/en/latest/advanced-usage.html#ssl-warnings\n",
      "  InsecureRequestWarning)\n"
     ]
    },
    {
     "name": "stdout",
     "output_type": "stream",
     "text": [
      "{'NAME': '游戏力(套装共2册)', 'SALE_PRICE': '￥69.50', 'CATEGORY': '智力游戏', 'COMMENT_NUMBER': '18 条商品评论', 'PAGES': '543页', 'READERS': '3-6岁', 'FORMAT': '16', 'SALES_RANK': '亚马逊热销商品排名:图书商品里排第210名', 'SIZE': '24 x 17 x 4 cm', 'WEIGHT': '358 g', 'URL': 'https://www.amazon.cn/dp/B01E1G75BK/ref=zg_bs_660552051_1/457-8110344-6386461?_encoding=UTF8&psc=1&refRID=FVXPZ376G1DK17R7RX65'}\n",
      "Processing: https://www.amazon.cn/dp/B071VSDKCF/ref=zg_bs_660552051_2/457-8110344-6386461?_encoding=UTF8&psc=1&refRID=FVXPZ376G1DK17R7RX65\n"
     ]
    },
    {
     "name": "stderr",
     "output_type": "stream",
     "text": [
      "/anaconda3/lib/python3.6/site-packages/urllib3/connectionpool.py:858: InsecureRequestWarning: Unverified HTTPS request is being made. Adding certificate verification is strongly advised. See: https://urllib3.readthedocs.io/en/latest/advanced-usage.html#ssl-warnings\n",
      "  InsecureRequestWarning)\n"
     ]
    },
    {
     "name": "stdout",
     "output_type": "stream",
     "text": [
      "{'NAME': '宝宝第一套成长书:皮特猫(好性格+高情商)(套装共12册)', 'SALE_PRICE': '￥129.20', 'CATEGORY': '少儿绘本与漫画', 'COMMENT_NUMBER': '131 条商品评论', 'PAGES': '388页', 'READERS': '3-6岁', 'FORMAT': '16', 'SALES_RANK': '亚马逊热销商品排名:图书商品里排第320名', 'SIZE': '28.4 x 22 x 4.2 cm', 'WEIGHT': '2.2 Kg', 'URL': 'https://www.amazon.cn/dp/B071VSDKCF/ref=zg_bs_660552051_2/457-8110344-6386461?_encoding=UTF8&psc=1&refRID=FVXPZ376G1DK17R7RX65'}\n",
      "Processing: https://www.amazon.cn/dp/B003MNI4EQ/ref=zg_bs_660552051_3/457-8110344-6386461?_encoding=UTF8&psc=1&refRID=FVXPZ376G1DK17R7RX65\n"
     ]
    },
    {
     "name": "stderr",
     "output_type": "stream",
     "text": [
      "/anaconda3/lib/python3.6/site-packages/urllib3/connectionpool.py:858: InsecureRequestWarning: Unverified HTTPS request is being made. Adding certificate verification is strongly advised. See: https://urllib3.readthedocs.io/en/latest/advanced-usage.html#ssl-warnings\n",
      "  InsecureRequestWarning)\n"
     ]
    },
    {
     "name": "stdout",
     "output_type": "stream",
     "text": [
      "{'NAME': '儿童情绪与人格培养绘本:我要更勇敢(中英对照)', 'SALE_PRICE': '￥9.20', 'CATEGORY': '少儿绘本与漫画', 'COMMENT_NUMBER': '223 条商品评论', 'PAGES': '25页', 'READERS': '3-6岁', 'FORMAT': '20', 'SALES_RANK': '亚马逊热销商品排名:图书商品里排第448名', 'SIZE': '22 x 20 x 0.4 cm', 'WEIGHT': '181 g', 'URL': 'https://www.amazon.cn/dp/B003MNI4EQ/ref=zg_bs_660552051_3/457-8110344-6386461?_encoding=UTF8&psc=1&refRID=FVXPZ376G1DK17R7RX65'}\n",
      "Processing: https://www.amazon.cn/dp/B01N7LX5WC/ref=zg_bs_660552051_4/457-8110344-6386461?_encoding=UTF8&psc=1&refRID=FVXPZ376G1DK17R7RX65\n"
     ]
    },
    {
     "name": "stderr",
     "output_type": "stream",
     "text": [
      "/anaconda3/lib/python3.6/site-packages/urllib3/connectionpool.py:858: InsecureRequestWarning: Unverified HTTPS request is being made. Adding certificate verification is strongly advised. See: https://urllib3.readthedocs.io/en/latest/advanced-usage.html#ssl-warnings\n",
      "  InsecureRequestWarning)\n"
     ]
    },
    {
     "name": "stdout",
     "output_type": "stream",
     "text": [
      "local variable 'READERS' referenced before assignment\n",
      "Processing: https://www.amazon.cn/dp/B00F871Y4G/ref=zg_bs_660552051_5/457-8110344-6386461?_encoding=UTF8&psc=1&refRID=FVXPZ376G1DK17R7RX65\n"
     ]
    },
    {
     "name": "stderr",
     "output_type": "stream",
     "text": [
      "/anaconda3/lib/python3.6/site-packages/urllib3/connectionpool.py:858: InsecureRequestWarning: Unverified HTTPS request is being made. Adding certificate verification is strongly advised. See: https://urllib3.readthedocs.io/en/latest/advanced-usage.html#ssl-warnings\n",
      "  InsecureRequestWarning)\n"
     ]
    },
    {
     "name": "stdout",
     "output_type": "stream",
     "text": [
      "{'NAME': '儿童情绪管理与性格培养绘本(第8辑):不怕被嘲笑', 'SALE_PRICE': '￥8.80', 'CATEGORY': '幼儿启蒙', 'COMMENT_NUMBER': '255 条商品评论', 'PAGES': '34页', 'READERS': '3-6岁', 'FORMAT': '20', 'SALES_RANK': '亚马逊热销商品排名:图书商品里排第524名', 'SIZE': '22 x 20.6 x 0.4 cm', 'WEIGHT': '200 g', 'URL': 'https://www.amazon.cn/dp/B00F871Y4G/ref=zg_bs_660552051_5/457-8110344-6386461?_encoding=UTF8&psc=1&refRID=FVXPZ376G1DK17R7RX65'}\n",
      "Processing: https://www.amazon.cn/dp/B071KVF8HL/ref=zg_bs_660552051_6/457-8110344-6386461?_encoding=UTF8&psc=1&refRID=FVXPZ376G1DK17R7RX65\n"
     ]
    },
    {
     "name": "stderr",
     "output_type": "stream",
     "text": [
      "/anaconda3/lib/python3.6/site-packages/urllib3/connectionpool.py:858: InsecureRequestWarning: Unverified HTTPS request is being made. Adding certificate verification is strongly advised. See: https://urllib3.readthedocs.io/en/latest/advanced-usage.html#ssl-warnings\n",
      "  InsecureRequestWarning)\n"
     ]
    },
    {
     "name": "stdout",
     "output_type": "stream",
     "text": [
      "{'NAME': '父与子全集(郑渊洁推荐版•亲子共读全彩珍藏本)(附趣味贴纸)', 'SALE_PRICE': '￥30.50', 'CATEGORY': '少儿绘本与漫画', 'COMMENT_NUMBER': '94 条商品评论', 'PAGES': '224页', 'READERS': '3-6岁', 'FORMAT': '16', 'SALES_RANK': '亚马逊热销商品排名:图书商品里排第621名', 'SIZE': '23.6 x 17 x 1.6 cm', 'WEIGHT': '399 g', 'URL': 'https://www.amazon.cn/dp/B071KVF8HL/ref=zg_bs_660552051_6/457-8110344-6386461?_encoding=UTF8&psc=1&refRID=FVXPZ376G1DK17R7RX65'}\n",
      "Processing: https://www.amazon.cn/dp/B00B5NSXWI/ref=zg_bs_660552051_7/457-8110344-6386461?_encoding=UTF8&psc=1&refRID=FVXPZ376G1DK17R7RX65\n"
     ]
    },
    {
     "name": "stderr",
     "output_type": "stream",
     "text": [
      "/anaconda3/lib/python3.6/site-packages/urllib3/connectionpool.py:858: InsecureRequestWarning: Unverified HTTPS request is being made. Adding certificate verification is strongly advised. See: https://urllib3.readthedocs.io/en/latest/advanced-usage.html#ssl-warnings\n",
      "  InsecureRequestWarning)\n"
     ]
    },
    {
     "name": "stdout",
     "output_type": "stream",
     "text": [
      "{'NAME': '童立方·启迪孩子智慧的60个经典伊索寓言(五次凯迪克奖得主代表作)', 'SALE_PRICE': '￥30.20', 'CATEGORY': '儿童文学', 'COMMENT_NUMBER': '24 条商品评论', 'PAGES': '86页', 'READERS': '3-6岁', 'FORMAT': '16', 'SALES_RANK': '亚马逊热销商品排名:图书商品里排第673名', 'SIZE': '29.5 x 22.5 x 1.5 cm', 'WEIGHT': '699 g', 'URL': 'https://www.amazon.cn/dp/B00B5NSXWI/ref=zg_bs_660552051_7/457-8110344-6386461?_encoding=UTF8&psc=1&refRID=FVXPZ376G1DK17R7RX65'}\n",
      "Processing: https://www.amazon.cn/dp/B077ZSH7TH/ref=zg_bs_660552051_8/457-8110344-6386461?_encoding=UTF8&psc=1&refRID=FVXPZ376G1DK17R7RX65\n"
     ]
    },
    {
     "name": "stderr",
     "output_type": "stream",
     "text": [
      "/anaconda3/lib/python3.6/site-packages/urllib3/connectionpool.py:858: InsecureRequestWarning: Unverified HTTPS request is being made. Adding certificate verification is strongly advised. See: https://urllib3.readthedocs.io/en/latest/advanced-usage.html#ssl-warnings\n",
      "  InsecureRequestWarning)\n"
     ]
    },
    {
     "name": "stdout",
     "output_type": "stream",
     "text": [
      "local variable 'PAGES' referenced before assignment\n",
      "Processing: https://www.amazon.cn/dp/B07B16NSS1/ref=zg_bs_660552051_9/457-8110344-6386461?_encoding=UTF8&psc=1&refRID=FVXPZ376G1DK17R7RX65\n"
     ]
    },
    {
     "name": "stderr",
     "output_type": "stream",
     "text": [
      "/anaconda3/lib/python3.6/site-packages/urllib3/connectionpool.py:858: InsecureRequestWarning: Unverified HTTPS request is being made. Adding certificate verification is strongly advised. See: https://urllib3.readthedocs.io/en/latest/advanced-usage.html#ssl-warnings\n",
      "  InsecureRequestWarning)\n"
     ]
    },
    {
     "name": "stdout",
     "output_type": "stream",
     "text": [
      "{'NAME': '喂,亲爱的世界:鼠小弟的成长初体验绘本系列', 'SALE_PRICE': '￥122.88', 'CATEGORY': '少儿绘本与漫画', 'COMMENT_NUMBER': None, 'PAGES': '288页', 'READERS': '0-2岁', 'FORMAT': '24', 'SALES_RANK': '亚马逊热销商品排名:图书商品里排第716名', 'SIZE': '19.4 x 18.8 x 3.4 cm', 'WEIGHT': '1.38 Kg', 'URL': 'https://www.amazon.cn/dp/B07B16NSS1/ref=zg_bs_660552051_9/457-8110344-6386461?_encoding=UTF8&psc=1&refRID=FVXPZ376G1DK17R7RX65'}\n",
      "Processing: https://www.amazon.cn/dp/B07C9D8T3V/ref=zg_bs_660552051_10/457-8110344-6386461?_encoding=UTF8&psc=1&refRID=FVXPZ376G1DK17R7RX65\n"
     ]
    },
    {
     "name": "stderr",
     "output_type": "stream",
     "text": [
      "/anaconda3/lib/python3.6/site-packages/urllib3/connectionpool.py:858: InsecureRequestWarning: Unverified HTTPS request is being made. Adding certificate verification is strongly advised. See: https://urllib3.readthedocs.io/en/latest/advanced-usage.html#ssl-warnings\n",
      "  InsecureRequestWarning)\n"
     ]
    },
    {
     "name": "stdout",
     "output_type": "stream",
     "text": [
      "{'NAME': '思维导图(全彩少儿版)套装3本', 'SALE_PRICE': '￥102.86', 'CATEGORY': '励志与成长', 'COMMENT_NUMBER': '1 条商品评论', 'PAGES': '372页', 'READERS': '7-10岁', 'FORMAT': '16', 'SALES_RANK': '亚马逊热销商品排名:图书商品里排第744名', 'SIZE': '15 x 23 x 26 cm', 'WEIGHT': '998 g', 'URL': 'https://www.amazon.cn/dp/B07C9D8T3V/ref=zg_bs_660552051_10/457-8110344-6386461?_encoding=UTF8&psc=1&refRID=FVXPZ376G1DK17R7RX65'}\n",
      "Processing: https://www.amazon.cn/dp/B00UJF093O/ref=zg_bs_660552051_11/457-8110344-6386461?_encoding=UTF8&psc=1&refRID=FVXPZ376G1DK17R7RX65\n"
     ]
    },
    {
     "name": "stderr",
     "output_type": "stream",
     "text": [
      "/anaconda3/lib/python3.6/site-packages/urllib3/connectionpool.py:858: InsecureRequestWarning: Unverified HTTPS request is being made. Adding certificate verification is strongly advised. See: https://urllib3.readthedocs.io/en/latest/advanced-usage.html#ssl-warnings\n",
      "  InsecureRequestWarning)\n"
     ]
    },
    {
     "name": "stdout",
     "output_type": "stream",
     "text": [
      "local variable 'READERS' referenced before assignment\n",
      "Processing: https://www.amazon.cn/dp/B007E85RKO/ref=zg_bs_660552051_12/457-8110344-6386461?_encoding=UTF8&psc=1&refRID=FVXPZ376G1DK17R7RX65\n"
     ]
    },
    {
     "name": "stderr",
     "output_type": "stream",
     "text": [
      "/anaconda3/lib/python3.6/site-packages/urllib3/connectionpool.py:858: InsecureRequestWarning: Unverified HTTPS request is being made. Adding certificate verification is strongly advised. See: https://urllib3.readthedocs.io/en/latest/advanced-usage.html#ssl-warnings\n",
      "  InsecureRequestWarning)\n"
     ]
    },
    {
     "name": "stdout",
     "output_type": "stream",
     "text": [
      "{'NAME': '小家大爱绘本系列(套装共4册)', 'SALE_PRICE': '￥46.99', 'CATEGORY': '幼儿启蒙', 'COMMENT_NUMBER': '783 条商品评论', 'PAGES': '84页', 'READERS': '0-2岁', 'FORMAT': '12', 'SALES_RANK': '亚马逊热销商品排名:图书商品里排第807名', 'SIZE': '25.8 x 24.6 x 1.8 cm', 'WEIGHT': '798 g', 'URL': 'https://www.amazon.cn/dp/B007E85RKO/ref=zg_bs_660552051_12/457-8110344-6386461?_encoding=UTF8&psc=1&refRID=FVXPZ376G1DK17R7RX65'}\n",
      "Processing: https://www.amazon.cn/dp/B01MZ01TU8/ref=zg_bs_660552051_13/457-8110344-6386461?_encoding=UTF8&psc=1&refRID=FVXPZ376G1DK17R7RX65\n"
     ]
    },
    {
     "name": "stderr",
     "output_type": "stream",
     "text": [
      "/anaconda3/lib/python3.6/site-packages/urllib3/connectionpool.py:858: InsecureRequestWarning: Unverified HTTPS request is being made. Adding certificate verification is strongly advised. See: https://urllib3.readthedocs.io/en/latest/advanced-usage.html#ssl-warnings\n",
      "  InsecureRequestWarning)\n"
     ]
    },
    {
     "name": "stdout",
     "output_type": "stream",
     "text": [
      "{'NAME': '0-4岁幼儿认知小百科(中英双语进阶版)(套装共5册)', 'SALE_PRICE': '￥131.34', 'CATEGORY': '幼儿启蒙', 'COMMENT_NUMBER': '11 条商品评论', 'PAGES': '98页', 'READERS': '0-2岁', 'FORMAT': '24', 'SALES_RANK': '亚马逊热销商品排名:图书商品里排第879名', 'SIZE': '20.2 x 19.4 x 7 cm', 'WEIGHT': '1.7 Kg', 'URL': 'https://www.amazon.cn/dp/B01MZ01TU8/ref=zg_bs_660552051_13/457-8110344-6386461?_encoding=UTF8&psc=1&refRID=FVXPZ376G1DK17R7RX65'}\n",
      "Processing: https://www.amazon.cn/dp/B074WTYF2Q/ref=zg_bs_660552051_14/457-8110344-6386461?_encoding=UTF8&psc=1&refRID=FVXPZ376G1DK17R7RX65\n"
     ]
    },
    {
     "name": "stderr",
     "output_type": "stream",
     "text": [
      "/anaconda3/lib/python3.6/site-packages/urllib3/connectionpool.py:858: InsecureRequestWarning: Unverified HTTPS request is being made. Adding certificate verification is strongly advised. See: https://urllib3.readthedocs.io/en/latest/advanced-usage.html#ssl-warnings\n",
      "  InsecureRequestWarning)\n"
     ]
    },
    {
     "name": "stdout",
     "output_type": "stream",
     "text": [
      "{'NAME': '匆匆', 'SALE_PRICE': '￥17.64', 'CATEGORY': '儿童文学', 'COMMENT_NUMBER': '1 条商品评论', 'PAGES': '257页', 'READERS': '11-14岁', 'FORMAT': '32', 'SALES_RANK': '亚马逊热销商品排名:图书商品里排第935名', 'SIZE': '20.8 x 14.4 x 1.6 cm', 'WEIGHT': '299 g', 'URL': 'https://www.amazon.cn/dp/B074WTYF2Q/ref=zg_bs_660552051_14/457-8110344-6386461?_encoding=UTF8&psc=1&refRID=FVXPZ376G1DK17R7RX65'}\n",
      "Processing: https://www.amazon.cn/dp/B06X6FRXRF/ref=zg_bs_660552051_15/457-8110344-6386461?_encoding=UTF8&psc=1&refRID=FVXPZ376G1DK17R7RX65\n"
     ]
    },
    {
     "name": "stderr",
     "output_type": "stream",
     "text": [
      "/anaconda3/lib/python3.6/site-packages/urllib3/connectionpool.py:858: InsecureRequestWarning: Unverified HTTPS request is being made. Adding certificate verification is strongly advised. See: https://urllib3.readthedocs.io/en/latest/advanced-usage.html#ssl-warnings\n",
      "  InsecureRequestWarning)\n"
     ]
    },
    {
     "name": "stdout",
     "output_type": "stream",
     "text": [
      "{'NAME': '小鸡球球的大成长(套装共5册)', 'SALE_PRICE': '￥74.02', 'CATEGORY': '少儿绘本与漫画', 'COMMENT_NUMBER': '5 条商品评论', 'PAGES': '186页', 'READERS': '0-4岁', 'FORMAT': '24', 'SALES_RANK': '亚马逊热销商品排名:图书商品里排第939名', 'SIZE': '26.8 x 21 x 2.8 cm', 'WEIGHT': '1.08 Kg', 'URL': 'https://www.amazon.cn/dp/B06X6FRXRF/ref=zg_bs_660552051_15/457-8110344-6386461?_encoding=UTF8&psc=1&refRID=FVXPZ376G1DK17R7RX65'}\n",
      "Processing: https://www.amazon.cn/dp/B004UD7R4A/ref=zg_bs_660552051_16/457-8110344-6386461?_encoding=UTF8&psc=1&refRID=FVXPZ376G1DK17R7RX65\n"
     ]
    },
    {
     "name": "stderr",
     "output_type": "stream",
     "text": [
      "/anaconda3/lib/python3.6/site-packages/urllib3/connectionpool.py:858: InsecureRequestWarning: Unverified HTTPS request is being made. Adding certificate verification is strongly advised. See: https://urllib3.readthedocs.io/en/latest/advanced-usage.html#ssl-warnings\n",
      "  InsecureRequestWarning)\n"
     ]
    },
    {
     "name": "stdout",
     "output_type": "stream",
     "text": [
      "{'NAME': '做个有出息的女孩:女孩子不能不读的81个励志故事(第2版)', 'SALE_PRICE': '￥19.31', 'CATEGORY': '励志与成长', 'COMMENT_NUMBER': '1,012 条商品评论', 'PAGES': '246页', 'READERS': '11-14岁', 'FORMAT': '16', 'SALES_RANK': '亚马逊热销商品排名:图书商品里排第990名', 'SIZE': '24 x 17 x 2 cm', 'WEIGHT': '399 g', 'URL': 'https://www.amazon.cn/dp/B004UD7R4A/ref=zg_bs_660552051_16/457-8110344-6386461?_encoding=UTF8&psc=1&refRID=FVXPZ376G1DK17R7RX65'}\n",
      "Processing: https://www.amazon.cn/dp/B07CPK4SF4/ref=zg_bs_660552051_17/457-8110344-6386461?_encoding=UTF8&psc=1&refRID=FVXPZ376G1DK17R7RX65\n"
     ]
    },
    {
     "name": "stderr",
     "output_type": "stream",
     "text": [
      "/anaconda3/lib/python3.6/site-packages/urllib3/connectionpool.py:858: InsecureRequestWarning: Unverified HTTPS request is being made. Adding certificate verification is strongly advised. See: https://urllib3.readthedocs.io/en/latest/advanced-usage.html#ssl-warnings\n",
      "  InsecureRequestWarning)\n"
     ]
    },
    {
     "name": "stdout",
     "output_type": "stream",
     "text": [
      "local variable 'PAGES' referenced before assignment\n",
      "Processing: https://www.amazon.cn/dp/B004UD7R1I/ref=zg_bs_660552051_18/457-8110344-6386461?_encoding=UTF8&psc=1&refRID=FVXPZ376G1DK17R7RX65\n"
     ]
    },
    {
     "name": "stderr",
     "output_type": "stream",
     "text": [
      "/anaconda3/lib/python3.6/site-packages/urllib3/connectionpool.py:858: InsecureRequestWarning: Unverified HTTPS request is being made. Adding certificate verification is strongly advised. See: https://urllib3.readthedocs.io/en/latest/advanced-usage.html#ssl-warnings\n",
      "  InsecureRequestWarning)\n"
     ]
    },
    {
     "name": "stdout",
     "output_type": "stream",
     "text": [
      "{'NAME': '做个有出息的男孩:男孩子不能不读的81个励志故事(第2版)', 'SALE_PRICE': '￥19.00', 'CATEGORY': '励志与成长', 'COMMENT_NUMBER': '630 条商品评论', 'PAGES': '245页', 'READERS': '11-14岁', 'FORMAT': '16', 'SALES_RANK': '亚马逊热销商品排名:图书商品里排第1,087名', 'SIZE': '23.6 x 16.8 x 1.8 cm', 'WEIGHT': '399 g', 'URL': 'https://www.amazon.cn/dp/B004UD7R1I/ref=zg_bs_660552051_18/457-8110344-6386461?_encoding=UTF8&psc=1&refRID=FVXPZ376G1DK17R7RX65'}\n",
      "Processing: https://www.amazon.cn/dp/B07BF681DP/ref=zg_bs_660552051_19/457-8110344-6386461?_encoding=UTF8&psc=1&refRID=FVXPZ376G1DK17R7RX65\n"
     ]
    },
    {
     "name": "stderr",
     "output_type": "stream",
     "text": [
      "/anaconda3/lib/python3.6/site-packages/urllib3/connectionpool.py:858: InsecureRequestWarning: Unverified HTTPS request is being made. Adding certificate verification is strongly advised. See: https://urllib3.readthedocs.io/en/latest/advanced-usage.html#ssl-warnings\n",
      "  InsecureRequestWarning)\n"
     ]
    },
    {
     "name": "stdout",
     "output_type": "stream",
     "text": [
      "{'NAME': '成为了不起的自己:解决问题我能行(套装共20册)', 'SALE_PRICE': '￥178.46', 'CATEGORY': '儿童文学', 'COMMENT_NUMBER': '2 条商品评论', 'PAGES': '326页', 'READERS': '7-10岁', 'FORMAT': '16', 'SALES_RANK': '亚马逊热销商品排名:图书商品里排第1,109名', 'SIZE': '24.1 x 17 x 5.3 cm', 'WEIGHT': '1.34 Kg', 'URL': 'https://www.amazon.cn/dp/B07BF681DP/ref=zg_bs_660552051_19/457-8110344-6386461?_encoding=UTF8&psc=1&refRID=FVXPZ376G1DK17R7RX65'}\n",
      "Processing: https://www.amazon.cn/dp/B06X6FTDZX/ref=zg_bs_660552051_20/457-8110344-6386461?_encoding=UTF8&psc=1&refRID=FVXPZ376G1DK17R7RX65\n"
     ]
    },
    {
     "name": "stderr",
     "output_type": "stream",
     "text": [
      "/anaconda3/lib/python3.6/site-packages/urllib3/connectionpool.py:858: InsecureRequestWarning: Unverified HTTPS request is being made. Adding certificate verification is strongly advised. See: https://urllib3.readthedocs.io/en/latest/advanced-usage.html#ssl-warnings\n",
      "  InsecureRequestWarning)\n"
     ]
    },
    {
     "name": "stdout",
     "output_type": "stream",
     "text": [
      "local variable 'READERS' referenced before assignment\n",
      "Processing: https://www.amazon.cn/dp/B07B16NSS1/ref=zg_bs_tab_pd_bsnr_1/457-8110344-6386461?_encoding=UTF8&psc=1&refRID=FVXPZ376G1DK17R7RX65\n"
     ]
    },
    {
     "name": "stderr",
     "output_type": "stream",
     "text": [
      "/anaconda3/lib/python3.6/site-packages/urllib3/connectionpool.py:858: InsecureRequestWarning: Unverified HTTPS request is being made. Adding certificate verification is strongly advised. See: https://urllib3.readthedocs.io/en/latest/advanced-usage.html#ssl-warnings\n",
      "  InsecureRequestWarning)\n"
     ]
    },
    {
     "name": "stdout",
     "output_type": "stream",
     "text": [
      "{'NAME': '喂,亲爱的世界:鼠小弟的成长初体验绘本系列', 'SALE_PRICE': '￥122.88', 'CATEGORY': '少儿绘本与漫画', 'COMMENT_NUMBER': None, 'PAGES': '288页', 'READERS': '0-2岁', 'FORMAT': '24', 'SALES_RANK': '亚马逊热销商品排名:图书商品里排第716名', 'SIZE': '19.4 x 18.8 x 3.4 cm', 'WEIGHT': '1.38 Kg', 'URL': 'https://www.amazon.cn/dp/B07B16NSS1/ref=zg_bs_tab_pd_bsnr_1/457-8110344-6386461?_encoding=UTF8&psc=1&refRID=FVXPZ376G1DK17R7RX65'}\n",
      "Processing: https://www.amazon.cn/dp/B07C9D8T3V/ref=zg_bs_tab_pd_bsnr_2/457-8110344-6386461?_encoding=UTF8&psc=1&refRID=FVXPZ376G1DK17R7RX65\n"
     ]
    },
    {
     "name": "stderr",
     "output_type": "stream",
     "text": [
      "/anaconda3/lib/python3.6/site-packages/urllib3/connectionpool.py:858: InsecureRequestWarning: Unverified HTTPS request is being made. Adding certificate verification is strongly advised. See: https://urllib3.readthedocs.io/en/latest/advanced-usage.html#ssl-warnings\n",
      "  InsecureRequestWarning)\n"
     ]
    },
    {
     "name": "stdout",
     "output_type": "stream",
     "text": [
      "{'NAME': '思维导图(全彩少儿版)套装3本', 'SALE_PRICE': '￥102.86', 'CATEGORY': '励志与成长', 'COMMENT_NUMBER': '1 条商品评论', 'PAGES': '372页', 'READERS': '7-10岁', 'FORMAT': '16', 'SALES_RANK': '亚马逊热销商品排名:图书商品里排第744名', 'SIZE': '15 x 23 x 26 cm', 'WEIGHT': '998 g', 'URL': 'https://www.amazon.cn/dp/B07C9D8T3V/ref=zg_bs_tab_pd_bsnr_2/457-8110344-6386461?_encoding=UTF8&psc=1&refRID=FVXPZ376G1DK17R7RX65'}\n",
      "Processing: https://www.amazon.cn/dp/B07CPK4SF4/ref=zg_bs_tab_pd_bsnr_3/457-8110344-6386461?_encoding=UTF8&psc=1&refRID=FVXPZ376G1DK17R7RX65\n"
     ]
    },
    {
     "name": "stderr",
     "output_type": "stream",
     "text": [
      "/anaconda3/lib/python3.6/site-packages/urllib3/connectionpool.py:858: InsecureRequestWarning: Unverified HTTPS request is being made. Adding certificate verification is strongly advised. See: https://urllib3.readthedocs.io/en/latest/advanced-usage.html#ssl-warnings\n",
      "  InsecureRequestWarning)\n"
     ]
    },
    {
     "name": "stdout",
     "output_type": "stream",
     "text": [
      "local variable 'PAGES' referenced before assignment\n",
      "Processing: https://www.amazon.cn/dp/B0083DP0CY/ref=zg_bs_658736051_1/459-4403857-4160100?_encoding=UTF8&psc=1&refRID=EGS0D3K3T3454SC8SQR8\n"
     ]
    },
    {
     "name": "stderr",
     "output_type": "stream",
     "text": [
      "/anaconda3/lib/python3.6/site-packages/urllib3/connectionpool.py:858: InsecureRequestWarning: Unverified HTTPS request is being made. Adding certificate verification is strongly advised. See: https://urllib3.readthedocs.io/en/latest/advanced-usage.html#ssl-warnings\n",
      "  InsecureRequestWarning)\n"
     ]
    },
    {
     "name": "stdout",
     "output_type": "stream",
     "text": [
      "{'NAME': '我的第一本专注力训练书（专注的孩子更聪明）', 'SALE_PRICE': '￥29.70', 'CATEGORY': '幼儿启蒙', 'COMMENT_NUMBER': '4,693 条商品评论', 'PAGES': '128页', 'READERS': '3-6岁', 'FORMAT': '16', 'SALES_RANK': '亚马逊热销商品排名:图书商品里排第17名', 'SIZE': '29 x 21 x 1 cm', 'WEIGHT': '540 g', 'URL': 'https://www.amazon.cn/dp/B0083DP0CY/ref=zg_bs_658736051_1/459-4403857-4160100?_encoding=UTF8&psc=1&refRID=EGS0D3K3T3454SC8SQR8'}\n",
      "Processing: https://www.amazon.cn/dp/B01E1G75BK/ref=zg_bs_658736051_2/459-4403857-4160100?_encoding=UTF8&psc=1&refRID=EGS0D3K3T3454SC8SQR8\n"
     ]
    },
    {
     "name": "stderr",
     "output_type": "stream",
     "text": [
      "/anaconda3/lib/python3.6/site-packages/urllib3/connectionpool.py:858: InsecureRequestWarning: Unverified HTTPS request is being made. Adding certificate verification is strongly advised. See: https://urllib3.readthedocs.io/en/latest/advanced-usage.html#ssl-warnings\n",
      "  InsecureRequestWarning)\n"
     ]
    },
    {
     "name": "stdout",
     "output_type": "stream",
     "text": [
      "{'NAME': '游戏力(套装共2册)', 'SALE_PRICE': '￥69.50', 'CATEGORY': '智力游戏', 'COMMENT_NUMBER': '18 条商品评论', 'PAGES': '543页', 'READERS': '3-6岁', 'FORMAT': '16', 'SALES_RANK': '亚马逊热销商品排名:图书商品里排第210名', 'SIZE': '24 x 17 x 4 cm', 'WEIGHT': '358 g', 'URL': 'https://www.amazon.cn/dp/B01E1G75BK/ref=zg_bs_658736051_2/459-4403857-4160100?_encoding=UTF8&psc=1&refRID=EGS0D3K3T3454SC8SQR8'}\n",
      "Processing: https://www.amazon.cn/dp/B07CPF7N9S/ref=zg_bs_658736051_3/459-4403857-4160100?_encoding=UTF8&psc=1&refRID=EGS0D3K3T3454SC8SQR8\n"
     ]
    },
    {
     "name": "stderr",
     "output_type": "stream",
     "text": [
      "/anaconda3/lib/python3.6/site-packages/urllib3/connectionpool.py:858: InsecureRequestWarning: Unverified HTTPS request is being made. Adding certificate verification is strongly advised. See: https://urllib3.readthedocs.io/en/latest/advanced-usage.html#ssl-warnings\n",
      "  InsecureRequestWarning)\n"
     ]
    },
    {
     "name": "stdout",
     "output_type": "stream",
     "text": [
      "{'NAME': '你一定找不到(套装共4册)', 'SALE_PRICE': '￥119.40', 'CATEGORY': '智力游戏', 'COMMENT_NUMBER': None, 'PAGES': '96页', 'READERS': '3-6岁', 'FORMAT': '16', 'SALES_RANK': '亚马逊热销商品排名:图书商品里排第368名', 'SIZE': '23.4 x 18 x 4 cm', 'WEIGHT': '1.2 Kg', 'URL': 'https://www.amazon.cn/dp/B07CPF7N9S/ref=zg_bs_658736051_3/459-4403857-4160100?_encoding=UTF8&psc=1&refRID=EGS0D3K3T3454SC8SQR8'}\n",
      "Processing: https://www.amazon.cn/dp/B075KZKKTC/ref=zg_bs_658736051_4/459-4403857-4160100?_encoding=UTF8&psc=1&refRID=EGS0D3K3T3454SC8SQR8\n"
     ]
    },
    {
     "name": "stderr",
     "output_type": "stream",
     "text": [
      "/anaconda3/lib/python3.6/site-packages/urllib3/connectionpool.py:858: InsecureRequestWarning: Unverified HTTPS request is being made. Adding certificate verification is strongly advised. See: https://urllib3.readthedocs.io/en/latest/advanced-usage.html#ssl-warnings\n",
      "  InsecureRequestWarning)\n"
     ]
    },
    {
     "name": "stdout",
     "output_type": "stream",
     "text": [
      "{'NAME': '超好玩的立体翻翻书:车辆动起来+船舶动起来(套装共2册)', 'SALE_PRICE': '￥300.00', 'CATEGORY': '智力游戏', 'COMMENT_NUMBER': '24 条商品评论', 'PAGES': '50页', 'READERS': '3-6岁', 'FORMAT': '8', 'SALES_RANK': '亚马逊热销商品排名:图书商品里排第386名', 'SIZE': '34 x 26.9 x 6.9 cm', 'WEIGHT': '3.4 Kg', 'URL': 'https://www.amazon.cn/dp/B075KZKKTC/ref=zg_bs_658736051_4/459-4403857-4160100?_encoding=UTF8&psc=1&refRID=EGS0D3K3T3454SC8SQR8'}\n",
      "Processing: https://www.amazon.cn/dp/B0719JBX79/ref=zg_bs_658736051_5/459-4403857-4160100?_encoding=UTF8&psc=1&refRID=EGS0D3K3T3454SC8SQR8\n"
     ]
    },
    {
     "name": "stderr",
     "output_type": "stream",
     "text": [
      "/anaconda3/lib/python3.6/site-packages/urllib3/connectionpool.py:858: InsecureRequestWarning: Unverified HTTPS request is being made. Adding certificate verification is strongly advised. See: https://urllib3.readthedocs.io/en/latest/advanced-usage.html#ssl-warnings\n",
      "  InsecureRequestWarning)\n"
     ]
    },
    {
     "name": "stdout",
     "output_type": "stream",
     "text": [
      "{'NAME': '小手翻翻:给2-4岁孩子的纸上戏剧', 'SALE_PRICE': '￥186.80', 'CATEGORY': '智力游戏', 'COMMENT_NUMBER': '6 条商品评论', 'PAGES': '1280页', 'READERS': '2-4岁', 'FORMAT': '64', 'SALES_RANK': '亚马逊热销商品排名:图书商品里排第401名', 'SIZE': '31.4 x 20 x 8.2 cm', 'WEIGHT': '1.58 Kg', 'URL': 'https://www.amazon.cn/dp/B0719JBX79/ref=zg_bs_658736051_5/459-4403857-4160100?_encoding=UTF8&psc=1&refRID=EGS0D3K3T3454SC8SQR8'}\n",
      "Processing: https://www.amazon.cn/dp/B009HIT5B6/ref=zg_bs_658736051_6/459-4403857-4160100?_encoding=UTF8&psc=1&refRID=EGS0D3K3T3454SC8SQR8\n"
     ]
    },
    {
     "name": "stderr",
     "output_type": "stream",
     "text": [
      "/anaconda3/lib/python3.6/site-packages/urllib3/connectionpool.py:858: InsecureRequestWarning: Unverified HTTPS request is being made. Adding certificate verification is strongly advised. See: https://urllib3.readthedocs.io/en/latest/advanced-usage.html#ssl-warnings\n",
      "  InsecureRequestWarning)\n"
     ]
    },
    {
     "name": "stdout",
     "output_type": "stream",
     "text": [
      "{'NAME': '童立方·宝宝的第一本躲猫猫游戏书:猜猜我是谁？(0-3岁适用)', 'SALE_PRICE': '￥14.40', 'CATEGORY': '幼儿启蒙', 'COMMENT_NUMBER': '1,389 条商品评论', 'PAGES': '21页', 'READERS': '0-2岁', 'FORMAT': '48', 'SALES_RANK': '亚马逊热销商品排名:图书商品里排第405名', 'SIZE': '13 x 12.8 x 1.8 cm', 'WEIGHT': '141 g', 'URL': 'https://www.amazon.cn/dp/B009HIT5B6/ref=zg_bs_658736051_6/459-4403857-4160100?_encoding=UTF8&psc=1&refRID=EGS0D3K3T3454SC8SQR8'}\n",
      "Processing: https://www.amazon.cn/dp/B01ARP0NE0/ref=zg_bs_658736051_7/459-4403857-4160100?_encoding=UTF8&psc=1&refRID=EGS0D3K3T3454SC8SQR8\n"
     ]
    },
    {
     "name": "stderr",
     "output_type": "stream",
     "text": [
      "/anaconda3/lib/python3.6/site-packages/urllib3/connectionpool.py:858: InsecureRequestWarning: Unverified HTTPS request is being made. Adding certificate verification is strongly advised. See: https://urllib3.readthedocs.io/en/latest/advanced-usage.html#ssl-warnings\n",
      "  InsecureRequestWarning)\n"
     ]
    },
    {
     "name": "stdout",
     "output_type": "stream",
     "text": [
      "{'NAME': '米小圈脑筋急转弯(套装共4册)', 'SALE_PRICE': '￥45.40', 'CATEGORY': '儿童文学', 'COMMENT_NUMBER': '12 条商品评论', 'PAGES': '576页', 'READERS': '3-6岁', 'FORMAT': '24', 'SALES_RANK': '亚马逊热销商品排名:图书商品里排第418名', 'SIZE': '16.8 x 15.2 x 4 cm', 'WEIGHT': '662 g', 'URL': 'https://www.amazon.cn/dp/B01ARP0NE0/ref=zg_bs_658736051_7/459-4403857-4160100?_encoding=UTF8&psc=1&refRID=EGS0D3K3T3454SC8SQR8'}\n",
      "Processing: https://www.amazon.cn/dp/B076DQZ3SY/ref=zg_bs_658736051_8/459-4403857-4160100?_encoding=UTF8&psc=1&refRID=EGS0D3K3T3454SC8SQR8\n"
     ]
    },
    {
     "name": "stderr",
     "output_type": "stream",
     "text": [
      "/anaconda3/lib/python3.6/site-packages/urllib3/connectionpool.py:858: InsecureRequestWarning: Unverified HTTPS request is being made. Adding certificate verification is strongly advised. See: https://urllib3.readthedocs.io/en/latest/advanced-usage.html#ssl-warnings\n",
      "  InsecureRequestWarning)\n"
     ]
    },
    {
     "name": "stdout",
     "output_type": "stream",
     "text": [
      "{'NAME': '专注力和空间感训练大书:英国经典益智互动绘本(套装共2册)', 'SALE_PRICE': '￥94.08', 'CATEGORY': '智力游戏', 'COMMENT_NUMBER': '16 条商品评论', 'PAGES': '64页', 'READERS': '3-6岁', 'FORMAT': '12', 'SALES_RANK': '亚马逊热销商品排名:图书商品里排第425名', 'SIZE': '30 x 30 x 1.4 cm', 'WEIGHT': '1.1 Kg', 'URL': 'https://www.amazon.cn/dp/B076DQZ3SY/ref=zg_bs_658736051_8/459-4403857-4160100?_encoding=UTF8&psc=1&refRID=EGS0D3K3T3454SC8SQR8'}\n",
      "Processing: https://www.amazon.cn/dp/B00SMLR1S8/ref=zg_bs_658736051_9/459-4403857-4160100?_encoding=UTF8&psc=1&refRID=EGS0D3K3T3454SC8SQR8\n"
     ]
    },
    {
     "name": "stderr",
     "output_type": "stream",
     "text": [
      "/anaconda3/lib/python3.6/site-packages/urllib3/connectionpool.py:858: InsecureRequestWarning: Unverified HTTPS request is being made. Adding certificate verification is strongly advised. See: https://urllib3.readthedocs.io/en/latest/advanced-usage.html#ssl-warnings\n",
      "  InsecureRequestWarning)\n"
     ]
    },
    {
     "name": "stdout",
     "output_type": "stream",
     "text": [
      "{'NAME': '童立方·宝宝的第一本躲猫猫游戏书:猜猜我是谁？+我长大了+准备好了吗(0-3岁适用)(套装共3册)', 'SALE_PRICE': '￥52.50', 'CATEGORY': '智力游戏', 'COMMENT_NUMBER': '102 条商品评论', 'PAGES': '72页', 'READERS': '0-2岁', 'FORMAT': '48', 'SALES_RANK': '亚马逊热销商品排名:图书商品里排第580名', 'SIZE': '12.7 x 12.7 x 4.5 cm', 'WEIGHT': '440 g', 'URL': 'https://www.amazon.cn/dp/B00SMLR1S8/ref=zg_bs_658736051_9/459-4403857-4160100?_encoding=UTF8&psc=1&refRID=EGS0D3K3T3454SC8SQR8'}\n",
      "Processing: https://www.amazon.cn/dp/B00RRDKWN8/ref=zg_bs_658736051_10/459-4403857-4160100?_encoding=UTF8&psc=1&refRID=EGS0D3K3T3454SC8SQR8\n"
     ]
    },
    {
     "name": "stderr",
     "output_type": "stream",
     "text": [
      "/anaconda3/lib/python3.6/site-packages/urllib3/connectionpool.py:858: InsecureRequestWarning: Unverified HTTPS request is being made. Adding certificate verification is strongly advised. See: https://urllib3.readthedocs.io/en/latest/advanced-usage.html#ssl-warnings\n",
      "  InsecureRequestWarning)\n"
     ]
    },
    {
     "name": "stdout",
     "output_type": "stream",
     "text": [
      "{'NAME': '情景洞洞认知书:就是找不到系列(套装共3册)', 'SALE_PRICE': '￥88.10', 'CATEGORY': '幼儿启蒙', 'COMMENT_NUMBER': '810 条商品评论', 'PAGES': '72页', 'READERS': '2-6岁', 'FORMAT': '8', 'SALES_RANK': '亚马逊热销商品排名:图书商品里排第620名', 'SIZE': '32 x 24 x 4 cm', 'WEIGHT': '1.72 Kg', 'URL': 'https://www.amazon.cn/dp/B00RRDKWN8/ref=zg_bs_658736051_10/459-4403857-4160100?_encoding=UTF8&psc=1&refRID=EGS0D3K3T3454SC8SQR8'}\n",
      "Processing: https://www.amazon.cn/dp/B00OLCRNHG/ref=zg_bs_658736051_11/459-4403857-4160100?_encoding=UTF8&psc=1&refRID=EGS0D3K3T3454SC8SQR8\n"
     ]
    },
    {
     "name": "stderr",
     "output_type": "stream",
     "text": [
      "/anaconda3/lib/python3.6/site-packages/urllib3/connectionpool.py:858: InsecureRequestWarning: Unverified HTTPS request is being made. Adding certificate verification is strongly advised. See: https://urllib3.readthedocs.io/en/latest/advanced-usage.html#ssl-warnings\n",
      "  InsecureRequestWarning)\n"
     ]
    },
    {
     "name": "stdout",
     "output_type": "stream",
     "text": [
      "{'NAME': '儿童创意小手工3D益智纸立方(套装共3册)(附45个3D立体手工模型)', 'SALE_PRICE': '￥35.70', 'CATEGORY': '智力游戏', 'COMMENT_NUMBER': '197 条商品评论', 'PAGES': '54页', 'READERS': '7-10岁', 'FORMAT': '12', 'SALES_RANK': '亚马逊热销商品排名:图书商品里排第761名', 'SIZE': '28.2 x 27.4 x 2.4 cm', 'WEIGHT': '1.26 Kg', 'URL': 'https://www.amazon.cn/dp/B00OLCRNHG/ref=zg_bs_658736051_11/459-4403857-4160100?_encoding=UTF8&psc=1&refRID=EGS0D3K3T3454SC8SQR8'}\n",
      "Processing: https://www.amazon.cn/dp/B01ASLP186/ref=zg_bs_658736051_12/459-4403857-4160100?_encoding=UTF8&psc=1&refRID=EGS0D3K3T3454SC8SQR8\n"
     ]
    },
    {
     "name": "stderr",
     "output_type": "stream",
     "text": [
      "/anaconda3/lib/python3.6/site-packages/urllib3/connectionpool.py:858: InsecureRequestWarning: Unverified HTTPS request is being made. Adding certificate verification is strongly advised. See: https://urllib3.readthedocs.io/en/latest/advanced-usage.html#ssl-warnings\n",
      "  InsecureRequestWarning)\n"
     ]
    },
    {
     "name": "stdout",
     "output_type": "stream",
     "text": [
      "{'NAME': '美国金宝贝早教婴幼儿游戏(0-3岁)', 'SALE_PRICE': '￥53.66', 'CATEGORY': '幼儿启蒙', 'COMMENT_NUMBER': '16 条商品评论', 'PAGES': '360页', 'READERS': '0-2岁', 'FORMAT': '20', 'SALES_RANK': '亚马逊热销商品排名:图书商品里排第844名', 'SIZE': '20.4 x 18.6 x 2.4 cm', 'WEIGHT': '921 g', 'URL': 'https://www.amazon.cn/dp/B01ASLP186/ref=zg_bs_658736051_12/459-4403857-4160100?_encoding=UTF8&psc=1&refRID=EGS0D3K3T3454SC8SQR8'}\n",
      "Processing: https://www.amazon.cn/dp/B00KY4UWFK/ref=zg_bs_658736051_13/459-4403857-4160100?_encoding=UTF8&psc=1&refRID=EGS0D3K3T3454SC8SQR8\n"
     ]
    },
    {
     "name": "stderr",
     "output_type": "stream",
     "text": [
      "/anaconda3/lib/python3.6/site-packages/urllib3/connectionpool.py:858: InsecureRequestWarning: Unverified HTTPS request is being made. Adding certificate verification is strongly advised. See: https://urllib3.readthedocs.io/en/latest/advanced-usage.html#ssl-warnings\n",
      "  InsecureRequestWarning)\n"
     ]
    },
    {
     "name": "stdout",
     "output_type": "stream",
     "text": [
      "local variable 'READERS' referenced before assignment\n",
      "Processing: https://www.amazon.cn/dp/B06XJX8CV2/ref=zg_bs_658736051_14/459-4403857-4160100?_encoding=UTF8&psc=1&refRID=EGS0D3K3T3454SC8SQR8\n"
     ]
    },
    {
     "name": "stderr",
     "output_type": "stream",
     "text": [
      "/anaconda3/lib/python3.6/site-packages/urllib3/connectionpool.py:858: InsecureRequestWarning: Unverified HTTPS request is being made. Adding certificate verification is strongly advised. See: https://urllib3.readthedocs.io/en/latest/advanced-usage.html#ssl-warnings\n",
      "  InsecureRequestWarning)\n"
     ]
    },
    {
     "name": "stdout",
     "output_type": "stream",
     "text": [
      "{'NAME': 'DK机械运转的秘密', 'SALE_PRICE': '￥80.00', 'CATEGORY': '科普百科', 'COMMENT_NUMBER': '29 条商品评论', 'PAGES': '32页', 'READERS': '7-10岁', 'FORMAT': '16', 'SALES_RANK': '亚马逊热销商品排名:图书商品里排第896名', 'SIZE': '29 x 21.8 x 3.4 cm', 'WEIGHT': '862 g', 'URL': 'https://www.amazon.cn/dp/B06XJX8CV2/ref=zg_bs_658736051_14/459-4403857-4160100?_encoding=UTF8&psc=1&refRID=EGS0D3K3T3454SC8SQR8'}\n",
      "Processing: https://www.amazon.cn/dp/B00K9YU24Q/ref=zg_bs_658736051_15/459-4403857-4160100?_encoding=UTF8&psc=1&refRID=EGS0D3K3T3454SC8SQR8\n"
     ]
    },
    {
     "name": "stderr",
     "output_type": "stream",
     "text": [
      "/anaconda3/lib/python3.6/site-packages/urllib3/connectionpool.py:858: InsecureRequestWarning: Unverified HTTPS request is being made. Adding certificate verification is strongly advised. See: https://urllib3.readthedocs.io/en/latest/advanced-usage.html#ssl-warnings\n",
      "  InsecureRequestWarning)\n"
     ]
    },
    {
     "name": "stdout",
     "output_type": "stream",
     "text": [
      "{'NAME': '童立方·宝宝的第一本躲猫猫游戏书:猜猜我是谁+猜猜动物园(0-3岁适用)(套装共2册)', 'SALE_PRICE': '￥30.00', 'CATEGORY': '幼儿启蒙', 'COMMENT_NUMBER': '82 条商品评论', 'PAGES': '40页', 'READERS': '0-2岁', 'FORMAT': '48', 'SALES_RANK': '亚马逊热销商品排名:图书商品里排第948名', 'SIZE': '12.8 x 12.8 x 2.8 cm', 'WEIGHT': '299 g', 'URL': 'https://www.amazon.cn/dp/B00K9YU24Q/ref=zg_bs_658736051_15/459-4403857-4160100?_encoding=UTF8&psc=1&refRID=EGS0D3K3T3454SC8SQR8'}\n",
      "Processing: https://www.amazon.cn/dp/B0788WXTF9/ref=zg_bs_658736051_16/459-4403857-4160100?_encoding=UTF8&psc=1&refRID=EGS0D3K3T3454SC8SQR8\n"
     ]
    },
    {
     "name": "stderr",
     "output_type": "stream",
     "text": [
      "/anaconda3/lib/python3.6/site-packages/urllib3/connectionpool.py:858: InsecureRequestWarning: Unverified HTTPS request is being made. Adding certificate verification is strongly advised. See: https://urllib3.readthedocs.io/en/latest/advanced-usage.html#ssl-warnings\n",
      "  InsecureRequestWarning)\n"
     ]
    },
    {
     "name": "stdout",
     "output_type": "stream",
     "text": [
      "{'NAME': '超级观察力科普游戏书系列(套装共4册)', 'SALE_PRICE': '￥63.59', 'CATEGORY': '少儿绘本与漫画', 'COMMENT_NUMBER': '9 条商品评论', 'PAGES': '112页', 'READERS': '3-6岁', 'FORMAT': '16', 'SALES_RANK': '亚马逊热销商品排名:图书商品里排第959名', 'SIZE': '29 x 23.4 x 1.6 cm', 'WEIGHT': '739 g', 'URL': 'https://www.amazon.cn/dp/B0788WXTF9/ref=zg_bs_658736051_16/459-4403857-4160100?_encoding=UTF8&psc=1&refRID=EGS0D3K3T3454SC8SQR8'}\n",
      "Processing: https://www.amazon.cn/dp/B076VY8YZX/ref=zg_bs_658736051_17/459-4403857-4160100?_encoding=UTF8&psc=1&refRID=EGS0D3K3T3454SC8SQR8\n"
     ]
    },
    {
     "name": "stderr",
     "output_type": "stream",
     "text": [
      "/anaconda3/lib/python3.6/site-packages/urllib3/connectionpool.py:858: InsecureRequestWarning: Unverified HTTPS request is being made. Adding certificate verification is strongly advised. See: https://urllib3.readthedocs.io/en/latest/advanced-usage.html#ssl-warnings\n",
      "  InsecureRequestWarning)\n"
     ]
    },
    {
     "name": "stdout",
     "output_type": "stream",
     "text": [
      "{'NAME': '童立方·宝宝的第一本躲猫猫游戏书:猜猜我是谁系列(套装共7册)', 'SALE_PRICE': '￥127.50', 'CATEGORY': '幼儿启蒙', 'COMMENT_NUMBER': '7 条商品评论', 'PAGES': '140页', 'READERS': '0-2岁', 'FORMAT': '48', 'SALES_RANK': '亚马逊热销商品排名:图书商品里排第1,027名', 'SIZE': '13.2 x 13 x 9.8 cm', 'WEIGHT': '1.02 Kg', 'URL': 'https://www.amazon.cn/dp/B076VY8YZX/ref=zg_bs_658736051_17/459-4403857-4160100?_encoding=UTF8&psc=1&refRID=EGS0D3K3T3454SC8SQR8'}\n",
      "Processing: https://www.amazon.cn/dp/B00LM64IEK/ref=zg_bs_658736051_18/459-4403857-4160100?_encoding=UTF8&psc=1&refRID=EGS0D3K3T3454SC8SQR8\n"
     ]
    },
    {
     "name": "stderr",
     "output_type": "stream",
     "text": [
      "/anaconda3/lib/python3.6/site-packages/urllib3/connectionpool.py:858: InsecureRequestWarning: Unverified HTTPS request is being made. Adding certificate verification is strongly advised. See: https://urllib3.readthedocs.io/en/latest/advanced-usage.html#ssl-warnings\n",
      "  InsecureRequestWarning)\n"
     ]
    },
    {
     "name": "stdout",
     "output_type": "stream",
     "text": [
      "{'NAME': '综合能力开发趣味贴纸书(3-6岁)(套装共6册)', 'SALE_PRICE': '￥28.81', 'CATEGORY': '智力游戏', 'COMMENT_NUMBER': '540 条商品评论', 'PAGES': '180页', 'READERS': '3-6岁', 'FORMAT': '20', 'SALES_RANK': '亚马逊热销商品排名:图书商品里排第1,228名', 'SIZE': '23 x 21 x 1.6 cm', 'WEIGHT': '721 g', 'URL': 'https://www.amazon.cn/dp/B00LM64IEK/ref=zg_bs_658736051_18/459-4403857-4160100?_encoding=UTF8&psc=1&refRID=EGS0D3K3T3454SC8SQR8'}\n",
      "Processing: https://www.amazon.cn/dp/B06Y3PQKCQ/ref=zg_bs_658736051_19/459-4403857-4160100?_encoding=UTF8&psc=1&refRID=EGS0D3K3T3454SC8SQR8\n"
     ]
    },
    {
     "name": "stderr",
     "output_type": "stream",
     "text": [
      "/anaconda3/lib/python3.6/site-packages/urllib3/connectionpool.py:858: InsecureRequestWarning: Unverified HTTPS request is being made. Adding certificate verification is strongly advised. See: https://urllib3.readthedocs.io/en/latest/advanced-usage.html#ssl-warnings\n",
      "  InsecureRequestWarning)\n"
     ]
    },
    {
     "name": "stdout",
     "output_type": "stream",
     "text": [
      "{'NAME': '全脑贴贴画:工程车辆+交通工具(套装共2册)(封面随机)', 'SALE_PRICE': '￥25.74', 'CATEGORY': '智力游戏', 'COMMENT_NUMBER': '39 条商品评论', 'PAGES': '32页', 'READERS': '3-6岁', 'FORMAT': '16', 'SALES_RANK': '亚马逊热销商品排名:图书商品里排第1,230名', 'SIZE': '26.5 x 22 x 0.5 cm', 'WEIGHT': '259 g', 'URL': 'https://www.amazon.cn/dp/B06Y3PQKCQ/ref=zg_bs_658736051_19/459-4403857-4160100?_encoding=UTF8&psc=1&refRID=EGS0D3K3T3454SC8SQR8'}\n",
      "Processing: https://www.amazon.cn/dp/B01MFDEMM1/ref=zg_bs_658736051_20/459-4403857-4160100?_encoding=UTF8&psc=1&refRID=EGS0D3K3T3454SC8SQR8\n"
     ]
    },
    {
     "name": "stderr",
     "output_type": "stream",
     "text": [
      "/anaconda3/lib/python3.6/site-packages/urllib3/connectionpool.py:858: InsecureRequestWarning: Unverified HTTPS request is being made. Adding certificate verification is strongly advised. See: https://urllib3.readthedocs.io/en/latest/advanced-usage.html#ssl-warnings\n",
      "  InsecureRequestWarning)\n"
     ]
    },
    {
     "name": "stdout",
     "output_type": "stream",
     "text": [
      "{'NAME': '小猪佩奇趣味贴纸游戏书(套装共8册)', 'SALE_PRICE': '￥64.60', 'CATEGORY': '智力游戏', 'COMMENT_NUMBER': '19 条商品评论', 'PAGES': '128页', 'READERS': '3-6岁', 'FORMAT': '16', 'SALES_RANK': '亚马逊热销商品排名:图书商品里排第1,252名', 'SIZE': '28.2 x 21 x 2.4 cm', 'WEIGHT': '1.08 Kg', 'URL': 'https://www.amazon.cn/dp/B01MFDEMM1/ref=zg_bs_658736051_20/459-4403857-4160100?_encoding=UTF8&psc=1&refRID=EGS0D3K3T3454SC8SQR8'}\n",
      "Processing: https://www.amazon.cn/dp/B07CPF7N9S/ref=zg_bs_tab_pd_bsnr_1/459-4403857-4160100?_encoding=UTF8&psc=1&refRID=EGS0D3K3T3454SC8SQR8\n"
     ]
    },
    {
     "name": "stderr",
     "output_type": "stream",
     "text": [
      "/anaconda3/lib/python3.6/site-packages/urllib3/connectionpool.py:858: InsecureRequestWarning: Unverified HTTPS request is being made. Adding certificate verification is strongly advised. See: https://urllib3.readthedocs.io/en/latest/advanced-usage.html#ssl-warnings\n",
      "  InsecureRequestWarning)\n"
     ]
    },
    {
     "name": "stdout",
     "output_type": "stream",
     "text": [
      "{'NAME': '你一定找不到(套装共4册)', 'SALE_PRICE': '￥119.40', 'CATEGORY': '智力游戏', 'COMMENT_NUMBER': None, 'PAGES': '96页', 'READERS': '3-6岁', 'FORMAT': '16', 'SALES_RANK': '亚马逊热销商品排名:图书商品里排第368名', 'SIZE': '23.4 x 18 x 4 cm', 'WEIGHT': '1.2 Kg', 'URL': 'https://www.amazon.cn/dp/B07CPF7N9S/ref=zg_bs_tab_pd_bsnr_1/459-4403857-4160100?_encoding=UTF8&psc=1&refRID=EGS0D3K3T3454SC8SQR8'}\n",
      "Processing: https://www.amazon.cn/dp/B07C54112N/ref=zg_bs_tab_pd_bsnr_2/459-4403857-4160100?_encoding=UTF8&psc=1&refRID=EGS0D3K3T3454SC8SQR8\n"
     ]
    },
    {
     "name": "stderr",
     "output_type": "stream",
     "text": [
      "/anaconda3/lib/python3.6/site-packages/urllib3/connectionpool.py:858: InsecureRequestWarning: Unverified HTTPS request is being made. Adding certificate verification is strongly advised. See: https://urllib3.readthedocs.io/en/latest/advanced-usage.html#ssl-warnings\n",
      "  InsecureRequestWarning)\n"
     ]
    },
    {
     "name": "stdout",
     "output_type": "stream",
     "text": [
      "{'NAME': '游戏是孩子的功课:幻想游戏的重要性', 'SALE_PRICE': '￥26.00', 'CATEGORY': '智力游戏', 'COMMENT_NUMBER': None, 'PAGES': '192页', 'READERS': '3-6岁', 'FORMAT': '32', 'SALES_RANK': '亚马逊热销商品排名:图书商品里排第9,932名', 'SIZE': '20.4 x 14.2 x 1.4 cm', 'WEIGHT': '259 g', 'URL': 'https://www.amazon.cn/dp/B07C54112N/ref=zg_bs_tab_pd_bsnr_2/459-4403857-4160100?_encoding=UTF8&psc=1&refRID=EGS0D3K3T3454SC8SQR8'}\n",
      "Processing: https://www.amazon.cn/dp/B07CPF7ML9/ref=zg_bs_tab_pd_bsnr_3/459-4403857-4160100?_encoding=UTF8&psc=1&refRID=EGS0D3K3T3454SC8SQR8\n"
     ]
    },
    {
     "name": "stderr",
     "output_type": "stream",
     "text": [
      "/anaconda3/lib/python3.6/site-packages/urllib3/connectionpool.py:858: InsecureRequestWarning: Unverified HTTPS request is being made. Adding certificate verification is strongly advised. See: https://urllib3.readthedocs.io/en/latest/advanced-usage.html#ssl-warnings\n",
      "  InsecureRequestWarning)\n"
     ]
    },
    {
     "name": "stdout",
     "output_type": "stream",
     "text": [
      "local variable 'READERS' referenced before assignment\n",
      "Processing: https://www.amazon.cn/dp/B0788XVV4G/ref=zg_bs_660501051_1/457-3975062-2192066?_encoding=UTF8&psc=1&refRID=PGPNC1BFKRXSBCSJCRTF\n"
     ]
    },
    {
     "name": "stderr",
     "output_type": "stream",
     "text": [
      "/anaconda3/lib/python3.6/site-packages/urllib3/connectionpool.py:858: InsecureRequestWarning: Unverified HTTPS request is being made. Adding certificate verification is strongly advised. See: https://urllib3.readthedocs.io/en/latest/advanced-usage.html#ssl-warnings\n",
      "  InsecureRequestWarning)\n"
     ]
    },
    {
     "name": "stdout",
     "output_type": "stream",
     "text": [
      "{'NAME': '经典低幼情绪绘本:非常熊系列(附主题贴纸一张)(套装共5册)', 'SALE_PRICE': '￥172.80', 'CATEGORY': '少儿绘本与漫画', 'COMMENT_NUMBER': '20 条商品评论', 'PAGES': '120页', 'READERS': '3-6岁', 'FORMAT': '12', 'SALES_RANK': '亚马逊热销商品排名:图书商品里排第362名', 'SIZE': '25.6 x 24.8 x 3.6 cm', 'WEIGHT': '1.6 Kg', 'URL': 'https://www.amazon.cn/dp/B0788XVV4G/ref=zg_bs_660501051_1/457-3975062-2192066?_encoding=UTF8&psc=1&refRID=PGPNC1BFKRXSBCSJCRTF'}\n",
      "Processing: https://www.amazon.cn/dp/B01M2C43IQ/ref=zg_bs_660501051_2/457-3975062-2192066?_encoding=UTF8&psc=1&refRID=PGPNC1BFKRXSBCSJCRTF\n"
     ]
    },
    {
     "name": "stderr",
     "output_type": "stream",
     "text": [
      "/anaconda3/lib/python3.6/site-packages/urllib3/connectionpool.py:858: InsecureRequestWarning: Unverified HTTPS request is being made. Adding certificate verification is strongly advised. See: https://urllib3.readthedocs.io/en/latest/advanced-usage.html#ssl-warnings\n",
      "  InsecureRequestWarning)\n"
     ]
    },
    {
     "name": "stdout",
     "output_type": "stream",
     "text": [
      "{'NAME': '蒲蒲兰绘本馆·宫西达也恐龙系列(你看起来好像很好吃+我是霸王龙+你真好+永远永远爱你+我爱你+遇到你，真好+最爱的，是我)(套装共7册）(随机附贴纸）', 'SALE_PRICE': '￥76.00', 'CATEGORY': '少儿绘本与漫画', 'COMMENT_NUMBER': '116 条商品评论', 'PAGES': '273页', 'READERS': '3-6岁', 'FORMAT': '16', 'SALES_RANK': '亚马逊热销商品排名:图书商品里排第380名', 'SIZE': '25 x 21 x 2.8 cm', 'WEIGHT': '1.42 Kg', 'URL': 'https://www.amazon.cn/dp/B01M2C43IQ/ref=zg_bs_660501051_2/457-3975062-2192066?_encoding=UTF8&psc=1&refRID=PGPNC1BFKRXSBCSJCRTF'}\n",
      "Processing: https://www.amazon.cn/dp/B071KVF8HL/ref=zg_bs_660501051_3/457-3975062-2192066?_encoding=UTF8&psc=1&refRID=PGPNC1BFKRXSBCSJCRTF\n"
     ]
    },
    {
     "name": "stderr",
     "output_type": "stream",
     "text": [
      "/anaconda3/lib/python3.6/site-packages/urllib3/connectionpool.py:858: InsecureRequestWarning: Unverified HTTPS request is being made. Adding certificate verification is strongly advised. See: https://urllib3.readthedocs.io/en/latest/advanced-usage.html#ssl-warnings\n",
      "  InsecureRequestWarning)\n"
     ]
    },
    {
     "name": "stdout",
     "output_type": "stream",
     "text": [
      "{'NAME': '父与子全集(郑渊洁推荐版•亲子共读全彩珍藏本)(附趣味贴纸)', 'SALE_PRICE': '￥30.50', 'CATEGORY': '少儿绘本与漫画', 'COMMENT_NUMBER': '94 条商品评论', 'PAGES': '224页', 'READERS': '3-6岁', 'FORMAT': '16', 'SALES_RANK': '亚马逊热销商品排名:图书商品里排第621名', 'SIZE': '23.6 x 17 x 1.6 cm', 'WEIGHT': '399 g', 'URL': 'https://www.amazon.cn/dp/B071KVF8HL/ref=zg_bs_660501051_3/457-3975062-2192066?_encoding=UTF8&psc=1&refRID=PGPNC1BFKRXSBCSJCRTF'}\n",
      "Processing: https://www.amazon.cn/dp/B0035RX3S6/ref=zg_bs_660501051_4/457-3975062-2192066?_encoding=UTF8&psc=1&refRID=PGPNC1BFKRXSBCSJCRTF\n"
     ]
    },
    {
     "name": "stderr",
     "output_type": "stream",
     "text": [
      "/anaconda3/lib/python3.6/site-packages/urllib3/connectionpool.py:858: InsecureRequestWarning: Unverified HTTPS request is being made. Adding certificate verification is strongly advised. See: https://urllib3.readthedocs.io/en/latest/advanced-usage.html#ssl-warnings\n",
      "  InsecureRequestWarning)\n"
     ]
    },
    {
     "name": "stdout",
     "output_type": "stream",
     "text": [
      "{'NAME': '幼儿启蒙知识库认知贴纸书(套书共8册)(两种封面随机发货)', 'SALE_PRICE': '￥24.00', 'CATEGORY': '幼儿启蒙', 'COMMENT_NUMBER': '626 条商品评论', 'PAGES': '112页', 'READERS': '3-6岁', 'FORMAT': '24', 'SALES_RANK': '亚马逊热销商品排名:图书商品里排第697名', 'SIZE': '20.2 x 16.6 x 1.8 cm', 'WEIGHT': '522 g', 'URL': 'https://www.amazon.cn/dp/B0035RX3S6/ref=zg_bs_660501051_4/457-3975062-2192066?_encoding=UTF8&psc=1&refRID=PGPNC1BFKRXSBCSJCRTF'}\n",
      "Processing: https://www.amazon.cn/dp/B00OLCRNHG/ref=zg_bs_660501051_5/457-3975062-2192066?_encoding=UTF8&psc=1&refRID=PGPNC1BFKRXSBCSJCRTF\n"
     ]
    },
    {
     "name": "stderr",
     "output_type": "stream",
     "text": [
      "/anaconda3/lib/python3.6/site-packages/urllib3/connectionpool.py:858: InsecureRequestWarning: Unverified HTTPS request is being made. Adding certificate verification is strongly advised. See: https://urllib3.readthedocs.io/en/latest/advanced-usage.html#ssl-warnings\n",
      "  InsecureRequestWarning)\n"
     ]
    },
    {
     "name": "stdout",
     "output_type": "stream",
     "text": [
      "{'NAME': '儿童创意小手工3D益智纸立方(套装共3册)(附45个3D立体手工模型)', 'SALE_PRICE': '￥35.70', 'CATEGORY': '智力游戏', 'COMMENT_NUMBER': '197 条商品评论', 'PAGES': '54页', 'READERS': '7-10岁', 'FORMAT': '12', 'SALES_RANK': '亚马逊热销商品排名:图书商品里排第761名', 'SIZE': '28.2 x 27.4 x 2.4 cm', 'WEIGHT': '1.26 Kg', 'URL': 'https://www.amazon.cn/dp/B00OLCRNHG/ref=zg_bs_660501051_5/457-3975062-2192066?_encoding=UTF8&psc=1&refRID=PGPNC1BFKRXSBCSJCRTF'}\n",
      "Processing: https://www.amazon.cn/dp/B01K49LAMI/ref=zg_bs_660501051_6/457-3975062-2192066?_encoding=UTF8&psc=1&refRID=PGPNC1BFKRXSBCSJCRTF\n"
     ]
    },
    {
     "name": "stderr",
     "output_type": "stream",
     "text": [
      "/anaconda3/lib/python3.6/site-packages/urllib3/connectionpool.py:858: InsecureRequestWarning: Unverified HTTPS request is being made. Adding certificate verification is strongly advised. See: https://urllib3.readthedocs.io/en/latest/advanced-usage.html#ssl-warnings\n",
      "  InsecureRequestWarning)\n"
     ]
    },
    {
     "name": "stdout",
     "output_type": "stream",
     "text": [
      "{'NAME': 'DK儿童365户外活动手册·每天玩出新花样!', 'SALE_PRICE': '￥43.00', 'CATEGORY': '儿童手工', 'COMMENT_NUMBER': '51 条商品评论', 'PAGES': '192页', 'READERS': '7-10岁', 'FORMAT': '32', 'SALES_RANK': '亚马逊热销商品排名:图书商品里排第904名', 'SIZE': '21.8 x 13.2 x 1.6 cm', 'WEIGHT': '422 g', 'URL': 'https://www.amazon.cn/dp/B01K49LAMI/ref=zg_bs_660501051_6/457-3975062-2192066?_encoding=UTF8&psc=1&refRID=PGPNC1BFKRXSBCSJCRTF'}\n",
      "Processing: https://www.amazon.cn/dp/B008HOHS4W/ref=zg_bs_660501051_7/457-3975062-2192066?_encoding=UTF8&psc=1&refRID=PGPNC1BFKRXSBCSJCRTF\n"
     ]
    },
    {
     "name": "stderr",
     "output_type": "stream",
     "text": [
      "/anaconda3/lib/python3.6/site-packages/urllib3/connectionpool.py:858: InsecureRequestWarning: Unverified HTTPS request is being made. Adding certificate verification is strongly advised. See: https://urllib3.readthedocs.io/en/latest/advanced-usage.html#ssl-warnings\n",
      "  InsecureRequestWarning)\n"
     ]
    },
    {
     "name": "stdout",
     "output_type": "stream",
     "text": [
      "{'NAME': '园长教你做:60款亲子入门折纸(随书附赠作品原大彩纸10张)', 'SALE_PRICE': '￥25.40', 'CATEGORY': '儿童手工', 'COMMENT_NUMBER': '123 条商品评论', 'PAGES': '128页', 'READERS': '3-6岁', 'FORMAT': '16', 'SALES_RANK': '亚马逊热销商品排名:图书商品里排第1,048名', 'SIZE': '25.6 x 21 x 1 cm', 'WEIGHT': '739 g', 'URL': 'https://www.amazon.cn/dp/B008HOHS4W/ref=zg_bs_660501051_7/457-3975062-2192066?_encoding=UTF8&psc=1&refRID=PGPNC1BFKRXSBCSJCRTF'}\n",
      "Processing: https://www.amazon.cn/dp/B0119FN2PO/ref=zg_bs_660501051_8/457-3975062-2192066?_encoding=UTF8&psc=1&refRID=PGPNC1BFKRXSBCSJCRTF\n"
     ]
    },
    {
     "name": "stderr",
     "output_type": "stream",
     "text": [
      "/anaconda3/lib/python3.6/site-packages/urllib3/connectionpool.py:858: InsecureRequestWarning: Unverified HTTPS request is being made. Adding certificate verification is strongly advised. See: https://urllib3.readthedocs.io/en/latest/advanced-usage.html#ssl-warnings\n",
      "  InsecureRequestWarning)\n"
     ]
    },
    {
     "name": "stdout",
     "output_type": "stream",
     "text": [
      "{'NAME': '世界最美童话故事贴贴看(套装共8册)(附386张精美贴纸)', 'SALE_PRICE': '￥60.00', 'CATEGORY': '儿童文学', 'COMMENT_NUMBER': '185 条商品评论', 'PAGES': '128页', 'READERS': '3-6岁', 'FORMAT': '16', 'SALES_RANK': '亚马逊热销商品排名:图书商品里排第1,221名', 'SIZE': '28.4 x 20.8 x 1.6 cm', 'WEIGHT': '921 g', 'URL': 'https://www.amazon.cn/dp/B0119FN2PO/ref=zg_bs_660501051_8/457-3975062-2192066?_encoding=UTF8&psc=1&refRID=PGPNC1BFKRXSBCSJCRTF'}\n",
      "Processing: https://www.amazon.cn/dp/B00LM64IEK/ref=zg_bs_660501051_9/457-3975062-2192066?_encoding=UTF8&psc=1&refRID=PGPNC1BFKRXSBCSJCRTF\n"
     ]
    },
    {
     "name": "stderr",
     "output_type": "stream",
     "text": [
      "/anaconda3/lib/python3.6/site-packages/urllib3/connectionpool.py:858: InsecureRequestWarning: Unverified HTTPS request is being made. Adding certificate verification is strongly advised. See: https://urllib3.readthedocs.io/en/latest/advanced-usage.html#ssl-warnings\n",
      "  InsecureRequestWarning)\n"
     ]
    },
    {
     "name": "stdout",
     "output_type": "stream",
     "text": [
      "{'NAME': '综合能力开发趣味贴纸书(3-6岁)(套装共6册)', 'SALE_PRICE': '￥28.81', 'CATEGORY': '智力游戏', 'COMMENT_NUMBER': '540 条商品评论', 'PAGES': '180页', 'READERS': '3-6岁', 'FORMAT': '20', 'SALES_RANK': '亚马逊热销商品排名:图书商品里排第1,228名', 'SIZE': '23 x 21 x 1.6 cm', 'WEIGHT': '721 g', 'URL': 'https://www.amazon.cn/dp/B00LM64IEK/ref=zg_bs_660501051_9/457-3975062-2192066?_encoding=UTF8&psc=1&refRID=PGPNC1BFKRXSBCSJCRTF'}\n",
      "Processing: https://www.amazon.cn/dp/B06Y3PQKCQ/ref=zg_bs_660501051_10/457-3975062-2192066?_encoding=UTF8&psc=1&refRID=PGPNC1BFKRXSBCSJCRTF\n"
     ]
    },
    {
     "name": "stderr",
     "output_type": "stream",
     "text": [
      "/anaconda3/lib/python3.6/site-packages/urllib3/connectionpool.py:858: InsecureRequestWarning: Unverified HTTPS request is being made. Adding certificate verification is strongly advised. See: https://urllib3.readthedocs.io/en/latest/advanced-usage.html#ssl-warnings\n",
      "  InsecureRequestWarning)\n"
     ]
    },
    {
     "name": "stdout",
     "output_type": "stream",
     "text": [
      "{'NAME': '全脑贴贴画:工程车辆+交通工具(套装共2册)(封面随机)', 'SALE_PRICE': '￥25.74', 'CATEGORY': '智力游戏', 'COMMENT_NUMBER': '39 条商品评论', 'PAGES': '32页', 'READERS': '3-6岁', 'FORMAT': '16', 'SALES_RANK': '亚马逊热销商品排名:图书商品里排第1,230名', 'SIZE': '26.5 x 22 x 0.5 cm', 'WEIGHT': '259 g', 'URL': 'https://www.amazon.cn/dp/B06Y3PQKCQ/ref=zg_bs_660501051_10/457-3975062-2192066?_encoding=UTF8&psc=1&refRID=PGPNC1BFKRXSBCSJCRTF'}\n",
      "Processing: https://www.amazon.cn/dp/B01MFDEMM1/ref=zg_bs_660501051_11/457-3975062-2192066?_encoding=UTF8&psc=1&refRID=PGPNC1BFKRXSBCSJCRTF\n"
     ]
    },
    {
     "name": "stderr",
     "output_type": "stream",
     "text": [
      "/anaconda3/lib/python3.6/site-packages/urllib3/connectionpool.py:858: InsecureRequestWarning: Unverified HTTPS request is being made. Adding certificate verification is strongly advised. See: https://urllib3.readthedocs.io/en/latest/advanced-usage.html#ssl-warnings\n",
      "  InsecureRequestWarning)\n"
     ]
    },
    {
     "name": "stdout",
     "output_type": "stream",
     "text": [
      "{'NAME': '小猪佩奇趣味贴纸游戏书(套装共8册)', 'SALE_PRICE': '￥64.60', 'CATEGORY': '智力游戏', 'COMMENT_NUMBER': '19 条商品评论', 'PAGES': '128页', 'READERS': '3-6岁', 'FORMAT': '16', 'SALES_RANK': '亚马逊热销商品排名:图书商品里排第1,252名', 'SIZE': '28.2 x 21 x 2.4 cm', 'WEIGHT': '1.08 Kg', 'URL': 'https://www.amazon.cn/dp/B01MFDEMM1/ref=zg_bs_660501051_11/457-3975062-2192066?_encoding=UTF8&psc=1&refRID=PGPNC1BFKRXSBCSJCRTF'}\n",
      "Processing: https://www.amazon.cn/dp/B00NBGXEHQ/ref=zg_bs_660501051_12/457-3975062-2192066?_encoding=UTF8&psc=1&refRID=PGPNC1BFKRXSBCSJCRTF\n"
     ]
    },
    {
     "name": "stderr",
     "output_type": "stream",
     "text": [
      "/anaconda3/lib/python3.6/site-packages/urllib3/connectionpool.py:858: InsecureRequestWarning: Unverified HTTPS request is being made. Adding certificate verification is strongly advised. See: https://urllib3.readthedocs.io/en/latest/advanced-usage.html#ssl-warnings\n",
      "  InsecureRequestWarning)\n"
     ]
    },
    {
     "name": "stdout",
     "output_type": "stream",
     "text": [
      "local variable 'PAGES' referenced before assignment\n",
      "Processing: https://www.amazon.cn/dp/B00E92VH0C/ref=zg_bs_660501051_13/457-3975062-2192066?_encoding=UTF8&psc=1&refRID=PGPNC1BFKRXSBCSJCRTF\n"
     ]
    },
    {
     "name": "stderr",
     "output_type": "stream",
     "text": [
      "/anaconda3/lib/python3.6/site-packages/urllib3/connectionpool.py:858: InsecureRequestWarning: Unverified HTTPS request is being made. Adding certificate verification is strongly advised. See: https://urllib3.readthedocs.io/en/latest/advanced-usage.html#ssl-warnings\n",
      "  InsecureRequestWarning)\n"
     ]
    },
    {
     "name": "stdout",
     "output_type": "stream",
     "text": [
      "{'NAME': '邦臣小红花·我的第一套启蒙认知贴纸书(套装共8册)', 'SALE_PRICE': '￥35.70', 'CATEGORY': '幼儿启蒙', 'COMMENT_NUMBER': '114 条商品评论', 'PAGES': '88页', 'READERS': '2-5岁', 'FORMAT': '24', 'SALES_RANK': '亚马逊热销商品排名:图书商品里排第2,090名', 'SIZE': '19 x 19 x 1.4 cm', 'WEIGHT': '440 g', 'URL': 'https://www.amazon.cn/dp/B00E92VH0C/ref=zg_bs_660501051_13/457-3975062-2192066?_encoding=UTF8&psc=1&refRID=PGPNC1BFKRXSBCSJCRTF'}\n",
      "Processing: https://www.amazon.cn/dp/B06Y424PJM/ref=zg_bs_660501051_14/457-3975062-2192066?_encoding=UTF8&psc=1&refRID=PGPNC1BFKRXSBCSJCRTF\n"
     ]
    },
    {
     "name": "stderr",
     "output_type": "stream",
     "text": [
      "/anaconda3/lib/python3.6/site-packages/urllib3/connectionpool.py:858: InsecureRequestWarning: Unverified HTTPS request is being made. Adding certificate verification is strongly advised. See: https://urllib3.readthedocs.io/en/latest/advanced-usage.html#ssl-warnings\n",
      "  InsecureRequestWarning)\n"
     ]
    },
    {
     "name": "stdout",
     "output_type": "stream",
     "text": [
      "{'NAME': '专注力训练贴纸书:奇幻丛林+快乐农场(套装共2册)', 'SALE_PRICE': '￥25.20', 'CATEGORY': '智力游戏', 'COMMENT_NUMBER': '24 条商品评论', 'PAGES': '16页', 'READERS': '3-6岁', 'FORMAT': '16', 'SALES_RANK': '亚马逊热销商品排名:图书商品里排第2,626名', 'SIZE': '26.2 x 21.4 x 0.6 cm', 'WEIGHT': '358 g', 'URL': 'https://www.amazon.cn/dp/B06Y424PJM/ref=zg_bs_660501051_14/457-3975062-2192066?_encoding=UTF8&psc=1&refRID=PGPNC1BFKRXSBCSJCRTF'}\n",
      "Processing: https://www.amazon.cn/dp/B06Y248G48/ref=zg_bs_660501051_15/457-3975062-2192066?_encoding=UTF8&psc=1&refRID=PGPNC1BFKRXSBCSJCRTF\n"
     ]
    },
    {
     "name": "stderr",
     "output_type": "stream",
     "text": [
      "/anaconda3/lib/python3.6/site-packages/urllib3/connectionpool.py:858: InsecureRequestWarning: Unverified HTTPS request is being made. Adding certificate verification is strongly advised. See: https://urllib3.readthedocs.io/en/latest/advanced-usage.html#ssl-warnings\n",
      "  InsecureRequestWarning)\n"
     ]
    },
    {
     "name": "stdout",
     "output_type": "stream",
     "text": [
      "{'NAME': '恐龙迷必备的1000个贴纸全收藏1:神秘的恐龙世界', 'SALE_PRICE': '￥26.00', 'CATEGORY': '幼儿启蒙', 'COMMENT_NUMBER': '3 条商品评论', 'PAGES': '49页', 'READERS': '3-6岁', 'FORMAT': '16', 'SALES_RANK': '亚马逊热销商品排名:图书商品里排第3,002名', 'SIZE': '29 x 21 x 0.5 cm', 'WEIGHT': '299 g', 'URL': 'https://www.amazon.cn/dp/B06Y248G48/ref=zg_bs_660501051_15/457-3975062-2192066?_encoding=UTF8&psc=1&refRID=PGPNC1BFKRXSBCSJCRTF'}\n",
      "Processing: https://www.amazon.cn/dp/B01J0OVBQI/ref=zg_bs_660501051_16/457-3975062-2192066?_encoding=UTF8&psc=1&refRID=PGPNC1BFKRXSBCSJCRTF\n"
     ]
    },
    {
     "name": "stderr",
     "output_type": "stream",
     "text": [
      "/anaconda3/lib/python3.6/site-packages/urllib3/connectionpool.py:858: InsecureRequestWarning: Unverified HTTPS request is being made. Adding certificate verification is strongly advised. See: https://urllib3.readthedocs.io/en/latest/advanced-usage.html#ssl-warnings\n",
      "  InsecureRequestWarning)\n"
     ]
    },
    {
     "name": "stdout",
     "output_type": "stream",
     "text": [
      "{'NAME': '工程车总动员(拼装练手脑,父与子亲子时光)', 'SALE_PRICE': '￥91.08', 'CATEGORY': '智力游戏', 'COMMENT_NUMBER': '69 条商品评论', 'PAGES': '24页', 'READERS': '3-8岁', 'FORMAT': '12', 'SALES_RANK': '亚马逊热销商品排名:图书商品里排第3,020名', 'SIZE': '26.9 x 23.6 x 3.3 cm', 'WEIGHT': '1.12 Kg', 'URL': 'https://www.amazon.cn/dp/B01J0OVBQI/ref=zg_bs_660501051_16/457-3975062-2192066?_encoding=UTF8&psc=1&refRID=PGPNC1BFKRXSBCSJCRTF'}\n",
      "Processing: https://www.amazon.cn/dp/B06Y1S4ZGL/ref=zg_bs_660501051_17/457-3975062-2192066?_encoding=UTF8&psc=1&refRID=PGPNC1BFKRXSBCSJCRTF\n"
     ]
    },
    {
     "name": "stderr",
     "output_type": "stream",
     "text": [
      "/anaconda3/lib/python3.6/site-packages/urllib3/connectionpool.py:858: InsecureRequestWarning: Unverified HTTPS request is being made. Adding certificate verification is strongly advised. See: https://urllib3.readthedocs.io/en/latest/advanced-usage.html#ssl-warnings\n",
      "  InsecureRequestWarning)\n"
     ]
    },
    {
     "name": "stdout",
     "output_type": "stream",
     "text": [
      "{'NAME': '恐龙迷必备的1000个贴纸全收藏2:奇特的恐龙明星', 'SALE_PRICE': '￥17.58', 'CATEGORY': '幼儿启蒙', 'COMMENT_NUMBER': '2 条商品评论', 'PAGES': '49页', 'READERS': '3-6岁', 'FORMAT': '16', 'SALES_RANK': '亚马逊热销商品排名:图书商品里排第3,229名', 'SIZE': '29 x 21 x 0.5 cm', 'WEIGHT': '299 g', 'URL': 'https://www.amazon.cn/dp/B06Y1S4ZGL/ref=zg_bs_660501051_17/457-3975062-2192066?_encoding=UTF8&psc=1&refRID=PGPNC1BFKRXSBCSJCRTF'}\n",
      "Processing: https://www.amazon.cn/dp/B012C1S4X4/ref=zg_bs_660501051_18/457-3975062-2192066?_encoding=UTF8&psc=1&refRID=PGPNC1BFKRXSBCSJCRTF\n"
     ]
    },
    {
     "name": "stderr",
     "output_type": "stream",
     "text": [
      "/anaconda3/lib/python3.6/site-packages/urllib3/connectionpool.py:858: InsecureRequestWarning: Unverified HTTPS request is being made. Adding certificate verification is strongly advised. See: https://urllib3.readthedocs.io/en/latest/advanced-usage.html#ssl-warnings\n",
      "  InsecureRequestWarning)\n"
     ]
    },
    {
     "name": "stdout",
     "output_type": "stream",
     "text": [
      "{'NAME': '幼儿启蒙知识库认知贴纸书(第2辑)(套装共6册)', 'SALE_PRICE': '￥19.50', 'CATEGORY': '幼儿启蒙', 'COMMENT_NUMBER': '15 条商品评论', 'PAGES': '60页', 'READERS': '3-6岁', 'FORMAT': '24', 'SALES_RANK': '亚马逊热销商品排名:图书商品里排第3,474名', 'SIZE': '20 x 16.4 x 1.2 cm', 'WEIGHT': '440 g', 'URL': 'https://www.amazon.cn/dp/B012C1S4X4/ref=zg_bs_660501051_18/457-3975062-2192066?_encoding=UTF8&psc=1&refRID=PGPNC1BFKRXSBCSJCRTF'}\n",
      "Processing: https://www.amazon.cn/dp/B005AQCBH4/ref=zg_bs_660501051_19/457-3975062-2192066?_encoding=UTF8&psc=1&refRID=PGPNC1BFKRXSBCSJCRTF\n"
     ]
    },
    {
     "name": "stderr",
     "output_type": "stream",
     "text": [
      "/anaconda3/lib/python3.6/site-packages/urllib3/connectionpool.py:858: InsecureRequestWarning: Unverified HTTPS request is being made. Adding certificate verification is strongly advised. See: https://urllib3.readthedocs.io/en/latest/advanced-usage.html#ssl-warnings\n",
      "  InsecureRequestWarning)\n"
     ]
    },
    {
     "name": "stdout",
     "output_type": "stream",
     "text": [
      "{'NAME': '一千零一夜(全译插图典藏版)', 'SALE_PRICE': '￥18.30', 'CATEGORY': '儿童文学', 'COMMENT_NUMBER': '96 条商品评论', 'PAGES': '323页', 'READERS': '11-14岁', 'FORMAT': '32', 'SALES_RANK': '亚马逊热销商品排名:图书商品里排第4,363名', 'SIZE': '20.8 x 15 x 2.2 cm', 'WEIGHT': '440 g', 'URL': 'https://www.amazon.cn/dp/B005AQCBH4/ref=zg_bs_660501051_19/457-3975062-2192066?_encoding=UTF8&psc=1&refRID=PGPNC1BFKRXSBCSJCRTF'}\n",
      "Processing: https://www.amazon.cn/dp/B016IW62GO/ref=zg_bs_660501051_20/457-3975062-2192066?_encoding=UTF8&psc=1&refRID=PGPNC1BFKRXSBCSJCRTF\n"
     ]
    },
    {
     "name": "stderr",
     "output_type": "stream",
     "text": [
      "/anaconda3/lib/python3.6/site-packages/urllib3/connectionpool.py:858: InsecureRequestWarning: Unverified HTTPS request is being made. Adding certificate verification is strongly advised. See: https://urllib3.readthedocs.io/en/latest/advanced-usage.html#ssl-warnings\n",
      "  InsecureRequestWarning)\n"
     ]
    },
    {
     "name": "stdout",
     "output_type": "stream",
     "text": [
      "local variable 'READERS' referenced before assignment\n",
      "Processing: https://www.amazon.cn/dp/B07BFB7L7S/ref=zg_bs_tab_pd_bsnr_1/457-3975062-2192066?_encoding=UTF8&psc=1&refRID=PGPNC1BFKRXSBCSJCRTF\n"
     ]
    },
    {
     "name": "stderr",
     "output_type": "stream",
     "text": [
      "/anaconda3/lib/python3.6/site-packages/urllib3/connectionpool.py:858: InsecureRequestWarning: Unverified HTTPS request is being made. Adding certificate verification is strongly advised. See: https://urllib3.readthedocs.io/en/latest/advanced-usage.html#ssl-warnings\n",
      "  InsecureRequestWarning)\n"
     ]
    },
    {
     "name": "stdout",
     "output_type": "stream",
     "text": [
      "{'NAME': '小猪佩奇趣味贴纸游戏书(第二辑)(套装共4册)', 'SALE_PRICE': '￥71.76', 'CATEGORY': '智力游戏', 'COMMENT_NUMBER': None, 'PAGES': '96页', 'READERS': '3-6岁', 'FORMAT': '12', 'SALES_RANK': '亚马逊热销商品排名:图书商品里排第106,811名', 'SIZE': '30.8 x 23.6 x 1.4 cm', 'WEIGHT': '898 g', 'URL': 'https://www.amazon.cn/dp/B07BFB7L7S/ref=zg_bs_tab_pd_bsnr_1/457-3975062-2192066?_encoding=UTF8&psc=1&refRID=PGPNC1BFKRXSBCSJCRTF'}\n",
      "Processing: https://www.amazon.cn/dp/B07B5WB9YJ/ref=zg_bs_tab_pd_bsnr_2/457-3975062-2192066?_encoding=UTF8&psc=1&refRID=PGPNC1BFKRXSBCSJCRTF\n"
     ]
    },
    {
     "name": "stderr",
     "output_type": "stream",
     "text": [
      "/anaconda3/lib/python3.6/site-packages/urllib3/connectionpool.py:858: InsecureRequestWarning: Unverified HTTPS request is being made. Adding certificate verification is strongly advised. See: https://urllib3.readthedocs.io/en/latest/advanced-usage.html#ssl-warnings\n",
      "  InsecureRequestWarning)\n"
     ]
    },
    {
     "name": "stdout",
     "output_type": "stream",
     "text": [
      "{'NAME': '园长推荐的12个月快乐剪纸游戏', 'SALE_PRICE': '￥28.50', 'CATEGORY': '智力游戏', 'COMMENT_NUMBER': None, 'PAGES': '73页', 'READERS': '3-6岁', 'FORMAT': '16', 'SALES_RANK': '亚马逊热销商品排名:图书商品里排第143,364名', 'SIZE': '25.8 x 20.8 x 0.8 cm', 'WEIGHT': '259 g', 'URL': 'https://www.amazon.cn/dp/B07B5WB9YJ/ref=zg_bs_tab_pd_bsnr_2/457-3975062-2192066?_encoding=UTF8&psc=1&refRID=PGPNC1BFKRXSBCSJCRTF'}\n",
      "Processing: https://www.amazon.cn/dp/B07BN7Q1CG/ref=zg_bs_tab_pd_bsnr_3/457-3975062-2192066?_encoding=UTF8&psc=1&refRID=PGPNC1BFKRXSBCSJCRTF\n"
     ]
    },
    {
     "name": "stderr",
     "output_type": "stream",
     "text": [
      "/anaconda3/lib/python3.6/site-packages/urllib3/connectionpool.py:858: InsecureRequestWarning: Unverified HTTPS request is being made. Adding certificate verification is strongly advised. See: https://urllib3.readthedocs.io/en/latest/advanced-usage.html#ssl-warnings\n",
      "  InsecureRequestWarning)\n"
     ]
    },
    {
     "name": "stdout",
     "output_type": "stream",
     "text": [
      "{'NAME': '小公主苏菲亚:闪粉泡泡贴N次换装书', 'SALE_PRICE': '￥28.00', 'CATEGORY': '智力游戏', 'COMMENT_NUMBER': None, 'PAGES': '16页', 'READERS': '3-6岁', 'FORMAT': '16', 'SALES_RANK': '亚马逊热销商品排名:图书商品里排第181,699名', 'SIZE': '25.8 x 19.2 x 0.6 cm', 'WEIGHT': '118 g', 'URL': 'https://www.amazon.cn/dp/B07BN7Q1CG/ref=zg_bs_tab_pd_bsnr_3/457-3975062-2192066?_encoding=UTF8&psc=1&refRID=PGPNC1BFKRXSBCSJCRTF'}\n",
      "Processing: https://www.amazon.cn/dp/B01G8WDZ7I/ref=zg_bs_1978363051_1/459-0691319-2802250?_encoding=UTF8&psc=1&refRID=472YQZFZ52F5EQ516KKH\n"
     ]
    },
    {
     "name": "stderr",
     "output_type": "stream",
     "text": [
      "/anaconda3/lib/python3.6/site-packages/urllib3/connectionpool.py:858: InsecureRequestWarning: Unverified HTTPS request is being made. Adding certificate verification is strongly advised. See: https://urllib3.readthedocs.io/en/latest/advanced-usage.html#ssl-warnings\n",
      "  InsecureRequestWarning)\n"
     ]
    },
    {
     "name": "stdout",
     "output_type": "stream",
     "text": [
      "{'NAME': 'DADA全球艺术启蒙系列·第一辑(莫奈+沃霍尔+毕加索+梵高+夏加尔)', 'SALE_PRICE': '￥132.66', 'CATEGORY': '少儿绘本与漫画', 'COMMENT_NUMBER': '28 条商品评论', 'PAGES': '300页', 'READERS': '7-10岁', 'FORMAT': '8', 'SALES_RANK': '亚马逊热销商品排名:图书商品里排第175名', 'SIZE': '26.2 x 24 x 5 cm', 'WEIGHT': '2.38 Kg', 'URL': 'https://www.amazon.cn/dp/B01G8WDZ7I/ref=zg_bs_1978363051_1/459-0691319-2802250?_encoding=UTF8&psc=1&refRID=472YQZFZ52F5EQ516KKH'}\n",
      "Processing: https://www.amazon.cn/dp/B001O09Z92/ref=zg_bs_1978363051_2/459-0691319-2802250?_encoding=UTF8&psc=1&refRID=472YQZFZ52F5EQ516KKH\n"
     ]
    },
    {
     "name": "stderr",
     "output_type": "stream",
     "text": [
      "/anaconda3/lib/python3.6/site-packages/urllib3/connectionpool.py:858: InsecureRequestWarning: Unverified HTTPS request is being made. Adding certificate verification is strongly advised. See: https://urllib3.readthedocs.io/en/latest/advanced-usage.html#ssl-warnings\n",
      "  InsecureRequestWarning)\n"
     ]
    },
    {
     "name": "stdout",
     "output_type": "stream",
     "text": [
      "{'NAME': '儿童简笔画大全', 'SALE_PRICE': '￥18.66', 'CATEGORY': '绘画书法', 'COMMENT_NUMBER': '845 条商品评论', 'PAGES': '236页', 'READERS': '3-6岁', 'FORMAT': '32', 'SALES_RANK': '亚马逊热销商品排名:图书商品里排第834名', 'SIZE': '20.4 x 14.2 x 1.4 cm', 'WEIGHT': '259 g', 'URL': 'https://www.amazon.cn/dp/B001O09Z92/ref=zg_bs_1978363051_2/459-0691319-2802250?_encoding=UTF8&psc=1&refRID=472YQZFZ52F5EQ516KKH'}\n",
      "Processing: https://www.amazon.cn/dp/B0791T9X6K/ref=zg_bs_1978363051_3/459-0691319-2802250?_encoding=UTF8&psc=1&refRID=472YQZFZ52F5EQ516KKH\n"
     ]
    },
    {
     "name": "stderr",
     "output_type": "stream",
     "text": [
      "/anaconda3/lib/python3.6/site-packages/urllib3/connectionpool.py:858: InsecureRequestWarning: Unverified HTTPS request is being made. Adding certificate verification is strongly advised. See: https://urllib3.readthedocs.io/en/latest/advanced-usage.html#ssl-warnings\n",
      "  InsecureRequestWarning)\n"
     ]
    },
    {
     "name": "stdout",
     "output_type": "stream",
     "text": [
      "{'NAME': 'DADA全球艺术启蒙系列第3辑•古典大师(套装共5册)', 'SALE_PRICE': '￥156.90', 'CATEGORY': '绘画书法', 'COMMENT_NUMBER': None, 'PAGES': '288页', 'READERS': '7-10岁', 'FORMAT': '8', 'SALES_RANK': '亚马逊热销商品排名:图书商品里排第937名', 'SIZE': '26 x 24 x 4.6 cm', 'WEIGHT': '2.34 Kg', 'URL': 'https://www.amazon.cn/dp/B0791T9X6K/ref=zg_bs_1978363051_3/459-0691319-2802250?_encoding=UTF8&psc=1&refRID=472YQZFZ52F5EQ516KKH'}\n",
      "Processing: https://www.amazon.cn/dp/B074R57XT1/ref=zg_bs_1978363051_4/459-0691319-2802250?_encoding=UTF8&psc=1&refRID=472YQZFZ52F5EQ516KKH\n"
     ]
    },
    {
     "name": "stderr",
     "output_type": "stream",
     "text": [
      "/anaconda3/lib/python3.6/site-packages/urllib3/connectionpool.py:858: InsecureRequestWarning: Unverified HTTPS request is being made. Adding certificate verification is strongly advised. See: https://urllib3.readthedocs.io/en/latest/advanced-usage.html#ssl-warnings\n",
      "  InsecureRequestWarning)\n"
     ]
    },
    {
     "name": "stdout",
     "output_type": "stream",
     "text": [
      "{'NAME': '孩子的第一套情商培养书:淘弟有个大世界(双语版)(套装共8册)(附8张涂色节日卡)', 'SALE_PRICE': '￥109.50', 'CATEGORY': '少儿绘本与漫画', 'COMMENT_NUMBER': '10 条商品评论', 'PAGES': '244页', 'READERS': '0-2岁', 'FORMAT': '12', 'SALES_RANK': '亚马逊热销商品排名:图书商品里排第1,242名', 'SIZE': '24.6 x 23.8 x 2.6 cm', 'WEIGHT': '1.34 Kg', 'URL': 'https://www.amazon.cn/dp/B074R57XT1/ref=zg_bs_1978363051_4/459-0691319-2802250?_encoding=UTF8&psc=1&refRID=472YQZFZ52F5EQ516KKH'}\n",
      "Processing: https://www.amazon.cn/dp/B00MENOF16/ref=zg_bs_1978363051_5/459-0691319-2802250?_encoding=UTF8&psc=1&refRID=472YQZFZ52F5EQ516KKH\n"
     ]
    },
    {
     "name": "stderr",
     "output_type": "stream",
     "text": [
      "/anaconda3/lib/python3.6/site-packages/urllib3/connectionpool.py:858: InsecureRequestWarning: Unverified HTTPS request is being made. Adding certificate verification is strongly advised. See: https://urllib3.readthedocs.io/en/latest/advanced-usage.html#ssl-warnings\n",
      "  InsecureRequestWarning)\n"
     ]
    },
    {
     "name": "stdout",
     "output_type": "stream",
     "text": [
      "{'NAME': '简笔画5000例,一本就够', 'SALE_PRICE': '￥28.00', 'CATEGORY': '绘画书法', 'COMMENT_NUMBER': '112 条商品评论', 'PAGES': '364页', 'READERS': '7-10岁', 'FORMAT': '20', 'SALES_RANK': '亚马逊热销商品排名:图书商品里排第1,361名', 'SIZE': '20.6 x 18.6 x 3.2 cm', 'WEIGHT': '699 g', 'URL': 'https://www.amazon.cn/dp/B00MENOF16/ref=zg_bs_1978363051_5/459-0691319-2802250?_encoding=UTF8&psc=1&refRID=472YQZFZ52F5EQ516KKH'}\n",
      "Processing: https://www.amazon.cn/dp/B01M3QY7DQ/ref=zg_bs_1978363051_6/459-0691319-2802250?_encoding=UTF8&psc=1&refRID=472YQZFZ52F5EQ516KKH\n"
     ]
    },
    {
     "name": "stderr",
     "output_type": "stream",
     "text": [
      "/anaconda3/lib/python3.6/site-packages/urllib3/connectionpool.py:858: InsecureRequestWarning: Unverified HTTPS request is being made. Adding certificate verification is strongly advised. See: https://urllib3.readthedocs.io/en/latest/advanced-usage.html#ssl-warnings\n",
      "  InsecureRequestWarning)\n"
     ]
    },
    {
     "name": "stdout",
     "output_type": "stream",
     "text": [
      "{'NAME': '创意大师洞洞翻翻启蒙纸板书·小兔彼得互动故事(套装共3册)', 'SALE_PRICE': '￥66.20', 'CATEGORY': '幼儿启蒙', 'COMMENT_NUMBER': '8 条商品评论', 'PAGES': '56页', 'READERS': '0-2岁', 'FORMAT': '24', 'SALES_RANK': '亚马逊热销商品排名:图书商品里排第1,609名', 'SIZE': '16.8 x 16.6 x 3.6 cm', 'WEIGHT': '621 g', 'URL': 'https://www.amazon.cn/dp/B01M3QY7DQ/ref=zg_bs_1978363051_6/459-0691319-2802250?_encoding=UTF8&psc=1&refRID=472YQZFZ52F5EQ516KKH'}\n",
      "Processing: https://www.amazon.cn/dp/B01MT3E4QM/ref=zg_bs_1978363051_7/459-0691319-2802250?_encoding=UTF8&psc=1&refRID=472YQZFZ52F5EQ516KKH\n"
     ]
    },
    {
     "name": "stderr",
     "output_type": "stream",
     "text": [
      "/anaconda3/lib/python3.6/site-packages/urllib3/connectionpool.py:858: InsecureRequestWarning: Unverified HTTPS request is being made. Adding certificate verification is strongly advised. See: https://urllib3.readthedocs.io/en/latest/advanced-usage.html#ssl-warnings\n",
      "  InsecureRequestWarning)\n"
     ]
    },
    {
     "name": "stdout",
     "output_type": "stream",
     "text": [
      "{'NAME': '创意大师洞洞翻翻启蒙纸板书:有趣的形状和数字(套装共5册)', 'SALE_PRICE': '￥105.50', 'CATEGORY': '幼儿启蒙', 'COMMENT_NUMBER': '3 条商品评论', 'PAGES': '114页', 'READERS': '0-2岁', 'FORMAT': '24', 'SALES_RANK': '亚马逊热销商品排名:图书商品里排第2,207名', 'SIZE': '16.8 x 16.8 x 6.9 cm', 'WEIGHT': '1.34 Kg', 'URL': 'https://www.amazon.cn/dp/B01MT3E4QM/ref=zg_bs_1978363051_7/459-0691319-2802250?_encoding=UTF8&psc=1&refRID=472YQZFZ52F5EQ516KKH'}\n",
      "Processing: https://www.amazon.cn/dp/B019Z24Q5I/ref=zg_bs_1978363051_8/459-0691319-2802250?_encoding=UTF8&psc=1&refRID=472YQZFZ52F5EQ516KKH\n"
     ]
    },
    {
     "name": "stderr",
     "output_type": "stream",
     "text": [
      "/anaconda3/lib/python3.6/site-packages/urllib3/connectionpool.py:858: InsecureRequestWarning: Unverified HTTPS request is being made. Adding certificate verification is strongly advised. See: https://urllib3.readthedocs.io/en/latest/advanced-usage.html#ssl-warnings\n",
      "  InsecureRequestWarning)\n"
     ]
    },
    {
     "name": "stdout",
     "output_type": "stream",
     "text": [
      "{'NAME': '海底小纵队·缤纷海洋涂色书(套装共3册)', 'SALE_PRICE': '￥29.30', 'CATEGORY': '少儿绘本与漫画', 'COMMENT_NUMBER': '7 条商品评论', 'PAGES': '75页', 'READERS': '3-6岁', 'FORMAT': '16', 'SALES_RANK': '亚马逊热销商品排名:图书商品里排第2,506名', 'SIZE': '28.6 x 20.8 x 1.2 cm', 'WEIGHT': '540 g', 'URL': 'https://www.amazon.cn/dp/B019Z24Q5I/ref=zg_bs_1978363051_8/459-0691319-2802250?_encoding=UTF8&psc=1&refRID=472YQZFZ52F5EQ516KKH'}\n",
      "Processing: https://www.amazon.cn/dp/B07923NK23/ref=zg_bs_1978363051_9/459-0691319-2802250?_encoding=UTF8&psc=1&refRID=472YQZFZ52F5EQ516KKH\n"
     ]
    },
    {
     "name": "stderr",
     "output_type": "stream",
     "text": [
      "/anaconda3/lib/python3.6/site-packages/urllib3/connectionpool.py:858: InsecureRequestWarning: Unverified HTTPS request is being made. Adding certificate verification is strongly advised. See: https://urllib3.readthedocs.io/en/latest/advanced-usage.html#ssl-warnings\n",
      "  InsecureRequestWarning)\n"
     ]
    },
    {
     "name": "stdout",
     "output_type": "stream",
     "text": [
      "{'NAME': '墨中国艺术启蒙系列:看懂名画(套装共5册)', 'SALE_PRICE': '￥156.90', 'CATEGORY': '绘画书法', 'COMMENT_NUMBER': None, 'PAGES': '292页', 'READERS': '7-10岁', 'FORMAT': '8', 'SALES_RANK': '亚马逊热销商品排名:图书商品里排第2,992名', 'SIZE': '26 x 24 x 4.6 cm', 'WEIGHT': '2.54 Kg', 'URL': 'https://www.amazon.cn/dp/B07923NK23/ref=zg_bs_1978363051_9/459-0691319-2802250?_encoding=UTF8&psc=1&refRID=472YQZFZ52F5EQ516KKH'}\n",
      "Processing: https://www.amazon.cn/dp/B00JEXDIMQ/ref=zg_bs_1978363051_10/459-0691319-2802250?_encoding=UTF8&psc=1&refRID=472YQZFZ52F5EQ516KKH\n"
     ]
    },
    {
     "name": "stderr",
     "output_type": "stream",
     "text": [
      "/anaconda3/lib/python3.6/site-packages/urllib3/connectionpool.py:858: InsecureRequestWarning: Unverified HTTPS request is being made. Adding certificate verification is strongly advised. See: https://urllib3.readthedocs.io/en/latest/advanced-usage.html#ssl-warnings\n",
      "  InsecureRequestWarning)\n"
     ]
    },
    {
     "name": "stdout",
     "output_type": "stream",
     "text": [
      "{'NAME': '我的第一本艺术启蒙书', 'SALE_PRICE': '￥62.57', 'CATEGORY': '绘画书法', 'COMMENT_NUMBER': '25 条商品评论', 'PAGES': '115页', 'READERS': '7-10岁', 'FORMAT': '12', 'SALES_RANK': '亚马逊热销商品排名:图书商品里排第3,101名', 'SIZE': '30 x 26 x 2.5 cm', 'WEIGHT': '1.02 Kg', 'URL': 'https://www.amazon.cn/dp/B00JEXDIMQ/ref=zg_bs_1978363051_10/459-0691319-2802250?_encoding=UTF8&psc=1&refRID=472YQZFZ52F5EQ516KKH'}\n",
      "Processing: https://www.amazon.cn/dp/B00K9Z5JCA/ref=zg_bs_1978363051_11/459-0691319-2802250?_encoding=UTF8&psc=1&refRID=472YQZFZ52F5EQ516KKH\n"
     ]
    },
    {
     "name": "stderr",
     "output_type": "stream",
     "text": [
      "/anaconda3/lib/python3.6/site-packages/urllib3/connectionpool.py:858: InsecureRequestWarning: Unverified HTTPS request is being made. Adding certificate verification is strongly advised. See: https://urllib3.readthedocs.io/en/latest/advanced-usage.html#ssl-warnings\n",
      "  InsecureRequestWarning)\n"
     ]
    },
    {
     "name": "stdout",
     "output_type": "stream",
     "text": [
      "{'NAME': '邦臣小红花·3-6岁涂色书(套装共8册)', 'SALE_PRICE': '￥43.80', 'CATEGORY': '绘画书法', 'COMMENT_NUMBER': '17 条商品评论', 'PAGES': '192页', 'READERS': '3-6岁', 'FORMAT': '16', 'SALES_RANK': '亚马逊热销商品排名:图书商品里排第3,643名', 'SIZE': '25.6 x 18.6 x 2.2 cm', 'WEIGHT': '662 g', 'URL': 'https://www.amazon.cn/dp/B00K9Z5JCA/ref=zg_bs_1978363051_11/459-0691319-2802250?_encoding=UTF8&psc=1&refRID=472YQZFZ52F5EQ516KKH'}\n",
      "Processing: https://www.amazon.cn/dp/B00K9Z5JCU/ref=zg_bs_1978363051_12/459-0691319-2802250?_encoding=UTF8&psc=1&refRID=472YQZFZ52F5EQ516KKH\n"
     ]
    },
    {
     "name": "stderr",
     "output_type": "stream",
     "text": [
      "/anaconda3/lib/python3.6/site-packages/urllib3/connectionpool.py:858: InsecureRequestWarning: Unverified HTTPS request is being made. Adding certificate verification is strongly advised. See: https://urllib3.readthedocs.io/en/latest/advanced-usage.html#ssl-warnings\n",
      "  InsecureRequestWarning)\n"
     ]
    },
    {
     "name": "stdout",
     "output_type": "stream",
     "text": [
      "{'NAME': '邦臣小红花·0-3岁涂色书(套装共8册)', 'SALE_PRICE': '￥52.80', 'CATEGORY': '绘画书法', 'COMMENT_NUMBER': '31 条商品评论', 'PAGES': '192页', 'READERS': '0-3岁', 'FORMAT': '16', 'SALES_RANK': '亚马逊热销商品排名:图书商品里排第4,079名', 'SIZE': '25.6 x 18.4 x 2.2 cm', 'WEIGHT': '699 g', 'URL': 'https://www.amazon.cn/dp/B00K9Z5JCU/ref=zg_bs_1978363051_12/459-0691319-2802250?_encoding=UTF8&psc=1&refRID=472YQZFZ52F5EQ516KKH'}\n",
      "Processing: https://www.amazon.cn/dp/B07D7SX5Q7/ref=zg_bs_1978363051_13/459-0691319-2802250?_encoding=UTF8&psc=1&refRID=472YQZFZ52F5EQ516KKH\n"
     ]
    },
    {
     "name": "stderr",
     "output_type": "stream",
     "text": [
      "/anaconda3/lib/python3.6/site-packages/urllib3/connectionpool.py:858: InsecureRequestWarning: Unverified HTTPS request is being made. Adding certificate verification is strongly advised. See: https://urllib3.readthedocs.io/en/latest/advanced-usage.html#ssl-warnings\n",
      "  InsecureRequestWarning)\n"
     ]
    },
    {
     "name": "stdout",
     "output_type": "stream",
     "text": [
      "local variable 'PAGES' referenced before assignment\n",
      "Processing: https://www.amazon.cn/dp/B06ZYXT97Q/ref=zg_bs_1978363051_14/459-0691319-2802250?_encoding=UTF8&psc=1&refRID=472YQZFZ52F5EQ516KKH\n"
     ]
    },
    {
     "name": "stderr",
     "output_type": "stream",
     "text": [
      "/anaconda3/lib/python3.6/site-packages/urllib3/connectionpool.py:858: InsecureRequestWarning: Unverified HTTPS request is being made. Adding certificate verification is strongly advised. See: https://urllib3.readthedocs.io/en/latest/advanced-usage.html#ssl-warnings\n",
      "  InsecureRequestWarning)\n"
     ]
    },
    {
     "name": "stdout",
     "output_type": "stream",
     "text": [
      "{'NAME': '开心幼教:幼儿创意美术游戏(综合材料篇)', 'SALE_PRICE': '￥32.20', 'CATEGORY': '智力游戏', 'COMMENT_NUMBER': None, 'PAGES': '92页', 'READERS': '3-6岁', 'FORMAT': '16', 'SALES_RANK': '亚马逊热销商品排名:图书商品里排第4,955名', 'SIZE': '27.6 x 20.8 x 0.6 cm', 'WEIGHT': '581 g', 'URL': 'https://www.amazon.cn/dp/B06ZYXT97Q/ref=zg_bs_1978363051_14/459-0691319-2802250?_encoding=UTF8&psc=1&refRID=472YQZFZ52F5EQ516KKH'}\n",
      "Processing: https://www.amazon.cn/dp/B071RV2KGV/ref=zg_bs_1978363051_15/459-0691319-2802250?_encoding=UTF8&psc=1&refRID=472YQZFZ52F5EQ516KKH\n"
     ]
    },
    {
     "name": "stderr",
     "output_type": "stream",
     "text": [
      "/anaconda3/lib/python3.6/site-packages/urllib3/connectionpool.py:858: InsecureRequestWarning: Unverified HTTPS request is being made. Adding certificate verification is strongly advised. See: https://urllib3.readthedocs.io/en/latest/advanced-usage.html#ssl-warnings\n",
      "  InsecureRequestWarning)\n"
     ]
    },
    {
     "name": "stdout",
     "output_type": "stream",
     "text": [
      "local variable 'READERS' referenced before assignment\n",
      "Processing: https://www.amazon.cn/dp/B01BSZD2NW/ref=zg_bs_1978363051_16/459-0691319-2802250?_encoding=UTF8&psc=1&refRID=472YQZFZ52F5EQ516KKH\n"
     ]
    },
    {
     "name": "stderr",
     "output_type": "stream",
     "text": [
      "/anaconda3/lib/python3.6/site-packages/urllib3/connectionpool.py:858: InsecureRequestWarning: Unverified HTTPS request is being made. Adding certificate verification is strongly advised. See: https://urllib3.readthedocs.io/en/latest/advanced-usage.html#ssl-warnings\n",
      "  InsecureRequestWarning)\n"
     ]
    },
    {
     "name": "stdout",
     "output_type": "stream",
     "text": [
      "{'NAME': '给孩子的中国画启蒙(附缩略版·张择瑞《清明上河图》全卷+附件)', 'SALE_PRICE': '￥52.40', 'CATEGORY': '绘画书法', 'COMMENT_NUMBER': '2 条商品评论', 'PAGES': '198页', 'READERS': '11-14岁', 'FORMAT': '16', 'SALES_RANK': '亚马逊热销商品排名:图书商品里排第6,344名', 'SIZE': '23.8 x 18 x 1.2 cm', 'WEIGHT': '499 g', 'URL': 'https://www.amazon.cn/dp/B01BSZD2NW/ref=zg_bs_1978363051_16/459-0691319-2802250?_encoding=UTF8&psc=1&refRID=472YQZFZ52F5EQ516KKH'}\n",
      "Processing: https://www.amazon.cn/dp/B07D4ZSW77/ref=zg_bs_1978363051_17/459-0691319-2802250?_encoding=UTF8&psc=1&refRID=472YQZFZ52F5EQ516KKH\n"
     ]
    },
    {
     "name": "stderr",
     "output_type": "stream",
     "text": [
      "/anaconda3/lib/python3.6/site-packages/urllib3/connectionpool.py:858: InsecureRequestWarning: Unverified HTTPS request is being made. Adding certificate verification is strongly advised. See: https://urllib3.readthedocs.io/en/latest/advanced-usage.html#ssl-warnings\n",
      "  InsecureRequestWarning)\n"
     ]
    },
    {
     "name": "stdout",
     "output_type": "stream",
     "text": [
      "local variable 'SIZE' referenced before assignment\n",
      "Processing: https://www.amazon.cn/dp/B01CY8H5B2/ref=zg_bs_1978363051_18/459-0691319-2802250?_encoding=UTF8&psc=1&refRID=472YQZFZ52F5EQ516KKH\n"
     ]
    },
    {
     "name": "stderr",
     "output_type": "stream",
     "text": [
      "/anaconda3/lib/python3.6/site-packages/urllib3/connectionpool.py:858: InsecureRequestWarning: Unverified HTTPS request is being made. Adding certificate verification is strongly advised. See: https://urllib3.readthedocs.io/en/latest/advanced-usage.html#ssl-warnings\n",
      "  InsecureRequestWarning)\n"
     ]
    },
    {
     "name": "stdout",
     "output_type": "stream",
     "text": [
      "{'NAME': '小小艺术家·名画名著绘本:step4(套装共4册)', 'SALE_PRICE': '￥74.50', 'CATEGORY': '少儿绘本与漫画', 'COMMENT_NUMBER': '6 条商品评论', 'PAGES': '136页', 'READERS': '3-6岁', 'FORMAT': '16', 'SALES_RANK': '亚马逊热销商品排名:图书商品里排第6,675名', 'SIZE': '25 x 20.8 x 3.2 cm', 'WEIGHT': '1.4 Kg', 'URL': 'https://www.amazon.cn/dp/B01CY8H5B2/ref=zg_bs_1978363051_18/459-0691319-2802250?_encoding=UTF8&psc=1&refRID=472YQZFZ52F5EQ516KKH'}\n",
      "Processing: https://www.amazon.cn/dp/B0192OZV2G/ref=zg_bs_1978363051_19/459-0691319-2802250?_encoding=UTF8&psc=1&refRID=472YQZFZ52F5EQ516KKH\n"
     ]
    },
    {
     "name": "stderr",
     "output_type": "stream",
     "text": [
      "/anaconda3/lib/python3.6/site-packages/urllib3/connectionpool.py:858: InsecureRequestWarning: Unverified HTTPS request is being made. Adding certificate verification is strongly advised. See: https://urllib3.readthedocs.io/en/latest/advanced-usage.html#ssl-warnings\n",
      "  InsecureRequestWarning)\n"
     ]
    },
    {
     "name": "stdout",
     "output_type": "stream",
     "text": [
      "local variable 'READERS' referenced before assignment\n",
      "Processing: https://www.amazon.cn/dp/B01J2XHJXG/ref=zg_bs_1978363051_20/459-0691319-2802250?_encoding=UTF8&psc=1&refRID=472YQZFZ52F5EQ516KKH\n"
     ]
    },
    {
     "name": "stderr",
     "output_type": "stream",
     "text": [
      "/anaconda3/lib/python3.6/site-packages/urllib3/connectionpool.py:858: InsecureRequestWarning: Unverified HTTPS request is being made. Adding certificate verification is strongly advised. See: https://urllib3.readthedocs.io/en/latest/advanced-usage.html#ssl-warnings\n",
      "  InsecureRequestWarning)\n"
     ]
    },
    {
     "name": "stdout",
     "output_type": "stream",
     "text": [
      "local variable 'READERS' referenced before assignment\n",
      "Processing: https://www.amazon.cn/dp/B07D4ZSW77/ref=zg_bs_tab_pd_bsnr_1/459-0691319-2802250?_encoding=UTF8&psc=1&refRID=472YQZFZ52F5EQ516KKH\n"
     ]
    },
    {
     "name": "stderr",
     "output_type": "stream",
     "text": [
      "/anaconda3/lib/python3.6/site-packages/urllib3/connectionpool.py:858: InsecureRequestWarning: Unverified HTTPS request is being made. Adding certificate verification is strongly advised. See: https://urllib3.readthedocs.io/en/latest/advanced-usage.html#ssl-warnings\n",
      "  InsecureRequestWarning)\n"
     ]
    },
    {
     "name": "stdout",
     "output_type": "stream",
     "text": [
      "local variable 'SIZE' referenced before assignment\n",
      "Processing: https://www.amazon.cn/dp/B07C5K7SVD/ref=zg_bs_tab_pd_bsnr_2/459-0691319-2802250?_encoding=UTF8&psc=1&refRID=472YQZFZ52F5EQ516KKH\n"
     ]
    },
    {
     "name": "stderr",
     "output_type": "stream",
     "text": [
      "/anaconda3/lib/python3.6/site-packages/urllib3/connectionpool.py:858: InsecureRequestWarning: Unverified HTTPS request is being made. Adding certificate verification is strongly advised. See: https://urllib3.readthedocs.io/en/latest/advanced-usage.html#ssl-warnings\n",
      "  InsecureRequestWarning)\n"
     ]
    },
    {
     "name": "stdout",
     "output_type": "stream",
     "text": [
      "{'NAME': '创造自己的世界', 'SALE_PRICE': '￥49.80', 'CATEGORY': '少儿绘本与漫画', 'COMMENT_NUMBER': '1 条商品评论', 'PAGES': '48页', 'READERS': '3-6岁', 'FORMAT': '12', 'SALES_RANK': '亚马逊热销商品排名:图书商品里排第10,085名', 'SIZE': '29.4 x 25 x 1.2 cm', 'WEIGHT': '540 g', 'URL': 'https://www.amazon.cn/dp/B07C5K7SVD/ref=zg_bs_tab_pd_bsnr_2/459-0691319-2802250?_encoding=UTF8&psc=1&refRID=472YQZFZ52F5EQ516KKH'}\n",
      "Processing: https://www.amazon.cn/dp/B07D4ZPJXP/ref=zg_bs_tab_pd_bsnr_3/459-0691319-2802250?_encoding=UTF8&psc=1&refRID=472YQZFZ52F5EQ516KKH\n"
     ]
    },
    {
     "name": "stderr",
     "output_type": "stream",
     "text": [
      "/anaconda3/lib/python3.6/site-packages/urllib3/connectionpool.py:858: InsecureRequestWarning: Unverified HTTPS request is being made. Adding certificate verification is strongly advised. See: https://urllib3.readthedocs.io/en/latest/advanced-usage.html#ssl-warnings\n",
      "  InsecureRequestWarning)\n"
     ]
    },
    {
     "name": "stdout",
     "output_type": "stream",
     "text": [
      "local variable 'SIZE' referenced before assignment\n",
      "Processing: https://www.amazon.cn/dp/B0795R113R/ref=zg_bs_660536051_1/459-2731177-5597909?_encoding=UTF8&psc=1&refRID=SKPNJ861RG422ZRH45V1\n"
     ]
    },
    {
     "name": "stderr",
     "output_type": "stream",
     "text": [
      "/anaconda3/lib/python3.6/site-packages/urllib3/connectionpool.py:858: InsecureRequestWarning: Unverified HTTPS request is being made. Adding certificate verification is strongly advised. See: https://urllib3.readthedocs.io/en/latest/advanced-usage.html#ssl-warnings\n",
      "  InsecureRequestWarning)\n"
     ]
    },
    {
     "name": "stdout",
     "output_type": "stream",
     "text": [
      "{'NAME': '幼儿音乐绘本(套装共4册)', 'SALE_PRICE': '￥107.18', 'CATEGORY': '少儿绘本与漫画', 'COMMENT_NUMBER': '17 条商品评论', 'PAGES': '96页', 'READERS': '3-6岁', 'FORMAT': '12', 'SALES_RANK': '亚马逊热销商品排名:图书商品里排第1,212名', 'SIZE': '24.8 x 24.6 x 3.2 cm', 'WEIGHT': '1.26 Kg', 'URL': 'https://www.amazon.cn/dp/B0795R113R/ref=zg_bs_660536051_1/459-2731177-5597909?_encoding=UTF8&psc=1&refRID=SKPNJ861RG422ZRH45V1'}\n",
      "Processing: https://www.amazon.cn/dp/B076MG4TR5/ref=zg_bs_660536051_2/459-2731177-5597909?_encoding=UTF8&psc=1&refRID=SKPNJ861RG422ZRH45V1\n"
     ]
    },
    {
     "name": "stderr",
     "output_type": "stream",
     "text": [
      "/anaconda3/lib/python3.6/site-packages/urllib3/connectionpool.py:858: InsecureRequestWarning: Unverified HTTPS request is being made. Adding certificate verification is strongly advised. See: https://urllib3.readthedocs.io/en/latest/advanced-usage.html#ssl-warnings\n",
      "  InsecureRequestWarning)\n"
     ]
    },
    {
     "name": "stdout",
     "output_type": "stream",
     "text": [
      "{'NAME': '给孩子的音乐（给孩子系列）', 'SALE_PRICE': '￥37.40', 'CATEGORY': '音乐舞蹈', 'COMMENT_NUMBER': '1 条商品评论', 'PAGES': '368页', 'READERS': '7-10岁', 'FORMAT': '32', 'SALES_RANK': '亚马逊热销商品排名:图书商品里排第1,541名', 'SIZE': '21 x 13.6 x 2.8 cm', 'WEIGHT': '458 g', 'URL': 'https://www.amazon.cn/dp/B076MG4TR5/ref=zg_bs_660536051_2/459-2731177-5597909?_encoding=UTF8&psc=1&refRID=SKPNJ861RG422ZRH45V1'}\n",
      "Processing: https://www.amazon.cn/dp/B010PJ79N6/ref=zg_bs_660536051_3/459-2731177-5597909?_encoding=UTF8&psc=1&refRID=SKPNJ861RG422ZRH45V1\n"
     ]
    },
    {
     "name": "stderr",
     "output_type": "stream",
     "text": [
      "/anaconda3/lib/python3.6/site-packages/urllib3/connectionpool.py:858: InsecureRequestWarning: Unverified HTTPS request is being made. Adding certificate verification is strongly advised. See: https://urllib3.readthedocs.io/en/latest/advanced-usage.html#ssl-warnings\n",
      "  InsecureRequestWarning)\n"
     ]
    },
    {
     "name": "stdout",
     "output_type": "stream",
     "text": [
      "{'NAME': '笑猫日记:青蛙合唱团', 'SALE_PRICE': '￥10.80', 'CATEGORY': '儿童文学', 'COMMENT_NUMBER': '27 条商品评论', 'PAGES': '173页', 'READERS': '7-10岁', 'FORMAT': '32', 'SALES_RANK': '亚马逊热销商品排名:图书商品里排第1,593名', 'SIZE': '21.4 x 14.9 x 1.9 cm', 'WEIGHT': '358 g', 'URL': 'https://www.amazon.cn/dp/B010PJ79N6/ref=zg_bs_660536051_3/459-2731177-5597909?_encoding=UTF8&psc=1&refRID=SKPNJ861RG422ZRH45V1'}\n",
      "Processing: https://www.amazon.cn/dp/B013SKX9FQ/ref=zg_bs_660536051_4/459-2731177-5597909?_encoding=UTF8&psc=1&refRID=SKPNJ861RG422ZRH45V1\n"
     ]
    },
    {
     "name": "stderr",
     "output_type": "stream",
     "text": [
      "/anaconda3/lib/python3.6/site-packages/urllib3/connectionpool.py:858: InsecureRequestWarning: Unverified HTTPS request is being made. Adding certificate verification is strongly advised. See: https://urllib3.readthedocs.io/en/latest/advanced-usage.html#ssl-warnings\n",
      "  InsecureRequestWarning)\n"
     ]
    },
    {
     "name": "stdout",
     "output_type": "stream",
     "text": [
      "local variable 'READERS' referenced before assignment\n",
      "Processing: https://www.amazon.cn/dp/B01MD1JLR3/ref=zg_bs_660536051_5/459-2731177-5597909?_encoding=UTF8&psc=1&refRID=SKPNJ861RG422ZRH45V1\n"
     ]
    },
    {
     "name": "stderr",
     "output_type": "stream",
     "text": [
      "/anaconda3/lib/python3.6/site-packages/urllib3/connectionpool.py:858: InsecureRequestWarning: Unverified HTTPS request is being made. Adding certificate verification is strongly advised. See: https://urllib3.readthedocs.io/en/latest/advanced-usage.html#ssl-warnings\n",
      "  InsecureRequestWarning)\n"
     ]
    },
    {
     "name": "stdout",
     "output_type": "stream",
     "text": [
      "{'NAME': '幼儿园古典音乐绘本(套装共5册)(附CD)', 'SALE_PRICE': '￥80.60', 'CATEGORY': '少儿绘本与漫画', 'COMMENT_NUMBER': None, 'PAGES': '135页', 'READERS': '3-6岁', 'FORMAT': '16', 'SALES_RANK': '亚马逊热销商品排名:图书商品里排第5,052名', 'SIZE': '27.2 x 21 x 2.4 cm', 'WEIGHT': '939 g', 'URL': 'https://www.amazon.cn/dp/B01MD1JLR3/ref=zg_bs_660536051_5/459-2731177-5597909?_encoding=UTF8&psc=1&refRID=SKPNJ861RG422ZRH45V1'}\n",
      "Processing: https://www.amazon.cn/dp/B07CXDB7CP/ref=zg_bs_660536051_6/459-2731177-5597909?_encoding=UTF8&psc=1&refRID=SKPNJ861RG422ZRH45V1\n"
     ]
    },
    {
     "name": "stderr",
     "output_type": "stream",
     "text": [
      "/anaconda3/lib/python3.6/site-packages/urllib3/connectionpool.py:858: InsecureRequestWarning: Unverified HTTPS request is being made. Adding certificate verification is strongly advised. See: https://urllib3.readthedocs.io/en/latest/advanced-usage.html#ssl-warnings\n",
      "  InsecureRequestWarning)\n"
     ]
    },
    {
     "name": "stdout",
     "output_type": "stream",
     "text": [
      "local variable 'READERS' referenced before assignment\n",
      "Processing: https://www.amazon.cn/dp/B01E6YAT4C/ref=zg_bs_660536051_7/459-2731177-5597909?_encoding=UTF8&psc=1&refRID=SKPNJ861RG422ZRH45V1\n"
     ]
    },
    {
     "name": "stderr",
     "output_type": "stream",
     "text": [
      "/anaconda3/lib/python3.6/site-packages/urllib3/connectionpool.py:858: InsecureRequestWarning: Unverified HTTPS request is being made. Adding certificate verification is strongly advised. See: https://urllib3.readthedocs.io/en/latest/advanced-usage.html#ssl-warnings\n",
      "  InsecureRequestWarning)\n"
     ]
    },
    {
     "name": "stdout",
     "output_type": "stream",
     "text": [
      "{'NAME': '百年百部中国儿童文学经典书系(2016版):舞蹈课', 'SALE_PRICE': '￥14.70', 'CATEGORY': '儿童文学', 'COMMENT_NUMBER': None, 'PAGES': '177页', 'READERS': '7-10岁', 'FORMAT': '32', 'SALES_RANK': '亚马逊热销商品排名:图书商品里排第6,860名', 'SIZE': '20.8 x 14.4 x 1.8 cm', 'WEIGHT': '259 g', 'URL': 'https://www.amazon.cn/dp/B01E6YAT4C/ref=zg_bs_660536051_7/459-2731177-5597909?_encoding=UTF8&psc=1&refRID=SKPNJ861RG422ZRH45V1'}\n",
      "Processing: https://www.amazon.cn/dp/B012ZYORY8/ref=zg_bs_660536051_8/459-2731177-5597909?_encoding=UTF8&psc=1&refRID=SKPNJ861RG422ZRH45V1\n"
     ]
    },
    {
     "name": "stderr",
     "output_type": "stream",
     "text": [
      "/anaconda3/lib/python3.6/site-packages/urllib3/connectionpool.py:858: InsecureRequestWarning: Unverified HTTPS request is being made. Adding certificate verification is strongly advised. See: https://urllib3.readthedocs.io/en/latest/advanced-usage.html#ssl-warnings\n",
      "  InsecureRequestWarning)\n"
     ]
    },
    {
     "name": "stdout",
     "output_type": "stream",
     "text": [
      "{'NAME': 'DK少儿艺术百科书系:美术+音乐+舞蹈等(套装共4册)', 'SALE_PRICE': '￥282.24', 'CATEGORY': '科普百科', 'COMMENT_NUMBER': '16 条商品评论', 'PAGES': '566页', 'READERS': '7-10岁', 'FORMAT': '8', 'SALES_RANK': '亚马逊热销商品排名:图书商品里排第8,014名', 'SIZE': '32 x 26.4 x 6.2 cm', 'WEIGHT': '4.08 Kg', 'URL': 'https://www.amazon.cn/dp/B012ZYORY8/ref=zg_bs_660536051_8/459-2731177-5597909?_encoding=UTF8&psc=1&refRID=SKPNJ861RG422ZRH45V1'}\n",
      "Processing: https://www.amazon.cn/dp/B06X98973B/ref=zg_bs_660536051_9/459-2731177-5597909?_encoding=UTF8&psc=1&refRID=SKPNJ861RG422ZRH45V1\n"
     ]
    },
    {
     "name": "stderr",
     "output_type": "stream",
     "text": [
      "/anaconda3/lib/python3.6/site-packages/urllib3/connectionpool.py:858: InsecureRequestWarning: Unverified HTTPS request is being made. Adding certificate verification is strongly advised. See: https://urllib3.readthedocs.io/en/latest/advanced-usage.html#ssl-warnings\n",
      "  InsecureRequestWarning)\n"
     ]
    },
    {
     "name": "stdout",
     "output_type": "stream",
     "text": [
      "{'NAME': '我的第一本古典音乐启蒙书(附CD光盘)', 'SALE_PRICE': '￥33.20', 'CATEGORY': '幼儿启蒙', 'COMMENT_NUMBER': '1 条商品评论', 'PAGES': '62页', 'READERS': '3-6岁', 'FORMAT': '12', 'SALES_RANK': '亚马逊热销商品排名:图书商品里排第8,038名', 'SIZE': '25 x 24.8 x 0.8 cm', 'WEIGHT': '381 g', 'URL': 'https://www.amazon.cn/dp/B06X98973B/ref=zg_bs_660536051_9/459-2731177-5597909?_encoding=UTF8&psc=1&refRID=SKPNJ861RG422ZRH45V1'}\n",
      "Processing: https://www.amazon.cn/dp/B0050GT4WE/ref=zg_bs_660536051_10/459-2731177-5597909?_encoding=UTF8&psc=1&refRID=SKPNJ861RG422ZRH45V1\n"
     ]
    },
    {
     "name": "stderr",
     "output_type": "stream",
     "text": [
      "/anaconda3/lib/python3.6/site-packages/urllib3/connectionpool.py:858: InsecureRequestWarning: Unverified HTTPS request is being made. Adding certificate verification is strongly advised. See: https://urllib3.readthedocs.io/en/latest/advanced-usage.html#ssl-warnings\n",
      "  InsecureRequestWarning)\n"
     ]
    },
    {
     "name": "stdout",
     "output_type": "stream",
     "text": [
      "{'NAME': '儿童古典音乐绘本第1辑(大师经典版)', 'SALE_PRICE': '￥108.60', 'CATEGORY': '少儿绘本与漫画', 'COMMENT_NUMBER': '50 条商品评论', 'PAGES': '248页', 'READERS': '7-10岁', 'FORMAT': '16', 'SALES_RANK': '亚马逊热销商品排名:图书商品里排第9,557名', 'SIZE': '28.6 x 23.2 x 4.2 cm', 'WEIGHT': '1.74 Kg', 'URL': 'https://www.amazon.cn/dp/B0050GT4WE/ref=zg_bs_660536051_10/459-2731177-5597909?_encoding=UTF8&psc=1&refRID=SKPNJ861RG422ZRH45V1'}\n",
      "Processing: https://www.amazon.cn/dp/B01BR4GM9A/ref=zg_bs_660536051_11/459-2731177-5597909?_encoding=UTF8&psc=1&refRID=SKPNJ861RG422ZRH45V1\n"
     ]
    },
    {
     "name": "stderr",
     "output_type": "stream",
     "text": [
      "/anaconda3/lib/python3.6/site-packages/urllib3/connectionpool.py:858: InsecureRequestWarning: Unverified HTTPS request is being made. Adding certificate verification is strongly advised. See: https://urllib3.readthedocs.io/en/latest/advanced-usage.html#ssl-warnings\n",
      "  InsecureRequestWarning)\n"
     ]
    },
    {
     "name": "stdout",
     "output_type": "stream",
     "text": [
      "local variable 'READERS' referenced before assignment\n",
      "Processing: https://www.amazon.cn/dp/B003WMBTYO/ref=zg_bs_660536051_12/459-2731177-5597909?_encoding=UTF8&psc=1&refRID=SKPNJ861RG422ZRH45V1\n"
     ]
    },
    {
     "name": "stderr",
     "output_type": "stream",
     "text": [
      "/anaconda3/lib/python3.6/site-packages/urllib3/connectionpool.py:858: InsecureRequestWarning: Unverified HTTPS request is being made. Adding certificate verification is strongly advised. See: https://urllib3.readthedocs.io/en/latest/advanced-usage.html#ssl-warnings\n",
      "  InsecureRequestWarning)\n"
     ]
    },
    {
     "name": "stdout",
     "output_type": "stream",
     "text": [
      "{'NAME': '动物小说大王沈石溪品藏书系:黑熊舞蹈家', 'SALE_PRICE': '￥16.00', 'CATEGORY': '儿童文学', 'COMMENT_NUMBER': '72 条商品评论', 'PAGES': '237页', 'READERS': '11-14岁', 'FORMAT': '32', 'SALES_RANK': '亚马逊热销商品排名:图书商品里排第9,824名', 'SIZE': '20.8 x 14.6 x 2.2 cm', 'WEIGHT': '358 g', 'URL': 'https://www.amazon.cn/dp/B003WMBTYO/ref=zg_bs_660536051_12/459-2731177-5597909?_encoding=UTF8&psc=1&refRID=SKPNJ861RG422ZRH45V1'}\n",
      "Processing: https://www.amazon.cn/dp/B009EOKW0G/ref=zg_bs_660536051_13/459-2731177-5597909?_encoding=UTF8&psc=1&refRID=SKPNJ861RG422ZRH45V1\n"
     ]
    },
    {
     "name": "stderr",
     "output_type": "stream",
     "text": [
      "/anaconda3/lib/python3.6/site-packages/urllib3/connectionpool.py:858: InsecureRequestWarning: Unverified HTTPS request is being made. Adding certificate verification is strongly advised. See: https://urllib3.readthedocs.io/en/latest/advanced-usage.html#ssl-warnings\n",
      "  InsecureRequestWarning)\n"
     ]
    },
    {
     "name": "stdout",
     "output_type": "stream",
     "text": [
      "{'NAME': '菲伯尔钢琴基础教程(第2级):技巧和演奏', 'SALE_PRICE': '￥28.90', 'CATEGORY': '音乐舞蹈', 'COMMENT_NUMBER': '14 条商品评论', 'PAGES': '55页', 'READERS': '11-14岁', 'FORMAT': '16', 'SALES_RANK': '亚马逊热销商品排名:图书商品里排第10,925名', 'SIZE': '29.6 x 21.2 x 1 cm', 'WEIGHT': '222 g', 'URL': 'https://www.amazon.cn/dp/B009EOKW0G/ref=zg_bs_660536051_13/459-2731177-5597909?_encoding=UTF8&psc=1&refRID=SKPNJ861RG422ZRH45V1'}\n",
      "Processing: https://www.amazon.cn/dp/B0773C4G7K/ref=zg_bs_660536051_14/459-2731177-5597909?_encoding=UTF8&psc=1&refRID=SKPNJ861RG422ZRH45V1\n"
     ]
    },
    {
     "name": "stderr",
     "output_type": "stream",
     "text": [
      "/anaconda3/lib/python3.6/site-packages/urllib3/connectionpool.py:858: InsecureRequestWarning: Unverified HTTPS request is being made. Adding certificate verification is strongly advised. See: https://urllib3.readthedocs.io/en/latest/advanced-usage.html#ssl-warnings\n",
      "  InsecureRequestWarning)\n"
     ]
    },
    {
     "name": "stdout",
     "output_type": "stream",
     "text": [
      "{'NAME': '德国经典儿童音乐启蒙书:一起来听音乐会+各种各样的乐器+第一次看儿童歌剧等(套装共4册)', 'SALE_PRICE': '￥113.10', 'CATEGORY': '少儿绘本与漫画', 'COMMENT_NUMBER': None, 'PAGES': '96页', 'READERS': '3-6岁', 'FORMAT': '16', 'SALES_RANK': '亚马逊热销商品排名:图书商品里排第13,271名', 'SIZE': '27.6 x 22 x 2.8 cm', 'WEIGHT': '1.3 Kg', 'URL': 'https://www.amazon.cn/dp/B0773C4G7K/ref=zg_bs_660536051_14/459-2731177-5597909?_encoding=UTF8&psc=1&refRID=SKPNJ861RG422ZRH45V1'}\n",
      "Processing: https://www.amazon.cn/dp/B008AFF36I/ref=zg_bs_660536051_15/459-2731177-5597909?_encoding=UTF8&psc=1&refRID=SKPNJ861RG422ZRH45V1\n"
     ]
    },
    {
     "name": "stderr",
     "output_type": "stream",
     "text": [
      "/anaconda3/lib/python3.6/site-packages/urllib3/connectionpool.py:858: InsecureRequestWarning: Unverified HTTPS request is being made. Adding certificate verification is strongly advised. See: https://urllib3.readthedocs.io/en/latest/advanced-usage.html#ssl-warnings\n",
      "  InsecureRequestWarning)\n"
     ]
    },
    {
     "name": "stdout",
     "output_type": "stream",
     "text": [
      "{'NAME': '亲子音乐DIY:音乐是玩出来的', 'SALE_PRICE': '￥21.80', 'CATEGORY': '音乐舞蹈', 'COMMENT_NUMBER': '2 条商品评论', 'PAGES': '230页', 'READERS': '3-6岁', 'FORMAT': '16', 'SALES_RANK': '亚马逊热销商品排名:图书商品里排第13,542名', 'SIZE': '23.8 x 16.8 x 1.8 cm', 'WEIGHT': '399 g', 'URL': 'https://www.amazon.cn/dp/B008AFF36I/ref=zg_bs_660536051_15/459-2731177-5597909?_encoding=UTF8&psc=1&refRID=SKPNJ861RG422ZRH45V1'}\n",
      "Processing: https://www.amazon.cn/dp/B01MQFHZFT/ref=zg_bs_660536051_16/459-2731177-5597909?_encoding=UTF8&psc=1&refRID=SKPNJ861RG422ZRH45V1\n"
     ]
    },
    {
     "name": "stderr",
     "output_type": "stream",
     "text": [
      "/anaconda3/lib/python3.6/site-packages/urllib3/connectionpool.py:858: InsecureRequestWarning: Unverified HTTPS request is being made. Adding certificate verification is strongly advised. See: https://urllib3.readthedocs.io/en/latest/advanced-usage.html#ssl-warnings\n",
      "  InsecureRequestWarning)\n"
     ]
    },
    {
     "name": "stdout",
     "output_type": "stream",
     "text": [
      "local variable 'READERS' referenced before assignment\n",
      "Processing: https://www.amazon.cn/dp/B0725PCH9Q/ref=zg_bs_660536051_17/459-2731177-5597909?_encoding=UTF8&psc=1&refRID=SKPNJ861RG422ZRH45V1\n"
     ]
    },
    {
     "name": "stderr",
     "output_type": "stream",
     "text": [
      "/anaconda3/lib/python3.6/site-packages/urllib3/connectionpool.py:858: InsecureRequestWarning: Unverified HTTPS request is being made. Adding certificate verification is strongly advised. See: https://urllib3.readthedocs.io/en/latest/advanced-usage.html#ssl-warnings\n",
      "  InsecureRequestWarning)\n"
     ]
    },
    {
     "name": "stdout",
     "output_type": "stream",
     "text": [
      "{'NAME': '国际大奖小说·注音版--钢琴小精灵', 'SALE_PRICE': '￥17.64', 'CATEGORY': '儿童文学', 'COMMENT_NUMBER': None, 'PAGES': '151页', 'READERS': '7-10岁', 'FORMAT': '16', 'SALES_RANK': '亚马逊热销商品排名:图书商品里排第15,318名', 'SIZE': '21 x 16.4 x 1.6 cm', 'WEIGHT': '281 g', 'URL': 'https://www.amazon.cn/dp/B0725PCH9Q/ref=zg_bs_660536051_17/459-2731177-5597909?_encoding=UTF8&psc=1&refRID=SKPNJ861RG422ZRH45V1'}\n",
      "Processing: https://www.amazon.cn/dp/B00PSU2HVC/ref=zg_bs_660536051_18/459-2731177-5597909?_encoding=UTF8&psc=1&refRID=SKPNJ861RG422ZRH45V1\n"
     ]
    },
    {
     "name": "stderr",
     "output_type": "stream",
     "text": [
      "/anaconda3/lib/python3.6/site-packages/urllib3/connectionpool.py:858: InsecureRequestWarning: Unverified HTTPS request is being made. Adding certificate verification is strongly advised. See: https://urllib3.readthedocs.io/en/latest/advanced-usage.html#ssl-warnings\n",
      "  InsecureRequestWarning)\n"
     ]
    },
    {
     "name": "stdout",
     "output_type": "stream",
     "text": [
      "local variable 'READERS' referenced before assignment\n",
      "Processing: https://www.amazon.cn/dp/B004QQ5F4A/ref=zg_bs_660536051_19/459-2731177-5597909?_encoding=UTF8&psc=1&refRID=SKPNJ861RG422ZRH45V1\n"
     ]
    },
    {
     "name": "stderr",
     "output_type": "stream",
     "text": [
      "/anaconda3/lib/python3.6/site-packages/urllib3/connectionpool.py:858: InsecureRequestWarning: Unverified HTTPS request is being made. Adding certificate verification is strongly advised. See: https://urllib3.readthedocs.io/en/latest/advanced-usage.html#ssl-warnings\n",
      "  InsecureRequestWarning)\n"
     ]
    },
    {
     "name": "stdout",
     "output_type": "stream",
     "text": [
      "{'NAME': '婴幼儿早期音乐启蒙教育(0～42个月)(附CD光盘6张)', 'SALE_PRICE': '￥72.20', 'CATEGORY': '音乐舞蹈', 'COMMENT_NUMBER': '1 条商品评论', 'PAGES': '104页', 'READERS': '中国教育学会0～3岁早期教育研究课题项目·复旦卓越·全国学前教育专业系列', 'FORMAT': '16', 'SALES_RANK': '亚马逊热销商品排名:图书商品里排第15,781名', 'SIZE': '29.2 x 20.8 x 1 cm', 'WEIGHT': '422 g', 'URL': 'https://www.amazon.cn/dp/B004QQ5F4A/ref=zg_bs_660536051_19/459-2731177-5597909?_encoding=UTF8&psc=1&refRID=SKPNJ861RG422ZRH45V1'}\n",
      "Processing: https://www.amazon.cn/dp/B01D4LIJXG/ref=zg_bs_660536051_20/459-2731177-5597909?_encoding=UTF8&psc=1&refRID=SKPNJ861RG422ZRH45V1\n"
     ]
    },
    {
     "name": "stderr",
     "output_type": "stream",
     "text": [
      "/anaconda3/lib/python3.6/site-packages/urllib3/connectionpool.py:858: InsecureRequestWarning: Unverified HTTPS request is being made. Adding certificate verification is strongly advised. See: https://urllib3.readthedocs.io/en/latest/advanced-usage.html#ssl-warnings\n",
      "  InsecureRequestWarning)\n"
     ]
    },
    {
     "name": "stdout",
     "output_type": "stream",
     "text": [
      "{'NAME': 'DK儿童目击者•预备级(套装共20册)', 'SALE_PRICE': '￥157.94', 'CATEGORY': '科普百科', 'COMMENT_NUMBER': '1 条商品评论', 'PAGES': '640页', 'READERS': '0-3岁', 'FORMAT': '32', 'SALES_RANK': '亚马逊热销商品排名:图书商品里排第16,287名', 'SIZE': '25.8 x 20 x 18 cm', 'WEIGHT': '4.72 Kg', 'URL': 'https://www.amazon.cn/dp/B01D4LIJXG/ref=zg_bs_660536051_20/459-2731177-5597909?_encoding=UTF8&psc=1&refRID=SKPNJ861RG422ZRH45V1'}\n",
      "Processing: https://www.amazon.cn/dp/B07CXDB7CP/ref=zg_bs_tab_pd_bsnr_1/459-2731177-5597909?_encoding=UTF8&psc=1&refRID=SKPNJ861RG422ZRH45V1\n"
     ]
    },
    {
     "name": "stderr",
     "output_type": "stream",
     "text": [
      "/anaconda3/lib/python3.6/site-packages/urllib3/connectionpool.py:858: InsecureRequestWarning: Unverified HTTPS request is being made. Adding certificate verification is strongly advised. See: https://urllib3.readthedocs.io/en/latest/advanced-usage.html#ssl-warnings\n",
      "  InsecureRequestWarning)\n"
     ]
    },
    {
     "name": "stdout",
     "output_type": "stream",
     "text": [
      "local variable 'READERS' referenced before assignment\n",
      "Processing: https://www.amazon.cn/dp/B079JPNZ9Z/ref=zg_bs_tab_pd_bsnr_2/459-2731177-5597909?_encoding=UTF8&psc=1&refRID=SKPNJ861RG422ZRH45V1\n"
     ]
    },
    {
     "name": "stderr",
     "output_type": "stream",
     "text": [
      "/anaconda3/lib/python3.6/site-packages/urllib3/connectionpool.py:858: InsecureRequestWarning: Unverified HTTPS request is being made. Adding certificate verification is strongly advised. See: https://urllib3.readthedocs.io/en/latest/advanced-usage.html#ssl-warnings\n",
      "  InsecureRequestWarning)\n"
     ]
    },
    {
     "name": "stdout",
     "output_type": "stream",
     "text": [
      "local variable 'READERS' referenced before assignment\n",
      "Processing: https://www.amazon.cn/dp/B07B12HXL6/ref=zg_bs_tab_pd_bsnr_3/459-2731177-5597909?_encoding=UTF8&psc=1&refRID=SKPNJ861RG422ZRH45V1\n"
     ]
    },
    {
     "name": "stderr",
     "output_type": "stream",
     "text": [
      "/anaconda3/lib/python3.6/site-packages/urllib3/connectionpool.py:858: InsecureRequestWarning: Unverified HTTPS request is being made. Adding certificate verification is strongly advised. See: https://urllib3.readthedocs.io/en/latest/advanced-usage.html#ssl-warnings\n",
      "  InsecureRequestWarning)\n"
     ]
    },
    {
     "name": "stdout",
     "output_type": "stream",
     "text": [
      "local variable 'READERS' referenced before assignment\n",
      "Processing: https://www.amazon.cn/dp/B01M8KPLAR/ref=zg_bs_660532051_1/459-6157728-6146345?_encoding=UTF8&psc=1&refRID=7RJ8VFBX12R4WVV650T6\n"
     ]
    },
    {
     "name": "stderr",
     "output_type": "stream",
     "text": [
      "/anaconda3/lib/python3.6/site-packages/urllib3/connectionpool.py:858: InsecureRequestWarning: Unverified HTTPS request is being made. Adding certificate verification is strongly advised. See: https://urllib3.readthedocs.io/en/latest/advanced-usage.html#ssl-warnings\n",
      "  InsecureRequestWarning)\n"
     ]
    },
    {
     "name": "stdout",
     "output_type": "stream",
     "text": [
      "local variable 'READERS' referenced before assignment\n",
      "Processing: https://www.amazon.cn/dp/B00358JRG2/ref=zg_bs_660532051_2/459-6157728-6146345?_encoding=UTF8&psc=1&refRID=7RJ8VFBX12R4WVV650T6\n"
     ]
    },
    {
     "name": "stderr",
     "output_type": "stream",
     "text": [
      "/anaconda3/lib/python3.6/site-packages/urllib3/connectionpool.py:858: InsecureRequestWarning: Unverified HTTPS request is being made. Adding certificate verification is strongly advised. See: https://urllib3.readthedocs.io/en/latest/advanced-usage.html#ssl-warnings\n",
      "  InsecureRequestWarning)\n"
     ]
    },
    {
     "name": "stdout",
     "output_type": "stream",
     "text": [
      "{'NAME': '三字经•百家姓•弟子规(儿童注音读本)（两种图片随机发放）', 'SALE_PRICE': '￥26.31', 'CATEGORY': '国学启蒙', 'COMMENT_NUMBER': '95 条商品评论', 'PAGES': '189页', 'READERS': '3-6岁', 'FORMAT': '16', 'SALES_RANK': '亚马逊热销商品排名:图书商品里排第993名', 'SIZE': '27.2 x 21.5 x 1.9 cm', 'WEIGHT': '821 g', 'URL': 'https://www.amazon.cn/dp/B00358JRG2/ref=zg_bs_660532051_2/459-6157728-6146345?_encoding=UTF8&psc=1&refRID=7RJ8VFBX12R4WVV650T6'}\n",
      "Processing: https://www.amazon.cn/dp/B077RJHV9V/ref=zg_bs_660532051_3/459-6157728-6146345?_encoding=UTF8&psc=1&refRID=7RJ8VFBX12R4WVV650T6\n"
     ]
    },
    {
     "name": "stderr",
     "output_type": "stream",
     "text": [
      "/anaconda3/lib/python3.6/site-packages/urllib3/connectionpool.py:858: InsecureRequestWarning: Unverified HTTPS request is being made. Adding certificate verification is strongly advised. See: https://urllib3.readthedocs.io/en/latest/advanced-usage.html#ssl-warnings\n",
      "  InsecureRequestWarning)\n"
     ]
    },
    {
     "name": "stdout",
     "output_type": "stream",
     "text": [
      "{'NAME': '易中天中华经典故事(套装共6册)(附独家智慧手卡)', 'SALE_PRICE': '￥111.67', 'CATEGORY': '儿童文学', 'COMMENT_NUMBER': '19 条商品评论', 'PAGES': '968页', 'READERS': '7-10岁', 'FORMAT': '32', 'SALES_RANK': '亚马逊热销商品排名:图书商品里排第1,692名', 'SIZE': '34 x 22 x 14.8 cm', 'WEIGHT': '1.28 Kg', 'URL': 'https://www.amazon.cn/dp/B077RJHV9V/ref=zg_bs_660532051_3/459-6157728-6146345?_encoding=UTF8&psc=1&refRID=7RJ8VFBX12R4WVV650T6'}\n",
      "Processing: https://www.amazon.cn/dp/B07BXTP119/ref=zg_bs_660532051_4/459-6157728-6146345?_encoding=UTF8&psc=1&refRID=7RJ8VFBX12R4WVV650T6\n"
     ]
    },
    {
     "name": "stderr",
     "output_type": "stream",
     "text": [
      "/anaconda3/lib/python3.6/site-packages/urllib3/connectionpool.py:858: InsecureRequestWarning: Unverified HTTPS request is being made. Adding certificate verification is strongly advised. See: https://urllib3.readthedocs.io/en/latest/advanced-usage.html#ssl-warnings\n",
      "  InsecureRequestWarning)\n"
     ]
    },
    {
     "name": "stdout",
     "output_type": "stream",
     "text": [
      "local variable 'PAGES' referenced before assignment\n",
      "Processing: https://www.amazon.cn/dp/B00H4SZDA8/ref=zg_bs_660532051_5/459-6157728-6146345?_encoding=UTF8&psc=1&refRID=7RJ8VFBX12R4WVV650T6\n"
     ]
    },
    {
     "name": "stderr",
     "output_type": "stream",
     "text": [
      "/anaconda3/lib/python3.6/site-packages/urllib3/connectionpool.py:858: InsecureRequestWarning: Unverified HTTPS request is being made. Adding certificate verification is strongly advised. See: https://urllib3.readthedocs.io/en/latest/advanced-usage.html#ssl-warnings\n",
      "  InsecureRequestWarning)\n"
     ]
    },
    {
     "name": "stdout",
     "output_type": "stream",
     "text": [
      "{'NAME': '中华蒙学经典:幼学琼林(套装共2册)', 'SALE_PRICE': '￥49.70', 'CATEGORY': '国学启蒙', 'COMMENT_NUMBER': '16 条商品评论', 'PAGES': '554页', 'READERS': '3-6岁', 'FORMAT': '16', 'SALES_RANK': '亚马逊热销商品排名:图书商品里排第2,635名', 'SIZE': '22.4 x 16.4 x 3.6 cm', 'WEIGHT': '721 g', 'URL': 'https://www.amazon.cn/dp/B00H4SZDA8/ref=zg_bs_660532051_5/459-6157728-6146345?_encoding=UTF8&psc=1&refRID=7RJ8VFBX12R4WVV650T6'}\n",
      "Processing: https://www.amazon.cn/dp/B008LQ96I2/ref=zg_bs_660532051_6/459-6157728-6146345?_encoding=UTF8&psc=1&refRID=7RJ8VFBX12R4WVV650T6\n"
     ]
    },
    {
     "name": "stderr",
     "output_type": "stream",
     "text": [
      "/anaconda3/lib/python3.6/site-packages/urllib3/connectionpool.py:858: InsecureRequestWarning: Unverified HTTPS request is being made. Adding certificate verification is strongly advised. See: https://urllib3.readthedocs.io/en/latest/advanced-usage.html#ssl-warnings\n",
      "  InsecureRequestWarning)\n"
     ]
    },
    {
     "name": "stdout",
     "output_type": "stream",
     "text": [
      "{'NAME': '好宝宝国学启蒙:弟子规(彩图注音版)', 'SALE_PRICE': '￥13.80', 'CATEGORY': '幼儿启蒙', 'COMMENT_NUMBER': '116 条商品评论', 'PAGES': '123页', 'READERS': '3-6岁', 'FORMAT': '24', 'SALES_RANK': '亚马逊热销商品排名:图书商品里排第2,752名', 'SIZE': '18.4 x 17 x 1 cm', 'WEIGHT': '381 g', 'URL': 'https://www.amazon.cn/dp/B008LQ96I2/ref=zg_bs_660532051_6/459-6157728-6146345?_encoding=UTF8&psc=1&refRID=7RJ8VFBX12R4WVV650T6'}\n",
      "Processing: https://www.amazon.cn/dp/B00CK2UG1O/ref=zg_bs_660532051_7/459-6157728-6146345?_encoding=UTF8&psc=1&refRID=7RJ8VFBX12R4WVV650T6\n"
     ]
    },
    {
     "name": "stderr",
     "output_type": "stream",
     "text": [
      "/anaconda3/lib/python3.6/site-packages/urllib3/connectionpool.py:858: InsecureRequestWarning: Unverified HTTPS request is being made. Adding certificate verification is strongly advised. See: https://urllib3.readthedocs.io/en/latest/advanced-usage.html#ssl-warnings\n",
      "  InsecureRequestWarning)\n"
     ]
    },
    {
     "name": "stdout",
     "output_type": "stream",
     "text": [
      "{'NAME': '中华传统蒙学精华注音全本:声律启蒙•笠翁对韵(第2版)', 'SALE_PRICE': '￥16.20', 'CATEGORY': '国学启蒙', 'COMMENT_NUMBER': '119 条商品评论', 'PAGES': '236页', 'READERS': '11-14岁', 'FORMAT': '16', 'SALES_RANK': '亚马逊热销商品排名:图书商品里排第2,993名', 'SIZE': '24.4 x 17.3 x 2.5 cm', 'WEIGHT': '386 g', 'URL': 'https://www.amazon.cn/dp/B00CK2UG1O/ref=zg_bs_660532051_7/459-6157728-6146345?_encoding=UTF8&psc=1&refRID=7RJ8VFBX12R4WVV650T6'}\n",
      "Processing: https://www.amazon.cn/dp/B00CR6LTE6/ref=zg_bs_660532051_8/459-6157728-6146345?_encoding=UTF8&psc=1&refRID=7RJ8VFBX12R4WVV650T6\n"
     ]
    },
    {
     "name": "stderr",
     "output_type": "stream",
     "text": [
      "/anaconda3/lib/python3.6/site-packages/urllib3/connectionpool.py:858: InsecureRequestWarning: Unverified HTTPS request is being made. Adding certificate verification is strongly advised. See: https://urllib3.readthedocs.io/en/latest/advanced-usage.html#ssl-warnings\n",
      "  InsecureRequestWarning)\n"
     ]
    },
    {
     "name": "stdout",
     "output_type": "stream",
     "text": [
      "{'NAME': '国学经典发声系列:我会读《三字经》', 'SALE_PRICE': '￥44.00', 'CATEGORY': '幼儿启蒙', 'COMMENT_NUMBER': '9 条商品评论', 'PAGES': '41页', 'READERS': '3-6岁', 'FORMAT': '16', 'SALES_RANK': '亚马逊热销商品排名:图书商品里排第3,036名', 'SIZE': '27 x 18.5 x 2 cm', 'WEIGHT': '458 g', 'URL': 'https://www.amazon.cn/dp/B00CR6LTE6/ref=zg_bs_660532051_8/459-6157728-6146345?_encoding=UTF8&psc=1&refRID=7RJ8VFBX12R4WVV650T6'}\n",
      "Processing: https://www.amazon.cn/dp/B00CAJXTKW/ref=zg_bs_660532051_9/459-6157728-6146345?_encoding=UTF8&psc=1&refRID=7RJ8VFBX12R4WVV650T6\n"
     ]
    },
    {
     "name": "stderr",
     "output_type": "stream",
     "text": [
      "/anaconda3/lib/python3.6/site-packages/urllib3/connectionpool.py:858: InsecureRequestWarning: Unverified HTTPS request is being made. Adding certificate verification is strongly advised. See: https://urllib3.readthedocs.io/en/latest/advanced-usage.html#ssl-warnings\n",
      "  InsecureRequestWarning)\n"
     ]
    },
    {
     "name": "stdout",
     "output_type": "stream",
     "text": [
      "{'NAME': '国学经典发声系列:我会读《弟子规》(两种封面', 'SALE_PRICE': '￥44.00', 'CATEGORY': '幼儿启蒙', 'COMMENT_NUMBER': '5 条商品评论', 'PAGES': '41页', 'READERS': '3-6岁', 'FORMAT': '16', 'SALES_RANK': '亚马逊热销商品排名:图书商品里排第4,075名', 'SIZE': '27 x 18.5 x 2 cm', 'WEIGHT': '458 g', 'URL': 'https://www.amazon.cn/dp/B00CAJXTKW/ref=zg_bs_660532051_9/459-6157728-6146345?_encoding=UTF8&psc=1&refRID=7RJ8VFBX12R4WVV650T6'}\n",
      "Processing: https://www.amazon.cn/dp/B01MS2L2JN/ref=zg_bs_660532051_10/459-6157728-6146345?_encoding=UTF8&psc=1&refRID=7RJ8VFBX12R4WVV650T6\n"
     ]
    },
    {
     "name": "stderr",
     "output_type": "stream",
     "text": [
      "/anaconda3/lib/python3.6/site-packages/urllib3/connectionpool.py:858: InsecureRequestWarning: Unverified HTTPS request is being made. Adding certificate verification is strongly advised. See: https://urllib3.readthedocs.io/en/latest/advanced-usage.html#ssl-warnings\n",
      "  InsecureRequestWarning)\n"
     ]
    },
    {
     "name": "stdout",
     "output_type": "stream",
     "text": [
      "local variable 'PAGES' referenced before assignment\n",
      "Processing: https://www.amazon.cn/dp/B00JO9LYVC/ref=zg_bs_660532051_11/459-6157728-6146345?_encoding=UTF8&psc=1&refRID=7RJ8VFBX12R4WVV650T6\n"
     ]
    },
    {
     "name": "stderr",
     "output_type": "stream",
     "text": [
      "/anaconda3/lib/python3.6/site-packages/urllib3/connectionpool.py:858: InsecureRequestWarning: Unverified HTTPS request is being made. Adding certificate verification is strongly advised. See: https://urllib3.readthedocs.io/en/latest/advanced-usage.html#ssl-warnings\n",
      "  InsecureRequestWarning)\n"
     ]
    },
    {
     "name": "stdout",
     "output_type": "stream",
     "text": [
      "local variable 'READERS' referenced before assignment\n",
      "Processing: https://www.amazon.cn/dp/B0197R4K0M/ref=zg_bs_660532051_12/459-6157728-6146345?_encoding=UTF8&psc=1&refRID=7RJ8VFBX12R4WVV650T6\n"
     ]
    },
    {
     "name": "stderr",
     "output_type": "stream",
     "text": [
      "/anaconda3/lib/python3.6/site-packages/urllib3/connectionpool.py:858: InsecureRequestWarning: Unverified HTTPS request is being made. Adding certificate verification is strongly advised. See: https://urllib3.readthedocs.io/en/latest/advanced-usage.html#ssl-warnings\n",
      "  InsecureRequestWarning)\n"
     ]
    },
    {
     "name": "stdout",
     "output_type": "stream",
     "text": [
      "{'NAME': '蜗牛国学馆早早读有声版:千家诗早早读', 'SALE_PRICE': '￥10.80', 'CATEGORY': '儿童文学', 'COMMENT_NUMBER': None, 'PAGES': '155页', 'READERS': '3-6岁', 'FORMAT': '16', 'SALES_RANK': '亚马逊热销商品排名:图书商品里排第5,276名', 'SIZE': '21.4 x 16.6 x 1.6 cm', 'WEIGHT': '422 g', 'URL': 'https://www.amazon.cn/dp/B0197R4K0M/ref=zg_bs_660532051_12/459-6157728-6146345?_encoding=UTF8&psc=1&refRID=7RJ8VFBX12R4WVV650T6'}\n",
      "Processing: https://www.amazon.cn/dp/B00UNFEKEY/ref=zg_bs_660532051_13/459-6157728-6146345?_encoding=UTF8&psc=1&refRID=7RJ8VFBX12R4WVV650T6\n"
     ]
    },
    {
     "name": "stderr",
     "output_type": "stream",
     "text": [
      "/anaconda3/lib/python3.6/site-packages/urllib3/connectionpool.py:858: InsecureRequestWarning: Unverified HTTPS request is being made. Adding certificate verification is strongly advised. See: https://urllib3.readthedocs.io/en/latest/advanced-usage.html#ssl-warnings\n",
      "  InsecureRequestWarning)\n"
     ]
    },
    {
     "name": "stdout",
     "output_type": "stream",
     "text": [
      "{'NAME': '漫画中国:漫画国学启蒙(套装共8册)', 'SALE_PRICE': '￥107.00', 'CATEGORY': '少儿绘本与漫画', 'COMMENT_NUMBER': '14 条商品评论', 'PAGES': '1200页', 'READERS': '7-10岁', 'FORMAT': '16', 'SALES_RANK': '亚马逊热销商品排名:图书商品里排第5,408名', 'SIZE': '24.4 x 18 x 8.6 cm', 'WEIGHT': '2.64 Kg', 'URL': 'https://www.amazon.cn/dp/B00UNFEKEY/ref=zg_bs_660532051_13/459-6157728-6146345?_encoding=UTF8&psc=1&refRID=7RJ8VFBX12R4WVV650T6'}\n",
      "Processing: https://www.amazon.cn/dp/B016M9ON2I/ref=zg_bs_660532051_14/459-6157728-6146345?_encoding=UTF8&psc=1&refRID=7RJ8VFBX12R4WVV650T6\n"
     ]
    },
    {
     "name": "stderr",
     "output_type": "stream",
     "text": [
      "/anaconda3/lib/python3.6/site-packages/urllib3/connectionpool.py:858: InsecureRequestWarning: Unverified HTTPS request is being made. Adding certificate verification is strongly advised. See: https://urllib3.readthedocs.io/en/latest/advanced-usage.html#ssl-warnings\n",
      "  InsecureRequestWarning)\n"
     ]
    },
    {
     "name": "stdout",
     "output_type": "stream",
     "text": [
      "{'NAME': '中华国学启蒙经典:不可不读的三字经故事', 'SALE_PRICE': '￥14.30', 'CATEGORY': '国学启蒙', 'COMMENT_NUMBER': '5 条商品评论', 'PAGES': '207页', 'READERS': '7-10岁', 'FORMAT': '24', 'SALES_RANK': '亚马逊热销商品排名:图书商品里排第5,409名', 'SIZE': '20.4 x 17.4 x 1.4 cm', 'WEIGHT': '381 g', 'URL': 'https://www.amazon.cn/dp/B016M9ON2I/ref=zg_bs_660532051_14/459-6157728-6146345?_encoding=UTF8&psc=1&refRID=7RJ8VFBX12R4WVV650T6'}\n",
      "Processing: https://www.amazon.cn/dp/B079FNTYX1/ref=zg_bs_660532051_15/459-6157728-6146345?_encoding=UTF8&psc=1&refRID=7RJ8VFBX12R4WVV650T6\n"
     ]
    },
    {
     "name": "stderr",
     "output_type": "stream",
     "text": [
      "/anaconda3/lib/python3.6/site-packages/urllib3/connectionpool.py:858: InsecureRequestWarning: Unverified HTTPS request is being made. Adding certificate verification is strongly advised. See: https://urllib3.readthedocs.io/en/latest/advanced-usage.html#ssl-warnings\n",
      "  InsecureRequestWarning)\n"
     ]
    },
    {
     "name": "stdout",
     "output_type": "stream",
     "text": [
      "local variable 'READERS' referenced before assignment\n",
      "Processing: https://www.amazon.cn/dp/B010N19NVC/ref=zg_bs_660532051_16/459-6157728-6146345?_encoding=UTF8&psc=1&refRID=7RJ8VFBX12R4WVV650T6\n"
     ]
    },
    {
     "name": "stderr",
     "output_type": "stream",
     "text": [
      "/anaconda3/lib/python3.6/site-packages/urllib3/connectionpool.py:858: InsecureRequestWarning: Unverified HTTPS request is being made. Adding certificate verification is strongly advised. See: https://urllib3.readthedocs.io/en/latest/advanced-usage.html#ssl-warnings\n",
      "  InsecureRequestWarning)\n"
     ]
    },
    {
     "name": "stdout",
     "output_type": "stream",
     "text": [
      "{'NAME': '国学经典学生读本·今注今译:弟子规·三字经·百家姓·千字文', 'SALE_PRICE': '￥17.80', 'CATEGORY': '国学启蒙', 'COMMENT_NUMBER': '3 条商品评论', 'PAGES': '278页', 'READERS': '3-6岁', 'FORMAT': '16', 'SALES_RANK': '亚马逊热销商品排名:图书商品里排第6,628名', 'SIZE': '21.8 x 15 x 1.6 cm', 'WEIGHT': '399 g', 'URL': 'https://www.amazon.cn/dp/B010N19NVC/ref=zg_bs_660532051_16/459-6157728-6146345?_encoding=UTF8&psc=1&refRID=7RJ8VFBX12R4WVV650T6'}\n",
      "Processing: https://www.amazon.cn/dp/B005HSLQ4E/ref=zg_bs_660532051_17/459-6157728-6146345?_encoding=UTF8&psc=1&refRID=7RJ8VFBX12R4WVV650T6\n"
     ]
    },
    {
     "name": "stderr",
     "output_type": "stream",
     "text": [
      "/anaconda3/lib/python3.6/site-packages/urllib3/connectionpool.py:858: InsecureRequestWarning: Unverified HTTPS request is being made. Adding certificate verification is strongly advised. See: https://urllib3.readthedocs.io/en/latest/advanced-usage.html#ssl-warnings\n",
      "  InsecureRequestWarning)\n"
     ]
    },
    {
     "name": "stdout",
     "output_type": "stream",
     "text": [
      "local variable 'READERS' referenced before assignment\n",
      "Processing: https://www.amazon.cn/dp/B003SQH5BA/ref=zg_bs_660532051_18/459-6157728-6146345?_encoding=UTF8&psc=1&refRID=7RJ8VFBX12R4WVV650T6\n"
     ]
    },
    {
     "name": "stderr",
     "output_type": "stream",
     "text": [
      "/anaconda3/lib/python3.6/site-packages/urllib3/connectionpool.py:858: InsecureRequestWarning: Unverified HTTPS request is being made. Adding certificate verification is strongly advised. See: https://urllib3.readthedocs.io/en/latest/advanced-usage.html#ssl-warnings\n",
      "  InsecureRequestWarning)\n"
     ]
    },
    {
     "name": "stdout",
     "output_type": "stream",
     "text": [
      "{'NAME': '国学启蒙大卡:三字经', 'SALE_PRICE': '￥15.00', 'CATEGORY': '国学启蒙', 'COMMENT_NUMBER': '200 条商品评论', 'PAGES': '59页', 'READERS': '3-6岁', 'FORMAT': '20', 'SALES_RANK': '亚马逊热销商品排名:图书商品里排第7,255名', 'SIZE': '22.5 x 21.4 x 1.8 cm', 'WEIGHT': '481 g', 'URL': 'https://www.amazon.cn/dp/B003SQH5BA/ref=zg_bs_660532051_18/459-6157728-6146345?_encoding=UTF8&psc=1&refRID=7RJ8VFBX12R4WVV650T6'}\n",
      "Processing: https://www.amazon.cn/dp/B00KHLGJR0/ref=zg_bs_660532051_19/459-6157728-6146345?_encoding=UTF8&psc=1&refRID=7RJ8VFBX12R4WVV650T6\n"
     ]
    },
    {
     "name": "stderr",
     "output_type": "stream",
     "text": [
      "/anaconda3/lib/python3.6/site-packages/urllib3/connectionpool.py:858: InsecureRequestWarning: Unverified HTTPS request is being made. Adding certificate verification is strongly advised. See: https://urllib3.readthedocs.io/en/latest/advanced-usage.html#ssl-warnings\n",
      "  InsecureRequestWarning)\n"
     ]
    },
    {
     "name": "stdout",
     "output_type": "stream",
     "text": [
      "{'NAME': '0-3岁宝宝必读早教童书:启智寓言故事(套装共10册）', 'SALE_PRICE': '￥19.90', 'CATEGORY': '幼儿启蒙', 'COMMENT_NUMBER': '31 条商品评论', 'PAGES': '120页', 'READERS': '0-3岁宝宝必读早教童书', 'FORMAT': '48', 'SALES_RANK': '亚马逊热销商品排名:图书商品里排第7,354名', 'SIZE': '13.8 x 13.8 x 1.2 cm', 'WEIGHT': '259 g', 'URL': 'https://www.amazon.cn/dp/B00KHLGJR0/ref=zg_bs_660532051_19/459-6157728-6146345?_encoding=UTF8&psc=1&refRID=7RJ8VFBX12R4WVV650T6'}\n",
      "Processing: https://www.amazon.cn/dp/B00H4SZ3IA/ref=zg_bs_660532051_20/459-6157728-6146345?_encoding=UTF8&psc=1&refRID=7RJ8VFBX12R4WVV650T6\n"
     ]
    },
    {
     "name": "stderr",
     "output_type": "stream",
     "text": [
      "/anaconda3/lib/python3.6/site-packages/urllib3/connectionpool.py:858: InsecureRequestWarning: Unverified HTTPS request is being made. Adding certificate verification is strongly advised. See: https://urllib3.readthedocs.io/en/latest/advanced-usage.html#ssl-warnings\n",
      "  InsecureRequestWarning)\n"
     ]
    },
    {
     "name": "stdout",
     "output_type": "stream",
     "text": [
      "local variable 'READERS' referenced before assignment\n",
      "Processing: https://www.amazon.cn/dp/B07CLRY87R/ref=zg_bs_tab_pd_bsnr_1/459-6157728-6146345?_encoding=UTF8&psc=1&refRID=7RJ8VFBX12R4WVV650T6\n"
     ]
    },
    {
     "name": "stderr",
     "output_type": "stream",
     "text": [
      "/anaconda3/lib/python3.6/site-packages/urllib3/connectionpool.py:858: InsecureRequestWarning: Unverified HTTPS request is being made. Adding certificate verification is strongly advised. See: https://urllib3.readthedocs.io/en/latest/advanced-usage.html#ssl-warnings\n",
      "  InsecureRequestWarning)\n"
     ]
    },
    {
     "name": "stdout",
     "output_type": "stream",
     "text": [
      "{'NAME': '中国人的历史:君子的春秋', 'SALE_PRICE': '￥38.60', 'CATEGORY': '科普百科', 'COMMENT_NUMBER': None, 'PAGES': '281页', 'READERS': '7-10岁', 'FORMAT': '32', 'SALES_RANK': '亚马逊热销商品排名:图书商品里排第59,023名', 'SIZE': '20.9 x 14.6 x 1.7 cm', 'WEIGHT': '376 g', 'URL': 'https://www.amazon.cn/dp/B07CLRY87R/ref=zg_bs_tab_pd_bsnr_1/459-6157728-6146345?_encoding=UTF8&psc=1&refRID=7RJ8VFBX12R4WVV650T6'}\n",
      "Processing: https://www.amazon.cn/dp/B079J8RFL4/ref=zg_bs_tab_pd_bsnr_2/459-6157728-6146345?_encoding=UTF8&psc=1&refRID=7RJ8VFBX12R4WVV650T6\n"
     ]
    },
    {
     "name": "stderr",
     "output_type": "stream",
     "text": [
      "/anaconda3/lib/python3.6/site-packages/urllib3/connectionpool.py:858: InsecureRequestWarning: Unverified HTTPS request is being made. Adding certificate verification is strongly advised. See: https://urllib3.readthedocs.io/en/latest/advanced-usage.html#ssl-warnings\n",
      "  InsecureRequestWarning)\n"
     ]
    },
    {
     "name": "stdout",
     "output_type": "stream",
     "text": [
      "{'NAME': '读懂汉字之自然与社会', 'SALE_PRICE': '￥77.80', 'CATEGORY': '国学启蒙', 'COMMENT_NUMBER': None, 'PAGES': '444页', 'READERS': '7-10岁', 'FORMAT': '24', 'SALES_RANK': '亚马逊热销商品排名:图书商品里排第178,592名', 'SIZE': '20.8 x 19.2 x 2.2 cm', 'WEIGHT': '762 g', 'URL': 'https://www.amazon.cn/dp/B079J8RFL4/ref=zg_bs_tab_pd_bsnr_2/459-6157728-6146345?_encoding=UTF8&psc=1&refRID=7RJ8VFBX12R4WVV650T6'}\n",
      "Processing: https://www.amazon.cn/dp/B079JGMNPY/ref=zg_bs_tab_pd_bsnr_3/459-6157728-6146345?_encoding=UTF8&psc=1&refRID=7RJ8VFBX12R4WVV650T6\n"
     ]
    },
    {
     "name": "stderr",
     "output_type": "stream",
     "text": [
      "/anaconda3/lib/python3.6/site-packages/urllib3/connectionpool.py:858: InsecureRequestWarning: Unverified HTTPS request is being made. Adding certificate verification is strongly advised. See: https://urllib3.readthedocs.io/en/latest/advanced-usage.html#ssl-warnings\n",
      "  InsecureRequestWarning)\n"
     ]
    },
    {
     "name": "stdout",
     "output_type": "stream",
     "text": [
      "{'NAME': '读懂汉字之人类与生活', 'SALE_PRICE': '￥65.30', 'CATEGORY': '国学启蒙', 'COMMENT_NUMBER': None, 'PAGES': '444页', 'READERS': '7-10岁', 'FORMAT': '24', 'SALES_RANK': '亚马逊热销商品排名:图书商品里排第427,262名', 'SIZE': '20.8 x 17.8 x 2.2 cm', 'WEIGHT': '780 g', 'URL': 'https://www.amazon.cn/dp/B079JGMNPY/ref=zg_bs_tab_pd_bsnr_3/459-6157728-6146345?_encoding=UTF8&psc=1&refRID=7RJ8VFBX12R4WVV650T6'}\n",
      "Processing: https://www.amazon.cn/dp/B071S6ZX3Z/ref=zg_bs_2151668051_1/462-9140817-8023425?_encoding=UTF8&psc=1&refRID=BVS3EBMBSE51B8HA3Z5F\n"
     ]
    },
    {
     "name": "stderr",
     "output_type": "stream",
     "text": [
      "/anaconda3/lib/python3.6/site-packages/urllib3/connectionpool.py:858: InsecureRequestWarning: Unverified HTTPS request is being made. Adding certificate verification is strongly advised. See: https://urllib3.readthedocs.io/en/latest/advanced-usage.html#ssl-warnings\n",
      "  InsecureRequestWarning)\n"
     ]
    },
    {
     "name": "stdout",
     "output_type": "stream",
     "text": [
      "{'NAME': '英语单词大书', 'SALE_PRICE': '￥61.60', 'CATEGORY': '少儿绘本与漫画', 'COMMENT_NUMBER': '34 条商品评论', 'PAGES': '38页', 'READERS': '3-6岁', 'FORMAT': '16', 'SALES_RANK': '亚马逊热销商品排名:图书商品里排第212名', 'SIZE': '29.2 x 24.6 x 1.8 cm', 'WEIGHT': '821 g', 'URL': 'https://www.amazon.cn/dp/B071S6ZX3Z/ref=zg_bs_2151668051_1/462-9140817-8023425?_encoding=UTF8&psc=1&refRID=BVS3EBMBSE51B8HA3Z5F'}\n",
      "Processing: https://www.amazon.cn/dp/B01MA5TMAZ/ref=zg_bs_2151668051_2/462-9140817-8023425?_encoding=UTF8&psc=1&refRID=BVS3EBMBSE51B8HA3Z5F\n"
     ]
    },
    {
     "name": "stderr",
     "output_type": "stream",
     "text": [
      "/anaconda3/lib/python3.6/site-packages/urllib3/connectionpool.py:858: InsecureRequestWarning: Unverified HTTPS request is being made. Adding certificate verification is strongly advised. See: https://urllib3.readthedocs.io/en/latest/advanced-usage.html#ssl-warnings\n",
      "  InsecureRequestWarning)\n"
     ]
    },
    {
     "name": "stdout",
     "output_type": "stream",
     "text": [
      "{'NAME': 'ABC幼儿双语启蒙认知绘本(套装共8册)', 'SALE_PRICE': '￥87.00', 'CATEGORY': '幼儿启蒙', 'COMMENT_NUMBER': '105 条商品评论', 'PAGES': '224页', 'READERS': '2-5岁', 'FORMAT': '20', 'SALES_RANK': '亚马逊热销商品排名:图书商品里排第241名', 'SIZE': '22.6 x 20.8 x 2.4 cm', 'WEIGHT': '1.16 Kg', 'URL': 'https://www.amazon.cn/dp/B01MA5TMAZ/ref=zg_bs_2151668051_2/462-9140817-8023425?_encoding=UTF8&psc=1&refRID=BVS3EBMBSE51B8HA3Z5F'}\n",
      "Processing: https://www.amazon.cn/dp/B003MNI4EQ/ref=zg_bs_2151668051_3/462-9140817-8023425?_encoding=UTF8&psc=1&refRID=BVS3EBMBSE51B8HA3Z5F\n"
     ]
    },
    {
     "name": "stderr",
     "output_type": "stream",
     "text": [
      "/anaconda3/lib/python3.6/site-packages/urllib3/connectionpool.py:858: InsecureRequestWarning: Unverified HTTPS request is being made. Adding certificate verification is strongly advised. See: https://urllib3.readthedocs.io/en/latest/advanced-usage.html#ssl-warnings\n",
      "  InsecureRequestWarning)\n"
     ]
    },
    {
     "name": "stdout",
     "output_type": "stream",
     "text": [
      "{'NAME': '儿童情绪与人格培养绘本:我要更勇敢(中英对照)', 'SALE_PRICE': '￥9.20', 'CATEGORY': '少儿绘本与漫画', 'COMMENT_NUMBER': '223 条商品评论', 'PAGES': '25页', 'READERS': '3-6岁', 'FORMAT': '20', 'SALES_RANK': '亚马逊热销商品排名:图书商品里排第448名', 'SIZE': '22 x 20 x 0.4 cm', 'WEIGHT': '181 g', 'URL': 'https://www.amazon.cn/dp/B003MNI4EQ/ref=zg_bs_2151668051_3/462-9140817-8023425?_encoding=UTF8&psc=1&refRID=BVS3EBMBSE51B8HA3Z5F'}\n",
      "Processing: https://www.amazon.cn/dp/B00DJ0F1LQ/ref=zg_bs_2151668051_4/462-9140817-8023425?_encoding=UTF8&psc=1&refRID=BVS3EBMBSE51B8HA3Z5F\n"
     ]
    },
    {
     "name": "stderr",
     "output_type": "stream",
     "text": [
      "/anaconda3/lib/python3.6/site-packages/urllib3/connectionpool.py:858: InsecureRequestWarning: Unverified HTTPS request is being made. Adding certificate verification is strongly advised. See: https://urllib3.readthedocs.io/en/latest/advanced-usage.html#ssl-warnings\n",
      "  InsecureRequestWarning)\n"
     ]
    },
    {
     "name": "stdout",
     "output_type": "stream",
     "text": [
      "{'NAME': '棚车少年·第1辑(中英双语)(套装共8册)(附二维码)(当孩子遇到挫折，这套书能让他们笑对人生)', 'SALE_PRICE': '￥86.00', 'CATEGORY': '儿童文学', 'COMMENT_NUMBER': '1,897 条商品评论', 'PAGES': '1037页', 'READERS': '7-10岁', 'FORMAT': '32', 'SALES_RANK': '亚马逊热销商品排名:图书商品里排第517名', 'SIZE': '21.6 x 15.5 x 10.5 cm', 'WEIGHT': '1.76 Kg', 'URL': 'https://www.amazon.cn/dp/B00DJ0F1LQ/ref=zg_bs_2151668051_4/462-9140817-8023425?_encoding=UTF8&psc=1&refRID=BVS3EBMBSE51B8HA3Z5F'}\n",
      "Processing: https://www.amazon.cn/dp/B01KX4077S/ref=zg_bs_2151668051_5/462-9140817-8023425?_encoding=UTF8&psc=1&refRID=BVS3EBMBSE51B8HA3Z5F\n"
     ]
    },
    {
     "name": "stderr",
     "output_type": "stream",
     "text": [
      "/anaconda3/lib/python3.6/site-packages/urllib3/connectionpool.py:858: InsecureRequestWarning: Unverified HTTPS request is being made. Adding certificate verification is strongly advised. See: https://urllib3.readthedocs.io/en/latest/advanced-usage.html#ssl-warnings\n",
      "  InsecureRequestWarning)\n"
     ]
    },
    {
     "name": "stdout",
     "output_type": "stream",
     "text": [
      "{'NAME': '世界经典文学名著系列:小王子(全英文版)', 'SALE_PRICE': '￥23.61', 'CATEGORY': '儿童文学', 'COMMENT_NUMBER': '104 条商品评论', 'PAGES': '120页', 'READERS': '11-14岁', 'FORMAT': '32', 'SALES_RANK': '亚马逊热销商品排名:图书商品里排第519名', 'SIZE': '22.4 x 14.6 x 1.2 cm', 'WEIGHT': '240 g', 'URL': 'https://www.amazon.cn/dp/B01KX4077S/ref=zg_bs_2151668051_5/462-9140817-8023425?_encoding=UTF8&psc=1&refRID=BVS3EBMBSE51B8HA3Z5F'}\n",
      "Processing: https://www.amazon.cn/dp/B00NDF5HNE/ref=zg_bs_2151668051_6/462-9140817-8023425?_encoding=UTF8&psc=1&refRID=BVS3EBMBSE51B8HA3Z5F\n"
     ]
    },
    {
     "name": "stderr",
     "output_type": "stream",
     "text": [
      "/anaconda3/lib/python3.6/site-packages/urllib3/connectionpool.py:858: InsecureRequestWarning: Unverified HTTPS request is being made. Adding certificate verification is strongly advised. See: https://urllib3.readthedocs.io/en/latest/advanced-usage.html#ssl-warnings\n",
      "  InsecureRequestWarning)\n"
     ]
    },
    {
     "name": "stdout",
     "output_type": "stream",
     "text": [
      "{'NAME': '亮丽精美触摸书系列:小兔比利(中英双语)', 'SALE_PRICE': '￥28.40', 'CATEGORY': '幼儿启蒙', 'COMMENT_NUMBER': '67 条商品评论', 'PAGES': '8页', 'READERS': '0-2岁', 'FORMAT': '16', 'SALES_RANK': '亚马逊热销商品排名:图书商品里排第535名', 'SIZE': '26.8 x 21.6 x 1.6 cm', 'WEIGHT': '522 g', 'URL': 'https://www.amazon.cn/dp/B00NDF5HNE/ref=zg_bs_2151668051_6/462-9140817-8023425?_encoding=UTF8&psc=1&refRID=BVS3EBMBSE51B8HA3Z5F'}\n",
      "Processing: https://www.amazon.cn/dp/B00TMX2STC/ref=zg_bs_2151668051_7/462-9140817-8023425?_encoding=UTF8&psc=1&refRID=BVS3EBMBSE51B8HA3Z5F\n"
     ]
    },
    {
     "name": "stderr",
     "output_type": "stream",
     "text": [
      "/anaconda3/lib/python3.6/site-packages/urllib3/connectionpool.py:858: InsecureRequestWarning: Unverified HTTPS request is being made. Adding certificate verification is strongly advised. See: https://urllib3.readthedocs.io/en/latest/advanced-usage.html#ssl-warnings\n",
      "  InsecureRequestWarning)\n"
     ]
    },
    {
     "name": "stdout",
     "output_type": "stream",
     "text": [
      "{'NAME': '培生:我的第一套自然拼读故事(1-40)(套装共40册)(附3张光盘+指导手册+96张单词认读卡)', 'SALE_PRICE': '￥118.20', 'CATEGORY': '英语技能学习', 'COMMENT_NUMBER': '26 条商品评论', 'PAGES': '480页', 'READERS': '3-6岁', 'FORMAT': '16', 'SALES_RANK': '亚马逊热销商品排名:图书商品里排第603名', 'SIZE': '31.2 x 28.8 x 8.4 cm', 'WEIGHT': '2.88 Kg', 'URL': 'https://www.amazon.cn/dp/B00TMX2STC/ref=zg_bs_2151668051_7/462-9140817-8023425?_encoding=UTF8&psc=1&refRID=BVS3EBMBSE51B8HA3Z5F'}\n",
      "Processing: https://www.amazon.cn/dp/B00ZBUC4BM/ref=zg_bs_2151668051_8/462-9140817-8023425?_encoding=UTF8&psc=1&refRID=BVS3EBMBSE51B8HA3Z5F\n"
     ]
    },
    {
     "name": "stderr",
     "output_type": "stream",
     "text": [
      "/anaconda3/lib/python3.6/site-packages/urllib3/connectionpool.py:858: InsecureRequestWarning: Unverified HTTPS request is being made. Adding certificate verification is strongly advised. See: https://urllib3.readthedocs.io/en/latest/advanced-usage.html#ssl-warnings\n",
      "  InsecureRequestWarning)\n"
     ]
    },
    {
     "name": "stdout",
     "output_type": "stream",
     "text": [
      "{'NAME': '棚车少年中英双语(第1辑+第2辑+第3辑)(套装共24册)(附二维码)', 'SALE_PRICE': '￥231.00', 'CATEGORY': '儿童文学', 'COMMENT_NUMBER': '110 条商品评论', 'PAGES': '4006页', 'READERS': '7-10岁', 'FORMAT': '32', 'SALES_RANK': '亚马逊热销商品排名:图书商品里排第737名', 'SIZE': '23.8 x 22 x 15.6 cm', 'WEIGHT': '4.08 Kg', 'URL': 'https://www.amazon.cn/dp/B00ZBUC4BM/ref=zg_bs_2151668051_8/462-9140817-8023425?_encoding=UTF8&psc=1&refRID=BVS3EBMBSE51B8HA3Z5F'}\n",
      "Processing: https://www.amazon.cn/dp/B01MZ01TU8/ref=zg_bs_2151668051_9/462-9140817-8023425?_encoding=UTF8&psc=1&refRID=BVS3EBMBSE51B8HA3Z5F\n"
     ]
    },
    {
     "name": "stderr",
     "output_type": "stream",
     "text": [
      "/anaconda3/lib/python3.6/site-packages/urllib3/connectionpool.py:858: InsecureRequestWarning: Unverified HTTPS request is being made. Adding certificate verification is strongly advised. See: https://urllib3.readthedocs.io/en/latest/advanced-usage.html#ssl-warnings\n",
      "  InsecureRequestWarning)\n"
     ]
    },
    {
     "name": "stdout",
     "output_type": "stream",
     "text": [
      "{'NAME': '0-4岁幼儿认知小百科(中英双语进阶版)(套装共5册)', 'SALE_PRICE': '￥131.34', 'CATEGORY': '幼儿启蒙', 'COMMENT_NUMBER': '11 条商品评论', 'PAGES': '98页', 'READERS': '0-2岁', 'FORMAT': '24', 'SALES_RANK': '亚马逊热销商品排名:图书商品里排第879名', 'SIZE': '20.2 x 19.4 x 7 cm', 'WEIGHT': '1.7 Kg', 'URL': 'https://www.amazon.cn/dp/B01MZ01TU8/ref=zg_bs_2151668051_9/462-9140817-8023425?_encoding=UTF8&psc=1&refRID=BVS3EBMBSE51B8HA3Z5F'}\n",
      "Processing: https://www.amazon.cn/dp/B071XTCBWH/ref=zg_bs_2151668051_10/462-9140817-8023425?_encoding=UTF8&psc=1&refRID=BVS3EBMBSE51B8HA3Z5F\n"
     ]
    },
    {
     "name": "stderr",
     "output_type": "stream",
     "text": [
      "/anaconda3/lib/python3.6/site-packages/urllib3/connectionpool.py:858: InsecureRequestWarning: Unverified HTTPS request is being made. Adding certificate verification is strongly advised. See: https://urllib3.readthedocs.io/en/latest/advanced-usage.html#ssl-warnings\n",
      "  InsecureRequestWarning)\n"
     ]
    },
    {
     "name": "stdout",
     "output_type": "stream",
     "text": [
      "local variable 'READERS' referenced before assignment\n",
      "Processing: https://www.amazon.cn/dp/B075R1VTX9/ref=zg_bs_2151668051_11/462-9140817-8023425?_encoding=UTF8&psc=1&refRID=BVS3EBMBSE51B8HA3Z5F\n"
     ]
    },
    {
     "name": "stderr",
     "output_type": "stream",
     "text": [
      "/anaconda3/lib/python3.6/site-packages/urllib3/connectionpool.py:858: InsecureRequestWarning: Unverified HTTPS request is being made. Adding certificate verification is strongly advised. See: https://urllib3.readthedocs.io/en/latest/advanced-usage.html#ssl-warnings\n",
      "  InsecureRequestWarning)\n"
     ]
    },
    {
     "name": "stdout",
     "output_type": "stream",
     "text": [
      "{'NAME': '培生儿童英语分级阅读Level', 'SALE_PRICE': '￥101.10', 'CATEGORY': '儿童英语', 'COMMENT_NUMBER': '112 条商品评论', 'PAGES': '256页', 'READERS': '3-6岁', 'FORMAT': '16', 'SALES_RANK': '亚马逊热销商品排名:图书商品里排第1,119名', 'SIZE': '28.2 x 23 x 6.4 cm', 'WEIGHT': '1.8 Kg', 'URL': 'https://www.amazon.cn/dp/B075R1VTX9/ref=zg_bs_2151668051_11/462-9140817-8023425?_encoding=UTF8&psc=1&refRID=BVS3EBMBSE51B8HA3Z5F'}\n",
      "Processing: https://www.amazon.cn/dp/B018FXN8IO/ref=zg_bs_2151668051_12/462-9140817-8023425?_encoding=UTF8&psc=1&refRID=BVS3EBMBSE51B8HA3Z5F\n"
     ]
    },
    {
     "name": "stderr",
     "output_type": "stream",
     "text": [
      "/anaconda3/lib/python3.6/site-packages/urllib3/connectionpool.py:858: InsecureRequestWarning: Unverified HTTPS request is being made. Adding certificate verification is strongly advised. See: https://urllib3.readthedocs.io/en/latest/advanced-usage.html#ssl-warnings\n",
      "  InsecureRequestWarning)\n"
     ]
    },
    {
     "name": "stdout",
     "output_type": "stream",
     "text": [
      "{'NAME': '米菲Easy', 'SALE_PRICE': '￥33.00', 'CATEGORY': '少儿英语', 'COMMENT_NUMBER': '49 条商品评论', 'PAGES': '144页', 'READERS': '1-3岁', 'FORMAT': '48', 'SALES_RANK': '亚马逊热销商品排名:图书商品里排第1,144名', 'SIZE': '15.2 x 14.6 x 3.8 cm', 'WEIGHT': '499 g', 'URL': 'https://www.amazon.cn/dp/B018FXN8IO/ref=zg_bs_2151668051_12/462-9140817-8023425?_encoding=UTF8&psc=1&refRID=BVS3EBMBSE51B8HA3Z5F'}\n",
      "Processing: https://www.amazon.cn/dp/B074R57XT1/ref=zg_bs_2151668051_13/462-9140817-8023425?_encoding=UTF8&psc=1&refRID=BVS3EBMBSE51B8HA3Z5F\n"
     ]
    },
    {
     "name": "stderr",
     "output_type": "stream",
     "text": [
      "/anaconda3/lib/python3.6/site-packages/urllib3/connectionpool.py:858: InsecureRequestWarning: Unverified HTTPS request is being made. Adding certificate verification is strongly advised. See: https://urllib3.readthedocs.io/en/latest/advanced-usage.html#ssl-warnings\n",
      "  InsecureRequestWarning)\n"
     ]
    },
    {
     "name": "stdout",
     "output_type": "stream",
     "text": [
      "{'NAME': '孩子的第一套情商培养书:淘弟有个大世界(双语版)(套装共8册)(附8张涂色节日卡)', 'SALE_PRICE': '￥109.50', 'CATEGORY': '少儿绘本与漫画', 'COMMENT_NUMBER': '10 条商品评论', 'PAGES': '244页', 'READERS': '0-2岁', 'FORMAT': '12', 'SALES_RANK': '亚马逊热销商品排名:图书商品里排第1,242名', 'SIZE': '24.6 x 23.8 x 2.6 cm', 'WEIGHT': '1.34 Kg', 'URL': 'https://www.amazon.cn/dp/B074R57XT1/ref=zg_bs_2151668051_13/462-9140817-8023425?_encoding=UTF8&psc=1&refRID=BVS3EBMBSE51B8HA3Z5F'}\n",
      "Processing: https://www.amazon.cn/dp/B00NDF5I06/ref=zg_bs_2151668051_14/462-9140817-8023425?_encoding=UTF8&psc=1&refRID=BVS3EBMBSE51B8HA3Z5F\n"
     ]
    },
    {
     "name": "stderr",
     "output_type": "stream",
     "text": [
      "/anaconda3/lib/python3.6/site-packages/urllib3/connectionpool.py:858: InsecureRequestWarning: Unverified HTTPS request is being made. Adding certificate verification is strongly advised. See: https://urllib3.readthedocs.io/en/latest/advanced-usage.html#ssl-warnings\n",
      "  InsecureRequestWarning)\n"
     ]
    },
    {
     "name": "stdout",
     "output_type": "stream",
     "text": [
      "{'NAME': '亮丽精美触摸书系列:小熊波比(中英双语)', 'SALE_PRICE': '￥28.40', 'CATEGORY': '幼儿启蒙', 'COMMENT_NUMBER': '26 条商品评论', 'PAGES': '10页', 'READERS': '0-2岁', 'FORMAT': '16', 'SALES_RANK': '亚马逊热销商品排名:图书商品里排第1,366名', 'SIZE': '26.8 x 21.8 x 1.8 cm', 'WEIGHT': '599 g', 'URL': 'https://www.amazon.cn/dp/B00NDF5I06/ref=zg_bs_2151668051_14/462-9140817-8023425?_encoding=UTF8&psc=1&refRID=BVS3EBMBSE51B8HA3Z5F'}\n",
      "Processing: https://www.amazon.cn/dp/B00K0B18EQ/ref=zg_bs_2151668051_15/462-9140817-8023425?_encoding=UTF8&psc=1&refRID=BVS3EBMBSE51B8HA3Z5F\n"
     ]
    },
    {
     "name": "stderr",
     "output_type": "stream",
     "text": [
      "/anaconda3/lib/python3.6/site-packages/urllib3/connectionpool.py:858: InsecureRequestWarning: Unverified HTTPS request is being made. Adding certificate verification is strongly advised. See: https://urllib3.readthedocs.io/en/latest/advanced-usage.html#ssl-warnings\n",
      "  InsecureRequestWarning)\n"
     ]
    },
    {
     "name": "stdout",
     "output_type": "stream",
     "text": [
      "{'NAME': '棚车少年·第2辑(中英双语)(套装共8册)(附二维码)(当孩子遇到挫折，这套书能让他们笑对人生)', 'SALE_PRICE': '￥63.00', 'CATEGORY': '儿童文学', 'COMMENT_NUMBER': '686 条商品评论', 'PAGES': '1286页', 'READERS': '7-10岁', 'FORMAT': '32', 'SALES_RANK': '亚马逊热销商品排名:图书商品里排第1,413名', 'SIZE': '21.8 x 15.6 x 9.6 cm', 'WEIGHT': '1.62 Kg', 'URL': 'https://www.amazon.cn/dp/B00K0B18EQ/ref=zg_bs_2151668051_15/462-9140817-8023425?_encoding=UTF8&psc=1&refRID=BVS3EBMBSE51B8HA3Z5F'}\n",
      "Processing: https://www.amazon.cn/dp/B01MQW6Z7T/ref=zg_bs_2151668051_16/462-9140817-8023425?_encoding=UTF8&psc=1&refRID=BVS3EBMBSE51B8HA3Z5F\n"
     ]
    },
    {
     "name": "stderr",
     "output_type": "stream",
     "text": [
      "/anaconda3/lib/python3.6/site-packages/urllib3/connectionpool.py:858: InsecureRequestWarning: Unverified HTTPS request is being made. Adding certificate verification is strongly advised. See: https://urllib3.readthedocs.io/en/latest/advanced-usage.html#ssl-warnings\n",
      "  InsecureRequestWarning)\n"
     ]
    },
    {
     "name": "stdout",
     "output_type": "stream",
     "text": [
      "{'NAME': '你也能讲的双语故事(迪士尼经典电影典藏版)(附音频)(汉英对照)(套装共15册)', 'SALE_PRICE': '￥164.50', 'CATEGORY': '少儿绘本与漫画', 'COMMENT_NUMBER': '11 条商品评论', 'PAGES': '730页', 'READERS': '3-6岁', 'FORMAT': '20', 'SALES_RANK': '亚马逊热销商品排名:图书商品里排第1,455名', 'SIZE': '21.2 x 20.8 x 6.2 cm', 'WEIGHT': '2.52 Kg', 'URL': 'https://www.amazon.cn/dp/B01MQW6Z7T/ref=zg_bs_2151668051_16/462-9140817-8023425?_encoding=UTF8&psc=1&refRID=BVS3EBMBSE51B8HA3Z5F'}\n",
      "Processing: https://www.amazon.cn/dp/B003MNI4E6/ref=zg_bs_2151668051_17/462-9140817-8023425?_encoding=UTF8&psc=1&refRID=BVS3EBMBSE51B8HA3Z5F\n"
     ]
    },
    {
     "name": "stderr",
     "output_type": "stream",
     "text": [
      "/anaconda3/lib/python3.6/site-packages/urllib3/connectionpool.py:858: InsecureRequestWarning: Unverified HTTPS request is being made. Adding certificate verification is strongly advised. See: https://urllib3.readthedocs.io/en/latest/advanced-usage.html#ssl-warnings\n",
      "  InsecureRequestWarning)\n"
     ]
    },
    {
     "name": "stdout",
     "output_type": "stream",
     "text": [
      "{'NAME': '儿童情绪与人格培养绘本:我要更专心', 'SALE_PRICE': '￥18.30', 'CATEGORY': '少儿绘本与漫画', 'COMMENT_NUMBER': '131 条商品评论', 'PAGES': '79页', 'READERS': '7-10岁', 'FORMAT': '20', 'SALES_RANK': '亚马逊热销商品排名:图书商品里排第1,486名', 'SIZE': '22.2 x 20.6 x 0.8 cm', 'WEIGHT': '299 g', 'URL': 'https://www.amazon.cn/dp/B003MNI4E6/ref=zg_bs_2151668051_17/462-9140817-8023425?_encoding=UTF8&psc=1&refRID=BVS3EBMBSE51B8HA3Z5F'}\n",
      "Processing: https://www.amazon.cn/dp/B01M3QY7DQ/ref=zg_bs_2151668051_18/462-9140817-8023425?_encoding=UTF8&psc=1&refRID=BVS3EBMBSE51B8HA3Z5F\n"
     ]
    },
    {
     "name": "stderr",
     "output_type": "stream",
     "text": [
      "/anaconda3/lib/python3.6/site-packages/urllib3/connectionpool.py:858: InsecureRequestWarning: Unverified HTTPS request is being made. Adding certificate verification is strongly advised. See: https://urllib3.readthedocs.io/en/latest/advanced-usage.html#ssl-warnings\n",
      "  InsecureRequestWarning)\n"
     ]
    },
    {
     "name": "stdout",
     "output_type": "stream",
     "text": [
      "{'NAME': '创意大师洞洞翻翻启蒙纸板书·小兔彼得互动故事(套装共3册)', 'SALE_PRICE': '￥66.20', 'CATEGORY': '幼儿启蒙', 'COMMENT_NUMBER': '8 条商品评论', 'PAGES': '56页', 'READERS': '0-2岁', 'FORMAT': '24', 'SALES_RANK': '亚马逊热销商品排名:图书商品里排第1,609名', 'SIZE': '16.8 x 16.6 x 3.6 cm', 'WEIGHT': '621 g', 'URL': 'https://www.amazon.cn/dp/B01M3QY7DQ/ref=zg_bs_2151668051_18/462-9140817-8023425?_encoding=UTF8&psc=1&refRID=BVS3EBMBSE51B8HA3Z5F'}\n",
      "Processing: https://www.amazon.cn/dp/B01N05W9XL/ref=zg_bs_2151668051_19/462-9140817-8023425?_encoding=UTF8&psc=1&refRID=BVS3EBMBSE51B8HA3Z5F\n"
     ]
    },
    {
     "name": "stderr",
     "output_type": "stream",
     "text": [
      "/anaconda3/lib/python3.6/site-packages/urllib3/connectionpool.py:858: InsecureRequestWarning: Unverified HTTPS request is being made. Adding certificate verification is strongly advised. See: https://urllib3.readthedocs.io/en/latest/advanced-usage.html#ssl-warnings\n",
      "  InsecureRequestWarning)\n"
     ]
    },
    {
     "name": "stdout",
     "output_type": "stream",
     "text": [
      "{'NAME': '欧美经典绘本学英语:第1级(套装共10册)（附阅读指南）', 'SALE_PRICE': '￥196.68', 'CATEGORY': '儿童英语', 'COMMENT_NUMBER': '24 条商品评论', 'PAGES': '318页', 'READERS': '3-6岁', 'FORMAT': '16', 'SALES_RANK': '亚马逊热销商品排名:图书商品里排第1,621名', 'SIZE': '53.4 x 32.6 x 5.8 cm', 'WEIGHT': '3.46 Kg', 'URL': 'https://www.amazon.cn/dp/B01N05W9XL/ref=zg_bs_2151668051_19/462-9140817-8023425?_encoding=UTF8&psc=1&refRID=BVS3EBMBSE51B8HA3Z5F'}\n",
      "Processing: https://www.amazon.cn/dp/B078M3XGM7/ref=zg_bs_2151668051_20/462-9140817-8023425?_encoding=UTF8&psc=1&refRID=BVS3EBMBSE51B8HA3Z5F\n"
     ]
    },
    {
     "name": "stderr",
     "output_type": "stream",
     "text": [
      "/anaconda3/lib/python3.6/site-packages/urllib3/connectionpool.py:858: InsecureRequestWarning: Unverified HTTPS request is being made. Adding certificate verification is strongly advised. See: https://urllib3.readthedocs.io/en/latest/advanced-usage.html#ssl-warnings\n",
      "  InsecureRequestWarning)\n"
     ]
    },
    {
     "name": "stdout",
     "output_type": "stream",
     "text": [
      "local variable 'PAGES' referenced before assignment\n",
      "Processing: https://www.amazon.cn/dp/B07BF2S4N2/ref=zg_bs_tab_pd_bsnr_1/462-9140817-8023425?_encoding=UTF8&psc=1&refRID=BVS3EBMBSE51B8HA3Z5F\n"
     ]
    },
    {
     "name": "stderr",
     "output_type": "stream",
     "text": [
      "/anaconda3/lib/python3.6/site-packages/urllib3/connectionpool.py:858: InsecureRequestWarning: Unverified HTTPS request is being made. Adding certificate verification is strongly advised. See: https://urllib3.readthedocs.io/en/latest/advanced-usage.html#ssl-warnings\n",
      "  InsecureRequestWarning)\n"
     ]
    },
    {
     "name": "stdout",
     "output_type": "stream",
     "text": [
      "local variable 'PAGES' referenced before assignment\n",
      "Processing: https://www.amazon.cn/dp/B07D2TMXVP/ref=zg_bs_tab_pd_bsnr_2/462-9140817-8023425?_encoding=UTF8&psc=1&refRID=BVS3EBMBSE51B8HA3Z5F\n"
     ]
    },
    {
     "name": "stderr",
     "output_type": "stream",
     "text": [
      "/anaconda3/lib/python3.6/site-packages/urllib3/connectionpool.py:858: InsecureRequestWarning: Unverified HTTPS request is being made. Adding certificate verification is strongly advised. See: https://urllib3.readthedocs.io/en/latest/advanced-usage.html#ssl-warnings\n",
      "  InsecureRequestWarning)\n"
     ]
    },
    {
     "name": "stdout",
     "output_type": "stream",
     "text": [
      "local variable 'READERS' referenced before assignment\n",
      "Processing: https://www.amazon.cn/dp/B07CXDB7CP/ref=zg_bs_tab_pd_bsnr_3/462-9140817-8023425?_encoding=UTF8&psc=1&refRID=BVS3EBMBSE51B8HA3Z5F\n"
     ]
    },
    {
     "name": "stderr",
     "output_type": "stream",
     "text": [
      "/anaconda3/lib/python3.6/site-packages/urllib3/connectionpool.py:858: InsecureRequestWarning: Unverified HTTPS request is being made. Adding certificate verification is strongly advised. See: https://urllib3.readthedocs.io/en/latest/advanced-usage.html#ssl-warnings\n",
      "  InsecureRequestWarning)\n"
     ]
    },
    {
     "name": "stdout",
     "output_type": "stream",
     "text": [
      "local variable 'READERS' referenced before assignment\n",
      "Processing: https://www.amazon.cn/dp/B07BFBT318/ref=zg_bs_658737051_1/459-5508843-7778525?_encoding=UTF8&psc=1&refRID=3W6XGRD5AR1YBTPYVC9R\n"
     ]
    },
    {
     "name": "stderr",
     "output_type": "stream",
     "text": [
      "/anaconda3/lib/python3.6/site-packages/urllib3/connectionpool.py:858: InsecureRequestWarning: Unverified HTTPS request is being made. Adding certificate verification is strongly advised. See: https://urllib3.readthedocs.io/en/latest/advanced-usage.html#ssl-warnings\n",
      "  InsecureRequestWarning)\n"
     ]
    },
    {
     "name": "stdout",
     "output_type": "stream",
     "text": [
      "{'NAME': '人类简史(绘本版):给孩子的世界历史超图解', 'SALE_PRICE': '￥73.00', 'CATEGORY': '科普百科', 'COMMENT_NUMBER': '2 条商品评论', 'PAGES': '104页', 'READERS': '7-10岁', 'FORMAT': '8', 'SALES_RANK': '亚马逊热销商品排名:图书商品里排第33名', 'SIZE': '30.6 x 25.6 x 1.6 cm', 'WEIGHT': '1.06 Kg', 'URL': 'https://www.amazon.cn/dp/B07BFBT318/ref=zg_bs_658737051_1/459-5508843-7778525?_encoding=UTF8&psc=1&refRID=3W6XGRD5AR1YBTPYVC9R'}\n",
      "Processing: https://www.amazon.cn/dp/B00OPNOT78/ref=zg_bs_658737051_2/459-5508843-7778525?_encoding=UTF8&psc=1&refRID=3W6XGRD5AR1YBTPYVC9R\n"
     ]
    },
    {
     "name": "stderr",
     "output_type": "stream",
     "text": [
      "/anaconda3/lib/python3.6/site-packages/urllib3/connectionpool.py:858: InsecureRequestWarning: Unverified HTTPS request is being made. Adding certificate verification is strongly advised. See: https://urllib3.readthedocs.io/en/latest/advanced-usage.html#ssl-warnings\n",
      "  InsecureRequestWarning)\n"
     ]
    },
    {
     "name": "stdout",
     "output_type": "stream",
     "text": [
      "{'NAME': '手绘版儿童科普书:幼儿十万个为什么(套装共7册)', 'SALE_PRICE': '￥66.42', 'CATEGORY': '幼儿启蒙', 'COMMENT_NUMBER': '96 条商品评论', 'PAGES': '476页', 'READERS': '3-6岁', 'FORMAT': '16', 'SALES_RANK': '亚马逊热销商品排名:图书商品里排第70名', 'SIZE': '25.2 x 19.2 x 4 cm', 'WEIGHT': '1.46 Kg', 'URL': 'https://www.amazon.cn/dp/B00OPNOT78/ref=zg_bs_658737051_2/459-5508843-7778525?_encoding=UTF8&psc=1&refRID=3W6XGRD5AR1YBTPYVC9R'}\n",
      "Processing: https://www.amazon.cn/dp/B074JS9Q8P/ref=zg_bs_658737051_3/459-5508843-7778525?_encoding=UTF8&psc=1&refRID=3W6XGRD5AR1YBTPYVC9R\n"
     ]
    },
    {
     "name": "stderr",
     "output_type": "stream",
     "text": [
      "/anaconda3/lib/python3.6/site-packages/urllib3/connectionpool.py:858: InsecureRequestWarning: Unverified HTTPS request is being made. Adding certificate verification is strongly advised. See: https://urllib3.readthedocs.io/en/latest/advanced-usage.html#ssl-warnings\n",
      "  InsecureRequestWarning)\n"
     ]
    },
    {
     "name": "stdout",
     "output_type": "stream",
     "text": [
      "{'NAME': 'DK编程真好玩：6岁开始学Scratch', 'SALE_PRICE': '￥45.76', 'CATEGORY': '科普百科', 'COMMENT_NUMBER': '19 条商品评论', 'PAGES': '220页', 'READERS': '7-10岁', 'FORMAT': '16', 'SALES_RANK': '亚马逊热销商品排名:图书商品里排第105名', 'SIZE': '23.4 x 20 x 1.4 cm', 'WEIGHT': '640 g', 'URL': 'https://www.amazon.cn/dp/B074JS9Q8P/ref=zg_bs_658737051_3/459-5508843-7778525?_encoding=UTF8&psc=1&refRID=3W6XGRD5AR1YBTPYVC9R'}\n",
      "Processing: https://www.amazon.cn/dp/B003OUW7CC/ref=zg_bs_658737051_4/459-5508843-7778525?_encoding=UTF8&psc=1&refRID=3W6XGRD5AR1YBTPYVC9R\n"
     ]
    },
    {
     "name": "stderr",
     "output_type": "stream",
     "text": [
      "/anaconda3/lib/python3.6/site-packages/urllib3/connectionpool.py:858: InsecureRequestWarning: Unverified HTTPS request is being made. Adding certificate verification is strongly advised. See: https://urllib3.readthedocs.io/en/latest/advanced-usage.html#ssl-warnings\n",
      "  InsecureRequestWarning)\n"
     ]
    },
    {
     "name": "stdout",
     "output_type": "stream",
     "text": [
      "{'NAME': 'DK儿童百科全书', 'SALE_PRICE': '￥70.76', 'CATEGORY': '科普百科', 'COMMENT_NUMBER': '3,141 条商品评论', 'PAGES': '303页', 'READERS': '7-10岁', 'FORMAT': '16', 'SALES_RANK': '亚马逊热销商品排名:图书商品里排第143名', 'SIZE': '28.2 x 22.4 x 3.2 cm', 'WEIGHT': '1.82 Kg', 'URL': 'https://www.amazon.cn/dp/B003OUW7CC/ref=zg_bs_658737051_4/459-5508843-7778525?_encoding=UTF8&psc=1&refRID=3W6XGRD5AR1YBTPYVC9R'}\n",
      "Processing: https://www.amazon.cn/dp/B071DFQB5P/ref=zg_bs_658737051_5/459-5508843-7778525?_encoding=UTF8&psc=1&refRID=3W6XGRD5AR1YBTPYVC9R\n"
     ]
    },
    {
     "name": "stderr",
     "output_type": "stream",
     "text": [
      "/anaconda3/lib/python3.6/site-packages/urllib3/connectionpool.py:858: InsecureRequestWarning: Unverified HTTPS request is being made. Adding certificate verification is strongly advised. See: https://urllib3.readthedocs.io/en/latest/advanced-usage.html#ssl-warnings\n",
      "  InsecureRequestWarning)\n"
     ]
    },
    {
     "name": "stdout",
     "output_type": "stream",
     "text": [
      "{'NAME': '蒲公英科学绘本系列礼盒装(1-8辑)(套装共40册)', 'SALE_PRICE': '￥260.00', 'CATEGORY': '幼儿启蒙', 'COMMENT_NUMBER': '37 条商品评论', 'PAGES': '1200页', 'READERS': '3-6岁', 'FORMAT': '24', 'SALES_RANK': '亚马逊热销商品排名:图书商品里排第169名', 'SIZE': '37.4 x 22.4 x 9.2 cm', 'WEIGHT': '4.74 Kg', 'URL': 'https://www.amazon.cn/dp/B071DFQB5P/ref=zg_bs_658737051_5/459-5508843-7778525?_encoding=UTF8&psc=1&refRID=3W6XGRD5AR1YBTPYVC9R'}\n",
      "Processing: https://www.amazon.cn/dp/B00HYEFS66/ref=zg_bs_658737051_6/459-5508843-7778525?_encoding=UTF8&psc=1&refRID=3W6XGRD5AR1YBTPYVC9R\n"
     ]
    },
    {
     "name": "stderr",
     "output_type": "stream",
     "text": [
      "/anaconda3/lib/python3.6/site-packages/urllib3/connectionpool.py:858: InsecureRequestWarning: Unverified HTTPS request is being made. Adding certificate verification is strongly advised. See: https://urllib3.readthedocs.io/en/latest/advanced-usage.html#ssl-warnings\n",
      "  InsecureRequestWarning)\n"
     ]
    },
    {
     "name": "stdout",
     "output_type": "stream",
     "text": [
      "{'NAME': '少儿科普书系:DK自然博物馆', 'SALE_PRICE': '￥58.60', 'CATEGORY': '科普百科', 'COMMENT_NUMBER': '65 条商品评论', 'PAGES': '245页', 'READERS': '11-14岁', 'FORMAT': '12', 'SALES_RANK': '亚马逊热销商品排名:图书商品里排第235名', 'SIZE': '24.2 x 20 x 2 cm', 'WEIGHT': '921 g', 'URL': 'https://www.amazon.cn/dp/B00HYEFS66/ref=zg_bs_658737051_6/459-5508843-7778525?_encoding=UTF8&psc=1&refRID=3W6XGRD5AR1YBTPYVC9R'}\n",
      "Processing: https://www.amazon.cn/dp/B006OG3SNU/ref=zg_bs_658737051_7/459-5508843-7778525?_encoding=UTF8&psc=1&refRID=3W6XGRD5AR1YBTPYVC9R\n"
     ]
    },
    {
     "name": "stderr",
     "output_type": "stream",
     "text": [
      "/anaconda3/lib/python3.6/site-packages/urllib3/connectionpool.py:858: InsecureRequestWarning: Unverified HTTPS request is being made. Adding certificate verification is strongly advised. See: https://urllib3.readthedocs.io/en/latest/advanced-usage.html#ssl-warnings\n",
      "  InsecureRequestWarning)\n"
     ]
    },
    {
     "name": "stdout",
     "output_type": "stream",
     "text": [
      "{'NAME': 'DK儿童太空百科全书', 'SALE_PRICE': '￥61.36', 'CATEGORY': '科普百科', 'COMMENT_NUMBER': '860 条商品评论', 'PAGES': '254页', 'READERS': '7-10岁', 'FORMAT': '16', 'SALES_RANK': '亚马逊热销商品排名:图书商品里排第263名', 'SIZE': '28.2 x 22.4 x 2.8 cm', 'WEIGHT': '1.56 Kg', 'URL': 'https://www.amazon.cn/dp/B006OG3SNU/ref=zg_bs_658737051_7/459-5508843-7778525?_encoding=UTF8&psc=1&refRID=3W6XGRD5AR1YBTPYVC9R'}\n",
      "Processing: https://www.amazon.cn/dp/B006MA7AKU/ref=zg_bs_658737051_8/459-5508843-7778525?_encoding=UTF8&psc=1&refRID=3W6XGRD5AR1YBTPYVC9R\n"
     ]
    },
    {
     "name": "stderr",
     "output_type": "stream",
     "text": [
      "/anaconda3/lib/python3.6/site-packages/urllib3/connectionpool.py:858: InsecureRequestWarning: Unverified HTTPS request is being made. Adding certificate verification is strongly advised. See: https://urllib3.readthedocs.io/en/latest/advanced-usage.html#ssl-warnings\n",
      "  InsecureRequestWarning)\n"
     ]
    },
    {
     "name": "stdout",
     "output_type": "stream",
     "text": [
      "{'NAME': 'DK儿童恐龙百科全书', 'SALE_PRICE': '￥71.50', 'CATEGORY': '科普百科', 'COMMENT_NUMBER': '877 条商品评论', 'PAGES': '304页', 'READERS': '7-10岁', 'FORMAT': '16', 'SALES_RANK': '亚马逊热销商品排名:图书商品里排第293名', 'SIZE': '28.8 x 23 x 4 cm', 'WEIGHT': '1.76 Kg', 'URL': 'https://www.amazon.cn/dp/B006MA7AKU/ref=zg_bs_658737051_8/459-5508843-7778525?_encoding=UTF8&psc=1&refRID=3W6XGRD5AR1YBTPYVC9R'}\n",
      "Processing: https://www.amazon.cn/dp/B0757G2PKR/ref=zg_bs_658737051_9/459-5508843-7778525?_encoding=UTF8&psc=1&refRID=3W6XGRD5AR1YBTPYVC9R\n"
     ]
    },
    {
     "name": "stderr",
     "output_type": "stream",
     "text": [
      "/anaconda3/lib/python3.6/site-packages/urllib3/connectionpool.py:858: InsecureRequestWarning: Unverified HTTPS request is being made. Adding certificate verification is strongly advised. See: https://urllib3.readthedocs.io/en/latest/advanced-usage.html#ssl-warnings\n",
      "  InsecureRequestWarning)\n"
     ]
    },
    {
     "name": "stdout",
     "output_type": "stream",
     "text": [
      "{'NAME': '碟形世界2:实习女巫和小小自由人', 'SALE_PRICE': '￥19.95', 'CATEGORY': '儿童文学', 'COMMENT_NUMBER': '21 条商品评论', 'PAGES': '304页', 'READERS': '7-10岁', 'FORMAT': '32', 'SALES_RANK': '亚马逊热销商品排名:图书商品里排第325名', 'SIZE': '20.8 x 14 x 1.8 cm', 'WEIGHT': '422 g', 'URL': 'https://www.amazon.cn/dp/B0757G2PKR/ref=zg_bs_658737051_9/459-5508843-7778525?_encoding=UTF8&psc=1&refRID=3W6XGRD5AR1YBTPYVC9R'}\n",
      "Processing: https://www.amazon.cn/dp/B00K8AJAMG/ref=zg_bs_658737051_10/459-5508843-7778525?_encoding=UTF8&psc=1&refRID=3W6XGRD5AR1YBTPYVC9R\n"
     ]
    },
    {
     "name": "stderr",
     "output_type": "stream",
     "text": [
      "/anaconda3/lib/python3.6/site-packages/urllib3/connectionpool.py:858: InsecureRequestWarning: Unverified HTTPS request is being made. Adding certificate verification is strongly advised. See: https://urllib3.readthedocs.io/en/latest/advanced-usage.html#ssl-warnings\n",
      "  InsecureRequestWarning)\n"
     ]
    },
    {
     "name": "stdout",
     "output_type": "stream",
     "text": [
      "{'NAME': 'DK万物运转的秘密:给青少年的物理世界入门书', 'SALE_PRICE': '￥72.07', 'CATEGORY': '科普百科', 'COMMENT_NUMBER': '277 条商品评论', 'PAGES': '395页', 'READERS': '11-14岁', 'FORMAT': '16', 'SALES_RANK': '亚马逊热销商品排名:图书商品里排第327名', 'SIZE': '28.2 x 22.2 x 3 cm', 'WEIGHT': '1.74 Kg', 'URL': 'https://www.amazon.cn/dp/B00K8AJAMG/ref=zg_bs_658737051_10/459-5508843-7778525?_encoding=UTF8&psc=1&refRID=3W6XGRD5AR1YBTPYVC9R'}\n",
      "Processing: https://www.amazon.cn/dp/B01N7A29W7/ref=zg_bs_658737051_11/459-5508843-7778525?_encoding=UTF8&psc=1&refRID=3W6XGRD5AR1YBTPYVC9R\n"
     ]
    },
    {
     "name": "stderr",
     "output_type": "stream",
     "text": [
      "/anaconda3/lib/python3.6/site-packages/urllib3/connectionpool.py:858: InsecureRequestWarning: Unverified HTTPS request is being made. Adding certificate verification is strongly advised. See: https://urllib3.readthedocs.io/en/latest/advanced-usage.html#ssl-warnings\n",
      "  InsecureRequestWarning)\n"
     ]
    },
    {
     "name": "stdout",
     "output_type": "stream",
     "text": [
      "{'NAME': '什么是什么·珍藏版(第1辑)(套装共10册)', 'SALE_PRICE': '￥239.50', 'CATEGORY': '科普百科', 'COMMENT_NUMBER': '3 条商品评论', 'PAGES': '480页', 'READERS': '11-14岁', 'FORMAT': '16', 'SALES_RANK': '亚马逊热销商品排名:图书商品里排第361名', 'SIZE': '28 x 23.4 x 9.2 cm', 'WEIGHT': '4.56 Kg', 'URL': 'https://www.amazon.cn/dp/B01N7A29W7/ref=zg_bs_658737051_11/459-5508843-7778525?_encoding=UTF8&psc=1&refRID=3W6XGRD5AR1YBTPYVC9R'}\n",
      "Processing: https://www.amazon.cn/dp/B01NANJEPL/ref=zg_bs_658737051_12/459-5508843-7778525?_encoding=UTF8&psc=1&refRID=3W6XGRD5AR1YBTPYVC9R\n"
     ]
    },
    {
     "name": "stderr",
     "output_type": "stream",
     "text": [
      "/anaconda3/lib/python3.6/site-packages/urllib3/connectionpool.py:858: InsecureRequestWarning: Unverified HTTPS request is being made. Adding certificate verification is strongly advised. See: https://urllib3.readthedocs.io/en/latest/advanced-usage.html#ssl-warnings\n",
      "  InsecureRequestWarning)\n"
     ]
    },
    {
     "name": "stdout",
     "output_type": "stream",
     "text": [
      "{'NAME': '给孩子讲量子力学', 'SALE_PRICE': '￥26.10', 'CATEGORY': '科普百科', 'COMMENT_NUMBER': '149 条商品评论', 'PAGES': '138页', 'READERS': '11-14岁', 'FORMAT': '16', 'SALES_RANK': '亚马逊热销商品排名:图书商品里排第407名', 'SIZE': '20.6 x 16.8 x 1.6 cm', 'WEIGHT': '340 g', 'URL': 'https://www.amazon.cn/dp/B01NANJEPL/ref=zg_bs_658737051_12/459-5508843-7778525?_encoding=UTF8&psc=1&refRID=3W6XGRD5AR1YBTPYVC9R'}\n",
      "Processing: https://www.amazon.cn/dp/B00LZG4WZ2/ref=zg_bs_658737051_13/459-5508843-7778525?_encoding=UTF8&psc=1&refRID=3W6XGRD5AR1YBTPYVC9R\n"
     ]
    },
    {
     "name": "stderr",
     "output_type": "stream",
     "text": [
      "/anaconda3/lib/python3.6/site-packages/urllib3/connectionpool.py:858: InsecureRequestWarning: Unverified HTTPS request is being made. Adding certificate verification is strongly advised. See: https://urllib3.readthedocs.io/en/latest/advanced-usage.html#ssl-warnings\n",
      "  InsecureRequestWarning)\n"
     ]
    },
    {
     "name": "stdout",
     "output_type": "stream",
     "text": [
      "{'NAME': '写给儿童的中国历史(套装共14册)', 'SALE_PRICE': '￥210.50', 'CATEGORY': '科普百科', 'COMMENT_NUMBER': '129 条商品评论', 'PAGES': '1080页', 'READERS': '11-14岁', 'FORMAT': '16', 'SALES_RANK': '亚马逊热销商品排名:图书商品里排第451名', 'SIZE': '29 x 19.8 x 10 cm', 'WEIGHT': '4.74 Kg', 'URL': 'https://www.amazon.cn/dp/B00LZG4WZ2/ref=zg_bs_658737051_13/459-5508843-7778525?_encoding=UTF8&psc=1&refRID=3W6XGRD5AR1YBTPYVC9R'}\n",
      "Processing: https://www.amazon.cn/dp/B00HIYI6QQ/ref=zg_bs_658737051_14/459-5508843-7778525?_encoding=UTF8&psc=1&refRID=3W6XGRD5AR1YBTPYVC9R\n"
     ]
    },
    {
     "name": "stderr",
     "output_type": "stream",
     "text": [
      "/anaconda3/lib/python3.6/site-packages/urllib3/connectionpool.py:858: InsecureRequestWarning: Unverified HTTPS request is being made. Adding certificate verification is strongly advised. See: https://urllib3.readthedocs.io/en/latest/advanced-usage.html#ssl-warnings\n",
      "  InsecureRequestWarning)\n"
     ]
    },
    {
     "name": "stdout",
     "output_type": "stream",
     "text": [
      "{'NAME': 'DK儿童人体百科全书（儿童探索世界，从了解自我开始）', 'SALE_PRICE': '￥61.36', 'CATEGORY': '科普百科', 'COMMENT_NUMBER': '203 条商品评论', 'PAGES': '256页', 'READERS': '7-10岁', 'FORMAT': '16', 'SALES_RANK': '亚马逊热销商品排名:图书商品里排第497名', 'SIZE': '28.4 x 22.4 x 2.8 cm', 'WEIGHT': '1.56 Kg', 'URL': 'https://www.amazon.cn/dp/B00HIYI6QQ/ref=zg_bs_658737051_14/459-5508843-7778525?_encoding=UTF8&psc=1&refRID=3W6XGRD5AR1YBTPYVC9R'}\n",
      "Processing: https://www.amazon.cn/dp/B0725PBXDN/ref=zg_bs_658737051_15/459-5508843-7778525?_encoding=UTF8&psc=1&refRID=3W6XGRD5AR1YBTPYVC9R\n"
     ]
    },
    {
     "name": "stderr",
     "output_type": "stream",
     "text": [
      "/anaconda3/lib/python3.6/site-packages/urllib3/connectionpool.py:858: InsecureRequestWarning: Unverified HTTPS request is being made. Adding certificate verification is strongly advised. See: https://urllib3.readthedocs.io/en/latest/advanced-usage.html#ssl-warnings\n",
      "  InsecureRequestWarning)\n"
     ]
    },
    {
     "name": "stdout",
     "output_type": "stream",
     "text": [
      "{'NAME': '走进奇妙的元素周期表', 'SALE_PRICE': '￥35.30', 'CATEGORY': '科普百科', 'COMMENT_NUMBER': '16 条商品评论', 'PAGES': '157页', 'READERS': '11-14岁', 'FORMAT': '32', 'SALES_RANK': '亚马逊热销商品排名:图书商品里排第532名', 'SIZE': '20.8 x 14.4 x 1.6 cm', 'WEIGHT': '340 g', 'URL': 'https://www.amazon.cn/dp/B0725PBXDN/ref=zg_bs_658737051_15/459-5508843-7778525?_encoding=UTF8&psc=1&refRID=3W6XGRD5AR1YBTPYVC9R'}\n",
      "Processing: https://www.amazon.cn/dp/B07D4ZWCLF/ref=zg_bs_658737051_16/459-5508843-7778525?_encoding=UTF8&psc=1&refRID=3W6XGRD5AR1YBTPYVC9R\n"
     ]
    },
    {
     "name": "stderr",
     "output_type": "stream",
     "text": [
      "/anaconda3/lib/python3.6/site-packages/urllib3/connectionpool.py:858: InsecureRequestWarning: Unverified HTTPS request is being made. Adding certificate verification is strongly advised. See: https://urllib3.readthedocs.io/en/latest/advanced-usage.html#ssl-warnings\n",
      "  InsecureRequestWarning)\n"
     ]
    },
    {
     "name": "stdout",
     "output_type": "stream",
     "text": [
      "{'NAME': '我的第一套拉鲁斯百变互动小百科(套装共3册)', 'SALE_PRICE': '￥368.00', 'CATEGORY': '科普百科', 'COMMENT_NUMBER': '3 条商品评论', 'PAGES': '30页', 'READERS': '3-6岁', 'FORMAT': '12', 'SALES_RANK': '亚马逊热销商品排名:图书商品里排第549名', 'SIZE': '26.4 x 23.6 x 7.2 cm', 'WEIGHT': '2.28 Kg', 'URL': 'https://www.amazon.cn/dp/B07D4ZWCLF/ref=zg_bs_658737051_16/459-5508843-7778525?_encoding=UTF8&psc=1&refRID=3W6XGRD5AR1YBTPYVC9R'}\n",
      "Processing: https://www.amazon.cn/dp/B00HLC0EJW/ref=zg_bs_658737051_17/459-5508843-7778525?_encoding=UTF8&psc=1&refRID=3W6XGRD5AR1YBTPYVC9R\n"
     ]
    },
    {
     "name": "stderr",
     "output_type": "stream",
     "text": [
      "/anaconda3/lib/python3.6/site-packages/urllib3/connectionpool.py:858: InsecureRequestWarning: Unverified HTTPS request is being made. Adding certificate verification is strongly advised. See: https://urllib3.readthedocs.io/en/latest/advanced-usage.html#ssl-warnings\n",
      "  InsecureRequestWarning)\n"
     ]
    },
    {
     "name": "stdout",
     "output_type": "stream",
     "text": [
      "{'NAME': 'DK儿童自然大百科:儿童自然启蒙权威百科', 'SALE_PRICE': '￥89.40', 'CATEGORY': '科普百科', 'COMMENT_NUMBER': '75 条商品评论', 'PAGES': '304页', 'READERS': '7-10岁', 'FORMAT': '16', 'SALES_RANK': '亚马逊热销商品排名:图书商品里排第553名', 'SIZE': '28.4 x 22.4 x 2.6 cm', 'WEIGHT': '1.46 Kg', 'URL': 'https://www.amazon.cn/dp/B00HLC0EJW/ref=zg_bs_658737051_17/459-5508843-7778525?_encoding=UTF8&psc=1&refRID=3W6XGRD5AR1YBTPYVC9R'}\n",
      "Processing: https://www.amazon.cn/dp/B01N68X0U0/ref=zg_bs_658737051_18/459-5508843-7778525?_encoding=UTF8&psc=1&refRID=3W6XGRD5AR1YBTPYVC9R\n"
     ]
    },
    {
     "name": "stderr",
     "output_type": "stream",
     "text": [
      "/anaconda3/lib/python3.6/site-packages/urllib3/connectionpool.py:858: InsecureRequestWarning: Unverified HTTPS request is being made. Adding certificate verification is strongly advised. See: https://urllib3.readthedocs.io/en/latest/advanced-usage.html#ssl-warnings\n",
      "  InsecureRequestWarning)\n"
     ]
    },
    {
     "name": "stdout",
     "output_type": "stream",
     "text": [
      "{'NAME': '什么是什么·珍藏版(第2辑)(套装共10册)', 'SALE_PRICE': '￥252.00', 'CATEGORY': '科普百科', 'COMMENT_NUMBER': '1 条商品评论', 'PAGES': '480页', 'READERS': '11-14岁', 'FORMAT': '16', 'SALES_RANK': '亚马逊热销商品排名:图书商品里排第613名', 'SIZE': '28.4 x 23.6 x 8.8 cm', 'WEIGHT': '4.58 Kg', 'URL': 'https://www.amazon.cn/dp/B01N68X0U0/ref=zg_bs_658737051_18/459-5508843-7778525?_encoding=UTF8&psc=1&refRID=3W6XGRD5AR1YBTPYVC9R'}\n",
      "Processing: https://www.amazon.cn/dp/B06XR9X3QY/ref=zg_bs_658737051_19/459-5508843-7778525?_encoding=UTF8&psc=1&refRID=3W6XGRD5AR1YBTPYVC9R\n"
     ]
    },
    {
     "name": "stderr",
     "output_type": "stream",
     "text": [
      "/anaconda3/lib/python3.6/site-packages/urllib3/connectionpool.py:858: InsecureRequestWarning: Unverified HTTPS request is being made. Adding certificate verification is strongly advised. See: https://urllib3.readthedocs.io/en/latest/advanced-usage.html#ssl-warnings\n",
      "  InsecureRequestWarning)\n"
     ]
    },
    {
     "name": "stdout",
     "output_type": "stream",
     "text": [
      "{'NAME': '有趣的科学(套装共10册)', 'SALE_PRICE': '￥239.20', 'CATEGORY': '科普百科', 'COMMENT_NUMBER': '1 条商品评论', 'PAGES': '960页', 'READERS': '7-10岁', 'FORMAT': '12', 'SALES_RANK': '亚马逊热销商品排名:图书商品里排第626名', 'SIZE': '24 x 17.8 x 7.2 cm', 'WEIGHT': '2.86 Kg', 'URL': 'https://www.amazon.cn/dp/B06XR9X3QY/ref=zg_bs_658737051_19/459-5508843-7778525?_encoding=UTF8&psc=1&refRID=3W6XGRD5AR1YBTPYVC9R'}\n",
      "Processing: https://www.amazon.cn/dp/B00K6404XI/ref=zg_bs_658737051_20/459-5508843-7778525?_encoding=UTF8&psc=1&refRID=3W6XGRD5AR1YBTPYVC9R\n"
     ]
    },
    {
     "name": "stderr",
     "output_type": "stream",
     "text": [
      "/anaconda3/lib/python3.6/site-packages/urllib3/connectionpool.py:858: InsecureRequestWarning: Unverified HTTPS request is being made. Adding certificate verification is strongly advised. See: https://urllib3.readthedocs.io/en/latest/advanced-usage.html#ssl-warnings\n",
      "  InsecureRequestWarning)\n"
     ]
    },
    {
     "name": "stdout",
     "output_type": "stream",
     "text": [
      "local variable 'READERS' referenced before assignment\n",
      "Processing: https://www.amazon.cn/dp/B07BFBT318/ref=zg_bs_tab_pd_bsnr_1/459-5508843-7778525?_encoding=UTF8&psc=1&refRID=3W6XGRD5AR1YBTPYVC9R\n"
     ]
    },
    {
     "name": "stderr",
     "output_type": "stream",
     "text": [
      "/anaconda3/lib/python3.6/site-packages/urllib3/connectionpool.py:858: InsecureRequestWarning: Unverified HTTPS request is being made. Adding certificate verification is strongly advised. See: https://urllib3.readthedocs.io/en/latest/advanced-usage.html#ssl-warnings\n",
      "  InsecureRequestWarning)\n"
     ]
    },
    {
     "name": "stdout",
     "output_type": "stream",
     "text": [
      "{'NAME': '人类简史(绘本版):给孩子的世界历史超图解', 'SALE_PRICE': '￥73.00', 'CATEGORY': '科普百科', 'COMMENT_NUMBER': '2 条商品评论', 'PAGES': '104页', 'READERS': '7-10岁', 'FORMAT': '8', 'SALES_RANK': '亚马逊热销商品排名:图书商品里排第33名', 'SIZE': '30.6 x 25.6 x 1.6 cm', 'WEIGHT': '1.06 Kg', 'URL': 'https://www.amazon.cn/dp/B07BFBT318/ref=zg_bs_tab_pd_bsnr_1/459-5508843-7778525?_encoding=UTF8&psc=1&refRID=3W6XGRD5AR1YBTPYVC9R'}\n",
      "Processing: https://www.amazon.cn/dp/B07D4ZWCLF/ref=zg_bs_tab_pd_bsnr_2/459-5508843-7778525?_encoding=UTF8&psc=1&refRID=3W6XGRD5AR1YBTPYVC9R\n"
     ]
    },
    {
     "name": "stderr",
     "output_type": "stream",
     "text": [
      "/anaconda3/lib/python3.6/site-packages/urllib3/connectionpool.py:858: InsecureRequestWarning: Unverified HTTPS request is being made. Adding certificate verification is strongly advised. See: https://urllib3.readthedocs.io/en/latest/advanced-usage.html#ssl-warnings\n",
      "  InsecureRequestWarning)\n"
     ]
    },
    {
     "name": "stdout",
     "output_type": "stream",
     "text": [
      "{'NAME': '我的第一套拉鲁斯百变互动小百科(套装共3册)', 'SALE_PRICE': '￥368.00', 'CATEGORY': '科普百科', 'COMMENT_NUMBER': '3 条商品评论', 'PAGES': '30页', 'READERS': '3-6岁', 'FORMAT': '12', 'SALES_RANK': '亚马逊热销商品排名:图书商品里排第549名', 'SIZE': '26.4 x 23.6 x 7.2 cm', 'WEIGHT': '2.28 Kg', 'URL': 'https://www.amazon.cn/dp/B07D4ZWCLF/ref=zg_bs_tab_pd_bsnr_2/459-5508843-7778525?_encoding=UTF8&psc=1&refRID=3W6XGRD5AR1YBTPYVC9R'}\n",
      "Processing: https://www.amazon.cn/dp/B07BF3T9MQ/ref=zg_bs_tab_pd_bsnr_3/459-5508843-7778525?_encoding=UTF8&psc=1&refRID=3W6XGRD5AR1YBTPYVC9R\n"
     ]
    },
    {
     "name": "stderr",
     "output_type": "stream",
     "text": [
      "/anaconda3/lib/python3.6/site-packages/urllib3/connectionpool.py:858: InsecureRequestWarning: Unverified HTTPS request is being made. Adding certificate verification is strongly advised. See: https://urllib3.readthedocs.io/en/latest/advanced-usage.html#ssl-warnings\n",
      "  InsecureRequestWarning)\n"
     ]
    },
    {
     "name": "stdout",
     "output_type": "stream",
     "text": [
      "{'NAME': '通火车了·日本精选科学绘本系列', 'SALE_PRICE': '￥28.10', 'CATEGORY': '少儿绘本与漫画', 'COMMENT_NUMBER': None, 'PAGES': '40页', 'READERS': '3-6岁', 'FORMAT': '16', 'SALES_RANK': '亚马逊热销商品排名:图书商品里排第5,043名', 'SIZE': '26.2 x 21.4 x 0.8 cm', 'WEIGHT': '422 g', 'URL': 'https://www.amazon.cn/dp/B07BF3T9MQ/ref=zg_bs_tab_pd_bsnr_3/459-5508843-7778525?_encoding=UTF8&psc=1&refRID=3W6XGRD5AR1YBTPYVC9R'}\n",
      "Processing: https://www.amazon.cn/dp/B0083DP0CY/ref=zg_bs_658738051_1/459-2908141-0482513?_encoding=UTF8&psc=1&refRID=NVEVRTT2WXAB5WA52K4Q\n"
     ]
    },
    {
     "name": "stderr",
     "output_type": "stream",
     "text": [
      "/anaconda3/lib/python3.6/site-packages/urllib3/connectionpool.py:858: InsecureRequestWarning: Unverified HTTPS request is being made. Adding certificate verification is strongly advised. See: https://urllib3.readthedocs.io/en/latest/advanced-usage.html#ssl-warnings\n",
      "  InsecureRequestWarning)\n"
     ]
    },
    {
     "name": "stdout",
     "output_type": "stream",
     "text": [
      "{'NAME': '我的第一本专注力训练书（专注的孩子更聪明）', 'SALE_PRICE': '￥29.70', 'CATEGORY': '幼儿启蒙', 'COMMENT_NUMBER': '4,693 条商品评论', 'PAGES': '128页', 'READERS': '3-6岁', 'FORMAT': '16', 'SALES_RANK': '亚马逊热销商品排名:图书商品里排第17名', 'SIZE': '29 x 21 x 1 cm', 'WEIGHT': '540 g', 'URL': 'https://www.amazon.cn/dp/B0083DP0CY/ref=zg_bs_658738051_1/459-2908141-0482513?_encoding=UTF8&psc=1&refRID=NVEVRTT2WXAB5WA52K4Q'}\n",
      "Processing: https://www.amazon.cn/dp/B07BFBT318/ref=zg_bs_658738051_2/459-2908141-0482513?_encoding=UTF8&psc=1&refRID=NVEVRTT2WXAB5WA52K4Q\n"
     ]
    },
    {
     "name": "stderr",
     "output_type": "stream",
     "text": [
      "/anaconda3/lib/python3.6/site-packages/urllib3/connectionpool.py:858: InsecureRequestWarning: Unverified HTTPS request is being made. Adding certificate verification is strongly advised. See: https://urllib3.readthedocs.io/en/latest/advanced-usage.html#ssl-warnings\n",
      "  InsecureRequestWarning)\n"
     ]
    },
    {
     "name": "stdout",
     "output_type": "stream",
     "text": [
      "{'NAME': '人类简史(绘本版):给孩子的世界历史超图解', 'SALE_PRICE': '￥73.00', 'CATEGORY': '科普百科', 'COMMENT_NUMBER': '2 条商品评论', 'PAGES': '104页', 'READERS': '7-10岁', 'FORMAT': '8', 'SALES_RANK': '亚马逊热销商品排名:图书商品里排第33名', 'SIZE': '30.6 x 25.6 x 1.6 cm', 'WEIGHT': '1.06 Kg', 'URL': 'https://www.amazon.cn/dp/B07BFBT318/ref=zg_bs_658738051_2/459-2908141-0482513?_encoding=UTF8&psc=1&refRID=NVEVRTT2WXAB5WA52K4Q'}\n",
      "Processing: https://www.amazon.cn/dp/B00XJ00NPK/ref=zg_bs_658738051_3/459-2908141-0482513?_encoding=UTF8&psc=1&refRID=NVEVRTT2WXAB5WA52K4Q\n"
     ]
    },
    {
     "name": "stderr",
     "output_type": "stream",
     "text": [
      "/anaconda3/lib/python3.6/site-packages/urllib3/connectionpool.py:858: InsecureRequestWarning: Unverified HTTPS request is being made. Adding certificate verification is strongly advised. See: https://urllib3.readthedocs.io/en/latest/advanced-usage.html#ssl-warnings\n",
      "  InsecureRequestWarning)\n"
     ]
    },
    {
     "name": "stdout",
     "output_type": "stream",
     "text": [
      "{'NAME': '小屁孩树屋历险记(套装共3册)', 'SALE_PRICE': '￥73.92', 'CATEGORY': '儿童文学', 'COMMENT_NUMBER': '104 条商品评论', 'PAGES': '929页', 'READERS': '7-10岁', 'FORMAT': '32', 'SALES_RANK': '亚马逊热销商品排名:图书商品里排第41名', 'SIZE': '21.5 x 14.5 x 7 cm', 'WEIGHT': '1.08 Kg', 'URL': 'https://www.amazon.cn/dp/B00XJ00NPK/ref=zg_bs_658738051_3/459-2908141-0482513?_encoding=UTF8&psc=1&refRID=NVEVRTT2WXAB5WA52K4Q'}\n",
      "Processing: https://www.amazon.cn/dp/B00CY8HN3S/ref=zg_bs_658738051_4/459-2908141-0482513?_encoding=UTF8&psc=1&refRID=NVEVRTT2WXAB5WA52K4Q\n"
     ]
    },
    {
     "name": "stderr",
     "output_type": "stream",
     "text": [
      "/anaconda3/lib/python3.6/site-packages/urllib3/connectionpool.py:858: InsecureRequestWarning: Unverified HTTPS request is being made. Adding certificate verification is strongly advised. See: https://urllib3.readthedocs.io/en/latest/advanced-usage.html#ssl-warnings\n",
      "  InsecureRequestWarning)\n"
     ]
    },
    {
     "name": "stdout",
     "output_type": "stream",
     "text": [
      "{'NAME': '不一样的卡梅拉(1-12)(第1季)(套装共12册)(两种封面', 'SALE_PRICE': '￥91.70', 'CATEGORY': '少儿绘本与漫画', 'COMMENT_NUMBER': '2,055 条商品评论', 'PAGES': '564页', 'READERS': '3-6岁', 'FORMAT': '32', 'SALES_RANK': '亚马逊热销商品排名:图书商品里排第116名', 'SIZE': '19.4 x 15.2 x 5.7 cm', 'WEIGHT': '1.18 Kg', 'URL': 'https://www.amazon.cn/dp/B00CY8HN3S/ref=zg_bs_658738051_4/459-2908141-0482513?_encoding=UTF8&psc=1&refRID=NVEVRTT2WXAB5WA52K4Q'}\n",
      "Processing: https://www.amazon.cn/dp/B0072T4OV8/ref=zg_bs_658738051_5/459-2908141-0482513?_encoding=UTF8&psc=1&refRID=NVEVRTT2WXAB5WA52K4Q\n"
     ]
    },
    {
     "name": "stderr",
     "output_type": "stream",
     "text": [
      "/anaconda3/lib/python3.6/site-packages/urllib3/connectionpool.py:858: InsecureRequestWarning: Unverified HTTPS request is being made. Adding certificate verification is strongly advised. See: https://urllib3.readthedocs.io/en/latest/advanced-usage.html#ssl-warnings\n",
      "  InsecureRequestWarning)\n"
     ]
    },
    {
     "name": "stdout",
     "output_type": "stream",
     "text": [
      "{'NAME': '蒲蒲兰绘本馆:小熊宝宝绘本(套装共15册)', 'SALE_PRICE': '￥55.90', 'CATEGORY': '少儿绘本与漫画', 'COMMENT_NUMBER': '1,258 条商品评论', 'PAGES': '270页', 'READERS': '0-2岁', 'FORMAT': '20', 'SALES_RANK': '亚马逊热销商品排名:图书商品里排第127名', 'SIZE': '17.8 x 17.2 x 4 cm', 'WEIGHT': '939 g', 'URL': 'https://www.amazon.cn/dp/B0072T4OV8/ref=zg_bs_658738051_5/459-2908141-0482513?_encoding=UTF8&psc=1&refRID=NVEVRTT2WXAB5WA52K4Q'}\n",
      "Processing: https://www.amazon.cn/dp/B071F4PWJZ/ref=zg_bs_658738051_6/459-2908141-0482513?_encoding=UTF8&psc=1&refRID=NVEVRTT2WXAB5WA52K4Q\n"
     ]
    },
    {
     "name": "stderr",
     "output_type": "stream",
     "text": [
      "/anaconda3/lib/python3.6/site-packages/urllib3/connectionpool.py:858: InsecureRequestWarning: Unverified HTTPS request is being made. Adding certificate verification is strongly advised. See: https://urllib3.readthedocs.io/en/latest/advanced-usage.html#ssl-warnings\n",
      "  InsecureRequestWarning)\n"
     ]
    },
    {
     "name": "stdout",
     "output_type": "stream",
     "text": [
      "{'NAME': '宝宝第一套高情商养成书:皮特猫(第二辑)(套装共6册)', 'SALE_PRICE': '￥80.54', 'CATEGORY': '少儿绘本与漫画', 'COMMENT_NUMBER': '326 条商品评论', 'PAGES': '184页', 'READERS': '3-6岁', 'FORMAT': '16', 'SALES_RANK': '亚马逊热销商品排名:图书商品里排第130名', 'SIZE': '27.8 x 21 x 1.8 cm', 'WEIGHT': '1.04 Kg', 'URL': 'https://www.amazon.cn/dp/B071F4PWJZ/ref=zg_bs_658738051_6/459-2908141-0482513?_encoding=UTF8&psc=1&refRID=NVEVRTT2WXAB5WA52K4Q'}\n",
      "Processing: https://www.amazon.cn/dp/B01E599034/ref=zg_bs_658738051_7/459-2908141-0482513?_encoding=UTF8&psc=1&refRID=NVEVRTT2WXAB5WA52K4Q\n"
     ]
    },
    {
     "name": "stderr",
     "output_type": "stream",
     "text": [
      "/anaconda3/lib/python3.6/site-packages/urllib3/connectionpool.py:858: InsecureRequestWarning: Unverified HTTPS request is being made. Adding certificate verification is strongly advised. See: https://urllib3.readthedocs.io/en/latest/advanced-usage.html#ssl-warnings\n",
      "  InsecureRequestWarning)\n"
     ]
    },
    {
     "name": "stdout",
     "output_type": "stream",
     "text": [
      "{'NAME': '我们的身体', 'SALE_PRICE': '￥77.50', 'CATEGORY': '少儿绘本与漫画', 'COMMENT_NUMBER': '45 条商品评论', 'PAGES': '54页', 'READERS': '7-10岁', 'FORMAT': '16', 'SALES_RANK': '亚马逊热销商品排名:图书商品里排第135名', 'SIZE': '26.8 x 25.8 x 2.6 cm', 'WEIGHT': '980 g', 'URL': 'https://www.amazon.cn/dp/B01E599034/ref=zg_bs_658738051_7/459-2908141-0482513?_encoding=UTF8&psc=1&refRID=NVEVRTT2WXAB5WA52K4Q'}\n",
      "Processing: https://www.amazon.cn/dp/B00KKISDB0/ref=zg_bs_658738051_8/459-2908141-0482513?_encoding=UTF8&psc=1&refRID=NVEVRTT2WXAB5WA52K4Q\n"
     ]
    },
    {
     "name": "stderr",
     "output_type": "stream",
     "text": [
      "/anaconda3/lib/python3.6/site-packages/urllib3/connectionpool.py:858: InsecureRequestWarning: Unverified HTTPS request is being made. Adding certificate verification is strongly advised. See: https://urllib3.readthedocs.io/en/latest/advanced-usage.html#ssl-warnings\n",
      "  InsecureRequestWarning)\n"
     ]
    },
    {
     "name": "stdout",
     "output_type": "stream",
     "text": [
      "{'NAME': '大卫,不可以!', 'SALE_PRICE': '￥28.90', 'CATEGORY': '少儿绘本与漫画', 'COMMENT_NUMBER': '1,652 条商品评论', 'PAGES': '32页', 'READERS': '3-6岁', 'FORMAT': '16', 'SALES_RANK': '亚马逊热销商品排名:图书商品里排第154名', 'SIZE': '28.2 x 22 x 10 cm', 'WEIGHT': '408 g', 'URL': 'https://www.amazon.cn/dp/B00KKISDB0/ref=zg_bs_658738051_8/459-2908141-0482513?_encoding=UTF8&psc=1&refRID=NVEVRTT2WXAB5WA52K4Q'}\n",
      "Processing: https://www.amazon.cn/dp/B00QLEU0YA/ref=zg_bs_658738051_9/459-2908141-0482513?_encoding=UTF8&psc=1&refRID=NVEVRTT2WXAB5WA52K4Q\n"
     ]
    },
    {
     "name": "stderr",
     "output_type": "stream",
     "text": [
      "/anaconda3/lib/python3.6/site-packages/urllib3/connectionpool.py:858: InsecureRequestWarning: Unverified HTTPS request is being made. Adding certificate verification is strongly advised. See: https://urllib3.readthedocs.io/en/latest/advanced-usage.html#ssl-warnings\n",
      "  InsecureRequestWarning)\n"
     ]
    },
    {
     "name": "stdout",
     "output_type": "stream",
     "text": [
      "{'NAME': '宝宝第一套好性格养成书:皮特猫(套装共6册)', 'SALE_PRICE': None, 'CATEGORY': '少儿绘本与漫画', 'COMMENT_NUMBER': '1,784 条商品评论', 'PAGES': '204页', 'READERS': '3-6岁', 'FORMAT': '16', 'SALES_RANK': None, 'SIZE': '28.2 x 21.4 x 1.8 cm', 'WEIGHT': '1.14 Kg', 'URL': 'https://www.amazon.cn/dp/B00QLEU0YA/ref=zg_bs_658738051_9/459-2908141-0482513?_encoding=UTF8&psc=1&refRID=NVEVRTT2WXAB5WA52K4Q'}\n",
      "Processing: https://www.amazon.cn/dp/B071DFQB5P/ref=zg_bs_658738051_10/459-2908141-0482513?_encoding=UTF8&psc=1&refRID=NVEVRTT2WXAB5WA52K4Q\n"
     ]
    },
    {
     "name": "stderr",
     "output_type": "stream",
     "text": [
      "/anaconda3/lib/python3.6/site-packages/urllib3/connectionpool.py:858: InsecureRequestWarning: Unverified HTTPS request is being made. Adding certificate verification is strongly advised. See: https://urllib3.readthedocs.io/en/latest/advanced-usage.html#ssl-warnings\n",
      "  InsecureRequestWarning)\n"
     ]
    },
    {
     "name": "stdout",
     "output_type": "stream",
     "text": [
      "{'NAME': '蒲公英科学绘本系列礼盒装(1-8辑)(套装共40册)', 'SALE_PRICE': '￥260.00', 'CATEGORY': '幼儿启蒙', 'COMMENT_NUMBER': '37 条商品评论', 'PAGES': '1200页', 'READERS': '3-6岁', 'FORMAT': '24', 'SALES_RANK': '亚马逊热销商品排名:图书商品里排第169名', 'SIZE': '37.4 x 22.4 x 9.2 cm', 'WEIGHT': '4.74 Kg', 'URL': 'https://www.amazon.cn/dp/B071DFQB5P/ref=zg_bs_658738051_10/459-2908141-0482513?_encoding=UTF8&psc=1&refRID=NVEVRTT2WXAB5WA52K4Q'}\n",
      "Processing: https://www.amazon.cn/dp/B01G8WDZ7I/ref=zg_bs_658738051_11/459-2908141-0482513?_encoding=UTF8&psc=1&refRID=NVEVRTT2WXAB5WA52K4Q\n"
     ]
    },
    {
     "name": "stderr",
     "output_type": "stream",
     "text": [
      "/anaconda3/lib/python3.6/site-packages/urllib3/connectionpool.py:858: InsecureRequestWarning: Unverified HTTPS request is being made. Adding certificate verification is strongly advised. See: https://urllib3.readthedocs.io/en/latest/advanced-usage.html#ssl-warnings\n",
      "  InsecureRequestWarning)\n"
     ]
    },
    {
     "name": "stdout",
     "output_type": "stream",
     "text": [
      "{'NAME': 'DADA全球艺术启蒙系列·第一辑(莫奈+沃霍尔+毕加索+梵高+夏加尔)', 'SALE_PRICE': '￥132.66', 'CATEGORY': '少儿绘本与漫画', 'COMMENT_NUMBER': '28 条商品评论', 'PAGES': '300页', 'READERS': '7-10岁', 'FORMAT': '8', 'SALES_RANK': '亚马逊热销商品排名:图书商品里排第175名', 'SIZE': '26.2 x 24 x 5 cm', 'WEIGHT': '2.38 Kg', 'URL': 'https://www.amazon.cn/dp/B01G8WDZ7I/ref=zg_bs_658738051_11/459-2908141-0482513?_encoding=UTF8&psc=1&refRID=NVEVRTT2WXAB5WA52K4Q'}\n",
      "Processing: https://www.amazon.cn/dp/B07BZBW8KN/ref=zg_bs_658738051_12/459-2908141-0482513?_encoding=UTF8&psc=1&refRID=NVEVRTT2WXAB5WA52K4Q\n"
     ]
    },
    {
     "name": "stderr",
     "output_type": "stream",
     "text": [
      "/anaconda3/lib/python3.6/site-packages/urllib3/connectionpool.py:858: InsecureRequestWarning: Unverified HTTPS request is being made. Adding certificate verification is strongly advised. See: https://urllib3.readthedocs.io/en/latest/advanced-usage.html#ssl-warnings\n",
      "  InsecureRequestWarning)\n"
     ]
    },
    {
     "name": "stdout",
     "output_type": "stream",
     "text": [
      "local variable 'PAGES' referenced before assignment\n",
      "Processing: https://www.amazon.cn/dp/B06XT8N3YB/ref=zg_bs_658738051_13/459-2908141-0482513?_encoding=UTF8&psc=1&refRID=NVEVRTT2WXAB5WA52K4Q\n"
     ]
    },
    {
     "name": "stderr",
     "output_type": "stream",
     "text": [
      "/anaconda3/lib/python3.6/site-packages/urllib3/connectionpool.py:858: InsecureRequestWarning: Unverified HTTPS request is being made. Adding certificate verification is strongly advised. See: https://urllib3.readthedocs.io/en/latest/advanced-usage.html#ssl-warnings\n",
      "  InsecureRequestWarning)\n"
     ]
    },
    {
     "name": "stdout",
     "output_type": "stream",
     "text": [
      "local variable 'READERS' referenced before assignment\n",
      "Processing: https://www.amazon.cn/dp/B00COW4FM6/ref=zg_bs_658738051_14/459-2908141-0482513?_encoding=UTF8&psc=1&refRID=NVEVRTT2WXAB5WA52K4Q\n"
     ]
    },
    {
     "name": "stderr",
     "output_type": "stream",
     "text": [
      "/anaconda3/lib/python3.6/site-packages/urllib3/connectionpool.py:858: InsecureRequestWarning: Unverified HTTPS request is being made. Adding certificate verification is strongly advised. See: https://urllib3.readthedocs.io/en/latest/advanced-usage.html#ssl-warnings\n",
      "  InsecureRequestWarning)\n"
     ]
    },
    {
     "name": "stdout",
     "output_type": "stream",
     "text": [
      "{'NAME': '杨红樱画本:注音书系列(套装共4册)', 'SALE_PRICE': '￥56.95', 'CATEGORY': '少儿绘本与漫画', 'COMMENT_NUMBER': '254 条商品评论', 'PAGES': '448页', 'READERS': '7-10岁', 'FORMAT': '16', 'SALES_RANK': '亚马逊热销商品排名:图书商品里排第211名', 'SIZE': '22.2 x 17.2 x 3.2 cm', 'WEIGHT': '880 g', 'URL': 'https://www.amazon.cn/dp/B00COW4FM6/ref=zg_bs_658738051_14/459-2908141-0482513?_encoding=UTF8&psc=1&refRID=NVEVRTT2WXAB5WA52K4Q'}\n",
      "Processing: https://www.amazon.cn/dp/B071S6ZX3Z/ref=zg_bs_658738051_15/459-2908141-0482513?_encoding=UTF8&psc=1&refRID=NVEVRTT2WXAB5WA52K4Q\n"
     ]
    },
    {
     "name": "stderr",
     "output_type": "stream",
     "text": [
      "/anaconda3/lib/python3.6/site-packages/urllib3/connectionpool.py:858: InsecureRequestWarning: Unverified HTTPS request is being made. Adding certificate verification is strongly advised. See: https://urllib3.readthedocs.io/en/latest/advanced-usage.html#ssl-warnings\n",
      "  InsecureRequestWarning)\n"
     ]
    },
    {
     "name": "stdout",
     "output_type": "stream",
     "text": [
      "{'NAME': '英语单词大书', 'SALE_PRICE': '￥61.60', 'CATEGORY': '少儿绘本与漫画', 'COMMENT_NUMBER': '34 条商品评论', 'PAGES': '38页', 'READERS': '3-6岁', 'FORMAT': '16', 'SALES_RANK': '亚马逊热销商品排名:图书商品里排第212名', 'SIZE': '29.2 x 24.6 x 1.8 cm', 'WEIGHT': '821 g', 'URL': 'https://www.amazon.cn/dp/B071S6ZX3Z/ref=zg_bs_658738051_15/459-2908141-0482513?_encoding=UTF8&psc=1&refRID=NVEVRTT2WXAB5WA52K4Q'}\n",
      "Processing: https://www.amazon.cn/dp/B01MA5TMAZ/ref=zg_bs_658738051_16/459-2908141-0482513?_encoding=UTF8&psc=1&refRID=NVEVRTT2WXAB5WA52K4Q\n"
     ]
    },
    {
     "name": "stderr",
     "output_type": "stream",
     "text": [
      "/anaconda3/lib/python3.6/site-packages/urllib3/connectionpool.py:858: InsecureRequestWarning: Unverified HTTPS request is being made. Adding certificate verification is strongly advised. See: https://urllib3.readthedocs.io/en/latest/advanced-usage.html#ssl-warnings\n",
      "  InsecureRequestWarning)\n"
     ]
    },
    {
     "name": "stdout",
     "output_type": "stream",
     "text": [
      "{'NAME': 'ABC幼儿双语启蒙认知绘本(套装共8册)', 'SALE_PRICE': '￥87.00', 'CATEGORY': '幼儿启蒙', 'COMMENT_NUMBER': '105 条商品评论', 'PAGES': '224页', 'READERS': '2-5岁', 'FORMAT': '20', 'SALES_RANK': '亚马逊热销商品排名:图书商品里排第241名', 'SIZE': '22.6 x 20.8 x 2.4 cm', 'WEIGHT': '1.16 Kg', 'URL': 'https://www.amazon.cn/dp/B01MA5TMAZ/ref=zg_bs_658738051_16/459-2908141-0482513?_encoding=UTF8&psc=1&refRID=NVEVRTT2WXAB5WA52K4Q'}\n",
      "Processing: https://www.amazon.cn/dp/B005EFU33K/ref=zg_bs_658738051_17/459-2908141-0482513?_encoding=UTF8&psc=1&refRID=NVEVRTT2WXAB5WA52K4Q\n"
     ]
    },
    {
     "name": "stderr",
     "output_type": "stream",
     "text": [
      "/anaconda3/lib/python3.6/site-packages/urllib3/connectionpool.py:858: InsecureRequestWarning: Unverified HTTPS request is being made. Adding certificate verification is strongly advised. See: https://urllib3.readthedocs.io/en/latest/advanced-usage.html#ssl-warnings\n",
      "  InsecureRequestWarning)\n"
     ]
    },
    {
     "name": "stdout",
     "output_type": "stream",
     "text": [
      "{'NAME': '一直爱你,永远爱你(打动百万读者内心的图画书)', 'SALE_PRICE': '￥17.80', 'CATEGORY': '少儿绘本与漫画', 'COMMENT_NUMBER': '869 条商品评论', 'PAGES': '24页', 'READERS': '3-6岁', 'FORMAT': '12', 'SALES_RANK': '亚马逊热销商品排名:图书商品里排第283名', 'SIZE': '26.2 x 25.4 x 0.8 cm', 'WEIGHT': '399 g', 'URL': 'https://www.amazon.cn/dp/B005EFU33K/ref=zg_bs_658738051_17/459-2908141-0482513?_encoding=UTF8&psc=1&refRID=NVEVRTT2WXAB5WA52K4Q'}\n",
      "Processing: https://www.amazon.cn/dp/B00KYN7AY2/ref=zg_bs_658738051_18/459-2908141-0482513?_encoding=UTF8&psc=1&refRID=NVEVRTT2WXAB5WA52K4Q\n"
     ]
    },
    {
     "name": "stderr",
     "output_type": "stream",
     "text": [
      "/anaconda3/lib/python3.6/site-packages/urllib3/connectionpool.py:858: InsecureRequestWarning: Unverified HTTPS request is being made. Adding certificate verification is strongly advised. See: https://urllib3.readthedocs.io/en/latest/advanced-usage.html#ssl-warnings\n",
      "  InsecureRequestWarning)\n"
     ]
    },
    {
     "name": "stdout",
     "output_type": "stream",
     "text": [
      "{'NAME': '儿童情绪管理与性格培养绘本(精选版)(套装共38册)', 'SALE_PRICE': '￥343.75', 'CATEGORY': '少儿绘本与漫画', 'COMMENT_NUMBER': '243 条商品评论', 'PAGES': '950页', 'READERS': '3-6岁', 'FORMAT': '20', 'SALES_RANK': '亚马逊热销商品排名:图书商品里排第248名', 'SIZE': '22.8 x 22.2 x 14.4 cm', 'WEIGHT': '6.74 Kg', 'URL': 'https://www.amazon.cn/dp/B00KYN7AY2/ref=zg_bs_658738051_18/459-2908141-0482513?_encoding=UTF8&psc=1&refRID=NVEVRTT2WXAB5WA52K4Q'}\n",
      "Processing: https://www.amazon.cn/dp/B07895XRKN/ref=zg_bs_658738051_19/459-2908141-0482513?_encoding=UTF8&psc=1&refRID=NVEVRTT2WXAB5WA52K4Q\n"
     ]
    },
    {
     "name": "stderr",
     "output_type": "stream",
     "text": [
      "/anaconda3/lib/python3.6/site-packages/urllib3/connectionpool.py:858: InsecureRequestWarning: Unverified HTTPS request is being made. Adding certificate verification is strongly advised. See: https://urllib3.readthedocs.io/en/latest/advanced-usage.html#ssl-warnings\n",
      "  InsecureRequestWarning)\n"
     ]
    },
    {
     "name": "stdout",
     "output_type": "stream",
     "text": [
      "{'NAME': '心喜阅文学馆:萤火谷的梦想家', 'SALE_PRICE': '￥44.88', 'CATEGORY': '儿童文学', 'COMMENT_NUMBER': '14 条商品评论', 'PAGES': '266页', 'READERS': '7-10岁', 'FORMAT': '32', 'SALES_RANK': '亚马逊热销商品排名:图书商品里排第254名', 'SIZE': '21.6 x 13.6 x 2.4 cm', 'WEIGHT': '558 g', 'URL': 'https://www.amazon.cn/dp/B07895XRKN/ref=zg_bs_658738051_19/459-2908141-0482513?_encoding=UTF8&psc=1&refRID=NVEVRTT2WXAB5WA52K4Q'}\n",
      "Processing: https://www.amazon.cn/dp/B008HXEOW2/ref=zg_bs_658738051_20/459-2908141-0482513?_encoding=UTF8&psc=1&refRID=NVEVRTT2WXAB5WA52K4Q\n"
     ]
    },
    {
     "name": "stderr",
     "output_type": "stream",
     "text": [
      "/anaconda3/lib/python3.6/site-packages/urllib3/connectionpool.py:858: InsecureRequestWarning: Unverified HTTPS request is being made. Adding certificate verification is strongly advised. See: https://urllib3.readthedocs.io/en/latest/advanced-usage.html#ssl-warnings\n",
      "  InsecureRequestWarning)\n"
     ]
    },
    {
     "name": "stdout",
     "output_type": "stream",
     "text": [
      "{'NAME': '启发精选好书:我爸爸+我妈妈(套装全2册)', 'SALE_PRICE': '￥31.00', 'CATEGORY': '少儿绘本与漫画', 'COMMENT_NUMBER': '326 条商品评论', 'PAGES': '48页', 'READERS': '3-6岁', 'FORMAT': '8', 'SALES_RANK': '亚马逊热销商品排名:图书商品里排第272名', 'SIZE': '28 x 23 x 2 cm', 'WEIGHT': '762 g', 'URL': 'https://www.amazon.cn/dp/B008HXEOW2/ref=zg_bs_658738051_20/459-2908141-0482513?_encoding=UTF8&psc=1&refRID=NVEVRTT2WXAB5WA52K4Q'}\n",
      "Processing: https://www.amazon.cn/dp/B07BFBT318/ref=zg_bs_tab_pd_bsnr_1/459-2908141-0482513?_encoding=UTF8&psc=1&refRID=NVEVRTT2WXAB5WA52K4Q\n"
     ]
    },
    {
     "name": "stderr",
     "output_type": "stream",
     "text": [
      "/anaconda3/lib/python3.6/site-packages/urllib3/connectionpool.py:858: InsecureRequestWarning: Unverified HTTPS request is being made. Adding certificate verification is strongly advised. See: https://urllib3.readthedocs.io/en/latest/advanced-usage.html#ssl-warnings\n",
      "  InsecureRequestWarning)\n"
     ]
    },
    {
     "name": "stdout",
     "output_type": "stream",
     "text": [
      "{'NAME': '人类简史(绘本版):给孩子的世界历史超图解', 'SALE_PRICE': '￥73.00', 'CATEGORY': '科普百科', 'COMMENT_NUMBER': '2 条商品评论', 'PAGES': '104页', 'READERS': '7-10岁', 'FORMAT': '8', 'SALES_RANK': '亚马逊热销商品排名:图书商品里排第28名', 'SIZE': '30.6 x 25.6 x 1.6 cm', 'WEIGHT': '1.06 Kg', 'URL': 'https://www.amazon.cn/dp/B07BFBT318/ref=zg_bs_tab_pd_bsnr_1/459-2908141-0482513?_encoding=UTF8&psc=1&refRID=NVEVRTT2WXAB5WA52K4Q'}\n",
      "Processing: https://www.amazon.cn/dp/B07895XRKN/ref=zg_bs_tab_pd_bsnr_2/459-2908141-0482513?_encoding=UTF8&psc=1&refRID=NVEVRTT2WXAB5WA52K4Q\n"
     ]
    },
    {
     "name": "stderr",
     "output_type": "stream",
     "text": [
      "/anaconda3/lib/python3.6/site-packages/urllib3/connectionpool.py:858: InsecureRequestWarning: Unverified HTTPS request is being made. Adding certificate verification is strongly advised. See: https://urllib3.readthedocs.io/en/latest/advanced-usage.html#ssl-warnings\n",
      "  InsecureRequestWarning)\n"
     ]
    },
    {
     "name": "stdout",
     "output_type": "stream",
     "text": [
      "{'NAME': '心喜阅文学馆:萤火谷的梦想家', 'SALE_PRICE': '￥44.88', 'CATEGORY': '儿童文学', 'COMMENT_NUMBER': '14 条商品评论', 'PAGES': '266页', 'READERS': '7-10岁', 'FORMAT': '32', 'SALES_RANK': '亚马逊热销商品排名:图书商品里排第254名', 'SIZE': '21.6 x 13.6 x 2.4 cm', 'WEIGHT': '558 g', 'URL': 'https://www.amazon.cn/dp/B07895XRKN/ref=zg_bs_tab_pd_bsnr_2/459-2908141-0482513?_encoding=UTF8&psc=1&refRID=NVEVRTT2WXAB5WA52K4Q'}\n",
      "Processing: https://www.amazon.cn/dp/B07CBLS7BL/ref=zg_bs_tab_pd_bsnr_3/459-2908141-0482513?_encoding=UTF8&psc=1&refRID=NVEVRTT2WXAB5WA52K4Q\n"
     ]
    },
    {
     "name": "stderr",
     "output_type": "stream",
     "text": [
      "/anaconda3/lib/python3.6/site-packages/urllib3/connectionpool.py:858: InsecureRequestWarning: Unverified HTTPS request is being made. Adding certificate verification is strongly advised. See: https://urllib3.readthedocs.io/en/latest/advanced-usage.html#ssl-warnings\n",
      "  InsecureRequestWarning)\n"
     ]
    },
    {
     "name": "stdout",
     "output_type": "stream",
     "text": [
      "{'NAME': '我们家是世界上最好的家', 'SALE_PRICE': '￥31.82', 'CATEGORY': '儿童文学', 'COMMENT_NUMBER': '10 条商品评论', 'PAGES': '32页', 'READERS': '3-6岁', 'FORMAT': '12', 'SALES_RANK': '亚马逊热销商品排名:图书商品里排第269名', 'SIZE': '24.4 x 24.2 x 0.8 cm', 'WEIGHT': '340 g', 'URL': 'https://www.amazon.cn/dp/B07CBLS7BL/ref=zg_bs_tab_pd_bsnr_3/459-2908141-0482513?_encoding=UTF8&psc=1&refRID=NVEVRTT2WXAB5WA52K4Q'}\n",
      "Processing: https://www.amazon.cn/dp/B00XJ00NPK/ref=zg_bs_658735051_1/461-2707016-5253049?_encoding=UTF8&psc=1&refRID=ZZEQW2CZMFP05J1Q48YT\n"
     ]
    },
    {
     "name": "stderr",
     "output_type": "stream",
     "text": [
      "/anaconda3/lib/python3.6/site-packages/urllib3/connectionpool.py:858: InsecureRequestWarning: Unverified HTTPS request is being made. Adding certificate verification is strongly advised. See: https://urllib3.readthedocs.io/en/latest/advanced-usage.html#ssl-warnings\n",
      "  InsecureRequestWarning)\n"
     ]
    },
    {
     "name": "stdout",
     "output_type": "stream",
     "text": [
      "{'NAME': '小屁孩树屋历险记(套装共3册)', 'SALE_PRICE': '￥73.92', 'CATEGORY': '儿童文学', 'COMMENT_NUMBER': '104 条商品评论', 'PAGES': '929页', 'READERS': '7-10岁', 'FORMAT': '32', 'SALES_RANK': '亚马逊热销商品排名:图书商品里排第41名', 'SIZE': '21.5 x 14.5 x 7 cm', 'WEIGHT': '1.08 Kg', 'URL': 'https://www.amazon.cn/dp/B00XJ00NPK/ref=zg_bs_658735051_1/461-2707016-5253049?_encoding=UTF8&psc=1&refRID=ZZEQW2CZMFP05J1Q48YT'}\n",
      "Processing: https://www.amazon.cn/dp/B00ANFMU8W/ref=zg_bs_658735051_2/461-2707016-5253049?_encoding=UTF8&psc=1&refRID=ZZEQW2CZMFP05J1Q48YT\n"
     ]
    },
    {
     "name": "stderr",
     "output_type": "stream",
     "text": [
      "/anaconda3/lib/python3.6/site-packages/urllib3/connectionpool.py:858: InsecureRequestWarning: Unverified HTTPS request is being made. Adding certificate verification is strongly advised. See: https://urllib3.readthedocs.io/en/latest/advanced-usage.html#ssl-warnings\n",
      "  InsecureRequestWarning)\n"
     ]
    },
    {
     "name": "stdout",
     "output_type": "stream",
     "text": [
      "{'NAME': '小王子(法国“圣埃克苏佩里基金会”官方认可简体中文译本)(导读注释版)', 'SALE_PRICE': '￥27.90', 'CATEGORY': '儿童文学', 'COMMENT_NUMBER': '1,900 条商品评论', 'PAGES': '118页', 'READERS': '7-10岁', 'FORMAT': '32', 'SALES_RANK': '亚马逊热销商品排名:图书商品里排第95名', 'SIZE': '21 x 14.5 x 1 cm', 'WEIGHT': '399 g', 'URL': 'https://www.amazon.cn/dp/B00ANFMU8W/ref=zg_bs_658735051_2/461-2707016-5253049?_encoding=UTF8&psc=1&refRID=ZZEQW2CZMFP05J1Q48YT'}\n",
      "Processing: https://www.amazon.cn/dp/B07BF681K4/ref=zg_bs_658735051_3/461-2707016-5253049?_encoding=UTF8&psc=1&refRID=ZZEQW2CZMFP05J1Q48YT\n"
     ]
    },
    {
     "name": "stderr",
     "output_type": "stream",
     "text": [
      "/anaconda3/lib/python3.6/site-packages/urllib3/connectionpool.py:858: InsecureRequestWarning: Unverified HTTPS request is being made. Adding certificate verification is strongly advised. See: https://urllib3.readthedocs.io/en/latest/advanced-usage.html#ssl-warnings\n",
      "  InsecureRequestWarning)\n"
     ]
    },
    {
     "name": "stdout",
     "output_type": "stream",
     "text": [
      "local variable 'READERS' referenced before assignment\n",
      "Processing: https://www.amazon.cn/dp/B0192NTFDI/ref=zg_bs_658735051_4/461-2707016-5253049?_encoding=UTF8&psc=1&refRID=ZZEQW2CZMFP05J1Q48YT\n"
     ]
    },
    {
     "name": "stderr",
     "output_type": "stream",
     "text": [
      "/anaconda3/lib/python3.6/site-packages/urllib3/connectionpool.py:858: InsecureRequestWarning: Unverified HTTPS request is being made. Adding certificate verification is strongly advised. See: https://urllib3.readthedocs.io/en/latest/advanced-usage.html#ssl-warnings\n",
      "  InsecureRequestWarning)\n"
     ]
    },
    {
     "name": "stdout",
     "output_type": "stream",
     "text": [
      "local variable 'READERS' referenced before assignment\n",
      "Processing: https://www.amazon.cn/dp/B004INGC7U/ref=zg_bs_658735051_5/461-2707016-5253049?_encoding=UTF8&psc=1&refRID=ZZEQW2CZMFP05J1Q48YT\n"
     ]
    },
    {
     "name": "stderr",
     "output_type": "stream",
     "text": [
      "/anaconda3/lib/python3.6/site-packages/urllib3/connectionpool.py:858: InsecureRequestWarning: Unverified HTTPS request is being made. Adding certificate verification is strongly advised. See: https://urllib3.readthedocs.io/en/latest/advanced-usage.html#ssl-warnings\n",
      "  InsecureRequestWarning)\n"
     ]
    },
    {
     "name": "stdout",
     "output_type": "stream",
     "text": [
      "{'NAME': '窗边的小豆豆', 'SALE_PRICE': '￥19.20', 'CATEGORY': '儿童文学', 'COMMENT_NUMBER': '5,422 条商品评论', 'PAGES': '272页', 'READERS': '7-10岁', 'FORMAT': '32', 'SALES_RANK': '亚马逊热销商品排名:图书商品里排第157名', 'SIZE': '21.4 x 15.4 x 1.6 cm', 'WEIGHT': '422 g', 'URL': 'https://www.amazon.cn/dp/B004INGC7U/ref=zg_bs_658735051_5/461-2707016-5253049?_encoding=UTF8&psc=1&refRID=ZZEQW2CZMFP05J1Q48YT'}\n",
      "Processing: https://www.amazon.cn/dp/B071JW9SVF/ref=zg_bs_658735051_6/461-2707016-5253049?_encoding=UTF8&psc=1&refRID=ZZEQW2CZMFP05J1Q48YT\n"
     ]
    },
    {
     "name": "stderr",
     "output_type": "stream",
     "text": [
      "/anaconda3/lib/python3.6/site-packages/urllib3/connectionpool.py:858: InsecureRequestWarning: Unverified HTTPS request is being made. Adding certificate verification is strongly advised. See: https://urllib3.readthedocs.io/en/latest/advanced-usage.html#ssl-warnings\n",
      "  InsecureRequestWarning)\n"
     ]
    },
    {
     "name": "stdout",
     "output_type": "stream",
     "text": [
      "{'NAME': '碟形世界:猫和少年魔笛手(两种封面随机发货)', 'SALE_PRICE': '￥19.95', 'CATEGORY': '儿童文学', 'COMMENT_NUMBER': '207 条商品评论', 'PAGES': '264页', 'READERS': '7-10岁', 'FORMAT': '32', 'SALES_RANK': '亚马逊热销商品排名:图书商品里排第192名', 'SIZE': '21.6 x 14.8 x 3 cm', 'WEIGHT': '358 g', 'URL': 'https://www.amazon.cn/dp/B071JW9SVF/ref=zg_bs_658735051_6/461-2707016-5253049?_encoding=UTF8&psc=1&refRID=ZZEQW2CZMFP05J1Q48YT'}\n",
      "Processing: https://www.amazon.cn/dp/B00LTOJVRO/ref=zg_bs_658735051_7/461-2707016-5253049?_encoding=UTF8&psc=1&refRID=ZZEQW2CZMFP05J1Q48YT\n"
     ]
    },
    {
     "name": "stderr",
     "output_type": "stream",
     "text": [
      "/anaconda3/lib/python3.6/site-packages/urllib3/connectionpool.py:858: InsecureRequestWarning: Unverified HTTPS request is being made. Adding certificate verification is strongly advised. See: https://urllib3.readthedocs.io/en/latest/advanced-usage.html#ssl-warnings\n",
      "  InsecureRequestWarning)\n"
     ]
    },
    {
     "name": "stdout",
     "output_type": "stream",
     "text": [
      "{'NAME': '夏洛的网', 'SALE_PRICE': '￥24.70', 'CATEGORY': '儿童文学', 'COMMENT_NUMBER': '193 条商品评论', 'PAGES': '176页', 'READERS': '7-10岁', 'FORMAT': '32', 'SALES_RANK': '亚马逊热销商品排名:图书商品里排第202名', 'SIZE': '19.6 x 14.6 x 1 cm', 'WEIGHT': '150 g', 'URL': 'https://www.amazon.cn/dp/B00LTOJVRO/ref=zg_bs_658735051_7/461-2707016-5253049?_encoding=UTF8&psc=1&refRID=ZZEQW2CZMFP05J1Q48YT'}\n",
      "Processing: https://www.amazon.cn/dp/B06XT8N3YB/ref=zg_bs_658735051_8/461-2707016-5253049?_encoding=UTF8&psc=1&refRID=ZZEQW2CZMFP05J1Q48YT\n"
     ]
    },
    {
     "name": "stderr",
     "output_type": "stream",
     "text": [
      "/anaconda3/lib/python3.6/site-packages/urllib3/connectionpool.py:858: InsecureRequestWarning: Unverified HTTPS request is being made. Adding certificate verification is strongly advised. See: https://urllib3.readthedocs.io/en/latest/advanced-usage.html#ssl-warnings\n",
      "  InsecureRequestWarning)\n"
     ]
    },
    {
     "name": "stdout",
     "output_type": "stream",
     "text": [
      "local variable 'READERS' referenced before assignment\n",
      "Processing: https://www.amazon.cn/dp/B003YJFNME/ref=zg_bs_658735051_9/461-2707016-5253049?_encoding=UTF8&psc=1&refRID=ZZEQW2CZMFP05J1Q48YT\n"
     ]
    },
    {
     "name": "stderr",
     "output_type": "stream",
     "text": [
      "/anaconda3/lib/python3.6/site-packages/urllib3/connectionpool.py:858: InsecureRequestWarning: Unverified HTTPS request is being made. Adding certificate verification is strongly advised. See: https://urllib3.readthedocs.io/en/latest/advanced-usage.html#ssl-warnings\n",
      "  InsecureRequestWarning)\n"
     ]
    },
    {
     "name": "stdout",
     "output_type": "stream",
     "text": [
      "{'NAME': '小王子(65周年纪念版)', 'SALE_PRICE': '￥19.40', 'CATEGORY': '儿童文学', 'COMMENT_NUMBER': '3,830 条商品评论', 'PAGES': '85页', 'READERS': '7-10岁', 'FORMAT': '16', 'SALES_RANK': '亚马逊热销商品排名:图书商品里排第237名', 'SIZE': '22.4 x 17.8 x 2 cm', 'WEIGHT': '422 g', 'URL': 'https://www.amazon.cn/dp/B003YJFNME/ref=zg_bs_658735051_9/461-2707016-5253049?_encoding=UTF8&psc=1&refRID=ZZEQW2CZMFP05J1Q48YT'}\n",
      "Processing: https://www.amazon.cn/dp/B0774PMDN8/ref=zg_bs_658735051_10/461-2707016-5253049?_encoding=UTF8&psc=1&refRID=ZZEQW2CZMFP05J1Q48YT\n"
     ]
    },
    {
     "name": "stderr",
     "output_type": "stream",
     "text": [
      "/anaconda3/lib/python3.6/site-packages/urllib3/connectionpool.py:858: InsecureRequestWarning: Unverified HTTPS request is being made. Adding certificate verification is strongly advised. See: https://urllib3.readthedocs.io/en/latest/advanced-usage.html#ssl-warnings\n",
      "  InsecureRequestWarning)\n"
     ]
    },
    {
     "name": "stdout",
     "output_type": "stream",
     "text": [
      "{'NAME': '陪孩子念童谣', 'SALE_PRICE': '￥39.90', 'CATEGORY': '儿童文学', 'COMMENT_NUMBER': '5 条商品评论', 'PAGES': '200页', 'READERS': '3-6岁', 'FORMAT': '16', 'SALES_RANK': '亚马逊热销商品排名:图书商品里排第250名', 'SIZE': '23.4 x 19 x 1.8 cm', 'WEIGHT': '558 g', 'URL': 'https://www.amazon.cn/dp/B0774PMDN8/ref=zg_bs_658735051_10/461-2707016-5253049?_encoding=UTF8&psc=1&refRID=ZZEQW2CZMFP05J1Q48YT'}\n",
      "Processing: https://www.amazon.cn/dp/B07895XRKN/ref=zg_bs_658735051_11/461-2707016-5253049?_encoding=UTF8&psc=1&refRID=ZZEQW2CZMFP05J1Q48YT\n"
     ]
    },
    {
     "name": "stderr",
     "output_type": "stream",
     "text": [
      "/anaconda3/lib/python3.6/site-packages/urllib3/connectionpool.py:858: InsecureRequestWarning: Unverified HTTPS request is being made. Adding certificate verification is strongly advised. See: https://urllib3.readthedocs.io/en/latest/advanced-usage.html#ssl-warnings\n",
      "  InsecureRequestWarning)\n"
     ]
    },
    {
     "name": "stdout",
     "output_type": "stream",
     "text": [
      "{'NAME': '心喜阅文学馆:萤火谷的梦想家', 'SALE_PRICE': '￥44.88', 'CATEGORY': '儿童文学', 'COMMENT_NUMBER': '14 条商品评论', 'PAGES': '266页', 'READERS': '7-10岁', 'FORMAT': '32', 'SALES_RANK': '亚马逊热销商品排名:图书商品里排第254名', 'SIZE': '21.6 x 13.6 x 2.4 cm', 'WEIGHT': '558 g', 'URL': 'https://www.amazon.cn/dp/B07895XRKN/ref=zg_bs_658735051_11/461-2707016-5253049?_encoding=UTF8&psc=1&refRID=ZZEQW2CZMFP05J1Q48YT'}\n",
      "Processing: https://www.amazon.cn/dp/B01BY6E98W/ref=zg_bs_658735051_12/461-2707016-5253049?_encoding=UTF8&psc=1&refRID=ZZEQW2CZMFP05J1Q48YT\n"
     ]
    },
    {
     "name": "stderr",
     "output_type": "stream",
     "text": [
      "/anaconda3/lib/python3.6/site-packages/urllib3/connectionpool.py:858: InsecureRequestWarning: Unverified HTTPS request is being made. Adding certificate verification is strongly advised. See: https://urllib3.readthedocs.io/en/latest/advanced-usage.html#ssl-warnings\n",
      "  InsecureRequestWarning)\n"
     ]
    },
    {
     "name": "stdout",
     "output_type": "stream",
     "text": [
      "{'NAME': '彼得•潘(英国插画奖得主绘制)(独家收录前传)', 'SALE_PRICE': '￥22.30', 'CATEGORY': '儿童文学', 'COMMENT_NUMBER': '45 条商品评论', 'PAGES': '280页', 'READERS': '7-10岁', 'FORMAT': '32', 'SALES_RANK': '亚马逊热销商品排名:图书商品里排第299名', 'SIZE': '21 x 14.9 x 1.5 cm', 'WEIGHT': '358 g', 'URL': 'https://www.amazon.cn/dp/B01BY6E98W/ref=zg_bs_658735051_12/461-2707016-5253049?_encoding=UTF8&psc=1&refRID=ZZEQW2CZMFP05J1Q48YT'}\n",
      "Processing: https://www.amazon.cn/dp/B07CBLS7BL/ref=zg_bs_658735051_13/461-2707016-5253049?_encoding=UTF8&psc=1&refRID=ZZEQW2CZMFP05J1Q48YT\n"
     ]
    },
    {
     "name": "stderr",
     "output_type": "stream",
     "text": [
      "/anaconda3/lib/python3.6/site-packages/urllib3/connectionpool.py:858: InsecureRequestWarning: Unverified HTTPS request is being made. Adding certificate verification is strongly advised. See: https://urllib3.readthedocs.io/en/latest/advanced-usage.html#ssl-warnings\n",
      "  InsecureRequestWarning)\n"
     ]
    },
    {
     "name": "stdout",
     "output_type": "stream",
     "text": [
      "{'NAME': '我们家是世界上最好的家', 'SALE_PRICE': '￥31.82', 'CATEGORY': '儿童文学', 'COMMENT_NUMBER': '10 条商品评论', 'PAGES': '32页', 'READERS': '3-6岁', 'FORMAT': '12', 'SALES_RANK': '亚马逊热销商品排名:图书商品里排第298名', 'SIZE': '24.4 x 24.2 x 0.8 cm', 'WEIGHT': '340 g', 'URL': 'https://www.amazon.cn/dp/B07CBLS7BL/ref=zg_bs_658735051_13/461-2707016-5253049?_encoding=UTF8&psc=1&refRID=ZZEQW2CZMFP05J1Q48YT'}\n",
      "Processing: https://www.amazon.cn/dp/B079ZSVNC3/ref=zg_bs_658735051_14/461-2707016-5253049?_encoding=UTF8&psc=1&refRID=ZZEQW2CZMFP05J1Q48YT\n"
     ]
    },
    {
     "name": "stderr",
     "output_type": "stream",
     "text": [
      "/anaconda3/lib/python3.6/site-packages/urllib3/connectionpool.py:858: InsecureRequestWarning: Unverified HTTPS request is being made. Adding certificate verification is strongly advised. See: https://urllib3.readthedocs.io/en/latest/advanced-usage.html#ssl-warnings\n",
      "  InsecureRequestWarning)\n"
     ]
    },
    {
     "name": "stdout",
     "output_type": "stream",
     "text": [
      "local variable 'READERS' referenced before assignment\n",
      "Processing: https://www.amazon.cn/dp/B0757G2PKR/ref=zg_bs_658735051_15/461-2707016-5253049?_encoding=UTF8&psc=1&refRID=ZZEQW2CZMFP05J1Q48YT\n"
     ]
    },
    {
     "name": "stderr",
     "output_type": "stream",
     "text": [
      "/anaconda3/lib/python3.6/site-packages/urllib3/connectionpool.py:858: InsecureRequestWarning: Unverified HTTPS request is being made. Adding certificate verification is strongly advised. See: https://urllib3.readthedocs.io/en/latest/advanced-usage.html#ssl-warnings\n",
      "  InsecureRequestWarning)\n"
     ]
    },
    {
     "name": "stdout",
     "output_type": "stream",
     "text": [
      "{'NAME': '碟形世界2:实习女巫和小小自由人', 'SALE_PRICE': '￥19.95', 'CATEGORY': '儿童文学', 'COMMENT_NUMBER': '21 条商品评论', 'PAGES': '304页', 'READERS': '7-10岁', 'FORMAT': '32', 'SALES_RANK': '亚马逊热销商品排名:图书商品里排第325名', 'SIZE': '20.8 x 14 x 1.8 cm', 'WEIGHT': '422 g', 'URL': 'https://www.amazon.cn/dp/B0757G2PKR/ref=zg_bs_658735051_15/461-2707016-5253049?_encoding=UTF8&psc=1&refRID=ZZEQW2CZMFP05J1Q48YT'}\n",
      "Processing: https://www.amazon.cn/dp/B001N6R68O/ref=zg_bs_658735051_16/461-2707016-5253049?_encoding=UTF8&psc=1&refRID=ZZEQW2CZMFP05J1Q48YT\n"
     ]
    },
    {
     "name": "stderr",
     "output_type": "stream",
     "text": [
      "/anaconda3/lib/python3.6/site-packages/urllib3/connectionpool.py:858: InsecureRequestWarning: Unverified HTTPS request is being made. Adding certificate verification is strongly advised. See: https://urllib3.readthedocs.io/en/latest/advanced-usage.html#ssl-warnings\n",
      "  InsecureRequestWarning)\n"
     ]
    },
    {
     "name": "stdout",
     "output_type": "stream",
     "text": [
      "{'NAME': '唐诗三百首(儿童版•注音•彩图)', 'SALE_PRICE': '￥20.90', 'CATEGORY': '儿童文学', 'COMMENT_NUMBER': '591 条商品评论', 'PAGES': '300页', 'READERS': '3-6岁', 'FORMAT': '24', 'SALES_RANK': '亚马逊热销商品排名:图书商品里排第336名', 'SIZE': '19 x 17.7 x 2.4 cm', 'WEIGHT': '558 g', 'URL': 'https://www.amazon.cn/dp/B001N6R68O/ref=zg_bs_658735051_16/461-2707016-5253049?_encoding=UTF8&psc=1&refRID=ZZEQW2CZMFP05J1Q48YT'}\n",
      "Processing: https://www.amazon.cn/dp/B00OUNPC1A/ref=zg_bs_658735051_17/461-2707016-5253049?_encoding=UTF8&psc=1&refRID=ZZEQW2CZMFP05J1Q48YT\n"
     ]
    },
    {
     "name": "stderr",
     "output_type": "stream",
     "text": [
      "/anaconda3/lib/python3.6/site-packages/urllib3/connectionpool.py:858: InsecureRequestWarning: Unverified HTTPS request is being made. Adding certificate verification is strongly advised. See: https://urllib3.readthedocs.io/en/latest/advanced-usage.html#ssl-warnings\n",
      "  InsecureRequestWarning)\n"
     ]
    },
    {
     "name": "stdout",
     "output_type": "stream",
     "text": [
      "{'NAME': '哈利·波特(纪念版)(套装共7册)', 'SALE_PRICE': '￥224.00', 'CATEGORY': '儿童文学', 'COMMENT_NUMBER': '841 条商品评论', 'PAGES': '3053页', 'READERS': '11-14岁', 'FORMAT': '16', 'SALES_RANK': '亚马逊热销商品排名:图书商品里排第349名', 'SIZE': '24.8 x 17.2 x 16.6 cm', 'WEIGHT': '4.76 Kg', 'URL': 'https://www.amazon.cn/dp/B00OUNPC1A/ref=zg_bs_658735051_17/461-2707016-5253049?_encoding=UTF8&psc=1&refRID=ZZEQW2CZMFP05J1Q48YT'}\n",
      "Processing: https://www.amazon.cn/dp/B075JDMXJN/ref=zg_bs_658735051_18/461-2707016-5253049?_encoding=UTF8&psc=1&refRID=ZZEQW2CZMFP05J1Q48YT\n"
     ]
    },
    {
     "name": "stderr",
     "output_type": "stream",
     "text": [
      "/anaconda3/lib/python3.6/site-packages/urllib3/connectionpool.py:858: InsecureRequestWarning: Unverified HTTPS request is being made. Adding certificate verification is strongly advised. See: https://urllib3.readthedocs.io/en/latest/advanced-usage.html#ssl-warnings\n",
      "  InsecureRequestWarning)\n"
     ]
    },
    {
     "name": "stdout",
     "output_type": "stream",
     "text": [
      "{'NAME': '孩子们的诗', 'SALE_PRICE': '￥51.01', 'CATEGORY': '儿童文学', 'COMMENT_NUMBER': '34 条商品评论', 'PAGES': '164页', 'READERS': '3-6岁', 'FORMAT': '16', 'SALES_RANK': '亚马逊热销商品排名:图书商品里排第364名', 'SIZE': '23.4 x 19 x 1.6 cm', 'WEIGHT': '381 g', 'URL': 'https://www.amazon.cn/dp/B075JDMXJN/ref=zg_bs_658735051_18/461-2707016-5253049?_encoding=UTF8&psc=1&refRID=ZZEQW2CZMFP05J1Q48YT'}\n",
      "Processing: https://www.amazon.cn/dp/B0774CLCML/ref=zg_bs_658735051_19/461-2707016-5253049?_encoding=UTF8&psc=1&refRID=ZZEQW2CZMFP05J1Q48YT\n"
     ]
    },
    {
     "name": "stderr",
     "output_type": "stream",
     "text": [
      "/anaconda3/lib/python3.6/site-packages/urllib3/connectionpool.py:858: InsecureRequestWarning: Unverified HTTPS request is being made. Adding certificate verification is strongly advised. See: https://urllib3.readthedocs.io/en/latest/advanced-usage.html#ssl-warnings\n",
      "  InsecureRequestWarning)\n"
     ]
    },
    {
     "name": "stdout",
     "output_type": "stream",
     "text": [
      "{'NAME': '晚安,故事', 'SALE_PRICE': '￥58.51', 'CATEGORY': '儿童文学', 'COMMENT_NUMBER': '6 条商品评论', 'PAGES': '252页', 'READERS': '3-6岁', 'FORMAT': '16', 'SALES_RANK': '亚马逊热销商品排名:图书商品里排第372名', 'SIZE': '23.4 x 19 x 2.4 cm', 'WEIGHT': '540 g', 'URL': 'https://www.amazon.cn/dp/B0774CLCML/ref=zg_bs_658735051_19/461-2707016-5253049?_encoding=UTF8&psc=1&refRID=ZZEQW2CZMFP05J1Q48YT'}\n",
      "Processing: https://www.amazon.cn/dp/B01ARP0NE0/ref=zg_bs_658735051_20/461-2707016-5253049?_encoding=UTF8&psc=1&refRID=ZZEQW2CZMFP05J1Q48YT\n"
     ]
    },
    {
     "name": "stderr",
     "output_type": "stream",
     "text": [
      "/anaconda3/lib/python3.6/site-packages/urllib3/connectionpool.py:858: InsecureRequestWarning: Unverified HTTPS request is being made. Adding certificate verification is strongly advised. See: https://urllib3.readthedocs.io/en/latest/advanced-usage.html#ssl-warnings\n",
      "  InsecureRequestWarning)\n"
     ]
    },
    {
     "name": "stdout",
     "output_type": "stream",
     "text": [
      "{'NAME': '米小圈脑筋急转弯(套装共4册)', 'SALE_PRICE': '￥45.40', 'CATEGORY': '儿童文学', 'COMMENT_NUMBER': '12 条商品评论', 'PAGES': '576页', 'READERS': '3-6岁', 'FORMAT': '24', 'SALES_RANK': '亚马逊热销商品排名:图书商品里排第418名', 'SIZE': '16.8 x 15.2 x 4 cm', 'WEIGHT': '662 g', 'URL': 'https://www.amazon.cn/dp/B01ARP0NE0/ref=zg_bs_658735051_20/461-2707016-5253049?_encoding=UTF8&psc=1&refRID=ZZEQW2CZMFP05J1Q48YT'}\n",
      "Processing: https://www.amazon.cn/dp/B07BF681K4/ref=zg_bs_tab_pd_bsnr_1/461-2707016-5253049?_encoding=UTF8&psc=1&refRID=ZZEQW2CZMFP05J1Q48YT\n"
     ]
    },
    {
     "name": "stderr",
     "output_type": "stream",
     "text": [
      "/anaconda3/lib/python3.6/site-packages/urllib3/connectionpool.py:858: InsecureRequestWarning: Unverified HTTPS request is being made. Adding certificate verification is strongly advised. See: https://urllib3.readthedocs.io/en/latest/advanced-usage.html#ssl-warnings\n",
      "  InsecureRequestWarning)\n"
     ]
    },
    {
     "name": "stdout",
     "output_type": "stream",
     "text": [
      "local variable 'READERS' referenced before assignment\n",
      "Processing: https://www.amazon.cn/dp/B07895XRKN/ref=zg_bs_tab_pd_bsnr_2/461-2707016-5253049?_encoding=UTF8&psc=1&refRID=ZZEQW2CZMFP05J1Q48YT\n"
     ]
    },
    {
     "name": "stderr",
     "output_type": "stream",
     "text": [
      "/anaconda3/lib/python3.6/site-packages/urllib3/connectionpool.py:858: InsecureRequestWarning: Unverified HTTPS request is being made. Adding certificate verification is strongly advised. See: https://urllib3.readthedocs.io/en/latest/advanced-usage.html#ssl-warnings\n",
      "  InsecureRequestWarning)\n"
     ]
    },
    {
     "name": "stdout",
     "output_type": "stream",
     "text": [
      "{'NAME': '心喜阅文学馆:萤火谷的梦想家', 'SALE_PRICE': '￥44.88', 'CATEGORY': '儿童文学', 'COMMENT_NUMBER': '14 条商品评论', 'PAGES': '266页', 'READERS': '7-10岁', 'FORMAT': '32', 'SALES_RANK': '亚马逊热销商品排名:图书商品里排第286名', 'SIZE': '21.6 x 13.6 x 2.4 cm', 'WEIGHT': '558 g', 'URL': 'https://www.amazon.cn/dp/B07895XRKN/ref=zg_bs_tab_pd_bsnr_2/461-2707016-5253049?_encoding=UTF8&psc=1&refRID=ZZEQW2CZMFP05J1Q48YT'}\n",
      "Processing: https://www.amazon.cn/dp/B07CBLS7BL/ref=zg_bs_tab_pd_bsnr_3/461-2707016-5253049?_encoding=UTF8&psc=1&refRID=ZZEQW2CZMFP05J1Q48YT\n"
     ]
    },
    {
     "name": "stderr",
     "output_type": "stream",
     "text": [
      "/anaconda3/lib/python3.6/site-packages/urllib3/connectionpool.py:858: InsecureRequestWarning: Unverified HTTPS request is being made. Adding certificate verification is strongly advised. See: https://urllib3.readthedocs.io/en/latest/advanced-usage.html#ssl-warnings\n",
      "  InsecureRequestWarning)\n"
     ]
    },
    {
     "name": "stdout",
     "output_type": "stream",
     "text": [
      "{'NAME': '我们家是世界上最好的家', 'SALE_PRICE': '￥31.82', 'CATEGORY': '儿童文学', 'COMMENT_NUMBER': '10 条商品评论', 'PAGES': '32页', 'READERS': '3-6岁', 'FORMAT': '12', 'SALES_RANK': '亚马逊热销商品排名:图书商品里排第298名', 'SIZE': '24.4 x 24.2 x 0.8 cm', 'WEIGHT': '340 g', 'URL': 'https://www.amazon.cn/dp/B07CBLS7BL/ref=zg_bs_tab_pd_bsnr_3/461-2707016-5253049?_encoding=UTF8&psc=1&refRID=ZZEQW2CZMFP05J1Q48YT'}\n",
      "Processing: https://www.amazon.cn/dp/B0083DP0CY/ref=zg_bs_658734051_1/459-0685494-7892567?_encoding=UTF8&psc=1&refRID=F58KFT55EYC6ZNE008QT\n"
     ]
    },
    {
     "name": "stderr",
     "output_type": "stream",
     "text": [
      "/anaconda3/lib/python3.6/site-packages/urllib3/connectionpool.py:858: InsecureRequestWarning: Unverified HTTPS request is being made. Adding certificate verification is strongly advised. See: https://urllib3.readthedocs.io/en/latest/advanced-usage.html#ssl-warnings\n",
      "  InsecureRequestWarning)\n"
     ]
    },
    {
     "name": "stdout",
     "output_type": "stream",
     "text": [
      "{'NAME': '我的第一本专注力训练书（专注的孩子更聪明）', 'SALE_PRICE': '￥29.70', 'CATEGORY': '幼儿启蒙', 'COMMENT_NUMBER': '4,693 条商品评论', 'PAGES': '128页', 'READERS': '3-6岁', 'FORMAT': '16', 'SALES_RANK': '亚马逊热销商品排名:图书商品里排第19名', 'SIZE': '29 x 21 x 1 cm', 'WEIGHT': '540 g', 'URL': 'https://www.amazon.cn/dp/B0083DP0CY/ref=zg_bs_658734051_1/459-0685494-7892567?_encoding=UTF8&psc=1&refRID=F58KFT55EYC6ZNE008QT'}\n",
      "Processing: https://www.amazon.cn/dp/B00OPNOT78/ref=zg_bs_658734051_2/459-0685494-7892567?_encoding=UTF8&psc=1&refRID=F58KFT55EYC6ZNE008QT\n"
     ]
    },
    {
     "name": "stderr",
     "output_type": "stream",
     "text": [
      "/anaconda3/lib/python3.6/site-packages/urllib3/connectionpool.py:858: InsecureRequestWarning: Unverified HTTPS request is being made. Adding certificate verification is strongly advised. See: https://urllib3.readthedocs.io/en/latest/advanced-usage.html#ssl-warnings\n",
      "  InsecureRequestWarning)\n"
     ]
    },
    {
     "name": "stdout",
     "output_type": "stream",
     "text": [
      "{'NAME': '手绘版儿童科普书:幼儿十万个为什么(套装共7册)', 'SALE_PRICE': '￥66.42', 'CATEGORY': '幼儿启蒙', 'COMMENT_NUMBER': '96 条商品评论', 'PAGES': '476页', 'READERS': '3-6岁', 'FORMAT': '16', 'SALES_RANK': '亚马逊热销商品排名:图书商品里排第70名', 'SIZE': '25.2 x 19.2 x 4 cm', 'WEIGHT': '1.46 Kg', 'URL': 'https://www.amazon.cn/dp/B00OPNOT78/ref=zg_bs_658734051_2/459-0685494-7892567?_encoding=UTF8&psc=1&refRID=F58KFT55EYC6ZNE008QT'}\n",
      "Processing: https://www.amazon.cn/dp/B071DFQB5P/ref=zg_bs_658734051_3/459-0685494-7892567?_encoding=UTF8&psc=1&refRID=F58KFT55EYC6ZNE008QT\n"
     ]
    },
    {
     "name": "stderr",
     "output_type": "stream",
     "text": [
      "/anaconda3/lib/python3.6/site-packages/urllib3/connectionpool.py:858: InsecureRequestWarning: Unverified HTTPS request is being made. Adding certificate verification is strongly advised. See: https://urllib3.readthedocs.io/en/latest/advanced-usage.html#ssl-warnings\n",
      "  InsecureRequestWarning)\n"
     ]
    },
    {
     "name": "stdout",
     "output_type": "stream",
     "text": [
      "{'NAME': '蒲公英科学绘本系列礼盒装(1-8辑)(套装共40册)', 'SALE_PRICE': '￥260.00', 'CATEGORY': '幼儿启蒙', 'COMMENT_NUMBER': '37 条商品评论', 'PAGES': '1200页', 'READERS': '3-6岁', 'FORMAT': '24', 'SALES_RANK': '亚马逊热销商品排名:图书商品里排第169名', 'SIZE': '37.4 x 22.4 x 9.2 cm', 'WEIGHT': '4.74 Kg', 'URL': 'https://www.amazon.cn/dp/B071DFQB5P/ref=zg_bs_658734051_3/459-0685494-7892567?_encoding=UTF8&psc=1&refRID=F58KFT55EYC6ZNE008QT'}\n",
      "Processing: https://www.amazon.cn/dp/B01CHBW1SI/ref=zg_bs_658734051_4/459-0685494-7892567?_encoding=UTF8&psc=1&refRID=F58KFT55EYC6ZNE008QT\n"
     ]
    },
    {
     "name": "stderr",
     "output_type": "stream",
     "text": [
      "/anaconda3/lib/python3.6/site-packages/urllib3/connectionpool.py:858: InsecureRequestWarning: Unverified HTTPS request is being made. Adding certificate verification is strongly advised. See: https://urllib3.readthedocs.io/en/latest/advanced-usage.html#ssl-warnings\n",
      "  InsecureRequestWarning)\n"
     ]
    },
    {
     "name": "stdout",
     "output_type": "stream",
     "text": [
      "{'NAME': '偷偷看里面(套装共4册)', 'SALE_PRICE': '￥85.60', 'CATEGORY': '幼儿启蒙', 'COMMENT_NUMBER': '29 条商品评论', 'PAGES': '64页', 'READERS': '0-2岁', 'FORMAT': '32', 'SALES_RANK': '亚马逊热销商品排名:图书商品里排第218名', 'SIZE': '19.6 x 17.2 x 6.6 cm', 'WEIGHT': '1.2 Kg', 'URL': 'https://www.amazon.cn/dp/B01CHBW1SI/ref=zg_bs_658734051_4/459-0685494-7892567?_encoding=UTF8&psc=1&refRID=F58KFT55EYC6ZNE008QT'}\n",
      "Processing: https://www.amazon.cn/dp/B01MA5TMAZ/ref=zg_bs_658734051_5/459-0685494-7892567?_encoding=UTF8&psc=1&refRID=F58KFT55EYC6ZNE008QT\n"
     ]
    },
    {
     "name": "stderr",
     "output_type": "stream",
     "text": [
      "/anaconda3/lib/python3.6/site-packages/urllib3/connectionpool.py:858: InsecureRequestWarning: Unverified HTTPS request is being made. Adding certificate verification is strongly advised. See: https://urllib3.readthedocs.io/en/latest/advanced-usage.html#ssl-warnings\n",
      "  InsecureRequestWarning)\n"
     ]
    },
    {
     "name": "stdout",
     "output_type": "stream",
     "text": [
      "{'NAME': 'ABC幼儿双语启蒙认知绘本(套装共8册)', 'SALE_PRICE': '￥87.00', 'CATEGORY': '幼儿启蒙', 'COMMENT_NUMBER': '105 条商品评论', 'PAGES': '224页', 'READERS': '2-5岁', 'FORMAT': '20', 'SALES_RANK': '亚马逊热销商品排名:图书商品里排第241名', 'SIZE': '22.6 x 20.8 x 2.4 cm', 'WEIGHT': '1.16 Kg', 'URL': 'https://www.amazon.cn/dp/B01MA5TMAZ/ref=zg_bs_658734051_5/459-0685494-7892567?_encoding=UTF8&psc=1&refRID=F58KFT55EYC6ZNE008QT'}\n",
      "Processing: https://www.amazon.cn/dp/B0774PMDN8/ref=zg_bs_658734051_6/459-0685494-7892567?_encoding=UTF8&psc=1&refRID=F58KFT55EYC6ZNE008QT\n"
     ]
    },
    {
     "name": "stderr",
     "output_type": "stream",
     "text": [
      "/anaconda3/lib/python3.6/site-packages/urllib3/connectionpool.py:858: InsecureRequestWarning: Unverified HTTPS request is being made. Adding certificate verification is strongly advised. See: https://urllib3.readthedocs.io/en/latest/advanced-usage.html#ssl-warnings\n",
      "  InsecureRequestWarning)\n"
     ]
    },
    {
     "name": "stdout",
     "output_type": "stream",
     "text": [
      "{'NAME': '陪孩子念童谣', 'SALE_PRICE': '￥39.90', 'CATEGORY': '儿童文学', 'COMMENT_NUMBER': '5 条商品评论', 'PAGES': '200页', 'READERS': '3-6岁', 'FORMAT': '16', 'SALES_RANK': '亚马逊热销商品排名:图书商品里排第250名', 'SIZE': '23.4 x 19 x 1.8 cm', 'WEIGHT': '558 g', 'URL': 'https://www.amazon.cn/dp/B0774PMDN8/ref=zg_bs_658734051_6/459-0685494-7892567?_encoding=UTF8&psc=1&refRID=F58KFT55EYC6ZNE008QT'}\n",
      "Processing: https://www.amazon.cn/dp/B009HIT5B6/ref=zg_bs_658734051_7/459-0685494-7892567?_encoding=UTF8&psc=1&refRID=F58KFT55EYC6ZNE008QT\n"
     ]
    },
    {
     "name": "stderr",
     "output_type": "stream",
     "text": [
      "/anaconda3/lib/python3.6/site-packages/urllib3/connectionpool.py:858: InsecureRequestWarning: Unverified HTTPS request is being made. Adding certificate verification is strongly advised. See: https://urllib3.readthedocs.io/en/latest/advanced-usage.html#ssl-warnings\n",
      "  InsecureRequestWarning)\n"
     ]
    },
    {
     "name": "stdout",
     "output_type": "stream",
     "text": [
      "{'NAME': '童立方·宝宝的第一本躲猫猫游戏书:猜猜我是谁？(0-3岁适用)', 'SALE_PRICE': '￥14.40', 'CATEGORY': '幼儿启蒙', 'COMMENT_NUMBER': '1,389 条商品评论', 'PAGES': '21页', 'READERS': '0-2岁', 'FORMAT': '48', 'SALES_RANK': '亚马逊热销商品排名:图书商品里排第450名', 'SIZE': '13 x 12.8 x 1.8 cm', 'WEIGHT': '141 g', 'URL': 'https://www.amazon.cn/dp/B009HIT5B6/ref=zg_bs_658734051_7/459-0685494-7892567?_encoding=UTF8&psc=1&refRID=F58KFT55EYC6ZNE008QT'}\n",
      "Processing: https://www.amazon.cn/dp/B00R2NWUSI/ref=zg_bs_658734051_8/459-0685494-7892567?_encoding=UTF8&psc=1&refRID=F58KFT55EYC6ZNE008QT\n"
     ]
    },
    {
     "name": "stderr",
     "output_type": "stream",
     "text": [
      "/anaconda3/lib/python3.6/site-packages/urllib3/connectionpool.py:858: InsecureRequestWarning: Unverified HTTPS request is being made. Adding certificate verification is strongly advised. See: https://urllib3.readthedocs.io/en/latest/advanced-usage.html#ssl-warnings\n",
      "  InsecureRequestWarning)\n"
     ]
    },
    {
     "name": "stdout",
     "output_type": "stream",
     "text": [
      "{'NAME': '看里面低幼版第1辑:揭秘汽车(两种封面随机发放)', 'SALE_PRICE': '￥34.40', 'CATEGORY': '幼儿启蒙', 'COMMENT_NUMBER': '345 条商品评论', 'PAGES': '6页', 'READERS': '3-6岁', 'FORMAT': '16', 'SALES_RANK': '亚马逊热销商品排名:图书商品里排第458名', 'SIZE': '26.8 x 24 x 1.8 cm', 'WEIGHT': '739 g', 'URL': 'https://www.amazon.cn/dp/B00R2NWUSI/ref=zg_bs_658734051_8/459-0685494-7892567?_encoding=UTF8&psc=1&refRID=F58KFT55EYC6ZNE008QT'}\n",
      "Processing: https://www.amazon.cn/dp/B07CPDKQ93/ref=zg_bs_658734051_9/459-0685494-7892567?_encoding=UTF8&psc=1&refRID=F58KFT55EYC6ZNE008QT\n"
     ]
    },
    {
     "name": "stderr",
     "output_type": "stream",
     "text": [
      "/anaconda3/lib/python3.6/site-packages/urllib3/connectionpool.py:858: InsecureRequestWarning: Unverified HTTPS request is being made. Adding certificate verification is strongly advised. See: https://urllib3.readthedocs.io/en/latest/advanced-usage.html#ssl-warnings\n",
      "  InsecureRequestWarning)\n"
     ]
    },
    {
     "name": "stdout",
     "output_type": "stream",
     "text": [
      "{'NAME': '创意大师拉拉翻翻大惊喜系列(套装共7册)', 'SALE_PRICE': '￥256.16', 'CATEGORY': '幼儿启蒙', 'COMMENT_NUMBER': None, 'PAGES': '186页', 'READERS': '3-6岁', 'FORMAT': '24', 'SALES_RANK': '亚马逊热销商品排名:图书商品里排第505名', 'SIZE': '19 x 18.2 x 11.2 cm', 'WEIGHT': '2.02 Kg', 'URL': 'https://www.amazon.cn/dp/B07CPDKQ93/ref=zg_bs_658734051_9/459-0685494-7892567?_encoding=UTF8&psc=1&refRID=F58KFT55EYC6ZNE008QT'}\n",
      "Processing: https://www.amazon.cn/dp/B00F871Y4G/ref=zg_bs_658734051_10/459-0685494-7892567?_encoding=UTF8&psc=1&refRID=F58KFT55EYC6ZNE008QT\n"
     ]
    },
    {
     "name": "stderr",
     "output_type": "stream",
     "text": [
      "/anaconda3/lib/python3.6/site-packages/urllib3/connectionpool.py:858: InsecureRequestWarning: Unverified HTTPS request is being made. Adding certificate verification is strongly advised. See: https://urllib3.readthedocs.io/en/latest/advanced-usage.html#ssl-warnings\n",
      "  InsecureRequestWarning)\n"
     ]
    },
    {
     "name": "stdout",
     "output_type": "stream",
     "text": [
      "{'NAME': '儿童情绪管理与性格培养绘本(第8辑):不怕被嘲笑', 'SALE_PRICE': '￥8.80', 'CATEGORY': '幼儿启蒙', 'COMMENT_NUMBER': '255 条商品评论', 'PAGES': '34页', 'READERS': '3-6岁', 'FORMAT': '20', 'SALES_RANK': '亚马逊热销商品排名:图书商品里排第524名', 'SIZE': '22 x 20.6 x 0.4 cm', 'WEIGHT': '200 g', 'URL': 'https://www.amazon.cn/dp/B00F871Y4G/ref=zg_bs_658734051_10/459-0685494-7892567?_encoding=UTF8&psc=1&refRID=F58KFT55EYC6ZNE008QT'}\n",
      "Processing: https://www.amazon.cn/dp/B00NDF5HNE/ref=zg_bs_658734051_11/459-0685494-7892567?_encoding=UTF8&psc=1&refRID=F58KFT55EYC6ZNE008QT\n"
     ]
    },
    {
     "name": "stderr",
     "output_type": "stream",
     "text": [
      "/anaconda3/lib/python3.6/site-packages/urllib3/connectionpool.py:858: InsecureRequestWarning: Unverified HTTPS request is being made. Adding certificate verification is strongly advised. See: https://urllib3.readthedocs.io/en/latest/advanced-usage.html#ssl-warnings\n",
      "  InsecureRequestWarning)\n"
     ]
    },
    {
     "name": "stdout",
     "output_type": "stream",
     "text": [
      "{'NAME': '亮丽精美触摸书系列:小兔比利(中英双语)', 'SALE_PRICE': '￥28.40', 'CATEGORY': '幼儿启蒙', 'COMMENT_NUMBER': '67 条商品评论', 'PAGES': '8页', 'READERS': '0-2岁', 'FORMAT': '16', 'SALES_RANK': '亚马逊热销商品排名:图书商品里排第535名', 'SIZE': '26.8 x 21.6 x 1.6 cm', 'WEIGHT': '522 g', 'URL': 'https://www.amazon.cn/dp/B00NDF5HNE/ref=zg_bs_658734051_11/459-0685494-7892567?_encoding=UTF8&psc=1&refRID=F58KFT55EYC6ZNE008QT'}\n",
      "Processing: https://www.amazon.cn/dp/B0011A8RKI/ref=zg_bs_658734051_12/459-0685494-7892567?_encoding=UTF8&psc=1&refRID=F58KFT55EYC6ZNE008QT\n"
     ]
    },
    {
     "name": "stderr",
     "output_type": "stream",
     "text": [
      "/anaconda3/lib/python3.6/site-packages/urllib3/connectionpool.py:858: InsecureRequestWarning: Unverified HTTPS request is being made. Adding certificate verification is strongly advised. See: https://urllib3.readthedocs.io/en/latest/advanced-usage.html#ssl-warnings\n",
      "  InsecureRequestWarning)\n"
     ]
    },
    {
     "name": "stdout",
     "output_type": "stream",
     "text": [
      "{'NAME': '三毛流浪记全集(彩图注音读物)', 'SALE_PRICE': '￥30.00', 'CATEGORY': '幼儿启蒙', 'COMMENT_NUMBER': '773 条商品评论', 'PAGES': '261页', 'READERS': '3-6岁', 'FORMAT': '24', 'SALES_RANK': '亚马逊热销商品排名:图书商品里排第642名', 'SIZE': '20.8 x 18 x 2 cm', 'WEIGHT': '440 g', 'URL': 'https://www.amazon.cn/dp/B0011A8RKI/ref=zg_bs_658734051_12/459-0685494-7892567?_encoding=UTF8&psc=1&refRID=F58KFT55EYC6ZNE008QT'}\n",
      "Processing: https://www.amazon.cn/dp/B00M3S8450/ref=zg_bs_658734051_13/459-0685494-7892567?_encoding=UTF8&psc=1&refRID=F58KFT55EYC6ZNE008QT\n"
     ]
    },
    {
     "name": "stderr",
     "output_type": "stream",
     "text": [
      "/anaconda3/lib/python3.6/site-packages/urllib3/connectionpool.py:858: InsecureRequestWarning: Unverified HTTPS request is being made. Adding certificate verification is strongly advised. See: https://urllib3.readthedocs.io/en/latest/advanced-usage.html#ssl-warnings\n",
      "  InsecureRequestWarning)\n"
     ]
    },
    {
     "name": "stdout",
     "output_type": "stream",
     "text": [
      "{'NAME': '小小暖房子·爱的表白书(套装共6册)（给孩子人生初始的温暖与美好）', 'SALE_PRICE': '￥45.00', 'CATEGORY': '少儿绘本与漫画', 'COMMENT_NUMBER': '91 条商品评论', 'PAGES': '132页', 'READERS': '0-2岁', 'FORMAT': '24', 'SALES_RANK': '亚马逊热销商品排名:图书商品里排第670名', 'SIZE': '18.8 x 18.5 x 2.3 cm', 'WEIGHT': '930 g', 'URL': 'https://www.amazon.cn/dp/B00M3S8450/ref=zg_bs_658734051_13/459-0685494-7892567?_encoding=UTF8&psc=1&refRID=F58KFT55EYC6ZNE008QT'}\n",
      "Processing: https://www.amazon.cn/dp/B00RRDKWN8/ref=zg_bs_658734051_14/459-0685494-7892567?_encoding=UTF8&psc=1&refRID=F58KFT55EYC6ZNE008QT\n"
     ]
    },
    {
     "name": "stderr",
     "output_type": "stream",
     "text": [
      "/anaconda3/lib/python3.6/site-packages/urllib3/connectionpool.py:858: InsecureRequestWarning: Unverified HTTPS request is being made. Adding certificate verification is strongly advised. See: https://urllib3.readthedocs.io/en/latest/advanced-usage.html#ssl-warnings\n",
      "  InsecureRequestWarning)\n"
     ]
    },
    {
     "name": "stdout",
     "output_type": "stream",
     "text": [
      "{'NAME': '情景洞洞认知书:就是找不到系列(套装共3册)', 'SALE_PRICE': '￥88.10', 'CATEGORY': '幼儿启蒙', 'COMMENT_NUMBER': '810 条商品评论', 'PAGES': '72页', 'READERS': '2-6岁', 'FORMAT': '8', 'SALES_RANK': '亚马逊热销商品排名:图书商品里排第620名', 'SIZE': '32 x 24 x 4 cm', 'WEIGHT': '1.72 Kg', 'URL': 'https://www.amazon.cn/dp/B00RRDKWN8/ref=zg_bs_658734051_14/459-0685494-7892567?_encoding=UTF8&psc=1&refRID=F58KFT55EYC6ZNE008QT'}\n",
      "Processing: https://www.amazon.cn/dp/B0035RX3S6/ref=zg_bs_658734051_15/459-0685494-7892567?_encoding=UTF8&psc=1&refRID=F58KFT55EYC6ZNE008QT\n"
     ]
    },
    {
     "name": "stderr",
     "output_type": "stream",
     "text": [
      "/anaconda3/lib/python3.6/site-packages/urllib3/connectionpool.py:858: InsecureRequestWarning: Unverified HTTPS request is being made. Adding certificate verification is strongly advised. See: https://urllib3.readthedocs.io/en/latest/advanced-usage.html#ssl-warnings\n",
      "  InsecureRequestWarning)\n"
     ]
    },
    {
     "name": "stdout",
     "output_type": "stream",
     "text": [
      "{'NAME': '幼儿启蒙知识库认知贴纸书(套书共8册)(两种封面随机发货)', 'SALE_PRICE': '￥24.00', 'CATEGORY': '幼儿启蒙', 'COMMENT_NUMBER': '626 条商品评论', 'PAGES': '112页', 'READERS': '3-6岁', 'FORMAT': '24', 'SALES_RANK': '亚马逊热销商品排名:图书商品里排第697名', 'SIZE': '20.2 x 16.6 x 1.8 cm', 'WEIGHT': '522 g', 'URL': 'https://www.amazon.cn/dp/B0035RX3S6/ref=zg_bs_658734051_15/459-0685494-7892567?_encoding=UTF8&psc=1&refRID=F58KFT55EYC6ZNE008QT'}\n",
      "Processing: https://www.amazon.cn/dp/B00XJ00G0W/ref=zg_bs_658734051_16/459-0685494-7892567?_encoding=UTF8&psc=1&refRID=F58KFT55EYC6ZNE008QT\n"
     ]
    },
    {
     "name": "stderr",
     "output_type": "stream",
     "text": [
      "/anaconda3/lib/python3.6/site-packages/urllib3/connectionpool.py:858: InsecureRequestWarning: Unverified HTTPS request is being made. Adding certificate verification is strongly advised. See: https://urllib3.readthedocs.io/en/latest/advanced-usage.html#ssl-warnings\n",
      "  InsecureRequestWarning)\n"
     ]
    },
    {
     "name": "stdout",
     "output_type": "stream",
     "text": [
      "{'NAME': '你好!数学·最亲切的数学概念启蒙图画书(第1阶段)(2015精编版)(套装共10册)', 'SALE_PRICE': '￥176.00', 'CATEGORY': '幼儿启蒙', 'COMMENT_NUMBER': '48 条商品评论', 'PAGES': '330页', 'READERS': '3-6岁', 'FORMAT': '12', 'SALES_RANK': '亚马逊热销商品排名:图书商品里排第717名', 'SIZE': '24.4 x 23.2 x 5 cm', 'WEIGHT': '1.54 Kg', 'URL': 'https://www.amazon.cn/dp/B00XJ00G0W/ref=zg_bs_658734051_16/459-0685494-7892567?_encoding=UTF8&psc=1&refRID=F58KFT55EYC6ZNE008QT'}\n",
      "Processing: https://www.amazon.cn/dp/B01ABGNFUO/ref=zg_bs_658734051_17/459-0685494-7892567?_encoding=UTF8&psc=1&refRID=F58KFT55EYC6ZNE008QT\n"
     ]
    },
    {
     "name": "stderr",
     "output_type": "stream",
     "text": [
      "/anaconda3/lib/python3.6/site-packages/urllib3/connectionpool.py:858: InsecureRequestWarning: Unverified HTTPS request is being made. Adding certificate verification is strongly advised. See: https://urllib3.readthedocs.io/en/latest/advanced-usage.html#ssl-warnings\n",
      "  InsecureRequestWarning)\n"
     ]
    },
    {
     "name": "stdout",
     "output_type": "stream",
     "text": [
      "{'NAME': '我爱幼儿园(套装共5册)', 'SALE_PRICE': '￥32.30', 'CATEGORY': '幼儿启蒙', 'COMMENT_NUMBER': '15 条商品评论', 'PAGES': '140页', 'READERS': '3-6岁', 'FORMAT': '16', 'SALES_RANK': '亚马逊热销商品排名:图书商品里排第751名', 'SIZE': '25.6 x 20.6 x 1.2 cm', 'WEIGHT': '798 g', 'URL': 'https://www.amazon.cn/dp/B01ABGNFUO/ref=zg_bs_658734051_17/459-0685494-7892567?_encoding=UTF8&psc=1&refRID=F58KFT55EYC6ZNE008QT'}\n",
      "Processing: https://www.amazon.cn/dp/B007E85RKO/ref=zg_bs_658734051_18/459-0685494-7892567?_encoding=UTF8&psc=1&refRID=F58KFT55EYC6ZNE008QT\n"
     ]
    },
    {
     "name": "stderr",
     "output_type": "stream",
     "text": [
      "/anaconda3/lib/python3.6/site-packages/urllib3/connectionpool.py:858: InsecureRequestWarning: Unverified HTTPS request is being made. Adding certificate verification is strongly advised. See: https://urllib3.readthedocs.io/en/latest/advanced-usage.html#ssl-warnings\n",
      "  InsecureRequestWarning)\n"
     ]
    },
    {
     "name": "stdout",
     "output_type": "stream",
     "text": [
      "{'NAME': '小家大爱绘本系列(套装共4册)', 'SALE_PRICE': '￥46.99', 'CATEGORY': '幼儿启蒙', 'COMMENT_NUMBER': '783 条商品评论', 'PAGES': '84页', 'READERS': '0-2岁', 'FORMAT': '12', 'SALES_RANK': '亚马逊热销商品排名:图书商品里排第807名', 'SIZE': '25.8 x 24.6 x 1.8 cm', 'WEIGHT': '798 g', 'URL': 'https://www.amazon.cn/dp/B007E85RKO/ref=zg_bs_658734051_18/459-0685494-7892567?_encoding=UTF8&psc=1&refRID=F58KFT55EYC6ZNE008QT'}\n",
      "Processing: https://www.amazon.cn/dp/B01ASLP186/ref=zg_bs_658734051_19/459-0685494-7892567?_encoding=UTF8&psc=1&refRID=F58KFT55EYC6ZNE008QT\n"
     ]
    },
    {
     "name": "stderr",
     "output_type": "stream",
     "text": [
      "/anaconda3/lib/python3.6/site-packages/urllib3/connectionpool.py:858: InsecureRequestWarning: Unverified HTTPS request is being made. Adding certificate verification is strongly advised. See: https://urllib3.readthedocs.io/en/latest/advanced-usage.html#ssl-warnings\n",
      "  InsecureRequestWarning)\n"
     ]
    },
    {
     "name": "stdout",
     "output_type": "stream",
     "text": [
      "{'NAME': '美国金宝贝早教婴幼儿游戏(0-3岁)', 'SALE_PRICE': '￥53.66', 'CATEGORY': '幼儿启蒙', 'COMMENT_NUMBER': '16 条商品评论', 'PAGES': '360页', 'READERS': '0-2岁', 'FORMAT': '20', 'SALES_RANK': '亚马逊热销商品排名:图书商品里排第844名', 'SIZE': '20.4 x 18.6 x 2.4 cm', 'WEIGHT': '921 g', 'URL': 'https://www.amazon.cn/dp/B01ASLP186/ref=zg_bs_658734051_19/459-0685494-7892567?_encoding=UTF8&psc=1&refRID=F58KFT55EYC6ZNE008QT'}\n",
      "Processing: https://www.amazon.cn/dp/B01MZ01TU8/ref=zg_bs_658734051_20/459-0685494-7892567?_encoding=UTF8&psc=1&refRID=F58KFT55EYC6ZNE008QT\n"
     ]
    },
    {
     "name": "stderr",
     "output_type": "stream",
     "text": [
      "/anaconda3/lib/python3.6/site-packages/urllib3/connectionpool.py:858: InsecureRequestWarning: Unverified HTTPS request is being made. Adding certificate verification is strongly advised. See: https://urllib3.readthedocs.io/en/latest/advanced-usage.html#ssl-warnings\n",
      "  InsecureRequestWarning)\n"
     ]
    },
    {
     "name": "stdout",
     "output_type": "stream",
     "text": [
      "{'NAME': '0-4岁幼儿认知小百科(中英双语进阶版)(套装共5册)', 'SALE_PRICE': '￥131.34', 'CATEGORY': '幼儿启蒙', 'COMMENT_NUMBER': '11 条商品评论', 'PAGES': '98页', 'READERS': '0-2岁', 'FORMAT': '24', 'SALES_RANK': '亚马逊热销商品排名:图书商品里排第879名', 'SIZE': '20.2 x 19.4 x 7 cm', 'WEIGHT': '1.7 Kg', 'URL': 'https://www.amazon.cn/dp/B01MZ01TU8/ref=zg_bs_658734051_20/459-0685494-7892567?_encoding=UTF8&psc=1&refRID=F58KFT55EYC6ZNE008QT'}\n",
      "Processing: https://www.amazon.cn/dp/B07CPDKQ93/ref=zg_bs_tab_pd_bsnr_1/459-0685494-7892567?_encoding=UTF8&psc=1&refRID=F58KFT55EYC6ZNE008QT\n"
     ]
    },
    {
     "name": "stderr",
     "output_type": "stream",
     "text": [
      "/anaconda3/lib/python3.6/site-packages/urllib3/connectionpool.py:858: InsecureRequestWarning: Unverified HTTPS request is being made. Adding certificate verification is strongly advised. See: https://urllib3.readthedocs.io/en/latest/advanced-usage.html#ssl-warnings\n",
      "  InsecureRequestWarning)\n"
     ]
    },
    {
     "name": "stdout",
     "output_type": "stream",
     "text": [
      "{'NAME': '创意大师拉拉翻翻大惊喜系列(套装共7册)', 'SALE_PRICE': '￥256.16', 'CATEGORY': '幼儿启蒙', 'COMMENT_NUMBER': None, 'PAGES': '186页', 'READERS': '3-6岁', 'FORMAT': '24', 'SALES_RANK': '亚马逊热销商品排名:图书商品里排第562名', 'SIZE': '19 x 18.2 x 11.2 cm', 'WEIGHT': '2.02 Kg', 'URL': 'https://www.amazon.cn/dp/B07CPDKQ93/ref=zg_bs_tab_pd_bsnr_1/459-0685494-7892567?_encoding=UTF8&psc=1&refRID=F58KFT55EYC6ZNE008QT'}\n",
      "Processing: https://www.amazon.cn/dp/B07BSLQGJH/ref=zg_bs_tab_pd_bsnr_2/459-0685494-7892567?_encoding=UTF8&psc=1&refRID=F58KFT55EYC6ZNE008QT\n"
     ]
    },
    {
     "name": "stderr",
     "output_type": "stream",
     "text": [
      "/anaconda3/lib/python3.6/site-packages/urllib3/connectionpool.py:858: InsecureRequestWarning: Unverified HTTPS request is being made. Adding certificate verification is strongly advised. See: https://urllib3.readthedocs.io/en/latest/advanced-usage.html#ssl-warnings\n",
      "  InsecureRequestWarning)\n"
     ]
    },
    {
     "name": "stdout",
     "output_type": "stream",
     "text": [
      "{'NAME': '信谊·宝宝起步走:抱抱', 'SALE_PRICE': '￥30.20', 'CATEGORY': '幼儿启蒙', 'COMMENT_NUMBER': '593 条商品评论', 'PAGES': '40页', 'READERS': '0-2岁', 'FORMAT': '12', 'SALES_RANK': '亚马逊热销商品排名:图书商品里排第1,902名', 'SIZE': '27.6 x 23.4 x 0.8 cm', 'WEIGHT': '422 g', 'URL': 'https://www.amazon.cn/dp/B07BSLQGJH/ref=zg_bs_tab_pd_bsnr_2/459-0685494-7892567?_encoding=UTF8&psc=1&refRID=F58KFT55EYC6ZNE008QT'}\n",
      "Processing: https://www.amazon.cn/dp/B07D2TMXVP/ref=zg_bs_tab_pd_bsnr_3/459-0685494-7892567?_encoding=UTF8&psc=1&refRID=F58KFT55EYC6ZNE008QT\n"
     ]
    },
    {
     "name": "stderr",
     "output_type": "stream",
     "text": [
      "/anaconda3/lib/python3.6/site-packages/urllib3/connectionpool.py:858: InsecureRequestWarning: Unverified HTTPS request is being made. Adding certificate verification is strongly advised. See: https://urllib3.readthedocs.io/en/latest/advanced-usage.html#ssl-warnings\n",
      "  InsecureRequestWarning)\n"
     ]
    },
    {
     "name": "stdout",
     "output_type": "stream",
     "text": [
      "local variable 'READERS' referenced before assignment\n"
     ]
    }
   ],
   "source": [
    "from lxml import html\n",
    "import csv\n",
    "import os\n",
    "import requests\n",
    "from time import sleep\n",
    "from random import randint\n",
    "\n",
    "def parse(url):\n",
    "    headers = {\n",
    "        'User-Agent': 'Mozilla/5.0 (X11; Linux x86_64) AppleWebKit/537.36 (KHTML, like Gecko) Chrome/42.0.2311.90 Safari/537.36'\n",
    "    }\n",
    "    \n",
    "    try:\n",
    "        # Retrying for failed requests\n",
    "        for i in range(20):\n",
    "            # Generating random delays\n",
    "            sleep(randint(1,3))\n",
    "            # Adding verify=False to avold ssl related issues\n",
    "            response = requests.get(url, headers=headers, verify=False)\n",
    "\n",
    "            if response.status_code == 200: \n",
    "                doc = html.fromstring(response.content)\n",
    "                XPATH_NAME = '//h1[@id=\"title\"]//text()'\n",
    "                XPATH_SALE_PRICE = '//span[@class=\"a-size-medium a-color-price inlineBlock-display offer-price a-text-normal price3P\"]//text()'\n",
    "                #'//span[contains(@id,\"ourprice\") or contains(@id,\"saleprice\")]/text()'\n",
    "                XPATH_COMMENT_NUMBER = '//span[@id=\"acrCustomerReviewText\"]//text()'\n",
    "                #'//span[@contains(text(),\"List Price\") or contains(text(),\"M.R.P\") or contains(text(),\"Price\")]/following-sibling::td/text()'\n",
    "                XPATH_CATEGORY = '//a[@class=\"a-link-normal a-color-tertiary\"]//text()'\n",
    "                XPATH_PAGES = '//div[@class=\"content\"]//text()'\n",
    "                #'//div[@id=\"availability\"]//text()'\n",
    "                XPATH_READERS = '//div[@class=\"content\"]//text()'\n",
    "                XPATH_FORMAT = '//div[@class=\"content\"]//text()'\n",
    "                XSALES_RANK = '//li[@id=\"SalesRank\"]//text()'\n",
    "                XSIZE = '//div[@class=\"content\"]//text()'\n",
    "                XWEIGHT = '//div[@class=\"content\"]//text()'\n",
    "                \n",
    "                \n",
    "                \n",
    "                RAW_NAME = doc.xpath(XPATH_NAME)\n",
    "                RAW_SALE_PRICE = doc.xpath(XPATH_SALE_PRICE)\n",
    "                #print(RAW_SALE_PRICE)\n",
    "                RAW_CATEGORY = doc.xpath(XPATH_CATEGORY)\n",
    "                #print (RAW_CATEGORY)\n",
    "                RAW_COMMENT_NUMBER = doc.xpath(XPATH_COMMENT_NUMBER)\n",
    "                #print (RAW_COMMENT_NUMBER)\n",
    "                RAW_PAGES = doc.xpath(XPATH_PAGES)\n",
    "                #print (RAW_PAGES.index(' 254页'))\n",
    "                RAW_READERS = doc.xpath(XPATH_READERS)\n",
    "                #print(RAW_READERS)\n",
    "                #print (RAW_READERS.index(' 7-10岁'))\n",
    "                RAW_FORMAT = doc.xpath(XPATH_FORMAT)\n",
    "                #print(RAW_FORMAT.index(' 32'))\n",
    "                RAW_SALES_RANK = doc.xpath(XSALES_RANK)\n",
    "                #print (RAW_SALES_RANK)\n",
    "                RAW_SIZE = doc.xpath(XSIZE)\n",
    "                RAW_WEIGHT = doc.xpath(XWEIGHT)\n",
    "\n",
    "                NAME = ''.join(''.join(RAW_NAME).split()[0]) if RAW_NAME else None\n",
    "                # NAME = ' '.join(''.join(RAW_NAME).split()) if RAW_NAME else None\n",
    "                SALE_PRICE = ' '.join(''.join(RAW_SALE_PRICE).split()).strip() if RAW_SALE_PRICE else None\n",
    "                CATEGORY = ''.join(''.join(RAW_CATEGORY).split()[2]) if RAW_CATEGORY else None\n",
    "                # ' > '.join([i.strip() for i in RAW_CATEGORY]) if RAW_CATEGORY else None\n",
    "                COMMENT_NUMBER = ''.join(RAW_COMMENT_NUMBER).strip() if RAW_COMMENT_NUMBER else None\n",
    "                #nPAGES = ''.join(''.join(RAW_PAGES).split()) if RAW_PAGES else None \n",
    "                for i in RAW_PAGES:\n",
    "                    if '页' in i:\n",
    "                        PAGES = RAW_PAGES[RAW_PAGES.index(i)].strip()\n",
    "                        break\n",
    "                #PAGES = nPAGES[nPAGES.index('页')-3:nPAGES.index('页')+1]\n",
    "                #''.join(RAW_PAGES).strip() if RAW_PAGES else None\n",
    "                # RAW_PAGES[224].strip() if RAW_PAGES else None\n",
    "                #''.join(RAW_PAGES).strip() if RAW_PAGES else None\n",
    "                for i in RAW_READERS:\n",
    "                    if '岁' in i:\n",
    "                        READERS = RAW_READERS[RAW_READERS.index(i)].strip()\n",
    "                        break                \n",
    "                #nREADERS = ''.join(''.join(RAW_READERS).split()) if RAW_READERS else None \n",
    "                #READERS = nREADERS[nREADERS.index('岁')-5:nREADERS.index('岁')+1]\n",
    "                #RAW_READERS[261].strip() if RAW_READERS else None\n",
    "                for i in RAW_FORMAT:\n",
    "                    if '开本' in i:\n",
    "                        FORMAT = RAW_FORMAT[RAW_FORMAT.index(i)+1].strip()\n",
    "                        break\n",
    "                #nFORMAT = ''.join(''.join(RAW_FORMAT).split()) if RAW_FORMAT else None\n",
    "                #FORMAT = nFORMAT[nFORMAT.index('开本:')+3:nFORMAT.index('开本:')+5]\n",
    "                #RAW_FORMAT[265].strip() if RAW_FORMAT else None\n",
    "                SALES_RANK = ''.join(''.join(RAW_SALES_RANK).split()[0:2]).strip() if RAW_SALE_PRICE else None\n",
    "                for i in RAW_SIZE:\n",
    "                    if '尺寸' in i:\n",
    "                        SIZE = RAW_SIZE[RAW_SIZE.index(i)+1].strip()\n",
    "                        break                \n",
    "                #nSIZE = ''.join(''.join(RAW_FORMAT).split()) if RAW_FORMAT else None\n",
    "                #SIZE = nSIZE[nSIZE.index('尺寸'):nSIZE.index('尺寸')+16]\n",
    "                #nWEIGHT = ''.join(''.join(RAW_WEIGHT).split()) if RAW_WEIGHT else None\n",
    "                #WEIGHT = nWEIGHT[nWEIGHT.index('重量'):nWEIGHT.index('重量')+7]\n",
    "                for i in RAW_WEIGHT:\n",
    "                    if '重量' in i:\n",
    "                        WEIGHT = RAW_WEIGHT[RAW_WEIGHT.index(i)+1].strip()\n",
    "                        break  \n",
    "\n",
    "                #if not ORIGINAL_PRICE:\n",
    "                #    ORIGINAL_PRICE = SALE_PRICE\n",
    "                # retrying in case of captcha\n",
    "                if not NAME:\n",
    "                    raise ValueError('captcha')\n",
    "\n",
    "                data = {\n",
    "                    'NAME': NAME,\n",
    "                    'SALE_PRICE': SALE_PRICE,\n",
    "                    'CATEGORY': CATEGORY,\n",
    "                    'COMMENT_NUMBER': COMMENT_NUMBER,\n",
    "                    'PAGES': PAGES,\n",
    "                    'READERS':READERS,\n",
    "                    'FORMAT':FORMAT,\n",
    "                    'SALES_RANK':SALES_RANK,\n",
    "                    'SIZE':SIZE,\n",
    "                    'WEIGHT':WEIGHT,\n",
    "                    'URL':url\n",
    "                }\n",
    "                print (data)\n",
    "                return data\n",
    "            \n",
    "            elif response.status_code==404:\n",
    "                break\n",
    "\n",
    "    except Exception as e:\n",
    "        print (e)\n",
    "\n",
    "def ReadAsin():\n",
    "    # AsinList = csv.DictReader(open(os.path.join(os.path.dirname(__file__),\"Asinfeed.csv\")))\n",
    "    AsinList =['/dp/B075KZKKTC/ref=zg_bs_658739051_1/457-0188065-3712778?_encoding=UTF8&psc=1&refRID=AY57NHQXZQX1T8ZS6V4N', '/dp/B079ZSFHD6/ref=zg_bs_658739051_2/457-0188065-3712778?_encoding=UTF8&psc=1&refRID=AY57NHQXZQX1T8ZS6V4N', '/dp/B00OLCRNHG/ref=zg_bs_658739051_3/457-0188065-3712778?_encoding=UTF8&psc=1&refRID=AY57NHQXZQX1T8ZS6V4N', '/dp/B01CXUSAFG/ref=zg_bs_658739051_4/457-0188065-3712778?_encoding=UTF8&psc=1&refRID=AY57NHQXZQX1T8ZS6V4N', '/dp/B013FOXIWO/ref=zg_bs_658739051_5/457-0188065-3712778?_encoding=UTF8&psc=1&refRID=AY57NHQXZQX1T8ZS6V4N', '/dp/B01J0OVBQI/ref=zg_bs_658739051_6/457-0188065-3712778?_encoding=UTF8&psc=1&refRID=AY57NHQXZQX1T8ZS6V4N', '/dp/B01DXT2IXQ/ref=zg_bs_658739051_7/457-0188065-3712778?_encoding=UTF8&psc=1&refRID=AY57NHQXZQX1T8ZS6V4N', '/dp/B014ZZ6V44/ref=zg_bs_658739051_8/457-0188065-3712778?_encoding=UTF8&psc=1&refRID=AY57NHQXZQX1T8ZS6V4N', '/dp/B06Y6531DF/ref=zg_bs_658739051_9/457-0188065-3712778?_encoding=UTF8&psc=1&refRID=AY57NHQXZQX1T8ZS6V4N', '/dp/B075QDTY6C/ref=zg_bs_658739051_10/457-0188065-3712778?_encoding=UTF8&psc=1&refRID=AY57NHQXZQX1T8ZS6V4N', '/dp/B01N9HR8X7/ref=zg_bs_658739051_11/457-0188065-3712778?_encoding=UTF8&psc=1&refRID=AY57NHQXZQX1T8ZS6V4N', '/dp/B0195V8WN6/ref=zg_bs_658739051_12/457-0188065-3712778?_encoding=UTF8&psc=1&refRID=AY57NHQXZQX1T8ZS6V4N', '/dp/B06XYJCYCF/ref=zg_bs_658739051_13/457-0188065-3712778?_encoding=UTF8&psc=1&refRID=AY57NHQXZQX1T8ZS6V4N', '/dp/B01ANMKYBO/ref=zg_bs_658739051_14/457-0188065-3712778?_encoding=UTF8&psc=1&refRID=AY57NHQXZQX1T8ZS6V4N', '/dp/B06XXJSVXJ/ref=zg_bs_658739051_15/457-0188065-3712778?_encoding=UTF8&psc=1&refRID=AY57NHQXZQX1T8ZS6V4N', '/dp/B01N2RJ3Z5/ref=zg_bs_658739051_16/457-0188065-3712778?_encoding=UTF8&psc=1&refRID=AY57NHQXZQX1T8ZS6V4N', '/dp/B00GHAST7I/ref=zg_bs_658739051_17/457-0188065-3712778?_encoding=UTF8&psc=1&refRID=AY57NHQXZQX1T8ZS6V4N', '/dp/B017U0LE1Q/ref=zg_bs_658739051_18/457-0188065-3712778?_encoding=UTF8&psc=1&refRID=AY57NHQXZQX1T8ZS6V4N', '/dp/B012VC7GS8/ref=zg_bs_658739051_19/457-0188065-3712778?_encoding=UTF8&psc=1&refRID=AY57NHQXZQX1T8ZS6V4N', '/dp/B01F6V0P6G/ref=zg_bs_658739051_20/457-0188065-3712778?_encoding=UTF8&psc=1&refRID=AY57NHQXZQX1T8ZS6V4N', '/dp/B079ZSFHD6/ref=zg_bs_tab_pd_bsnr_1/457-0188065-3712778?_encoding=UTF8&psc=1&refRID=AY57NHQXZQX1T8ZS6V4N', '/dp/B078F9KHSQ/ref=zg_bs_tab_pd_bsnr_2/457-0188065-3712778?_encoding=UTF8&psc=1&refRID=AY57NHQXZQX1T8ZS6V4N', '/dp/B078851G31/ref=zg_bs_tab_pd_bsnr_3/457-0188065-3712778?_encoding=UTF8&psc=1&refRID=AY57NHQXZQX1T8ZS6V4N', '/dp/B003MNI4EQ/ref=zg_bs_660550051_1/461-9588389-6100036?_encoding=UTF8&psc=1&refRID=E3PGEHAQY8N6MFQG07HZ', '/dp/B07B14J2KK/ref=zg_bs_660550051_2/461-9588389-6100036?_encoding=UTF8&psc=1&refRID=E3PGEHAQY8N6MFQG07HZ', '/dp/B076VY8Z1H/ref=zg_bs_660550051_3/461-9588389-6100036?_encoding=UTF8&psc=1&refRID=E3PGEHAQY8N6MFQG07HZ', '/dp/B01MPXYVEJ/ref=zg_bs_660550051_4/461-9588389-6100036?_encoding=UTF8&psc=1&refRID=E3PGEHAQY8N6MFQG07HZ', '/dp/B004PLMLZW/ref=zg_bs_660550051_5/461-9588389-6100036?_encoding=UTF8&psc=1&refRID=E3PGEHAQY8N6MFQG07HZ', '/dp/B072RBZ6QV/ref=zg_bs_660550051_6/461-9588389-6100036?_encoding=UTF8&psc=1&refRID=E3PGEHAQY8N6MFQG07HZ', '/dp/B0089790OI/ref=zg_bs_660550051_7/461-9588389-6100036?_encoding=UTF8&psc=1&refRID=E3PGEHAQY8N6MFQG07HZ', '/dp/B003MNI4E6/ref=zg_bs_660550051_8/461-9588389-6100036?_encoding=UTF8&psc=1&refRID=E3PGEHAQY8N6MFQG07HZ', '/dp/B0089AGI0O/ref=zg_bs_660550051_9/461-9588389-6100036?_encoding=UTF8&psc=1&refRID=E3PGEHAQY8N6MFQG07HZ', '/dp/B06XW4FN18/ref=zg_bs_660550051_10/461-9588389-6100036?_encoding=UTF8&psc=1&refRID=E3PGEHAQY8N6MFQG07HZ', '/dp/B00CXKGMA2/ref=zg_bs_660550051_11/461-9588389-6100036?_encoding=UTF8&psc=1&refRID=E3PGEHAQY8N6MFQG07HZ', '/dp/B072BWBVYD/ref=zg_bs_660550051_12/461-9588389-6100036?_encoding=UTF8&psc=1&refRID=E3PGEHAQY8N6MFQG07HZ', '/dp/B01AUED0DE/ref=zg_bs_660550051_13/461-9588389-6100036?_encoding=UTF8&psc=1&refRID=E3PGEHAQY8N6MFQG07HZ', '/dp/B0076JD6UE/ref=zg_bs_660550051_14/461-9588389-6100036?_encoding=UTF8&psc=1&refRID=E3PGEHAQY8N6MFQG07HZ', '/dp/B01J0OVBQI/ref=zg_bs_660550051_15/461-9588389-6100036?_encoding=UTF8&psc=1&refRID=E3PGEHAQY8N6MFQG07HZ', '/dp/B00SMA88JK/ref=zg_bs_660550051_16/461-9588389-6100036?_encoding=UTF8&psc=1&refRID=E3PGEHAQY8N6MFQG07HZ', '/dp/B00EI4IFHY/ref=zg_bs_660550051_17/461-9588389-6100036?_encoding=UTF8&psc=1&refRID=E3PGEHAQY8N6MFQG07HZ', '/dp/B0087NSVN0/ref=zg_bs_660550051_18/461-9588389-6100036?_encoding=UTF8&psc=1&refRID=E3PGEHAQY8N6MFQG07HZ', '/dp/B0749KSDQ9/ref=zg_bs_660550051_19/461-9588389-6100036?_encoding=UTF8&psc=1&refRID=E3PGEHAQY8N6MFQG07HZ', '/dp/B018HVXQEU/ref=zg_bs_660550051_20/461-9588389-6100036?_encoding=UTF8&psc=1&refRID=E3PGEHAQY8N6MFQG07HZ', '/dp/B07B5Y8RW2/ref=zg_bs_tab_pd_bsnr_1/461-9588389-6100036?_encoding=UTF8&psc=1&refRID=E3PGEHAQY8N6MFQG07HZ', '/dp/B07CF6WGK1/ref=zg_bs_tab_pd_bsnr_2/461-9588389-6100036?_encoding=UTF8&psc=1&refRID=E3PGEHAQY8N6MFQG07HZ', '/dp/B07BF854RS/ref=zg_bs_tab_pd_bsnr_3/461-9588389-6100036?_encoding=UTF8&psc=1&refRID=E3PGEHAQY8N6MFQG07HZ', '/dp/B01E1G75BK/ref=zg_bs_660552051_1/457-8110344-6386461?_encoding=UTF8&psc=1&refRID=FVXPZ376G1DK17R7RX65', '/dp/B071VSDKCF/ref=zg_bs_660552051_2/457-8110344-6386461?_encoding=UTF8&psc=1&refRID=FVXPZ376G1DK17R7RX65', '/dp/B003MNI4EQ/ref=zg_bs_660552051_3/457-8110344-6386461?_encoding=UTF8&psc=1&refRID=FVXPZ376G1DK17R7RX65', '/dp/B01N7LX5WC/ref=zg_bs_660552051_4/457-8110344-6386461?_encoding=UTF8&psc=1&refRID=FVXPZ376G1DK17R7RX65', '/dp/B00F871Y4G/ref=zg_bs_660552051_5/457-8110344-6386461?_encoding=UTF8&psc=1&refRID=FVXPZ376G1DK17R7RX65', '/dp/B071KVF8HL/ref=zg_bs_660552051_6/457-8110344-6386461?_encoding=UTF8&psc=1&refRID=FVXPZ376G1DK17R7RX65', '/dp/B00B5NSXWI/ref=zg_bs_660552051_7/457-8110344-6386461?_encoding=UTF8&psc=1&refRID=FVXPZ376G1DK17R7RX65', '/dp/B077ZSH7TH/ref=zg_bs_660552051_8/457-8110344-6386461?_encoding=UTF8&psc=1&refRID=FVXPZ376G1DK17R7RX65', '/dp/B07B16NSS1/ref=zg_bs_660552051_9/457-8110344-6386461?_encoding=UTF8&psc=1&refRID=FVXPZ376G1DK17R7RX65', '/dp/B07C9D8T3V/ref=zg_bs_660552051_10/457-8110344-6386461?_encoding=UTF8&psc=1&refRID=FVXPZ376G1DK17R7RX65', '/dp/B00UJF093O/ref=zg_bs_660552051_11/457-8110344-6386461?_encoding=UTF8&psc=1&refRID=FVXPZ376G1DK17R7RX65', '/dp/B007E85RKO/ref=zg_bs_660552051_12/457-8110344-6386461?_encoding=UTF8&psc=1&refRID=FVXPZ376G1DK17R7RX65', '/dp/B01MZ01TU8/ref=zg_bs_660552051_13/457-8110344-6386461?_encoding=UTF8&psc=1&refRID=FVXPZ376G1DK17R7RX65', '/dp/B074WTYF2Q/ref=zg_bs_660552051_14/457-8110344-6386461?_encoding=UTF8&psc=1&refRID=FVXPZ376G1DK17R7RX65', '/dp/B06X6FRXRF/ref=zg_bs_660552051_15/457-8110344-6386461?_encoding=UTF8&psc=1&refRID=FVXPZ376G1DK17R7RX65', '/dp/B004UD7R4A/ref=zg_bs_660552051_16/457-8110344-6386461?_encoding=UTF8&psc=1&refRID=FVXPZ376G1DK17R7RX65', '/dp/B07CPK4SF4/ref=zg_bs_660552051_17/457-8110344-6386461?_encoding=UTF8&psc=1&refRID=FVXPZ376G1DK17R7RX65', '/dp/B004UD7R1I/ref=zg_bs_660552051_18/457-8110344-6386461?_encoding=UTF8&psc=1&refRID=FVXPZ376G1DK17R7RX65', '/dp/B07BF681DP/ref=zg_bs_660552051_19/457-8110344-6386461?_encoding=UTF8&psc=1&refRID=FVXPZ376G1DK17R7RX65', '/dp/B06X6FTDZX/ref=zg_bs_660552051_20/457-8110344-6386461?_encoding=UTF8&psc=1&refRID=FVXPZ376G1DK17R7RX65', '/dp/B07B16NSS1/ref=zg_bs_tab_pd_bsnr_1/457-8110344-6386461?_encoding=UTF8&psc=1&refRID=FVXPZ376G1DK17R7RX65', '/dp/B07C9D8T3V/ref=zg_bs_tab_pd_bsnr_2/457-8110344-6386461?_encoding=UTF8&psc=1&refRID=FVXPZ376G1DK17R7RX65', '/dp/B07CPK4SF4/ref=zg_bs_tab_pd_bsnr_3/457-8110344-6386461?_encoding=UTF8&psc=1&refRID=FVXPZ376G1DK17R7RX65', '/dp/B0083DP0CY/ref=zg_bs_658736051_1/459-4403857-4160100?_encoding=UTF8&psc=1&refRID=EGS0D3K3T3454SC8SQR8', '/dp/B01E1G75BK/ref=zg_bs_658736051_2/459-4403857-4160100?_encoding=UTF8&psc=1&refRID=EGS0D3K3T3454SC8SQR8', '/dp/B07CPF7N9S/ref=zg_bs_658736051_3/459-4403857-4160100?_encoding=UTF8&psc=1&refRID=EGS0D3K3T3454SC8SQR8', '/dp/B075KZKKTC/ref=zg_bs_658736051_4/459-4403857-4160100?_encoding=UTF8&psc=1&refRID=EGS0D3K3T3454SC8SQR8', '/dp/B0719JBX79/ref=zg_bs_658736051_5/459-4403857-4160100?_encoding=UTF8&psc=1&refRID=EGS0D3K3T3454SC8SQR8', '/dp/B009HIT5B6/ref=zg_bs_658736051_6/459-4403857-4160100?_encoding=UTF8&psc=1&refRID=EGS0D3K3T3454SC8SQR8', '/dp/B01ARP0NE0/ref=zg_bs_658736051_7/459-4403857-4160100?_encoding=UTF8&psc=1&refRID=EGS0D3K3T3454SC8SQR8', '/dp/B076DQZ3SY/ref=zg_bs_658736051_8/459-4403857-4160100?_encoding=UTF8&psc=1&refRID=EGS0D3K3T3454SC8SQR8', '/dp/B00SMLR1S8/ref=zg_bs_658736051_9/459-4403857-4160100?_encoding=UTF8&psc=1&refRID=EGS0D3K3T3454SC8SQR8', '/dp/B00RRDKWN8/ref=zg_bs_658736051_10/459-4403857-4160100?_encoding=UTF8&psc=1&refRID=EGS0D3K3T3454SC8SQR8', '/dp/B00OLCRNHG/ref=zg_bs_658736051_11/459-4403857-4160100?_encoding=UTF8&psc=1&refRID=EGS0D3K3T3454SC8SQR8', '/dp/B01ASLP186/ref=zg_bs_658736051_12/459-4403857-4160100?_encoding=UTF8&psc=1&refRID=EGS0D3K3T3454SC8SQR8', '/dp/B00KY4UWFK/ref=zg_bs_658736051_13/459-4403857-4160100?_encoding=UTF8&psc=1&refRID=EGS0D3K3T3454SC8SQR8', '/dp/B06XJX8CV2/ref=zg_bs_658736051_14/459-4403857-4160100?_encoding=UTF8&psc=1&refRID=EGS0D3K3T3454SC8SQR8', '/dp/B00K9YU24Q/ref=zg_bs_658736051_15/459-4403857-4160100?_encoding=UTF8&psc=1&refRID=EGS0D3K3T3454SC8SQR8', '/dp/B0788WXTF9/ref=zg_bs_658736051_16/459-4403857-4160100?_encoding=UTF8&psc=1&refRID=EGS0D3K3T3454SC8SQR8', '/dp/B076VY8YZX/ref=zg_bs_658736051_17/459-4403857-4160100?_encoding=UTF8&psc=1&refRID=EGS0D3K3T3454SC8SQR8', '/dp/B00LM64IEK/ref=zg_bs_658736051_18/459-4403857-4160100?_encoding=UTF8&psc=1&refRID=EGS0D3K3T3454SC8SQR8', '/dp/B06Y3PQKCQ/ref=zg_bs_658736051_19/459-4403857-4160100?_encoding=UTF8&psc=1&refRID=EGS0D3K3T3454SC8SQR8', '/dp/B01MFDEMM1/ref=zg_bs_658736051_20/459-4403857-4160100?_encoding=UTF8&psc=1&refRID=EGS0D3K3T3454SC8SQR8', '/dp/B07CPF7N9S/ref=zg_bs_tab_pd_bsnr_1/459-4403857-4160100?_encoding=UTF8&psc=1&refRID=EGS0D3K3T3454SC8SQR8', '/dp/B07C54112N/ref=zg_bs_tab_pd_bsnr_2/459-4403857-4160100?_encoding=UTF8&psc=1&refRID=EGS0D3K3T3454SC8SQR8', '/dp/B07CPF7ML9/ref=zg_bs_tab_pd_bsnr_3/459-4403857-4160100?_encoding=UTF8&psc=1&refRID=EGS0D3K3T3454SC8SQR8', '/dp/B0788XVV4G/ref=zg_bs_660501051_1/457-3975062-2192066?_encoding=UTF8&psc=1&refRID=PGPNC1BFKRXSBCSJCRTF', '/dp/B01M2C43IQ/ref=zg_bs_660501051_2/457-3975062-2192066?_encoding=UTF8&psc=1&refRID=PGPNC1BFKRXSBCSJCRTF', '/dp/B071KVF8HL/ref=zg_bs_660501051_3/457-3975062-2192066?_encoding=UTF8&psc=1&refRID=PGPNC1BFKRXSBCSJCRTF', '/dp/B0035RX3S6/ref=zg_bs_660501051_4/457-3975062-2192066?_encoding=UTF8&psc=1&refRID=PGPNC1BFKRXSBCSJCRTF', '/dp/B00OLCRNHG/ref=zg_bs_660501051_5/457-3975062-2192066?_encoding=UTF8&psc=1&refRID=PGPNC1BFKRXSBCSJCRTF', '/dp/B01K49LAMI/ref=zg_bs_660501051_6/457-3975062-2192066?_encoding=UTF8&psc=1&refRID=PGPNC1BFKRXSBCSJCRTF', '/dp/B008HOHS4W/ref=zg_bs_660501051_7/457-3975062-2192066?_encoding=UTF8&psc=1&refRID=PGPNC1BFKRXSBCSJCRTF', '/dp/B0119FN2PO/ref=zg_bs_660501051_8/457-3975062-2192066?_encoding=UTF8&psc=1&refRID=PGPNC1BFKRXSBCSJCRTF', '/dp/B00LM64IEK/ref=zg_bs_660501051_9/457-3975062-2192066?_encoding=UTF8&psc=1&refRID=PGPNC1BFKRXSBCSJCRTF', '/dp/B06Y3PQKCQ/ref=zg_bs_660501051_10/457-3975062-2192066?_encoding=UTF8&psc=1&refRID=PGPNC1BFKRXSBCSJCRTF', '/dp/B01MFDEMM1/ref=zg_bs_660501051_11/457-3975062-2192066?_encoding=UTF8&psc=1&refRID=PGPNC1BFKRXSBCSJCRTF', '/dp/B00NBGXEHQ/ref=zg_bs_660501051_12/457-3975062-2192066?_encoding=UTF8&psc=1&refRID=PGPNC1BFKRXSBCSJCRTF', '/dp/B00E92VH0C/ref=zg_bs_660501051_13/457-3975062-2192066?_encoding=UTF8&psc=1&refRID=PGPNC1BFKRXSBCSJCRTF', '/dp/B06Y424PJM/ref=zg_bs_660501051_14/457-3975062-2192066?_encoding=UTF8&psc=1&refRID=PGPNC1BFKRXSBCSJCRTF', '/dp/B06Y248G48/ref=zg_bs_660501051_15/457-3975062-2192066?_encoding=UTF8&psc=1&refRID=PGPNC1BFKRXSBCSJCRTF', '/dp/B01J0OVBQI/ref=zg_bs_660501051_16/457-3975062-2192066?_encoding=UTF8&psc=1&refRID=PGPNC1BFKRXSBCSJCRTF', '/dp/B06Y1S4ZGL/ref=zg_bs_660501051_17/457-3975062-2192066?_encoding=UTF8&psc=1&refRID=PGPNC1BFKRXSBCSJCRTF', '/dp/B012C1S4X4/ref=zg_bs_660501051_18/457-3975062-2192066?_encoding=UTF8&psc=1&refRID=PGPNC1BFKRXSBCSJCRTF', '/dp/B005AQCBH4/ref=zg_bs_660501051_19/457-3975062-2192066?_encoding=UTF8&psc=1&refRID=PGPNC1BFKRXSBCSJCRTF', '/dp/B016IW62GO/ref=zg_bs_660501051_20/457-3975062-2192066?_encoding=UTF8&psc=1&refRID=PGPNC1BFKRXSBCSJCRTF', '/dp/B07BFB7L7S/ref=zg_bs_tab_pd_bsnr_1/457-3975062-2192066?_encoding=UTF8&psc=1&refRID=PGPNC1BFKRXSBCSJCRTF', '/dp/B07B5WB9YJ/ref=zg_bs_tab_pd_bsnr_2/457-3975062-2192066?_encoding=UTF8&psc=1&refRID=PGPNC1BFKRXSBCSJCRTF', '/dp/B07BN7Q1CG/ref=zg_bs_tab_pd_bsnr_3/457-3975062-2192066?_encoding=UTF8&psc=1&refRID=PGPNC1BFKRXSBCSJCRTF', '/dp/B01G8WDZ7I/ref=zg_bs_1978363051_1/459-0691319-2802250?_encoding=UTF8&psc=1&refRID=472YQZFZ52F5EQ516KKH', '/dp/B001O09Z92/ref=zg_bs_1978363051_2/459-0691319-2802250?_encoding=UTF8&psc=1&refRID=472YQZFZ52F5EQ516KKH', '/dp/B0791T9X6K/ref=zg_bs_1978363051_3/459-0691319-2802250?_encoding=UTF8&psc=1&refRID=472YQZFZ52F5EQ516KKH', '/dp/B074R57XT1/ref=zg_bs_1978363051_4/459-0691319-2802250?_encoding=UTF8&psc=1&refRID=472YQZFZ52F5EQ516KKH', '/dp/B00MENOF16/ref=zg_bs_1978363051_5/459-0691319-2802250?_encoding=UTF8&psc=1&refRID=472YQZFZ52F5EQ516KKH', '/dp/B01M3QY7DQ/ref=zg_bs_1978363051_6/459-0691319-2802250?_encoding=UTF8&psc=1&refRID=472YQZFZ52F5EQ516KKH', '/dp/B01MT3E4QM/ref=zg_bs_1978363051_7/459-0691319-2802250?_encoding=UTF8&psc=1&refRID=472YQZFZ52F5EQ516KKH', '/dp/B019Z24Q5I/ref=zg_bs_1978363051_8/459-0691319-2802250?_encoding=UTF8&psc=1&refRID=472YQZFZ52F5EQ516KKH', '/dp/B07923NK23/ref=zg_bs_1978363051_9/459-0691319-2802250?_encoding=UTF8&psc=1&refRID=472YQZFZ52F5EQ516KKH', '/dp/B00JEXDIMQ/ref=zg_bs_1978363051_10/459-0691319-2802250?_encoding=UTF8&psc=1&refRID=472YQZFZ52F5EQ516KKH', '/dp/B00K9Z5JCA/ref=zg_bs_1978363051_11/459-0691319-2802250?_encoding=UTF8&psc=1&refRID=472YQZFZ52F5EQ516KKH', '/dp/B00K9Z5JCU/ref=zg_bs_1978363051_12/459-0691319-2802250?_encoding=UTF8&psc=1&refRID=472YQZFZ52F5EQ516KKH', '/dp/B07D7SX5Q7/ref=zg_bs_1978363051_13/459-0691319-2802250?_encoding=UTF8&psc=1&refRID=472YQZFZ52F5EQ516KKH', '/dp/B06ZYXT97Q/ref=zg_bs_1978363051_14/459-0691319-2802250?_encoding=UTF8&psc=1&refRID=472YQZFZ52F5EQ516KKH', '/dp/B071RV2KGV/ref=zg_bs_1978363051_15/459-0691319-2802250?_encoding=UTF8&psc=1&refRID=472YQZFZ52F5EQ516KKH', '/dp/B01BSZD2NW/ref=zg_bs_1978363051_16/459-0691319-2802250?_encoding=UTF8&psc=1&refRID=472YQZFZ52F5EQ516KKH', '/dp/B07D4ZSW77/ref=zg_bs_1978363051_17/459-0691319-2802250?_encoding=UTF8&psc=1&refRID=472YQZFZ52F5EQ516KKH', '/dp/B01CY8H5B2/ref=zg_bs_1978363051_18/459-0691319-2802250?_encoding=UTF8&psc=1&refRID=472YQZFZ52F5EQ516KKH', '/dp/B0192OZV2G/ref=zg_bs_1978363051_19/459-0691319-2802250?_encoding=UTF8&psc=1&refRID=472YQZFZ52F5EQ516KKH', '/dp/B01J2XHJXG/ref=zg_bs_1978363051_20/459-0691319-2802250?_encoding=UTF8&psc=1&refRID=472YQZFZ52F5EQ516KKH', '/dp/B07D4ZSW77/ref=zg_bs_tab_pd_bsnr_1/459-0691319-2802250?_encoding=UTF8&psc=1&refRID=472YQZFZ52F5EQ516KKH', '/dp/B07C5K7SVD/ref=zg_bs_tab_pd_bsnr_2/459-0691319-2802250?_encoding=UTF8&psc=1&refRID=472YQZFZ52F5EQ516KKH', '/dp/B07D4ZPJXP/ref=zg_bs_tab_pd_bsnr_3/459-0691319-2802250?_encoding=UTF8&psc=1&refRID=472YQZFZ52F5EQ516KKH', '/dp/B0795R113R/ref=zg_bs_660536051_1/459-2731177-5597909?_encoding=UTF8&psc=1&refRID=SKPNJ861RG422ZRH45V1', '/dp/B076MG4TR5/ref=zg_bs_660536051_2/459-2731177-5597909?_encoding=UTF8&psc=1&refRID=SKPNJ861RG422ZRH45V1', '/dp/B010PJ79N6/ref=zg_bs_660536051_3/459-2731177-5597909?_encoding=UTF8&psc=1&refRID=SKPNJ861RG422ZRH45V1', '/dp/B013SKX9FQ/ref=zg_bs_660536051_4/459-2731177-5597909?_encoding=UTF8&psc=1&refRID=SKPNJ861RG422ZRH45V1', '/dp/B01MD1JLR3/ref=zg_bs_660536051_5/459-2731177-5597909?_encoding=UTF8&psc=1&refRID=SKPNJ861RG422ZRH45V1', '/dp/B07CXDB7CP/ref=zg_bs_660536051_6/459-2731177-5597909?_encoding=UTF8&psc=1&refRID=SKPNJ861RG422ZRH45V1', '/dp/B01E6YAT4C/ref=zg_bs_660536051_7/459-2731177-5597909?_encoding=UTF8&psc=1&refRID=SKPNJ861RG422ZRH45V1', '/dp/B012ZYORY8/ref=zg_bs_660536051_8/459-2731177-5597909?_encoding=UTF8&psc=1&refRID=SKPNJ861RG422ZRH45V1', '/dp/B06X98973B/ref=zg_bs_660536051_9/459-2731177-5597909?_encoding=UTF8&psc=1&refRID=SKPNJ861RG422ZRH45V1', '/dp/B0050GT4WE/ref=zg_bs_660536051_10/459-2731177-5597909?_encoding=UTF8&psc=1&refRID=SKPNJ861RG422ZRH45V1', '/dp/B01BR4GM9A/ref=zg_bs_660536051_11/459-2731177-5597909?_encoding=UTF8&psc=1&refRID=SKPNJ861RG422ZRH45V1', '/dp/B003WMBTYO/ref=zg_bs_660536051_12/459-2731177-5597909?_encoding=UTF8&psc=1&refRID=SKPNJ861RG422ZRH45V1', '/dp/B009EOKW0G/ref=zg_bs_660536051_13/459-2731177-5597909?_encoding=UTF8&psc=1&refRID=SKPNJ861RG422ZRH45V1', '/dp/B0773C4G7K/ref=zg_bs_660536051_14/459-2731177-5597909?_encoding=UTF8&psc=1&refRID=SKPNJ861RG422ZRH45V1', '/dp/B008AFF36I/ref=zg_bs_660536051_15/459-2731177-5597909?_encoding=UTF8&psc=1&refRID=SKPNJ861RG422ZRH45V1', '/dp/B01MQFHZFT/ref=zg_bs_660536051_16/459-2731177-5597909?_encoding=UTF8&psc=1&refRID=SKPNJ861RG422ZRH45V1', '/dp/B0725PCH9Q/ref=zg_bs_660536051_17/459-2731177-5597909?_encoding=UTF8&psc=1&refRID=SKPNJ861RG422ZRH45V1', '/dp/B00PSU2HVC/ref=zg_bs_660536051_18/459-2731177-5597909?_encoding=UTF8&psc=1&refRID=SKPNJ861RG422ZRH45V1', '/dp/B004QQ5F4A/ref=zg_bs_660536051_19/459-2731177-5597909?_encoding=UTF8&psc=1&refRID=SKPNJ861RG422ZRH45V1', '/dp/B01D4LIJXG/ref=zg_bs_660536051_20/459-2731177-5597909?_encoding=UTF8&psc=1&refRID=SKPNJ861RG422ZRH45V1', '/dp/B07CXDB7CP/ref=zg_bs_tab_pd_bsnr_1/459-2731177-5597909?_encoding=UTF8&psc=1&refRID=SKPNJ861RG422ZRH45V1', '/dp/B079JPNZ9Z/ref=zg_bs_tab_pd_bsnr_2/459-2731177-5597909?_encoding=UTF8&psc=1&refRID=SKPNJ861RG422ZRH45V1', '/dp/B07B12HXL6/ref=zg_bs_tab_pd_bsnr_3/459-2731177-5597909?_encoding=UTF8&psc=1&refRID=SKPNJ861RG422ZRH45V1', '/dp/B01M8KPLAR/ref=zg_bs_660532051_1/459-6157728-6146345?_encoding=UTF8&psc=1&refRID=7RJ8VFBX12R4WVV650T6', '/dp/B00358JRG2/ref=zg_bs_660532051_2/459-6157728-6146345?_encoding=UTF8&psc=1&refRID=7RJ8VFBX12R4WVV650T6', '/dp/B077RJHV9V/ref=zg_bs_660532051_3/459-6157728-6146345?_encoding=UTF8&psc=1&refRID=7RJ8VFBX12R4WVV650T6', '/dp/B07BXTP119/ref=zg_bs_660532051_4/459-6157728-6146345?_encoding=UTF8&psc=1&refRID=7RJ8VFBX12R4WVV650T6', '/dp/B00H4SZDA8/ref=zg_bs_660532051_5/459-6157728-6146345?_encoding=UTF8&psc=1&refRID=7RJ8VFBX12R4WVV650T6', '/dp/B008LQ96I2/ref=zg_bs_660532051_6/459-6157728-6146345?_encoding=UTF8&psc=1&refRID=7RJ8VFBX12R4WVV650T6', '/dp/B00CK2UG1O/ref=zg_bs_660532051_7/459-6157728-6146345?_encoding=UTF8&psc=1&refRID=7RJ8VFBX12R4WVV650T6', '/dp/B00CR6LTE6/ref=zg_bs_660532051_8/459-6157728-6146345?_encoding=UTF8&psc=1&refRID=7RJ8VFBX12R4WVV650T6', '/dp/B00CAJXTKW/ref=zg_bs_660532051_9/459-6157728-6146345?_encoding=UTF8&psc=1&refRID=7RJ8VFBX12R4WVV650T6', '/dp/B01MS2L2JN/ref=zg_bs_660532051_10/459-6157728-6146345?_encoding=UTF8&psc=1&refRID=7RJ8VFBX12R4WVV650T6', '/dp/B00JO9LYVC/ref=zg_bs_660532051_11/459-6157728-6146345?_encoding=UTF8&psc=1&refRID=7RJ8VFBX12R4WVV650T6', '/dp/B0197R4K0M/ref=zg_bs_660532051_12/459-6157728-6146345?_encoding=UTF8&psc=1&refRID=7RJ8VFBX12R4WVV650T6', '/dp/B00UNFEKEY/ref=zg_bs_660532051_13/459-6157728-6146345?_encoding=UTF8&psc=1&refRID=7RJ8VFBX12R4WVV650T6', '/dp/B016M9ON2I/ref=zg_bs_660532051_14/459-6157728-6146345?_encoding=UTF8&psc=1&refRID=7RJ8VFBX12R4WVV650T6', '/dp/B079FNTYX1/ref=zg_bs_660532051_15/459-6157728-6146345?_encoding=UTF8&psc=1&refRID=7RJ8VFBX12R4WVV650T6', '/dp/B010N19NVC/ref=zg_bs_660532051_16/459-6157728-6146345?_encoding=UTF8&psc=1&refRID=7RJ8VFBX12R4WVV650T6', '/dp/B005HSLQ4E/ref=zg_bs_660532051_17/459-6157728-6146345?_encoding=UTF8&psc=1&refRID=7RJ8VFBX12R4WVV650T6', '/dp/B003SQH5BA/ref=zg_bs_660532051_18/459-6157728-6146345?_encoding=UTF8&psc=1&refRID=7RJ8VFBX12R4WVV650T6', '/dp/B00KHLGJR0/ref=zg_bs_660532051_19/459-6157728-6146345?_encoding=UTF8&psc=1&refRID=7RJ8VFBX12R4WVV650T6', '/dp/B00H4SZ3IA/ref=zg_bs_660532051_20/459-6157728-6146345?_encoding=UTF8&psc=1&refRID=7RJ8VFBX12R4WVV650T6', '/dp/B07CLRY87R/ref=zg_bs_tab_pd_bsnr_1/459-6157728-6146345?_encoding=UTF8&psc=1&refRID=7RJ8VFBX12R4WVV650T6', '/dp/B079J8RFL4/ref=zg_bs_tab_pd_bsnr_2/459-6157728-6146345?_encoding=UTF8&psc=1&refRID=7RJ8VFBX12R4WVV650T6', '/dp/B079JGMNPY/ref=zg_bs_tab_pd_bsnr_3/459-6157728-6146345?_encoding=UTF8&psc=1&refRID=7RJ8VFBX12R4WVV650T6', '/dp/B071S6ZX3Z/ref=zg_bs_2151668051_1/462-9140817-8023425?_encoding=UTF8&psc=1&refRID=BVS3EBMBSE51B8HA3Z5F', '/dp/B01MA5TMAZ/ref=zg_bs_2151668051_2/462-9140817-8023425?_encoding=UTF8&psc=1&refRID=BVS3EBMBSE51B8HA3Z5F', '/dp/B003MNI4EQ/ref=zg_bs_2151668051_3/462-9140817-8023425?_encoding=UTF8&psc=1&refRID=BVS3EBMBSE51B8HA3Z5F', '/dp/B00DJ0F1LQ/ref=zg_bs_2151668051_4/462-9140817-8023425?_encoding=UTF8&psc=1&refRID=BVS3EBMBSE51B8HA3Z5F', '/dp/B01KX4077S/ref=zg_bs_2151668051_5/462-9140817-8023425?_encoding=UTF8&psc=1&refRID=BVS3EBMBSE51B8HA3Z5F', '/dp/B00NDF5HNE/ref=zg_bs_2151668051_6/462-9140817-8023425?_encoding=UTF8&psc=1&refRID=BVS3EBMBSE51B8HA3Z5F', '/dp/B00TMX2STC/ref=zg_bs_2151668051_7/462-9140817-8023425?_encoding=UTF8&psc=1&refRID=BVS3EBMBSE51B8HA3Z5F', '/dp/B00ZBUC4BM/ref=zg_bs_2151668051_8/462-9140817-8023425?_encoding=UTF8&psc=1&refRID=BVS3EBMBSE51B8HA3Z5F', '/dp/B01MZ01TU8/ref=zg_bs_2151668051_9/462-9140817-8023425?_encoding=UTF8&psc=1&refRID=BVS3EBMBSE51B8HA3Z5F', '/dp/B071XTCBWH/ref=zg_bs_2151668051_10/462-9140817-8023425?_encoding=UTF8&psc=1&refRID=BVS3EBMBSE51B8HA3Z5F', '/dp/B075R1VTX9/ref=zg_bs_2151668051_11/462-9140817-8023425?_encoding=UTF8&psc=1&refRID=BVS3EBMBSE51B8HA3Z5F', '/dp/B018FXN8IO/ref=zg_bs_2151668051_12/462-9140817-8023425?_encoding=UTF8&psc=1&refRID=BVS3EBMBSE51B8HA3Z5F', '/dp/B074R57XT1/ref=zg_bs_2151668051_13/462-9140817-8023425?_encoding=UTF8&psc=1&refRID=BVS3EBMBSE51B8HA3Z5F', '/dp/B00NDF5I06/ref=zg_bs_2151668051_14/462-9140817-8023425?_encoding=UTF8&psc=1&refRID=BVS3EBMBSE51B8HA3Z5F', '/dp/B00K0B18EQ/ref=zg_bs_2151668051_15/462-9140817-8023425?_encoding=UTF8&psc=1&refRID=BVS3EBMBSE51B8HA3Z5F', '/dp/B01MQW6Z7T/ref=zg_bs_2151668051_16/462-9140817-8023425?_encoding=UTF8&psc=1&refRID=BVS3EBMBSE51B8HA3Z5F', '/dp/B003MNI4E6/ref=zg_bs_2151668051_17/462-9140817-8023425?_encoding=UTF8&psc=1&refRID=BVS3EBMBSE51B8HA3Z5F', '/dp/B01M3QY7DQ/ref=zg_bs_2151668051_18/462-9140817-8023425?_encoding=UTF8&psc=1&refRID=BVS3EBMBSE51B8HA3Z5F', '/dp/B01N05W9XL/ref=zg_bs_2151668051_19/462-9140817-8023425?_encoding=UTF8&psc=1&refRID=BVS3EBMBSE51B8HA3Z5F', '/dp/B078M3XGM7/ref=zg_bs_2151668051_20/462-9140817-8023425?_encoding=UTF8&psc=1&refRID=BVS3EBMBSE51B8HA3Z5F', '/dp/B07BF2S4N2/ref=zg_bs_tab_pd_bsnr_1/462-9140817-8023425?_encoding=UTF8&psc=1&refRID=BVS3EBMBSE51B8HA3Z5F', '/dp/B07D2TMXVP/ref=zg_bs_tab_pd_bsnr_2/462-9140817-8023425?_encoding=UTF8&psc=1&refRID=BVS3EBMBSE51B8HA3Z5F', '/dp/B07CXDB7CP/ref=zg_bs_tab_pd_bsnr_3/462-9140817-8023425?_encoding=UTF8&psc=1&refRID=BVS3EBMBSE51B8HA3Z5F', '/dp/B07BFBT318/ref=zg_bs_658737051_1/459-5508843-7778525?_encoding=UTF8&psc=1&refRID=3W6XGRD5AR1YBTPYVC9R', '/dp/B00OPNOT78/ref=zg_bs_658737051_2/459-5508843-7778525?_encoding=UTF8&psc=1&refRID=3W6XGRD5AR1YBTPYVC9R', '/dp/B074JS9Q8P/ref=zg_bs_658737051_3/459-5508843-7778525?_encoding=UTF8&psc=1&refRID=3W6XGRD5AR1YBTPYVC9R', '/dp/B003OUW7CC/ref=zg_bs_658737051_4/459-5508843-7778525?_encoding=UTF8&psc=1&refRID=3W6XGRD5AR1YBTPYVC9R', '/dp/B071DFQB5P/ref=zg_bs_658737051_5/459-5508843-7778525?_encoding=UTF8&psc=1&refRID=3W6XGRD5AR1YBTPYVC9R', '/dp/B00HYEFS66/ref=zg_bs_658737051_6/459-5508843-7778525?_encoding=UTF8&psc=1&refRID=3W6XGRD5AR1YBTPYVC9R', '/dp/B006OG3SNU/ref=zg_bs_658737051_7/459-5508843-7778525?_encoding=UTF8&psc=1&refRID=3W6XGRD5AR1YBTPYVC9R', '/dp/B006MA7AKU/ref=zg_bs_658737051_8/459-5508843-7778525?_encoding=UTF8&psc=1&refRID=3W6XGRD5AR1YBTPYVC9R', '/dp/B0757G2PKR/ref=zg_bs_658737051_9/459-5508843-7778525?_encoding=UTF8&psc=1&refRID=3W6XGRD5AR1YBTPYVC9R', '/dp/B00K8AJAMG/ref=zg_bs_658737051_10/459-5508843-7778525?_encoding=UTF8&psc=1&refRID=3W6XGRD5AR1YBTPYVC9R', '/dp/B01N7A29W7/ref=zg_bs_658737051_11/459-5508843-7778525?_encoding=UTF8&psc=1&refRID=3W6XGRD5AR1YBTPYVC9R', '/dp/B01NANJEPL/ref=zg_bs_658737051_12/459-5508843-7778525?_encoding=UTF8&psc=1&refRID=3W6XGRD5AR1YBTPYVC9R', '/dp/B00LZG4WZ2/ref=zg_bs_658737051_13/459-5508843-7778525?_encoding=UTF8&psc=1&refRID=3W6XGRD5AR1YBTPYVC9R', '/dp/B00HIYI6QQ/ref=zg_bs_658737051_14/459-5508843-7778525?_encoding=UTF8&psc=1&refRID=3W6XGRD5AR1YBTPYVC9R', '/dp/B0725PBXDN/ref=zg_bs_658737051_15/459-5508843-7778525?_encoding=UTF8&psc=1&refRID=3W6XGRD5AR1YBTPYVC9R', '/dp/B07D4ZWCLF/ref=zg_bs_658737051_16/459-5508843-7778525?_encoding=UTF8&psc=1&refRID=3W6XGRD5AR1YBTPYVC9R', '/dp/B00HLC0EJW/ref=zg_bs_658737051_17/459-5508843-7778525?_encoding=UTF8&psc=1&refRID=3W6XGRD5AR1YBTPYVC9R', '/dp/B01N68X0U0/ref=zg_bs_658737051_18/459-5508843-7778525?_encoding=UTF8&psc=1&refRID=3W6XGRD5AR1YBTPYVC9R', '/dp/B06XR9X3QY/ref=zg_bs_658737051_19/459-5508843-7778525?_encoding=UTF8&psc=1&refRID=3W6XGRD5AR1YBTPYVC9R', '/dp/B00K6404XI/ref=zg_bs_658737051_20/459-5508843-7778525?_encoding=UTF8&psc=1&refRID=3W6XGRD5AR1YBTPYVC9R', '/dp/B07BFBT318/ref=zg_bs_tab_pd_bsnr_1/459-5508843-7778525?_encoding=UTF8&psc=1&refRID=3W6XGRD5AR1YBTPYVC9R', '/dp/B07D4ZWCLF/ref=zg_bs_tab_pd_bsnr_2/459-5508843-7778525?_encoding=UTF8&psc=1&refRID=3W6XGRD5AR1YBTPYVC9R', '/dp/B07BF3T9MQ/ref=zg_bs_tab_pd_bsnr_3/459-5508843-7778525?_encoding=UTF8&psc=1&refRID=3W6XGRD5AR1YBTPYVC9R', '/dp/B0083DP0CY/ref=zg_bs_658738051_1/459-2908141-0482513?_encoding=UTF8&psc=1&refRID=NVEVRTT2WXAB5WA52K4Q', '/dp/B07BFBT318/ref=zg_bs_658738051_2/459-2908141-0482513?_encoding=UTF8&psc=1&refRID=NVEVRTT2WXAB5WA52K4Q', '/dp/B00XJ00NPK/ref=zg_bs_658738051_3/459-2908141-0482513?_encoding=UTF8&psc=1&refRID=NVEVRTT2WXAB5WA52K4Q', '/dp/B00CY8HN3S/ref=zg_bs_658738051_4/459-2908141-0482513?_encoding=UTF8&psc=1&refRID=NVEVRTT2WXAB5WA52K4Q', '/dp/B0072T4OV8/ref=zg_bs_658738051_5/459-2908141-0482513?_encoding=UTF8&psc=1&refRID=NVEVRTT2WXAB5WA52K4Q', '/dp/B071F4PWJZ/ref=zg_bs_658738051_6/459-2908141-0482513?_encoding=UTF8&psc=1&refRID=NVEVRTT2WXAB5WA52K4Q', '/dp/B01E599034/ref=zg_bs_658738051_7/459-2908141-0482513?_encoding=UTF8&psc=1&refRID=NVEVRTT2WXAB5WA52K4Q', '/dp/B00KKISDB0/ref=zg_bs_658738051_8/459-2908141-0482513?_encoding=UTF8&psc=1&refRID=NVEVRTT2WXAB5WA52K4Q', '/dp/B00QLEU0YA/ref=zg_bs_658738051_9/459-2908141-0482513?_encoding=UTF8&psc=1&refRID=NVEVRTT2WXAB5WA52K4Q', '/dp/B071DFQB5P/ref=zg_bs_658738051_10/459-2908141-0482513?_encoding=UTF8&psc=1&refRID=NVEVRTT2WXAB5WA52K4Q', '/dp/B01G8WDZ7I/ref=zg_bs_658738051_11/459-2908141-0482513?_encoding=UTF8&psc=1&refRID=NVEVRTT2WXAB5WA52K4Q', '/dp/B07BZBW8KN/ref=zg_bs_658738051_12/459-2908141-0482513?_encoding=UTF8&psc=1&refRID=NVEVRTT2WXAB5WA52K4Q', '/dp/B06XT8N3YB/ref=zg_bs_658738051_13/459-2908141-0482513?_encoding=UTF8&psc=1&refRID=NVEVRTT2WXAB5WA52K4Q', '/dp/B00COW4FM6/ref=zg_bs_658738051_14/459-2908141-0482513?_encoding=UTF8&psc=1&refRID=NVEVRTT2WXAB5WA52K4Q', '/dp/B071S6ZX3Z/ref=zg_bs_658738051_15/459-2908141-0482513?_encoding=UTF8&psc=1&refRID=NVEVRTT2WXAB5WA52K4Q', '/dp/B01MA5TMAZ/ref=zg_bs_658738051_16/459-2908141-0482513?_encoding=UTF8&psc=1&refRID=NVEVRTT2WXAB5WA52K4Q', '/dp/B005EFU33K/ref=zg_bs_658738051_17/459-2908141-0482513?_encoding=UTF8&psc=1&refRID=NVEVRTT2WXAB5WA52K4Q', '/dp/B00KYN7AY2/ref=zg_bs_658738051_18/459-2908141-0482513?_encoding=UTF8&psc=1&refRID=NVEVRTT2WXAB5WA52K4Q', '/dp/B07895XRKN/ref=zg_bs_658738051_19/459-2908141-0482513?_encoding=UTF8&psc=1&refRID=NVEVRTT2WXAB5WA52K4Q', '/dp/B008HXEOW2/ref=zg_bs_658738051_20/459-2908141-0482513?_encoding=UTF8&psc=1&refRID=NVEVRTT2WXAB5WA52K4Q', '/dp/B07BFBT318/ref=zg_bs_tab_pd_bsnr_1/459-2908141-0482513?_encoding=UTF8&psc=1&refRID=NVEVRTT2WXAB5WA52K4Q', '/dp/B07895XRKN/ref=zg_bs_tab_pd_bsnr_2/459-2908141-0482513?_encoding=UTF8&psc=1&refRID=NVEVRTT2WXAB5WA52K4Q', '/dp/B07CBLS7BL/ref=zg_bs_tab_pd_bsnr_3/459-2908141-0482513?_encoding=UTF8&psc=1&refRID=NVEVRTT2WXAB5WA52K4Q', '/dp/B00XJ00NPK/ref=zg_bs_658735051_1/461-2707016-5253049?_encoding=UTF8&psc=1&refRID=ZZEQW2CZMFP05J1Q48YT', '/dp/B00ANFMU8W/ref=zg_bs_658735051_2/461-2707016-5253049?_encoding=UTF8&psc=1&refRID=ZZEQW2CZMFP05J1Q48YT', '/dp/B07BF681K4/ref=zg_bs_658735051_3/461-2707016-5253049?_encoding=UTF8&psc=1&refRID=ZZEQW2CZMFP05J1Q48YT', '/dp/B0192NTFDI/ref=zg_bs_658735051_4/461-2707016-5253049?_encoding=UTF8&psc=1&refRID=ZZEQW2CZMFP05J1Q48YT', '/dp/B004INGC7U/ref=zg_bs_658735051_5/461-2707016-5253049?_encoding=UTF8&psc=1&refRID=ZZEQW2CZMFP05J1Q48YT', '/dp/B071JW9SVF/ref=zg_bs_658735051_6/461-2707016-5253049?_encoding=UTF8&psc=1&refRID=ZZEQW2CZMFP05J1Q48YT', '/dp/B00LTOJVRO/ref=zg_bs_658735051_7/461-2707016-5253049?_encoding=UTF8&psc=1&refRID=ZZEQW2CZMFP05J1Q48YT', '/dp/B06XT8N3YB/ref=zg_bs_658735051_8/461-2707016-5253049?_encoding=UTF8&psc=1&refRID=ZZEQW2CZMFP05J1Q48YT', '/dp/B003YJFNME/ref=zg_bs_658735051_9/461-2707016-5253049?_encoding=UTF8&psc=1&refRID=ZZEQW2CZMFP05J1Q48YT', '/dp/B0774PMDN8/ref=zg_bs_658735051_10/461-2707016-5253049?_encoding=UTF8&psc=1&refRID=ZZEQW2CZMFP05J1Q48YT', '/dp/B07895XRKN/ref=zg_bs_658735051_11/461-2707016-5253049?_encoding=UTF8&psc=1&refRID=ZZEQW2CZMFP05J1Q48YT', '/dp/B01BY6E98W/ref=zg_bs_658735051_12/461-2707016-5253049?_encoding=UTF8&psc=1&refRID=ZZEQW2CZMFP05J1Q48YT', '/dp/B07CBLS7BL/ref=zg_bs_658735051_13/461-2707016-5253049?_encoding=UTF8&psc=1&refRID=ZZEQW2CZMFP05J1Q48YT', '/dp/B079ZSVNC3/ref=zg_bs_658735051_14/461-2707016-5253049?_encoding=UTF8&psc=1&refRID=ZZEQW2CZMFP05J1Q48YT', '/dp/B0757G2PKR/ref=zg_bs_658735051_15/461-2707016-5253049?_encoding=UTF8&psc=1&refRID=ZZEQW2CZMFP05J1Q48YT', '/dp/B001N6R68O/ref=zg_bs_658735051_16/461-2707016-5253049?_encoding=UTF8&psc=1&refRID=ZZEQW2CZMFP05J1Q48YT', '/dp/B00OUNPC1A/ref=zg_bs_658735051_17/461-2707016-5253049?_encoding=UTF8&psc=1&refRID=ZZEQW2CZMFP05J1Q48YT', '/dp/B075JDMXJN/ref=zg_bs_658735051_18/461-2707016-5253049?_encoding=UTF8&psc=1&refRID=ZZEQW2CZMFP05J1Q48YT', '/dp/B0774CLCML/ref=zg_bs_658735051_19/461-2707016-5253049?_encoding=UTF8&psc=1&refRID=ZZEQW2CZMFP05J1Q48YT', '/dp/B01ARP0NE0/ref=zg_bs_658735051_20/461-2707016-5253049?_encoding=UTF8&psc=1&refRID=ZZEQW2CZMFP05J1Q48YT', '/dp/B07BF681K4/ref=zg_bs_tab_pd_bsnr_1/461-2707016-5253049?_encoding=UTF8&psc=1&refRID=ZZEQW2CZMFP05J1Q48YT', '/dp/B07895XRKN/ref=zg_bs_tab_pd_bsnr_2/461-2707016-5253049?_encoding=UTF8&psc=1&refRID=ZZEQW2CZMFP05J1Q48YT', '/dp/B07CBLS7BL/ref=zg_bs_tab_pd_bsnr_3/461-2707016-5253049?_encoding=UTF8&psc=1&refRID=ZZEQW2CZMFP05J1Q48YT', '/dp/B0083DP0CY/ref=zg_bs_658734051_1/459-0685494-7892567?_encoding=UTF8&psc=1&refRID=F58KFT55EYC6ZNE008QT', '/dp/B00OPNOT78/ref=zg_bs_658734051_2/459-0685494-7892567?_encoding=UTF8&psc=1&refRID=F58KFT55EYC6ZNE008QT', '/dp/B071DFQB5P/ref=zg_bs_658734051_3/459-0685494-7892567?_encoding=UTF8&psc=1&refRID=F58KFT55EYC6ZNE008QT', '/dp/B01CHBW1SI/ref=zg_bs_658734051_4/459-0685494-7892567?_encoding=UTF8&psc=1&refRID=F58KFT55EYC6ZNE008QT', '/dp/B01MA5TMAZ/ref=zg_bs_658734051_5/459-0685494-7892567?_encoding=UTF8&psc=1&refRID=F58KFT55EYC6ZNE008QT', '/dp/B0774PMDN8/ref=zg_bs_658734051_6/459-0685494-7892567?_encoding=UTF8&psc=1&refRID=F58KFT55EYC6ZNE008QT', '/dp/B009HIT5B6/ref=zg_bs_658734051_7/459-0685494-7892567?_encoding=UTF8&psc=1&refRID=F58KFT55EYC6ZNE008QT', '/dp/B00R2NWUSI/ref=zg_bs_658734051_8/459-0685494-7892567?_encoding=UTF8&psc=1&refRID=F58KFT55EYC6ZNE008QT', '/dp/B07CPDKQ93/ref=zg_bs_658734051_9/459-0685494-7892567?_encoding=UTF8&psc=1&refRID=F58KFT55EYC6ZNE008QT', '/dp/B00F871Y4G/ref=zg_bs_658734051_10/459-0685494-7892567?_encoding=UTF8&psc=1&refRID=F58KFT55EYC6ZNE008QT', '/dp/B00NDF5HNE/ref=zg_bs_658734051_11/459-0685494-7892567?_encoding=UTF8&psc=1&refRID=F58KFT55EYC6ZNE008QT', '/dp/B0011A8RKI/ref=zg_bs_658734051_12/459-0685494-7892567?_encoding=UTF8&psc=1&refRID=F58KFT55EYC6ZNE008QT', '/dp/B00M3S8450/ref=zg_bs_658734051_13/459-0685494-7892567?_encoding=UTF8&psc=1&refRID=F58KFT55EYC6ZNE008QT', '/dp/B00RRDKWN8/ref=zg_bs_658734051_14/459-0685494-7892567?_encoding=UTF8&psc=1&refRID=F58KFT55EYC6ZNE008QT', '/dp/B0035RX3S6/ref=zg_bs_658734051_15/459-0685494-7892567?_encoding=UTF8&psc=1&refRID=F58KFT55EYC6ZNE008QT', '/dp/B00XJ00G0W/ref=zg_bs_658734051_16/459-0685494-7892567?_encoding=UTF8&psc=1&refRID=F58KFT55EYC6ZNE008QT', '/dp/B01ABGNFUO/ref=zg_bs_658734051_17/459-0685494-7892567?_encoding=UTF8&psc=1&refRID=F58KFT55EYC6ZNE008QT', '/dp/B007E85RKO/ref=zg_bs_658734051_18/459-0685494-7892567?_encoding=UTF8&psc=1&refRID=F58KFT55EYC6ZNE008QT', '/dp/B01ASLP186/ref=zg_bs_658734051_19/459-0685494-7892567?_encoding=UTF8&psc=1&refRID=F58KFT55EYC6ZNE008QT', '/dp/B01MZ01TU8/ref=zg_bs_658734051_20/459-0685494-7892567?_encoding=UTF8&psc=1&refRID=F58KFT55EYC6ZNE008QT', '/dp/B07CPDKQ93/ref=zg_bs_tab_pd_bsnr_1/459-0685494-7892567?_encoding=UTF8&psc=1&refRID=F58KFT55EYC6ZNE008QT', '/dp/B07BSLQGJH/ref=zg_bs_tab_pd_bsnr_2/459-0685494-7892567?_encoding=UTF8&psc=1&refRID=F58KFT55EYC6ZNE008QT', '/dp/B07D2TMXVP/ref=zg_bs_tab_pd_bsnr_3/459-0685494-7892567?_encoding=UTF8&psc=1&refRID=F58KFT55EYC6ZNE008QT']\n",
    "    extracted_data = []\n",
    "\n",
    "    for i in AsinList:\n",
    "        url = \"https://www.amazon.cn\" + i\n",
    "        print (\"Processing: \" + url)\n",
    "        # Calling the parser\n",
    "        parsed_data = parse(url)\n",
    "        if parsed_data:\n",
    "            extracted_data.append(parsed_data)\n",
    "\n",
    "    # Writing scraped data to csv file\n",
    "    with open('scraped_data.csv', 'w') as csvfile:\n",
    "        fieldnames = ['NAME','SALE_PRICE','CATEGORY','COMMENT_NUMBER','PAGES','READERS','FORMAT','SALES_RANK','SIZE','WEIGHT','URL']\n",
    "        writer = csv.DictWriter(csvfile, fieldnames=fieldnames, quoting=csv.QUOTE_ALL)\n",
    "        writer.writeheader()    \n",
    "        for data in extracted_data:\n",
    "            writer.writerow(data)\n",
    "\n",
    "if __name__ == \"__main__\":\n",
    "    ReadAsin()"
   ]
  },
  {
   "cell_type": "code",
   "execution_count": null,
   "metadata": {},
   "outputs": [],
   "source": []
  },
  {
   "cell_type": "code",
   "execution_count": null,
   "metadata": {},
   "outputs": [],
   "source": []
  }
 ],
 "metadata": {
  "kernelspec": {
   "display_name": "Python 3",
   "language": "python",
   "name": "python3"
  },
  "language_info": {
   "codemirror_mode": {
    "name": "ipython",
    "version": 3
   },
   "file_extension": ".py",
   "mimetype": "text/x-python",
   "name": "python",
   "nbconvert_exporter": "python",
   "pygments_lexer": "ipython3",
   "version": "3.6.4"
  }
 },
 "nbformat": 4,
 "nbformat_minor": 2
}
